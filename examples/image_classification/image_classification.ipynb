{
 "cells": [
  {
   "cell_type": "markdown",
   "id": "3b4a8e5a",
   "metadata": {},
   "source": [
    "This example is a demonstration of Crowdom's data labeling tasks workflow.\n",
    "\n",
    "For this example, we chose a simple classification task - we ask workers to identify animals on the photos.\n",
    "\n",
    "The purpose of the data labeling process is to get ground truth labels for the source data. The source data in this example is images, their URLs are in a file [tasks.json](tasks.json), the [result](#Results-study) is returned as a Pandas dataframe, as in this sample:\n",
    "\n",
    "<img src=\"data.png\" width=\"600\"/>"
   ]
  },
  {
   "cell_type": "markdown",
   "id": "fe9a8041",
   "metadata": {},
   "source": [
    "# Workflow"
   ]
  },
  {
   "cell_type": "markdown",
   "id": "6ebe0619",
   "metadata": {},
   "source": [
    "This is a scheme of typical steps in Crowdom data labeling workflow.\n",
    "\n",
    "All steps on the diagram are clickable and will take you to the corresponding section of the notebook.\n",
    "\n",
    "Arrows indicate possible interaction between stages.\n",
    "\n",
    "Dashed elements mean that the corresponding action is optional."
   ]
  },
  {
   "cell_type": "markdown",
   "id": "1fac9651",
   "metadata": {},
   "source": [
    "<img width=\"950px\" src=\"workflow.jpg\" usemap=\"#image-map\">\n",
    "\n",
    "<map name=\"image-map\">\n",
    "    <area target=\"\" alt=\"Setup environment\" title=\"Setup environment\" href=\"#Setup-environment\" coords=\"-1,29,104,79\" shape=\"rect\">\n",
    "    <area target=\"\" alt=\"Labeling task definition\" title=\"Labeling task definition\" href=\"#Labeling-task-definition\" coords=\"121,28,225,79\" shape=\"rect\">\n",
    "    <area target=\"\" alt=\"Importing source data\" title=\"Importing source data\" href=\"#Importing-source-data\" coords=\"242,27,345,79\" shape=\"rect\">\n",
    "    <area target=\"\" alt=\"Task verification and feedback\" title=\"Task verification and feedback\" href=\"#Task-verification-and-feedback\" coords=\"363,26,467,79\" shape=\"rect\">\n",
    "    <area target=\"\" alt=\"Labeling efficiency optimization\" title=\"Labeling efficiency optimization\" href=\"#Labeling-efficiency-optimization\" coords=\"484,27,587,79\" shape=\"rect\">\n",
    "    <area target=\"\" alt=\"Labeling of your data\" title=\"Labeling of your data\" href=\"#Labeling-of-your-data\" coords=\"605,27,708,79\" shape=\"rect\">\n",
    "    <area target=\"\" alt=\"Labeling quality verification\" title=\"Labeling quality verification\" href=\"#Labeling-quality-verification\" coords=\"725,27,828,80\" shape=\"rect\">\n",
    "    <area target=\"\" alt=\"What's next?\" title=\"What's next?\" href=\"#What's-next?\" coords=\"846,27,949,80\" shape=\"rect\">\n",
    "</map>"
   ]
  },
  {
   "cell_type": "markdown",
   "id": "f2019483",
   "metadata": {},
   "source": [
    "# Setup environment"
   ]
  },
  {
   "cell_type": "markdown",
   "id": "72a7b874",
   "metadata": {},
   "source": [
    "[Go to workflow](#Workflow)"
   ]
  },
  {
   "cell_type": "markdown",
   "id": "d46ab044",
   "metadata": {},
   "source": [
    "Install required packages, import commonly used modules."
   ]
  },
  {
   "cell_type": "code",
   "execution_count": null,
   "id": "0031dc0e",
   "metadata": {
    "pycharm": {
     "is_executing": true
    },
    "tags": []
   },
   "outputs": [],
   "source": [
    "%pip install crowdom"
   ]
  },
  {
   "cell_type": "code",
   "execution_count": null,
   "id": "4bc69217",
   "metadata": {
    "pycharm": {
     "is_executing": true
    }
   },
   "outputs": [],
   "source": [
    "from datetime import timedelta\n",
    "from IPython.display import display\n",
    "import os\n",
    "import pandas as pd\n",
    "from typing import Dict\n",
    "\n",
    "import toloka.client as toloka\n",
    "\n",
    "from crowdom import base, datasource, client, objects, pricing, params as labeling_params"
   ]
  },
  {
   "cell_type": "markdown",
   "id": "afd2d386",
   "metadata": {},
   "source": [
    "You can tune [logging](https://docs.python.org/3/library/logging.html) config to get more logs for processes tracing, debug and issue reports."
   ]
  },
  {
   "cell_type": "markdown",
   "id": "62de7647",
   "metadata": {
    "tags": []
   },
   "source": [
    "## Logging customization"
   ]
  },
  {
   "cell_type": "markdown",
   "id": "0903ad20",
   "metadata": {},
   "source": [
    "In this example config logs are sent to:\n",
    "- `crowdom.log` file, from DEBUG level\n",
    "- __stdout__, from INFO level."
   ]
  },
  {
   "cell_type": "code",
   "execution_count": null,
   "id": "4bba0cb1",
   "metadata": {},
   "outputs": [],
   "source": [
    "%pip install pyyaml"
   ]
  },
  {
   "cell_type": "code",
   "execution_count": 2,
   "id": "448bcc06",
   "metadata": {},
   "outputs": [],
   "source": [
    "import yaml\n",
    "import logging.config"
   ]
  },
  {
   "cell_type": "code",
   "execution_count": 3,
   "id": "a04d573c",
   "metadata": {},
   "outputs": [],
   "source": [
    "with open('logging.yaml') as f:\n",
    "    logging.config.dictConfig(yaml.full_load(f.read()))"
   ]
  },
  {
   "cell_type": "markdown",
   "id": "8bc8e5c1",
   "metadata": {},
   "source": [
    "## Crowdsourcing platfrom authorization"
   ]
  },
  {
   "cell_type": "markdown",
   "id": "c56ed85c-ad67-4f94-9131-7654e4a5090f",
   "metadata": {},
   "source": [
    "Crowdom uses [Toloka](https://toloka.ai) as crowdsourcing platform – a place where you can publish your tasks for workers.\n",
    "\n",
    "For now, we expect that you have already created an account in Toloka. To publish tasks, we need you to specify your [OAuth token](https://toloka.ai/docs/api/concepts/access.html#access__token).\n",
    "\n",
    "_In future versions of Crowdom, you won't need your own Toloka account_."
   ]
  },
  {
   "cell_type": "markdown",
   "id": "f016c9b1",
   "metadata": {
    "pycharm": {
     "name": "#%% md\n"
    }
   },
   "source": [
    "### OAuth token\n",
    "\n",
    "Toloka OAuth token is a confidential data that needs to be handled in a secure manner.\n",
    "\n",
    "If you are working in DataSphere, please [create secret](https://cloud.yandex.com/en/docs/datasphere/operations/data/secret-create) with name `TOLOKA_TOKEN`. It will be later [referenced](https://cloud.yandex.com/en/docs/datasphere/operations/data/secret-call) from environment variable.\n",
    "\n",
    "Otherwise, we will ask you to enter the token via _stdin_ and then clear the cell output to minimize the risks."
   ]
  },
  {
   "cell_type": "code",
   "execution_count": 4,
   "id": "442887f3",
   "metadata": {
    "pycharm": {
     "name": "#%%\n"
    }
   },
   "outputs": [],
   "source": [
    "from IPython.display import clear_output"
   ]
  },
  {
   "cell_type": "code",
   "execution_count": 5,
   "id": "83ad025b",
   "metadata": {
    "pycharm": {
     "name": "#%%\n"
    }
   },
   "outputs": [],
   "source": [
    "token = os.getenv('TOLOKA_TOKEN') or input('Enter your token: ')\n",
    "clear_output()"
   ]
  },
  {
   "cell_type": "markdown",
   "id": "356457ef",
   "metadata": {
    "pycharm": {
     "name": "#%% md\n"
    }
   },
   "source": [
    "### Authorization"
   ]
  },
  {
   "cell_type": "code",
   "execution_count": 6,
   "id": "0d9a64a7",
   "metadata": {},
   "outputs": [],
   "source": [
    "toloka_client = client.create_toloka_client(token=token)"
   ]
  },
  {
   "cell_type": "markdown",
   "id": "6280998d",
   "metadata": {},
   "source": [
    "If you want to first check your task in test environment, use [sandbox](https://sandbox.toloka.yandex.com/) version of Toloka."
   ]
  },
  {
   "cell_type": "markdown",
   "id": "d4f51862",
   "metadata": {
    "tags": []
   },
   "source": [
    "### Test environment"
   ]
  },
  {
   "cell_type": "code",
   "execution_count": null,
   "id": "9cfa87b1",
   "metadata": {},
   "outputs": [],
   "source": [
    "toloka_client = client.create_toloka_client(token=token, environment=toloka.TolokaClient.Environment.SANDBOX)"
   ]
  },
  {
   "cell_type": "markdown",
   "id": "0b06a5ad",
   "metadata": {},
   "source": [
    "# Labeling task definition"
   ]
  },
  {
   "cell_type": "markdown",
   "id": "e5ca6912",
   "metadata": {},
   "source": [
    "[Go to workflow](#Workflow)"
   ]
  },
  {
   "cell_type": "markdown",
   "id": "b407c94b",
   "metadata": {},
   "source": [
    "In this section we will define the task we trying to solve. Read more about task definition in [manual](../../docs/user-manual-ru.md#task-def)."
   ]
  },
  {
   "cell_type": "markdown",
   "id": "3b4aa381",
   "metadata": {},
   "source": [
    "As we are dealing with a classification task, we need to define options for it.\n",
    "\n",
    "In general, you can launch data labeling in different languages. Provide a `dict` with localized versions for different languages, so you can use same code for launches with different data or workers language.\n",
    "\n",
    "Here, specify languages you plan using during your data labeling. You will be able to expand this list later.\n",
    "\n",
    "Languages are specified using [ISO 639-1](https://en.wikipedia.org/wiki/ISO_639-1) code."
   ]
  },
  {
   "cell_type": "code",
   "execution_count": 8,
   "id": "df51c19f",
   "metadata": {},
   "outputs": [],
   "source": [
    "class Animal(base.Class):\n",
    "    DOG = 'dog'\n",
    "    CAT = 'cat'\n",
    "    OTHER = 'other'\n",
    "\n",
    "    @classmethod\n",
    "    def labels(cls) -> Dict['Animal', Dict[str, str]]:\n",
    "        return {\n",
    "            cls.DOG: {'EN': 'dog', 'RU': 'собака'},\n",
    "            cls.CAT: {'EN': 'cat', 'RU': 'кошка'},\n",
    "            cls.OTHER: {'EN': 'other', 'RU': 'другое'}}"
   ]
  },
  {
   "cell_type": "markdown",
   "id": "62c13f4b",
   "metadata": {},
   "source": [
    "Now we need to define a **function** of this task.\n",
    "\n",
    "We are working with photos, so `Image` is the only input for our function, and previously defined `Animal` class is resulting output of it."
   ]
  },
  {
   "cell_type": "code",
   "execution_count": 9,
   "id": "f2f3e72e",
   "metadata": {},
   "outputs": [],
   "source": [
    "function = base.ClassificationFunction(inputs=(objects.Image,), cls=Animal)"
   ]
  },
  {
   "cell_type": "markdown",
   "id": "7e8ec8c6",
   "metadata": {
    "pycharm": {
     "name": "#%% md\n"
    }
   },
   "source": [
    "## Worker interface preview"
   ]
  },
  {
   "cell_type": "markdown",
   "id": "1934229f",
   "metadata": {},
   "source": [
    "Now we can view how workers will see the tasks.\n",
    "\n",
    "Each function argument has corresponding UI widget – textarea for output `Text`, audio player for input `Audio`, radio button group for the options (`Animal` in this example).\n",
    "\n",
    "Widgets are arranged from top to bottom in the order of function arguments. Widgets for output are usually located in the bottom part."
   ]
  },
  {
   "cell_type": "code",
   "execution_count": 10,
   "id": "922261c7",
   "metadata": {},
   "outputs": [
    {
     "data": {
      "text/html": [
       "<a href=\"https://tb.yandex.net/editor?config=N4Igxg9gdgZglgcxALgAQmAHRANzgUwHds0sQ4AXfAWwGcTUBtMgVwCcAbBsgBwEMKACwbY41PgnzYANKmwUAnjyko5IACYC+AOjhQeLCtgC+s+UpVpseIrvGSTsspop9u2fkJHhBEOGBUzEEVlbxcdCEMDIxBTNQgeCjhoelVmaz4OFks1dQgEGTUOPgAjfC5VbDyC2KcMrJzsMAFC7GKyiqtwFtrUMhxM7O8IIXw2VpB28uHR8diAXSD1OFpSjnx1BhhM2nwggY44F2Sodw0tM89hSp8-AImQxvPXbUiKaMc1QT0YroBhXwQXaoaD4EEwVCjEGJE6pIKPbyQKDLJLQbRsfAARxYcAxm165lCN3g5XU6L4ywgAFoEGxIjwTIs1AibjZCNpDrQYnEPFkEHpUmh0iAAIxncKXATXLpgXz+QLMixhLSvKKGT4ePgKDgQClhfIPJU3PhgVFQbS7bnwo1dHh8vTaXwUADW+AUqTiZAATOKLqpeFLEXL7iBrUSuuFVe91QSQPxtbr8TKemGniazRb8FbFeG1HaWPzzU7Xe7PmQAMy+1ySrw3WV3BWEp6Rt4fWPxnV6m4jQRjQ257Dpk6Z7NN7z5wuOkYlj11SZat5nZ16JNqWhgOkcCrwvi0Z0AdSOtbQAHYAAxn7RnnkgKAjODwZpmwVMMhIqhQX5qABC+BgEAxVBlDYf82GoPQEFQPhIV3Z1ZHEV1UFodgwSEAQoK3VBqA2OBoPKGh8E-WhUEEPgcDBTt1A2bR+yeNltCoAAPbM32gD8v2wABJCF0PWXcKBBKAwWw5Y8PWbDP1QFYsJWWgINkDFKMhXsgIkfAaNDHM6IIdkmO5JkxxuCcHQoCAdWdNwFmMTTyH0QxVAwUR7CeQQKHeWhkAAek8igOGdC1y20BQ+GRfBGO0ISKE88JLU8p9aAAfRwRLqloOKBDSmALz4cttgAVi9MAADYAE4ABZ8DPfKRT4EUiry-AvUKmAyqKr0AA5tAAKx4GogiObxOOcgAKdgOAAXgAclc9yvJ8vyAqCkKqPCyLoq0WL4qSlL8jS+LPKys8cvywrSoqqq+Dymq6oapqwBatrOp6hBJoAShMWIgA\" target=\"_blank\" rel=\"noopener noreferrer\">task preview</a>"
      ],
      "text/plain": [
       "<IPython.core.display.HTML object>"
      ]
     },
     "execution_count": 10,
     "metadata": {},
     "output_type": "execute_result"
    }
   ],
   "source": [
    "example_image_url = 'https://tlk.s3.yandex.net/dataset/cats_vs_dogs/cats/f00a3fa52c694e0fa51a165e22cf4628.jpg'\n",
    "example_image = (objects.Image(url=example_image_url),)\n",
    "\n",
    "# you can choose any of languages for which you've defined options\n",
    "client.TaskPreview(example_image, task_function=function, lang='EN').display_link()"
   ]
  },
  {
   "cell_type": "markdown",
   "id": "83a4aaa8",
   "metadata": {},
   "source": [
    "You can preview task interface right here, inside a cell iframe output:"
   ]
  },
  {
   "cell_type": "markdown",
   "id": "fca2bef5",
   "metadata": {
    "tags": []
   },
   "source": [
    "### Embedded preview"
   ]
  },
  {
   "cell_type": "code",
   "execution_count": null,
   "id": "f2c6a953",
   "metadata": {
    "pycharm": {
     "is_executing": true
    }
   },
   "outputs": [],
   "source": [
    "client.TaskPreview(example_image, task_function=function, lang='EN').display()"
   ]
  },
  {
   "cell_type": "markdown",
   "id": "a5b0e21e",
   "metadata": {},
   "source": [
    "## Workers instruction"
   ]
  },
  {
   "cell_type": "markdown",
   "id": "34b6669f",
   "metadata": {},
   "source": [
    "Provide textual instructions for workers."
   ]
  },
  {
   "cell_type": "code",
   "execution_count": 11,
   "id": "fa6182b9",
   "metadata": {},
   "outputs": [],
   "source": [
    "instruction = {\n",
    "    'EN': 'Identify the animal in the photo',\n",
    "    'RU': 'Определите, какое животное на фотографии'}"
   ]
  },
  {
   "cell_type": "markdown",
   "id": "fe27fbbd-8ff3-4182-8fcb-030d581e0afb",
   "metadata": {},
   "source": [
    "For advanced task, the instruction have to be structured by specifying various cases, giving examples, etc.\n",
    "\n",
    "We recommend you to format the instruction using the widely used _Markdown_ format, as done below:"
   ]
  },
  {
   "cell_type": "markdown",
   "id": "9d30eca9",
   "metadata": {
    "tags": []
   },
   "source": [
    "### Formatting instruction"
   ]
  },
  {
   "cell_type": "markdown",
   "id": "c7c4f44e-b224-4617-bde4-6f8c16f3822b",
   "metadata": {},
   "source": [
    "Toloka uses [subset of HTML](https://toloka.ai/docs/guide/concepts/instruction.html#instruction__html-yes) as instruction format, we recommend you to use _Markdown_ as a more convenient way to format your text, and later convert it to HTML.\n",
    "\n",
    "Worker will see options as they described in `Animal.get_label()`, so make sure you use the same option depiction in your instruction."
   ]
  },
  {
   "cell_type": "code",
   "execution_count": null,
   "id": "de4dcd2f",
   "metadata": {},
   "outputs": [],
   "source": [
    "%pip install markdown2"
   ]
  },
  {
   "cell_type": "code",
   "execution_count": 12,
   "id": "a3bdfb72",
   "metadata": {},
   "outputs": [],
   "source": [
    "import markdown2"
   ]
  },
  {
   "cell_type": "code",
   "execution_count": 13,
   "id": "a97c9f98",
   "metadata": {},
   "outputs": [],
   "source": [
    "instruction = {}\n",
    "for worker_lang in ['EN', 'RU']:\n",
    "    with open(f'instruction_{worker_lang}.md') as f:\n",
    "        instruction[worker_lang] = markdown2.markdown(f.read())"
   ]
  },
  {
   "cell_type": "markdown",
   "id": "df92b850-6d5f-4622-8270-9edcfc7bd25e",
   "metadata": {},
   "source": [
    "You can preview generated `HTML` in cell output."
   ]
  },
  {
   "cell_type": "markdown",
   "id": "4254c078",
   "metadata": {},
   "source": [
    "#### Instruction preview"
   ]
  },
  {
   "cell_type": "markdown",
   "id": "2bb8fd00",
   "metadata": {},
   "source": [
    "Please note that Toloka will sanitize resulting `HTML` using its [subset](https://toloka.ai/docs/guide/concepts/instruction.html#instruction__html-yes), so a full check of the instruction is possible only at [task verification](#Task-verification-and-feedback) step."
   ]
  },
  {
   "cell_type": "code",
   "execution_count": 14,
   "id": "10116359",
   "metadata": {},
   "outputs": [],
   "source": [
    "from IPython.display import display, HTML"
   ]
  },
  {
   "cell_type": "code",
   "execution_count": 15,
   "id": "715f7e8c",
   "metadata": {},
   "outputs": [
    {
     "data": {
      "text/html": [
       "<p>Look at photo and choose one of the options:</p>\n",
       "\n",
       "<ul>\n",
       "<li><strong>dog</strong> – if dog is on the photo</li>\n",
       "<li><strong>cat</strong> – if cat is on the photo</li>\n",
       "<li><strong>other</strong> – if there is another animal in the photo, several animals, or no animals at all</li>\n",
       "</ul>\n"
      ],
      "text/plain": [
       "<IPython.core.display.HTML object>"
      ]
     },
     "metadata": {},
     "output_type": "display_data"
    }
   ],
   "source": [
    "display(HTML(instruction['EN']))"
   ]
  },
  {
   "cell_type": "markdown",
   "id": "7a794027",
   "metadata": {},
   "source": [
    "## Labeling task specification"
   ]
  },
  {
   "cell_type": "markdown",
   "id": "1fdab410",
   "metadata": {},
   "source": [
    "Task specification contains all information for your tasks publication. Specify the following items:\n",
    "- **id**, technical identifier of your task\n",
    "- **function** of your task\n",
    "- **name**, which workers will see in tasks feed\n",
    "  - _for technical reasons, we ask you to always specify a name for English (EN)_\n",
    "- **description** – brief description of your task\n",
    "- **instruction** for task"
   ]
  },
  {
   "cell_type": "code",
   "execution_count": 16,
   "id": "77ae8985",
   "metadata": {},
   "outputs": [],
   "source": [
    "task_spec = base.TaskSpec(\n",
    "    id='dogs-and-cats',\n",
    "    function=function,\n",
    "    name={'EN': 'Cat or dog', 'RU': 'Кошка или собака'},\n",
    "    description={'EN': 'Identification of animals in photos', 'RU': 'Определение животных на изображениях'},\n",
    "    instruction=instruction)"
   ]
  },
  {
   "cell_type": "markdown",
   "id": "c178375b",
   "metadata": {
    "pycharm": {
     "name": "#%% md\n"
    }
   },
   "source": [
    "Workers in their task feed will see your task for `EN` language like this, depending on where they are doing the tasks:"
   ]
  },
  {
   "cell_type": "markdown",
   "id": "f2faaa04",
   "metadata": {
    "pycharm": {
     "name": "#%% md\n"
    }
   },
   "source": [
    "<table>\n",
    "    <tr>\n",
    "        <td style=\"text-align: center\"><h2>Browser</h2></td>\n",
    "        <td style=\"text-align: center\"><h2>Mobile app</h2></td>\n",
    "    </tr>\n",
    "    <tr>\n",
    "        <td>\n",
    "            <img src=\"task-card_browser.png\"\n",
    "                 alt=\"task-card-browser\" style=\"width:100%; max-width:400px;\"/>\n",
    "        </td>\n",
    "        <td>\n",
    "            <img src=\"task-card_app.png\"\n",
    "                 alt=\"task-card-app\" style=\"width:100%; max-width:400px;\"/>\n",
    "        </td>\n",
    "    </tr>\n",
    "</table>"
   ]
  },
  {
   "cell_type": "markdown",
   "id": "34e7ae99",
   "metadata": {},
   "source": [
    "Define language of your **data**. Workers who know this language will be selected to perform data labeling.\n",
    "\n",
    "In fact, task can be **language-agnostic** – not requiring knowledge of any language. But currently Crowdom always selects workers by language, so we ask you to specify it as workers filter.\n",
    "\n",
    "_Proper support for language-agnostic tasks will appear in future versions of Crowdom_."
   ]
  },
  {
   "cell_type": "code",
   "execution_count": 17,
   "id": "2725fcca",
   "metadata": {},
   "outputs": [],
   "source": [
    "lang = 'EN'"
   ]
  },
  {
   "cell_type": "markdown",
   "id": "3f405552",
   "metadata": {},
   "source": [
    "`task_spec_en`, localized version of your `task_spec`, will be used further in code."
   ]
  },
  {
   "cell_type": "code",
   "execution_count": 18,
   "id": "5a3ab122",
   "metadata": {},
   "outputs": [],
   "source": [
    "task_spec_en = client.PreparedTaskSpec(task_spec, lang)"
   ]
  },
  {
   "cell_type": "markdown",
   "id": "f8ae857a-6e82-4ed8-8ebf-12fa74bdccd4",
   "metadata": {
    "tags": []
   },
   "source": [
    "## Task cost"
   ]
  },
  {
   "cell_type": "markdown",
   "id": "39c6a936-13cd-4d9e-941f-0294f075dd47",
   "metadata": {},
   "source": [
    "Determining an appropriate price for a task is a difficult problem. The price depends on many factors, including place of residence of workers, your [choice](#Labeling-efficiency-optimization) in favor of the quality or speed of data labeling and etc.\n",
    "\n",
    "But the main factor is the time that the worker spends on the task.\n",
    "\n",
    "__Task duration hint__ is an estimate of how much time typical worker will perform one task.\n",
    "\n",
    "For variable sized data (i.e. texts or audio records), this assumption should be made using average data size for your tasks batch.\n",
    "\n",
    "We will ask you to specify this value by yourself or with help of experts in later steps.\n",
    "\n",
    "Note that it will be just an initial estimate. Later, after launching data labeling on crowd, you will be able to refine this value, using worker's task performing metrics."
   ]
  },
  {
   "cell_type": "markdown",
   "id": "9bc56e7f",
   "metadata": {
    "tags": []
   },
   "source": [
    "# Importing source data"
   ]
  },
  {
   "cell_type": "markdown",
   "id": "8216dc70",
   "metadata": {},
   "source": [
    "[Go to workflow](#Workflow)"
   ]
  },
  {
   "cell_type": "markdown",
   "id": "fedf7083",
   "metadata": {},
   "source": [
    "In this section we will import the data you want to label from file.\n",
    "\n",
    "Images are source data for our example. Images, as well as video and audio recordings, are considered as _media objects_. Usually such objects are stored in files. In case of Crowdom, _media objects_ are specified by their URL in S3 storage. Such URLs have to be reachable for workers in crowdsourcing platform, so, in terms of S3 storage, S3 objects corresponding to URLs should have public access or be stored in public bucket.\n",
    "\n",
    "File with source data is expected to be a JSON list, with each item having keys named like `name` and typed like corresponding `type` entry for each row in this cell's output dataframe.\n",
    "\n",
    "In our example, each item have single key `image` corresponding to image URL. You can see an example of the file in [tasks.json](tasks.json) that we use as a data source."
   ]
  },
  {
   "cell_type": "code",
   "execution_count": 19,
   "id": "50f6848c",
   "metadata": {},
   "outputs": [
    {
     "data": {
      "text/html": [
       "<div>\n",
       "<style scoped>\n",
       "    .dataframe tbody tr th:only-of-type {\n",
       "        vertical-align: middle;\n",
       "    }\n",
       "\n",
       "    .dataframe tbody tr th {\n",
       "        vertical-align: top;\n",
       "    }\n",
       "\n",
       "    .dataframe thead th {\n",
       "        text-align: right;\n",
       "    }\n",
       "</style>\n",
       "<table border=\"1\" class=\"dataframe\">\n",
       "  <thead>\n",
       "    <tr style=\"text-align: right;\">\n",
       "      <th></th>\n",
       "      <th>name</th>\n",
       "      <th>type</th>\n",
       "    </tr>\n",
       "  </thead>\n",
       "  <tbody>\n",
       "    <tr>\n",
       "      <th>0</th>\n",
       "      <td>image</td>\n",
       "      <td>str</td>\n",
       "    </tr>\n",
       "  </tbody>\n",
       "</table>\n",
       "</div>"
      ],
      "text/plain": [
       "    name type\n",
       "0  image  str"
      ]
     },
     "execution_count": 19,
     "metadata": {},
     "output_type": "execute_result"
    }
   ],
   "source": [
    "datasource.file_format(task_spec_en.task_mapping)"
   ]
  },
  {
   "cell_type": "code",
   "execution_count": 20,
   "id": "c8b62398-f960-4edd-ae6d-0d444b52fda2",
   "metadata": {
    "pycharm": {
     "name": "#%%\n"
    }
   },
   "outputs": [],
   "source": [
    "input_objects = datasource.read_tasks('tasks.json', task_spec_en.task_mapping)\n",
    "control_objects = None"
   ]
  },
  {
   "cell_type": "markdown",
   "id": "bbec9ce4",
   "metadata": {
    "pycharm": {
     "name": "#%% md\n"
    }
   },
   "source": [
    "_In real-life situations, data labeling is often connected with other processes, such as machine learning, developing quality evalution metrics and etc._\n",
    "\n",
    "_In future versions of Crowdom, a more convenient way of importing source data will appear, combining data labeling with connected processes._"
   ]
  },
  {
   "cell_type": "markdown",
   "id": "4132d1c8",
   "metadata": {},
   "source": [
    "Workers in crowdsourcing platforms may make mistakes or perform tasks poorly, so to provide quality of data labeling various quality control methods are needed. One of important method is _control tasks_.\n",
    "\n",
    "If you already have reference labeling, you can import it as _control tasks_ in section [below](#Reference-labeling). If not, you should run [task verification](#Task-verification-and-feedback) to generate some control tasks with the help of experts."
   ]
  },
  {
   "cell_type": "markdown",
   "id": "360fc8e1",
   "metadata": {
    "tags": []
   },
   "source": [
    "## Reference labeling"
   ]
  },
  {
   "cell_type": "markdown",
   "id": "866874fe",
   "metadata": {},
   "source": [
    "In addition to the source data, a reference labeling is expected in the [file](control_tasks.json). For our task, reference labeling is correct classification option, located in `choice` field."
   ]
  },
  {
   "cell_type": "code",
   "execution_count": 21,
   "id": "2a6e6766",
   "metadata": {},
   "outputs": [
    {
     "data": {
      "text/html": [
       "<div>\n",
       "<style scoped>\n",
       "    .dataframe tbody tr th:only-of-type {\n",
       "        vertical-align: middle;\n",
       "    }\n",
       "\n",
       "    .dataframe tbody tr th {\n",
       "        vertical-align: top;\n",
       "    }\n",
       "\n",
       "    .dataframe thead th {\n",
       "        text-align: right;\n",
       "    }\n",
       "</style>\n",
       "<table border=\"1\" class=\"dataframe\">\n",
       "  <thead>\n",
       "    <tr style=\"text-align: right;\">\n",
       "      <th></th>\n",
       "      <th>name</th>\n",
       "      <th>type</th>\n",
       "    </tr>\n",
       "  </thead>\n",
       "  <tbody>\n",
       "    <tr>\n",
       "      <th>0</th>\n",
       "      <td>image</td>\n",
       "      <td>str</td>\n",
       "    </tr>\n",
       "    <tr>\n",
       "      <th>1</th>\n",
       "      <td>choice</td>\n",
       "      <td>str</td>\n",
       "    </tr>\n",
       "  </tbody>\n",
       "</table>\n",
       "</div>"
      ],
      "text/plain": [
       "     name type\n",
       "0   image  str\n",
       "1  choice  str"
      ]
     },
     "execution_count": 21,
     "metadata": {},
     "output_type": "execute_result"
    }
   ],
   "source": [
    "datasource.file_format(task_spec_en.task_mapping, has_solutions=True)"
   ]
  },
  {
   "cell_type": "code",
   "execution_count": 22,
   "id": "b5bcf2a6",
   "metadata": {},
   "outputs": [],
   "source": [
    "control_objects = datasource.read_tasks('control_tasks.json', task_spec_en.task_mapping, has_solutions=True)"
   ]
  },
  {
   "cell_type": "markdown",
   "id": "1ab6ba8d-cbe1-47ac-8cb3-f87276dfe49b",
   "metadata": {},
   "source": [
    "If you are not sure about your reference labeling quality, run [task verification](#Task-verification-and-feedback) to check it."
   ]
  },
  {
   "cell_type": "markdown",
   "id": "20341a8d-1e57-4a4e-a4bc-9b2a242cd558",
   "metadata": {},
   "source": [
    "Define [__task duration hint__](#Task-cost). If you find it difficult to specify this value, or you want more precise initial estimate, run a [task verification](#Task-verification-and-feedback) to define it."
   ]
  },
  {
   "cell_type": "code",
   "execution_count": 23,
   "id": "7f0d7d82-61e0-4cf7-961b-fd42e132f1b5",
   "metadata": {},
   "outputs": [],
   "source": [
    "task_duration_hint = timedelta(seconds=10)"
   ]
  },
  {
   "cell_type": "markdown",
   "id": "821d12ea",
   "metadata": {
    "tags": []
   },
   "source": [
    "# Task verification and feedback"
   ]
  },
  {
   "cell_type": "markdown",
   "id": "fa04f67e",
   "metadata": {},
   "source": [
    "[Go to workflow](#Workflow)"
   ]
  },
  {
   "cell_type": "markdown",
   "id": "27934be0",
   "metadata": {
    "pycharm": {
     "name": "#%% md\n"
    }
   },
   "source": [
    "Before launching data labeling on crowd, it is advisable to make sure that the workers will not have problems with completing tasks.\n",
    "\n",
    "__Task verification__ is a process in which _crowd experts_ check your task for readiness to launch on crowd.\n",
    "\n",
    "Crowd experts check various aspects of your tasks, such as the completeness and consistency of the worker instructions, the correspondence of the instructions to the source data, the complexity of the task and the need for its decomposition, etc.\n",
    "\n",
    "Verification is carried out by labeling a small part of your source data by experts. After the labeling, the experts give feedback, according to which you may need to refine the [definition](#Labeling-task-definition) of your task.\n",
    "\n",
    "---"
   ]
  },
  {
   "cell_type": "markdown",
   "id": "ec88733d",
   "metadata": {},
   "source": [
    "For now, we expect that you will form a group of experts yourself by [registering](../experts_registration/experts_registration.ipynb). You can also register yourself as an expert.\n",
    "\n",
    "___Crowd__ experts automatic management will appear in future versions of Crowdom_."
   ]
  },
  {
   "cell_type": "markdown",
   "id": "03fbeb6e-93e1-4afe-84b5-924c080552bf",
   "metadata": {},
   "source": [
    "Unlike workers, the instruction for experts has a special form - first a block with instructions for workers, then a block about expert annotation.\n",
    "\n",
    "<img src=\"expert-instructions.png\" style=\"max-width:600px;\"/>"
   ]
  },
  {
   "cell_type": "markdown",
   "id": "8a7401e3-5c77-4dae-b93a-559d93e9b1cc",
   "metadata": {},
   "source": [
    "## Experts reward definition"
   ]
  },
  {
   "cell_type": "markdown",
   "id": "85ff2ea7",
   "metadata": {},
   "source": [
    "Define [__task duration hint__](#Task-cost), it is needed for an fare reward for an experts, in case if you use help of [external Toloka experts](#External-Toloka-experts).\n",
    "\n",
    "You don't need a very accurate estimate, you will get an updated value after verification. In case of doubt, enter an upper-bound estimate."
   ]
  },
  {
   "cell_type": "code",
   "execution_count": 23,
   "id": "157c7169",
   "metadata": {},
   "outputs": [],
   "source": [
    "task_duration_hint = timedelta(seconds=20)"
   ]
  },
  {
   "cell_type": "code",
   "execution_count": 24,
   "id": "98909b38",
   "metadata": {},
   "outputs": [],
   "source": [
    "from crowdom import experts, project"
   ]
  },
  {
   "cell_type": "code",
   "execution_count": 25,
   "id": "c2065305-7e74-4537-98c2-5b63c83a6afa",
   "metadata": {},
   "outputs": [],
   "source": [
    "if control_objects:\n",
    "    scenario = project.Scenario.EXPERT_LABELING_OF_SOLVED_TASKS\n",
    "    objects = control_objects\n",
    "else:\n",
    "    scenario = project.Scenario.EXPERT_LABELING_OF_TASKS\n",
    "    objects = input_objects\n",
    "experts_task_spec = client.PreparedTaskSpec(task_spec, lang, scenario)"
   ]
  },
  {
   "cell_type": "markdown",
   "id": "75705851",
   "metadata": {},
   "source": [
    "You have two reward options:\n",
    "- [Inhouse experts](#Inhouse-experts) – experts are employees of your company and already receive payment for their work. In this case, you pay the minimum rate for task, which is the Toloka fee as a platform.\n",
    "- [External Toloka experts](#External-Toloka-experts) – you have selected experts among the workers in Toloka and payment is carried out in the usual way for Toloka."
   ]
  },
  {
   "cell_type": "markdown",
   "id": "e30b8214",
   "metadata": {
    "tags": []
   },
   "source": [
    "#### Inhouse experts"
   ]
  },
  {
   "cell_type": "markdown",
   "id": "7c1ebcc7-30bc-4a18-afcb-82db3894fc11",
   "metadata": {},
   "source": [
    "You will see the final price, taking into account the minimum rate, before the verification launch."
   ]
  },
  {
   "cell_type": "code",
   "execution_count": 26,
   "id": "07b94e36",
   "metadata": {},
   "outputs": [],
   "source": [
    "avg_price_per_hour = None"
   ]
  },
  {
   "cell_type": "markdown",
   "id": "90d77dd6",
   "metadata": {
    "tags": []
   },
   "source": [
    "#### External Toloka experts"
   ]
  },
  {
   "cell_type": "markdown",
   "id": "1f6ed8d9-7481-43f9-ad62-71f95673e75a",
   "metadata": {},
   "source": [
    "For experts from Toloka, specify reward via earnings per hour."
   ]
  },
  {
   "cell_type": "code",
   "execution_count": 27,
   "id": "547a2281",
   "metadata": {},
   "outputs": [],
   "source": [
    "avg_price_per_hour = 3.5  # USD"
   ]
  },
  {
   "cell_type": "markdown",
   "id": "6b040af3-9eb6-4721-a8b5-50c80b84bc86",
   "metadata": {},
   "source": [
    "#### Pricing config"
   ]
  },
  {
   "cell_type": "markdown",
   "id": "6b06bc90-e447-49f6-86a6-48c8e59f52fa",
   "metadata": {},
   "source": [
    "Use the price defined above to generate the config."
   ]
  },
  {
   "cell_type": "code",
   "execution_count": 28,
   "id": "6b536f66-0921-4d1d-bbc9-2ac40032b701",
   "metadata": {},
   "outputs": [],
   "source": [
    "pricing_options = pricing.get_expert_pricing_options(\n",
    "    task_duration_hint, experts_task_spec.task_mapping, avg_price_per_hour)\n",
    "pricing_config = pricing.choose_default_expert_option(pricing_options, avg_price_per_hour)"
   ]
  },
  {
   "cell_type": "markdown",
   "id": "ddb7e035",
   "metadata": {},
   "source": [
    "## Getting feedback"
   ]
  },
  {
   "cell_type": "code",
   "execution_count": 31,
   "id": "f36bd69e-d1f2-4b73-9d92-c87fb9ae2125",
   "metadata": {},
   "outputs": [],
   "source": [
    "client.define_task(experts_task_spec, toloka_client)"
   ]
  },
  {
   "cell_type": "markdown",
   "id": "36b543ee-5e27-4fe3-bf25-e49bf15709be",
   "metadata": {},
   "source": [
    "For purposes of task verification, i.e. understanding that the task needs to be clarified, experts do not need to label all your tasks, especially if there are many of them. Select just a few dozen random tasks."
   ]
  },
  {
   "cell_type": "code",
   "execution_count": 34,
   "id": "6403906b",
   "metadata": {},
   "outputs": [
    {
     "name": "stdout",
     "output_type": "stream",
     "text": [
      "clear formula, which does not account edge cases like min commission and incomplete assignments\n"
     ]
    },
    {
     "data": {
      "text/latex": [
       "$\\displaystyle TotalPrice_{clear} = TaskCount * PricePerTask_\\$ * Overlap * (1 + TolokaCommission) = 20 * 0.0150\\$ * 1 * 1.3 = 0.39\\$.$"
      ],
      "text/plain": [
       "<IPython.core.display.Math object>"
      ]
     },
     "metadata": {},
     "output_type": "display_data"
    },
    {
     "name": "stdout",
     "output_type": "stream",
     "text": [
      "\n",
      "precise formula, which account all edge cases\n"
     ]
    },
    {
     "data": {
      "text/latex": [
       "$\\displaystyle TotalPrice_{precise} = AssignmentCount * PricePerAssignment_\\$ * Overlap = \\lceil TaskCount / TasksOnAssignment \\rceil * (PricePerAssignment_\\$ + max(PricePerAssignment_\\$ * TolokaCommission, MinTolokaCommission_\\$) * Overlap = \\lceil 20 / 2 \\rceil * (0.03\\$ + max(0.03\\$ * 0.3, 0.005\\$) * 1 = 10 * 0.039 * 1 = 0.39\\$.$"
      ],
      "text/plain": [
       "<IPython.core.display.Math object>"
      ]
     },
     "metadata": {},
     "output_type": "display_data"
    },
    {
     "name": "stdout",
     "output_type": "stream",
     "text": [
      "run expert labeling of 20 objects for 0.39$? [Y/n] Y\n"
     ]
    }
   ],
   "source": [
    "raw_feedback = client.launch_experts(\n",
    "    experts_task_spec,\n",
    "    client.ExpertParams(\n",
    "        task_duration_hint=task_duration_hint,\n",
    "        pricing_config=pricing_config,\n",
    "    ),\n",
    "    objects[:20],\n",
    "    experts.ExpertCase.TASK_VERIFICATION,\n",
    "    toloka_client,\n",
    "    interactive=True)"
   ]
  },
  {
   "cell_type": "markdown",
   "id": "76011829",
   "metadata": {},
   "source": [
    "You can use `dict` with ID-name mapping from [registration](../experts_registration/experts_registration.ipynb) notebook to see your expert names instead of obscure Toloka worker ids."
   ]
  },
  {
   "cell_type": "code",
   "execution_count": 80,
   "id": "a54a6af4",
   "metadata": {},
   "outputs": [],
   "source": [
    "worker_id_to_name = {'f87548bd9c317ed987e22c8ebe3dea3c': 'bob'}  # {'< hex 32-digit id >': '< username >'}"
   ]
  },
  {
   "cell_type": "code",
   "execution_count": 81,
   "id": "067da546",
   "metadata": {},
   "outputs": [],
   "source": [
    "feedback = client.ExpertLabelingResults(raw_feedback, experts_task_spec, worker_id_to_name)"
   ]
  },
  {
   "cell_type": "markdown",
   "id": "48735028",
   "metadata": {},
   "source": [
    "Study feedback from experts.\n",
    "\n",
    "If you didn't specify reference labeling, then the experts performer data labeling themselves. Their labeling is in the `choice` column.\n",
    "\n",
    "`_ok` column denotes if task (or task with solution, if you specified reference labeling) is correct according to instructions (`True` if correct).\n",
    "\n",
    "`_comment` for incorrect tasks describes what the problem with the task is. For correct tasks, it contains a comment that workers will be able to read if [training](#Creating-workers-training) will be created."
   ]
  },
  {
   "cell_type": "code",
   "execution_count": 82,
   "id": "f346f4d1",
   "metadata": {},
   "outputs": [
    {
     "data": {
      "text/html": [
       "<div>\n",
       "<style scoped>\n",
       "    .dataframe tbody tr th:only-of-type {\n",
       "        vertical-align: middle;\n",
       "    }\n",
       "\n",
       "    .dataframe tbody tr th {\n",
       "        vertical-align: top;\n",
       "    }\n",
       "\n",
       "    .dataframe thead th {\n",
       "        text-align: right;\n",
       "    }\n",
       "</style>\n",
       "<table border=\"1\" class=\"dataframe\">\n",
       "  <thead>\n",
       "    <tr style=\"text-align: right;\">\n",
       "      <th></th>\n",
       "      <th>image</th>\n",
       "      <th>choice</th>\n",
       "      <th>_ok</th>\n",
       "      <th>_comment</th>\n",
       "      <th>worker</th>\n",
       "      <th>duration</th>\n",
       "    </tr>\n",
       "  </thead>\n",
       "  <tbody>\n",
       "    <tr>\n",
       "      <th>0</th>\n",
       "      <td>https://tlk.s3.yandex.net/dataset/cats_vs_dogs/dogs/2fe01a524f0c45e2b6dd6bcbf28510c9.jpg</td>\n",
       "      <td>dog</td>\n",
       "      <td>True</td>\n",
       "      <td></td>\n",
       "      <td>bob</td>\n",
       "      <td>0 days 00:00:08.034800</td>\n",
       "    </tr>\n",
       "    <tr>\n",
       "      <th>1</th>\n",
       "      <td>https://tlk.s3.yandex.net/dataset/cats_vs_dogs/dogs/51d9ff2e9dfa47eabdada868d7d19036.jpg</td>\n",
       "      <td>dog</td>\n",
       "      <td>True</td>\n",
       "      <td></td>\n",
       "      <td>bob</td>\n",
       "      <td>0 days 00:00:08.034800</td>\n",
       "    </tr>\n",
       "    <tr>\n",
       "      <th>2</th>\n",
       "      <td>https://tlk.s3.yandex.net/dataset/cats_vs_dogs/dogs/e234616a557542d893c64102cbe7fd5e.jpeg</td>\n",
       "      <td>dog</td>\n",
       "      <td>True</td>\n",
       "      <td></td>\n",
       "      <td>bob</td>\n",
       "      <td>0 days 00:00:08.028600</td>\n",
       "    </tr>\n",
       "    <tr>\n",
       "      <th>3</th>\n",
       "      <td>https://tlk.s3.yandex.net/dataset/cats_vs_dogs/cats/87d238d9ec3d4c0a84af8cc1bf0024e6.jpg</td>\n",
       "      <td>cat</td>\n",
       "      <td>True</td>\n",
       "      <td>one cat on photo, choose \"cat\" option</td>\n",
       "      <td>bob</td>\n",
       "      <td>0 days 00:00:08.028600</td>\n",
       "    </tr>\n",
       "    <tr>\n",
       "      <th>4</th>\n",
       "      <td>https://tlk.s3.yandex.net/dataset/cats_vs_dogs/cats/f00a3fa52c694e0fa51a165e22cf4628.jpg</td>\n",
       "      <td>cat</td>\n",
       "      <td>True</td>\n",
       "      <td></td>\n",
       "      <td>bob</td>\n",
       "      <td>0 days 00:00:08.028600</td>\n",
       "    </tr>\n",
       "    <tr>\n",
       "      <th>5</th>\n",
       "      <td>https://tlk.s3.yandex.net/dataset/cats_vs_dogs/dogs/a4202f416e854793a66f34027fbdf068.png</td>\n",
       "      <td>dog</td>\n",
       "      <td>True</td>\n",
       "      <td>one dog on photo, choose \"dog\" option</td>\n",
       "      <td>bob</td>\n",
       "      <td>0 days 00:00:08.034800</td>\n",
       "    </tr>\n",
       "    <tr>\n",
       "      <th>6</th>\n",
       "      <td>https://tlk.s3.yandex.net/dataset/cats_vs_dogs/cats/5dd7e56114f64142a33431807cb75ecc.jpg</td>\n",
       "      <td>cat</td>\n",
       "      <td>False</td>\n",
       "      <td>unclear photo</td>\n",
       "      <td>bob</td>\n",
       "      <td>0 days 00:00:08.028600</td>\n",
       "    </tr>\n",
       "    <tr>\n",
       "      <th>7</th>\n",
       "      <td>https://tlk.s3.yandex.net/dataset/cats_vs_dogs/cats/17daa00ecc76416683699ce07f88ee53.jpeg</td>\n",
       "      <td>cat</td>\n",
       "      <td>False</td>\n",
       "      <td>unclear photo</td>\n",
       "      <td>bob</td>\n",
       "      <td>0 days 00:00:08.034800</td>\n",
       "    </tr>\n",
       "    <tr>\n",
       "      <th>8</th>\n",
       "      <td>https://tlk.s3.yandex.net/dataset/cats_vs_dogs/dogs/44a8bddc132b4f7eba559e6f3dd39649.jpg</td>\n",
       "      <td>dog</td>\n",
       "      <td>False</td>\n",
       "      <td>unclear photo</td>\n",
       "      <td>bob</td>\n",
       "      <td>0 days 00:00:10.818800</td>\n",
       "    </tr>\n",
       "    <tr>\n",
       "      <th>9</th>\n",
       "      <td>https://tlk.s3.yandex.net/dataset/cats_vs_dogs/dogs/57b9ba06f7de4d7c8b3bb7e690487469.jpg</td>\n",
       "      <td>dog</td>\n",
       "      <td>True</td>\n",
       "      <td>one dog on photo, choose \"dog\" option</td>\n",
       "      <td>bob</td>\n",
       "      <td>0 days 00:00:08.034800</td>\n",
       "    </tr>\n",
       "    <tr>\n",
       "      <th>10</th>\n",
       "      <td>https://tlk.s3.yandex.net/dataset/cats_vs_dogs/dogs/bee7036ef1cd4d44a3fb2335be0e51f6.jpg</td>\n",
       "      <td>dog</td>\n",
       "      <td>True</td>\n",
       "      <td></td>\n",
       "      <td>bob</td>\n",
       "      <td>0 days 00:00:10.818800</td>\n",
       "    </tr>\n",
       "    <tr>\n",
       "      <th>11</th>\n",
       "      <td>https://tlk.s3.yandex.net/dataset/cats_vs_dogs/cats/1e9d58ebe8734126aa5c6e88558d706f.jpg</td>\n",
       "      <td>cat</td>\n",
       "      <td>True</td>\n",
       "      <td></td>\n",
       "      <td>bob</td>\n",
       "      <td>0 days 00:00:10.242400</td>\n",
       "    </tr>\n",
       "    <tr>\n",
       "      <th>12</th>\n",
       "      <td>https://tlk.s3.yandex.net/dataset/cats_vs_dogs/dogs/9a98a303b41d4fc4b21d7d2e6be4387b.jpg</td>\n",
       "      <td>dog</td>\n",
       "      <td>False</td>\n",
       "      <td>may be some other animal</td>\n",
       "      <td>bob</td>\n",
       "      <td>0 days 00:00:10.242400</td>\n",
       "    </tr>\n",
       "    <tr>\n",
       "      <th>13</th>\n",
       "      <td>https://tlk.s3.yandex.net/dataset/cats_vs_dogs/dogs/c4ed091dad624b99b3a3aeb596607786.jpg</td>\n",
       "      <td>dog</td>\n",
       "      <td>True</td>\n",
       "      <td>one dog on photo, choose \"dog\" option</td>\n",
       "      <td>bob</td>\n",
       "      <td>0 days 00:00:10.242400</td>\n",
       "    </tr>\n",
       "    <tr>\n",
       "      <th>14</th>\n",
       "      <td>https://tlk.s3.yandex.net/dataset/cats_vs_dogs/cats/f7c572551fbb4f8a94cc64b6185281e3.jpg</td>\n",
       "      <td>cat</td>\n",
       "      <td>True</td>\n",
       "      <td>one cat on photo, choose \"cat\" option</td>\n",
       "      <td>bob</td>\n",
       "      <td>0 days 00:00:10.818800</td>\n",
       "    </tr>\n",
       "    <tr>\n",
       "      <th>15</th>\n",
       "      <td>https://tlk.s3.yandex.net/dataset/cats_vs_dogs/cats/99bc77c395cc44cd8eaf23b100e29589.jpg</td>\n",
       "      <td>cat</td>\n",
       "      <td>False</td>\n",
       "      <td>multiple cats, not clear what to choose, need explanation in instruction</td>\n",
       "      <td>bob</td>\n",
       "      <td>0 days 00:00:10.818800</td>\n",
       "    </tr>\n",
       "    <tr>\n",
       "      <th>16</th>\n",
       "      <td>https://tlk.s3.yandex.net/dataset/cats_vs_dogs/dogs/767baea57cc14245a2161ea212255103.jpg</td>\n",
       "      <td>dog</td>\n",
       "      <td>True</td>\n",
       "      <td></td>\n",
       "      <td>bob</td>\n",
       "      <td>0 days 00:00:08.028600</td>\n",
       "    </tr>\n",
       "    <tr>\n",
       "      <th>17</th>\n",
       "      <td>https://tlk.s3.yandex.net/dataset/cats_vs_dogs/cats/8660a6eb31654460a10d686ef09316aa.jpg</td>\n",
       "      <td>cat</td>\n",
       "      <td>True</td>\n",
       "      <td>one cat on photo, choose \"cat\" option</td>\n",
       "      <td>bob</td>\n",
       "      <td>0 days 00:00:10.818800</td>\n",
       "    </tr>\n",
       "    <tr>\n",
       "      <th>18</th>\n",
       "      <td>https://tlk.s3.yandex.net/dataset/cats_vs_dogs/dogs/e10b88fc38fb49f99776034f6d729ef5.jpg</td>\n",
       "      <td>dog</td>\n",
       "      <td>True</td>\n",
       "      <td>one dog on photo, choose \"dog\" option</td>\n",
       "      <td>bob</td>\n",
       "      <td>0 days 00:00:10.242400</td>\n",
       "    </tr>\n",
       "    <tr>\n",
       "      <th>19</th>\n",
       "      <td>https://tlk.s3.yandex.net/dataset/cats_vs_dogs/cats/d7b11387188349688e361c24e2b972ad.jpg</td>\n",
       "      <td>cat</td>\n",
       "      <td>False</td>\n",
       "      <td>unclear photo</td>\n",
       "      <td>bob</td>\n",
       "      <td>0 days 00:00:10.242400</td>\n",
       "    </tr>\n",
       "  </tbody>\n",
       "</table>\n",
       "</div>"
      ],
      "text/plain": [
       "                                                                                        image choice    _ok                                                                  _comment worker               duration\n",
       "0   https://tlk.s3.yandex.net/dataset/cats_vs_dogs/dogs/2fe01a524f0c45e2b6dd6bcbf28510c9.jpg   dog    True                                                                             bob   0 days 00:00:08.034800\n",
       "1   https://tlk.s3.yandex.net/dataset/cats_vs_dogs/dogs/51d9ff2e9dfa47eabdada868d7d19036.jpg   dog    True                                                                             bob   0 days 00:00:08.034800\n",
       "2   https://tlk.s3.yandex.net/dataset/cats_vs_dogs/dogs/e234616a557542d893c64102cbe7fd5e.jpeg  dog    True                                                                             bob   0 days 00:00:08.028600\n",
       "3   https://tlk.s3.yandex.net/dataset/cats_vs_dogs/cats/87d238d9ec3d4c0a84af8cc1bf0024e6.jpg   cat    True   one cat on photo, choose \"cat\" option                                     bob   0 days 00:00:08.028600\n",
       "4   https://tlk.s3.yandex.net/dataset/cats_vs_dogs/cats/f00a3fa52c694e0fa51a165e22cf4628.jpg   cat    True                                                                             bob   0 days 00:00:08.028600\n",
       "5   https://tlk.s3.yandex.net/dataset/cats_vs_dogs/dogs/a4202f416e854793a66f34027fbdf068.png   dog    True   one dog on photo, choose \"dog\" option                                     bob   0 days 00:00:08.034800\n",
       "6   https://tlk.s3.yandex.net/dataset/cats_vs_dogs/cats/5dd7e56114f64142a33431807cb75ecc.jpg   cat    False  unclear photo                                                             bob   0 days 00:00:08.028600\n",
       "7   https://tlk.s3.yandex.net/dataset/cats_vs_dogs/cats/17daa00ecc76416683699ce07f88ee53.jpeg  cat    False  unclear photo                                                             bob   0 days 00:00:08.034800\n",
       "8   https://tlk.s3.yandex.net/dataset/cats_vs_dogs/dogs/44a8bddc132b4f7eba559e6f3dd39649.jpg   dog    False  unclear photo                                                             bob   0 days 00:00:10.818800\n",
       "9   https://tlk.s3.yandex.net/dataset/cats_vs_dogs/dogs/57b9ba06f7de4d7c8b3bb7e690487469.jpg   dog    True   one dog on photo, choose \"dog\" option                                     bob   0 days 00:00:08.034800\n",
       "10  https://tlk.s3.yandex.net/dataset/cats_vs_dogs/dogs/bee7036ef1cd4d44a3fb2335be0e51f6.jpg   dog    True                                                                             bob   0 days 00:00:10.818800\n",
       "11  https://tlk.s3.yandex.net/dataset/cats_vs_dogs/cats/1e9d58ebe8734126aa5c6e88558d706f.jpg   cat    True                                                                             bob   0 days 00:00:10.242400\n",
       "12  https://tlk.s3.yandex.net/dataset/cats_vs_dogs/dogs/9a98a303b41d4fc4b21d7d2e6be4387b.jpg   dog    False  may be some other animal                                                  bob   0 days 00:00:10.242400\n",
       "13  https://tlk.s3.yandex.net/dataset/cats_vs_dogs/dogs/c4ed091dad624b99b3a3aeb596607786.jpg   dog    True   one dog on photo, choose \"dog\" option                                     bob   0 days 00:00:10.242400\n",
       "14  https://tlk.s3.yandex.net/dataset/cats_vs_dogs/cats/f7c572551fbb4f8a94cc64b6185281e3.jpg   cat    True   one cat on photo, choose \"cat\" option                                     bob   0 days 00:00:10.818800\n",
       "15  https://tlk.s3.yandex.net/dataset/cats_vs_dogs/cats/99bc77c395cc44cd8eaf23b100e29589.jpg   cat    False  multiple cats, not clear what to choose, need explanation in instruction  bob   0 days 00:00:10.818800\n",
       "16  https://tlk.s3.yandex.net/dataset/cats_vs_dogs/dogs/767baea57cc14245a2161ea212255103.jpg   dog    True                                                                             bob   0 days 00:00:08.028600\n",
       "17  https://tlk.s3.yandex.net/dataset/cats_vs_dogs/cats/8660a6eb31654460a10d686ef09316aa.jpg   cat    True   one cat on photo, choose \"cat\" option                                     bob   0 days 00:00:10.818800\n",
       "18  https://tlk.s3.yandex.net/dataset/cats_vs_dogs/dogs/e10b88fc38fb49f99776034f6d729ef5.jpg   dog    True   one dog on photo, choose \"dog\" option                                     bob   0 days 00:00:10.242400\n",
       "19  https://tlk.s3.yandex.net/dataset/cats_vs_dogs/cats/d7b11387188349688e361c24e2b972ad.jpg   cat    False  unclear photo                                                             bob   0 days 00:00:10.242400"
      ]
     },
     "execution_count": 82,
     "metadata": {},
     "output_type": "execute_result"
    }
   ],
   "source": [
    "feedback_df = feedback.get_results()\n",
    "with pd.option_context('max_colwidth', 100):\n",
    "    display(feedback_df)"
   ]
  },
  {
   "cell_type": "markdown",
   "id": "84c37712",
   "metadata": {},
   "source": [
    "You can manage these feedback like a regular Pandas dataframe.\n",
    "\n",
    "I.e., get a subset of images filtered by some condition, e.g. tasks your experts considered incorrect, classified as `CAT`, and spent at least 10 seconds on. You can also preview links to see workers task UI.\n"
   ]
  },
  {
   "cell_type": "code",
   "execution_count": 85,
   "id": "4874d0ca",
   "metadata": {},
   "outputs": [
    {
     "data": {
      "text/html": [
       "<table border=\"1\" class=\"dataframe\">\n",
       "  <thead>\n",
       "    <tr style=\"text-align: right;\">\n",
       "      <th></th>\n",
       "      <th>image</th>\n",
       "      <th>choice</th>\n",
       "      <th>_ok</th>\n",
       "      <th>_comment</th>\n",
       "      <th>worker</th>\n",
       "      <th>duration</th>\n",
       "      <th>preview</th>\n",
       "    </tr>\n",
       "  </thead>\n",
       "  <tbody>\n",
       "    <tr>\n",
       "      <th>15</th>\n",
       "      <td>https://tlk.s3.yandex.net/dataset/cats_vs_dogs/cats/99bc77c395cc44cd8eaf23b100e29589.jpg</td>\n",
       "      <td>cat</td>\n",
       "      <td>False</td>\n",
       "      <td>multiple cats, not clear what to choose, need explanation in instruction</td>\n",
       "      <td>bob</td>\n",
       "      <td>0 days 00:00:10.818800</td>\n",
       "      <td><a href=\"https://tb.yandex.net/editor?config=N4Igxg9gdgZglgcxALgAQmAHRANzgUwHds0sQ4AXfAWwGcTUBtMgVwCcAbBsgBwEMKACwbY41PgnzYANKmwUAnjyko5IACYC+AOjhQeLCtgC+s+UpVpseIrvGSTsspop9u2fkJHhBEOGBUzDXwYPhYOI1VeAWFVbDBff0C1RWVvFx09A0jTFIt0rV0oKjYoPi4QXOwIHgo4aHpVZmtylks1dQgEGTUOPgAjfAqrDS7HVDIcVvb4gR7sPsHhtTA5yqcWjjbvCCF8NnmQRaGdvYPKgF0g9ThaAY58dQYKNjag1JmQeCH1bTY+G4QAC0CDYEBYPHGZEgxXwxW8QMRhw+3hshG04jYAGtOoQoFD4tAqPCoqIqHQGM1wES4ZERgBJWioPbMvi0LGoAAUfCg6mZgnwqFoEC2dWgsjgMFQCDgODhAEpUJA2Gx8GAKAB+ZH5OK4AjoqgADxyGw0WncIE8sRGAH0IFjDuoQmEIhard47Q6QO8dSMMkVsuNzGldf69CUyhUqiAamKoI00FSplt2i83r0BiddQBNfCNXKTaYMUIcWj4ILHZbYAByEBMVw6t3uj2er3LeRDI2+HF+-0BILBEPrPs7ajR2g4txNHc+49B4Mh6wmhNhJNIHhiHsg1GotO1o+wYf0hiDIBRuvHRpyDeDs-1E6np54Wxl8cpZD6CnBdOXICxeieXVaDAMEOAqd42SxAB1OB1C8VQAHYAAYkO0JDoygXZJX8AR6jfJpoRpNc1AAIRCCBVVQZQ2BgCjqD0BBUD4Vl2VkcQsUFWh2EFIQBCYsDUF3G5mKGGhaSZQQ+DlVAOAgAFHm0fc71sK8CWpVcf2wekpT4h42QoVBoEFIS4BEh5d2KVBbkE25aAY2RVVkgF+UFfhJEU70Z1Re9VMuEdPmfFhX20CgRXtNxLmMTzyGPChVAwUR7E+QQKAoHhaGQAB6TKKA4LFtFoABmbQFB5J1DW0KB8AoTKMjLGrVgoWgbRwZrOgQWhMsazqAE4ev6MAEIQsBCp6gBWMAwAAFimsB1AADnwPgYAAJkK-oAEYUPwFbxvmnrtAAKx4bpPPiRIAm8RrDk9YtyjLIIbW3CzNJAahwjqZ9BW62RMIMsA9LYVBCEkgzQqVXwIAe1AqseVB8ENZ8eVw6ArKgNHaDTdU8MOWDvHpJLOXYDgAF4AHIUrSjLsty-KipKsqEcq6raq0equoEZrWptdrOu6zK+oGoaRvGyaZrmxblrWzbtt2sb9qOk6ycVAAeABBKAxHKbQAGE1YAFTQMnGrJgA+VASL0Pg2AUABRZMWBRqBOXtEmADF7vwRV9YRihOSvcn3oiOAvqVTnft2JVAeB0HmQgCGICh9tYb5BGkbKOM0YxrG42VkxKiAA\" target=\"_blank\" rel=\"noopener noreferrer\">task preview</a></td>\n",
       "    </tr>\n",
       "    <tr>\n",
       "      <th>19</th>\n",
       "      <td>https://tlk.s3.yandex.net/dataset/cats_vs_dogs/cats/d7b11387188349688e361c24e2b972ad.jpg</td>\n",
       "      <td>cat</td>\n",
       "      <td>False</td>\n",
       "      <td>unclear photo</td>\n",
       "      <td>bob</td>\n",
       "      <td>0 days 00:00:10.242400</td>\n",
       "      <td><a href=\"https://tb.yandex.net/editor?config=N4Igxg9gdgZglgcxALgAQmAHRANzgUwHds0sQ4AXfAWwGcTUBtMgVwCcAbBsgBwEMKACwbY41PgnzYANKmwUAnjyko5IACYC+AOjhQeLCtgC+s+UpVpseIrvGSTsspop9u2fkJHhBEOGBUzDXwYPhYOI1VeAWFVbDBff0C1RWVvFx09A0jTFIt0rV0oKjYoPi4QXOwIHgo4aHpVZmtylks1dQgEGTUOPgAjfAqrDS7HVDIcVvb4gR7sPsHhtTA5yqcWjjbvCCF8NnmQRaGdvYPKgF0g9ThaAY58dQYKNjag1JmQeCH1bTY+G4QAC0CDYEBYPHGZEgxXwxW8QMRhw+3hshG04jYAGtOoQoFD4tAqPCoqIqHQGM1wES4ZERgBJWioPbMvi0LGoAAUfCg6mZgnwqFoEC2dWgsjgMFQCDgODhAEpUJA2Gx8GAKAB+ZH5OK4AjoqgADxyGw0WncIE8sRGAH0IFjDuoQmEIhard47Q6QO8dSMMkVsuNzGldf69CUyhUqiAamKoI00FSplt2i83r0BiddQBNfCNXKTaYMUIcWj4ILHZbYAByEBMVw6t3uj2er3LeRDI2+HF+-0BILBEPrPs7ajR2g4txNHc+49B4Mh6wmhNhJNIHhiHsg1GotO1o+wYf0hiDIBRuvHRpyDeDs-1E6np54Wxl8cpZD6CnBdOXICxeieXVaDAMEOAqd42SxAB1OB1C8VQAHYAAYkO0JDoygXZJX8AR6jfJpoRpNc1AAIRCCBVVQZQ2BgCjqD0BBUD4Vl2VkcQsUFWh2EFIQBCYsDUF3G5mKGGhaSZQQ+DlVAOAgAFHm0fc71sK8CWpVcf2wekpT4h42QoVBoEFIS4BEh5d2KVBbkE25aAY2RVVkgF+UFfhJEU70Z1Re9VMuEdPmfFhX20CgRXtNxLmMTzyGPChVAwUR7E+QQKAoHhaGQAB6TKKA4LFtFoABmbQFB5J1DW0KB8AoTKMjLGrVgoWgbRwZrOgQWhMsazr1AQ-oAEZ+sKgAOBD+uG4bCoAFgATgANgm-BCrm-qwAAJim-A1v6GaELWgFtAAKx4bpPPiRIAm8RrDk9YtyjLIIbW3CzNJAFgoDAPS2Co3xQsOWDvHpJLOXYDgAF4AHIUrSjLsty-KipKsr8Aqqqarq6quoEZrWptdrOu62q+sGkaxom6b5sW5bVo2radr2g7joQCHFQAHgAQSgMRym0ABhdmABU0AhxqIYAPlQEi9D4NgFAAUWTFhcOgTl7TBgAxe78EVAWUYoTkr0h97PvwGWft2CAWZMSogA\" target=\"_blank\" rel=\"noopener noreferrer\">task preview</a></td>\n",
       "    </tr>\n",
       "  </tbody>\n",
       "</table>"
      ],
      "text/plain": [
       "<IPython.core.display.HTML object>"
      ]
     },
     "execution_count": 85,
     "metadata": {},
     "output_type": "execute_result"
    }
   ],
   "source": [
    "condition = (feedback_df[feedback.OK_FIELD] == False) & \\\n",
    "    (feedback_df['choice'] == 'cat') & \\\n",
    "    (feedback_df[feedback.DURATION_FIELD] >= timedelta(seconds=10))\n",
    "\n",
    "with pd.option_context('max_colwidth', 100):\n",
    "    display(feedback.html_with_task_previews(feedback_df[condition]))"
   ]
  },
  {
   "cell_type": "markdown",
   "id": "e8997295-2465-4593-a935-684bb0edb53a",
   "metadata": {},
   "source": [
    "Аfter studying the feedback – per-task feedback in dataframe or general points in a chat with experts, you can decide that the task needs to be refined – i.e. you need clarifications in the instructions, or some data is needed to be filtered out, since it will not be possible to label it on crowd for some reasons."
   ]
  },
  {
   "cell_type": "markdown",
   "id": "fcb3867a-e8d0-48f5-ade8-de89d372c516",
   "metadata": {},
   "source": [
    "### If task refinement is necessary"
   ]
  },
  {
   "cell_type": "markdown",
   "id": "71ebee32-d361-414e-8e3a-b7a665b4aaba",
   "metadata": {},
   "source": [
    "Return to [task definition](#Labeling-task-definition) step."
   ]
  },
  {
   "cell_type": "markdown",
   "id": "8c875c04-88fe-4d49-b6bb-326d0e7a5b4f",
   "metadata": {},
   "source": [
    "### If task is ready for crowd"
   ]
  },
  {
   "cell_type": "markdown",
   "id": "2077d1ed",
   "metadata": {},
   "source": [
    "Now we can refine crowd task cost by [__task duration hint__](#Task-cost) clarification.\n",
    "\n",
    "If you didn't specify reference labeling, we can calculate estimation automatically, using experts task performing durations, since experts carried out labeling themselves. Keep in mind that the experts were also spending time on expert annotation (`_ok`, `_comment`).\n",
    "\n",
    "If you specify reference labeling, we don't have good enough estimation, because they performed only expert annotation without getting a labeling. To get an estimation, consult with them in your chat.\n",
    "\n",
    "You can also consult with experts in case of absence of reference labeling, if you think that expert annotation made a significant change in performing duration, what usually happens in the case of simple task."
   ]
  },
  {
   "cell_type": "code",
   "execution_count": 87,
   "id": "4f50c1c2",
   "metadata": {},
   "outputs": [
    {
     "data": {
      "text/plain": [
       "datetime.timedelta(seconds=9, microseconds=281150)"
      ]
     },
     "execution_count": 87,
     "metadata": {},
     "output_type": "execute_result"
    }
   ],
   "source": [
    "task_duration_hint = feedback_df['duration'].mean().to_pytimedelta()  # with reference labeling\n",
    "# task_duration_hint = timedelta(seconds=experts_proposed_value)  # without reference labeling\n",
    "task_duration_hint"
   ]
  },
  {
   "cell_type": "markdown",
   "id": "ac8dc173",
   "metadata": {
    "pycharm": {
     "name": "#%% md\n"
    }
   },
   "source": [
    "Refine this estimation with experts if it seems unsuitable."
   ]
  },
  {
   "cell_type": "markdown",
   "id": "bacffd18",
   "metadata": {},
   "source": [
    "As you could see in the experts feedback dataframe, the experts could have marked some tasks as correct. Such tasks can be used as _control tasks_, which are required for quality of data labeling."
   ]
  },
  {
   "cell_type": "code",
   "execution_count": 88,
   "id": "c0a45681",
   "metadata": {},
   "outputs": [],
   "source": [
    "control_objects, _ = feedback.get_correct_objects()"
   ]
  },
  {
   "cell_type": "markdown",
   "id": "138f4213",
   "metadata": {},
   "source": [
    "Experts could accompany some correct tasks with hints (`_comment` column) that workers will be able to study for a better understanding of the [instructions](#Workers-instruction) on real-life examples.\n",
    "\n",
    "Create [training](#Creating-workers-training) in section below, if you want workers to be trained on these examples before accessing your tasks. It will improve quality of data labeling."
   ]
  },
  {
   "cell_type": "markdown",
   "id": "7e7043f3",
   "metadata": {
    "tags": []
   },
   "source": [
    "### Creating workers training"
   ]
  },
  {
   "cell_type": "code",
   "execution_count": 89,
   "id": "cddec6b6",
   "metadata": {
    "tags": []
   },
   "outputs": [],
   "source": [
    "training_objects, comments = feedback.get_correct_objects(application=client.ExpertLabelingApplication.TRAINING)"
   ]
  },
  {
   "cell_type": "markdown",
   "id": "3c4febf1",
   "metadata": {},
   "source": [
    "Specify the approximate time that workers will spend on training. Note that training is not paid, so workers may not want to go through too long training."
   ]
  },
  {
   "cell_type": "code",
   "execution_count": 94,
   "id": "7f358908",
   "metadata": {},
   "outputs": [],
   "source": [
    "training_config = pricing.choose_default_training_option(\n",
    "    pricing.get_training_options(task_duration_hint, len(training_objects), training_time=timedelta(minutes=2)))"
   ]
  },
  {
   "cell_type": "code",
   "execution_count": null,
   "id": "6c5ad865",
   "metadata": {
    "pycharm": {
     "name": "#%%\n"
    }
   },
   "outputs": [],
   "source": [
    "client.define_task(task_spec_en, toloka_client)"
   ]
  },
  {
   "cell_type": "code",
   "execution_count": 95,
   "id": "790d7931",
   "metadata": {},
   "outputs": [],
   "source": [
    "client.create_training(\n",
    "    task_spec_en,\n",
    "    training_objects,\n",
    "    comments,\n",
    "    toloka_client,\n",
    "    training_config)"
   ]
  },
  {
   "cell_type": "markdown",
   "id": "8925acf0",
   "metadata": {},
   "source": [
    "# Labeling efficiency optimization"
   ]
  },
  {
   "cell_type": "markdown",
   "id": "cecda017",
   "metadata": {},
   "source": [
    "[Go to workflow](#Workflow)"
   ]
  },
  {
   "cell_type": "markdown",
   "id": "f7df8d4a",
   "metadata": {
    "pycharm": {
     "name": "#%% md\n"
    }
   },
   "source": [
    "_Effeciency_ depends on cost, quality and speed of data labeling process.\n",
    "\n",
    "Labeling may be done with different end goals in mind, and those goals may mean different balance between\n",
    "cost, quality and speed.\n",
    "We will determine this tradeoff by choosing labeling params.\n",
    "\n",
    "<img src=\"params-balance.png\" style=\"max-width: 400px;\"/>"
   ]
  },
  {
   "cell_type": "markdown",
   "id": "15fda9f3",
   "metadata": {
    "pycharm": {
     "name": "#%% md\n"
    }
   },
   "source": [
    "__You can skip any customization in this section and use default options, which we consider suitable for a wide range of typical tasks, or tune parameters to you liking.__"
   ]
  },
  {
   "cell_type": "markdown",
   "id": "37f5f8b8",
   "metadata": {
    "pycharm": {
     "name": "#%% md\n"
    }
   },
   "source": [
    "In Yandex.Toloka a minimum _unit of work_ for workers is called _assignment_, and it consists of several individual tasks.\n",
    "\n",
    "Your individual tasks that are to be labeled are called _real_ tasks.\n",
    "If _control_ tasks are an applicable option of quality control in your case, _real_ and _control_ tasks would be\n",
    "present in each _assignment_, shuffled and visually indistinguishable from each other.\n",
    "\n",
    "Workers are paid by each accepted assignment, so, if assignment gets rejected, worker will not get any partial fee for it."
   ]
  },
  {
   "cell_type": "code",
   "execution_count": null,
   "id": "6c5afe05",
   "metadata": {
    "collapsed": false,
    "jupyter": {
     "outputs_hidden": false
    },
    "pycharm": {
     "name": "#%%\n"
    }
   },
   "outputs": [],
   "source": [
    "params_form = labeling_params.get_interface(task_spec_en, task_duration_hint, toloka_client)"
   ]
  },
  {
   "cell_type": "markdown",
   "id": "b3489bef",
   "metadata": {
    "pycharm": {
     "name": "#%% md\n"
    }
   },
   "source": [
    "After you tune parameters, extract them automatically from the form:"
   ]
  },
  {
   "cell_type": "code",
   "execution_count": 25,
   "id": "9efd5a1c",
   "metadata": {
    "collapsed": false,
    "jupyter": {
     "outputs_hidden": false
    },
    "pycharm": {
     "name": "#%%\n"
    }
   },
   "outputs": [],
   "source": [
    "params = params_form.get_params()"
   ]
  },
  {
   "cell_type": "markdown",
   "id": "2d0ce4a4",
   "metadata": {
    "pycharm": {
     "name": "#%% md\n"
    }
   },
   "source": [
    "If you want to define your own parameters from scratch, [create](#Efficiency-customization) them with code."
   ]
  },
  {
   "cell_type": "markdown",
   "id": "7a7610de",
   "metadata": {
    "pycharm": {
     "name": "#%% md\n"
    }
   },
   "source": [
    "## Efficiency customization"
   ]
  },
  {
   "cell_type": "markdown",
   "id": "ce34e62b",
   "metadata": {
    "pycharm": {
     "name": "#%% md\n"
    }
   },
   "source": [
    "Define pricing config, using pricing plots above as a hint.\n",
    "\n",
    "You can look at properties of your variant of pricing config as in this code sample.\n",
    "\n",
    "Please remember, that task price is calculated based on average workers income for selected language. If you make your config with significant less income, your task can become unattractive to workers. On the other hand, assigning a high income does not mean that there are only high-quality workers."
   ]
  },
  {
   "cell_type": "code",
   "execution_count": 26,
   "id": "5654d956",
   "metadata": {},
   "outputs": [],
   "source": [
    "from crowdom import classification, classification_loop, control, worker"
   ]
  },
  {
   "cell_type": "code",
   "execution_count": 27,
   "id": "a42b9a4d",
   "metadata": {},
   "outputs": [
    {
     "name": "stdout",
     "output_type": "stream",
     "text": [
      "your pricing config properties:\n",
      "\tprice per hour: 0.21$\n",
      "\trobustness: 0.889\n"
     ]
    }
   ],
   "source": [
    "correct_control_task_ratio_for_acceptance = .6\n",
    "\n",
    "pricing_config = pricing.PoolPricingConfig(assignment_price=.02, real_tasks_count=30, control_tasks_count=4)\n",
    "\n",
    "pricing_config_with_properties = pricing.calculate_properties_for_pricing_config(\n",
    "    config=pricing_config,\n",
    "    task_duration_hint=task_duration_hint,\n",
    "    correct_control_task_ratio_for_acceptance=correct_control_task_ratio_for_acceptance,\n",
    "    task_mapping=task_spec_en.task_mapping)\n",
    "\n",
    "print(f'your pricing config properties:\\n'\n",
    "      f'\\tprice per hour: {pricing_config_with_properties.price_per_hour:.2f}$\\n'\n",
    "      f'\\trobustness: {pricing_config_with_properties.robustness:.3f}')"
   ]
  },
  {
   "cell_type": "markdown",
   "id": "7d3646a9-414f-4db8-a257-a8a7f7ad3265",
   "metadata": {},
   "source": [
    "Define quality and control params."
   ]
  },
  {
   "cell_type": "code",
   "execution_count": 28,
   "id": "2233b1f8",
   "metadata": {},
   "outputs": [],
   "source": [
    "control_params = control.Control(\n",
    "    rules=control.RuleBuilder().add_static_reward(\n",
    "        threshold=correct_control_task_ratio_for_acceptance).add_speed_control(\n",
    "            # if worker complete tasks in 10% of expected time, we will reject assignment assuming fraud/scripts/random clicking\n",
    "            # specify 0 to disable this control option\n",
    "            ratio_rand=.1,\n",
    "            # if worker complete tasks in 30% of expected time, we will block him for a while, suspecting poor performance\n",
    "            # specify 0 to disable this control option\n",
    "            ratio_poor=.3,\n",
    "        ).build())\n",
    "\n",
    "params = client.Params(\n",
    "    task_duration_hint=task_duration_hint,\n",
    "    pricing_config=pricing_config,\n",
    "    overlap=classification_loop.DynamicOverlap(min_overlap=2, max_overlap=3, confidence=.85),\n",
    "    control=control_params,\n",
    "    aggregation_algorithm=classification.AggregationAlgorithm.MAX_LIKELIHOOD,\n",
    "    worker_filter=worker.WorkerFilter(\n",
    "        filters=[\n",
    "             worker.WorkerFilter.Params(\n",
    "                 langs={worker.LanguageRequirement(lang=lang)},\n",
    "                 regions=worker.lang_to_default_regions.get(lang, {}),\n",
    "                 age_range=(18, None),\n",
    "             ),\n",
    "        ],\n",
    "        training_score=80,\n",
    "    ),\n",
    ")"
   ]
  },
  {
   "cell_type": "markdown",
   "id": "47664c90",
   "metadata": {},
   "source": [
    "# Labeling of your data"
   ]
  },
  {
   "cell_type": "markdown",
   "id": "7a2679ad",
   "metadata": {},
   "source": [
    "[Go to workflow](#Workflow)"
   ]
  },
  {
   "cell_type": "markdown",
   "id": "bb9f10e4",
   "metadata": {},
   "source": [
    "Now we finally publish tasks to workers, wait for data labeling completion and study results.\n",
    "\n",
    "We will ask you to confirm the launch of the data labeling by showing you the interval of the total price.\n",
    "\n",
    "You will see metrics on plots during data labeling process."
   ]
  },
  {
   "cell_type": "code",
   "execution_count": 40,
   "id": "80486501",
   "metadata": {},
   "outputs": [],
   "source": [
    "client.define_task(task_spec_en, toloka_client)"
   ]
  },
  {
   "cell_type": "markdown",
   "id": "9aa4f7e6-1f8c-46cd-a182-fe68183541e7",
   "metadata": {
    "pycharm": {
     "name": "#%% md\n"
    }
   },
   "source": [
    "You can stop the data labeling process by interrupting the cell.\n",
    "\n",
    "The tasks that have not yet been completed will not be available to the workers, and the completed ones will be paid for."
   ]
  },
  {
   "cell_type": "code",
   "execution_count": 41,
   "id": "aed99ba2",
   "metadata": {
    "tags": []
   },
   "outputs": [
    {
     "name": "stdout",
     "output_type": "stream",
     "text": [
      "clear formula, which does not account edge cases like min commission and incomplete assignments\n"
     ]
    },
    {
     "data": {
      "text/latex": [
       "$\\displaystyle TotalPrice_{clear} = TaskCount * PricePerTask_\\$ * [MinOverlap \\dots MaxOverlap] * (1 + TolokaCommission) = 160 * 0.0019\\$ * [2 \\dots 3] * 1.3 = 0.78\\$ \\dots 1.17\\$.$"
      ],
      "text/plain": [
       "<IPython.core.display.Math object>"
      ]
     },
     "metadata": {},
     "output_type": "display_data"
    },
    {
     "name": "stdout",
     "output_type": "stream",
     "text": [
      "\n",
      "precise formula, which accounts all edge cases\n"
     ]
    },
    {
     "data": {
      "text/latex": [
       "$\\displaystyle TotalPrice_{precise} = AssignmentCount * PricePerAssignment_\\$ * [MinOverlap \\dots MaxOverlap] = \\lceil TaskCount / TasksOnAssignment \\rceil * (PricePerAssignment_\\$ + max(PricePerAssignment_\\$ * TolokaCommission, MinTolokaCommission_\\$) * [MinOverlap \\dots MaxOverlap] = \\lceil 160 / 16 \\rceil * (0.03\\$ + max(0.03\\$ * 0.3, 0.005\\$) * [2 \\dots 3] = 10 * 0.039 * [2 \\dots 3] = 0.78\\$ \\dots 1.17\\$.$"
      ],
      "text/plain": [
       "<IPython.core.display.Math object>"
      ]
     },
     "metadata": {},
     "output_type": "display_data"
    },
    {
     "name": "stdout",
     "output_type": "stream",
     "text": [
      "run classification of 160 objects for 0.78$ ... 1.17$? [Y/n]  Y\n"
     ]
    }
   ],
   "source": [
    "raw_results, worker_weights = client.launch(\n",
    "    task_spec_en,\n",
    "    params,\n",
    "    input_objects,\n",
    "    control_objects,\n",
    "    toloka_client,\n",
    "    interactive=True)"
   ]
  },
  {
   "cell_type": "markdown",
   "id": "8008140c-d4c9-40a4-92ec-d020a32c938f",
   "metadata": {},
   "source": [
    "<img src=\"metrics.png\"/>"
   ]
  },
  {
   "cell_type": "markdown",
   "id": "b5ae6f22",
   "metadata": {
    "pycharm": {
     "name": "#%% md\n"
    }
   },
   "source": [
    "You can refine [__task duration hint__](#Task-cost), using real workers stats on _Task duration distributon_ plot."
   ]
  },
  {
   "cell_type": "code",
   "execution_count": 42,
   "id": "24d16f53",
   "metadata": {},
   "outputs": [],
   "source": [
    "results = client.ClassificationResults(input_objects, raw_results, task_spec_en, worker_weights)"
   ]
  },
  {
   "cell_type": "markdown",
   "id": "f619ad1a",
   "metadata": {},
   "source": [
    "## Results study"
   ]
  },
  {
   "cell_type": "markdown",
   "id": "48fcd468",
   "metadata": {},
   "source": [
    "[Go to workflow](#Workflow)"
   ]
  },
  {
   "cell_type": "markdown",
   "id": "d8f2acca",
   "metadata": {},
   "source": [
    "You can study results in three ways:\n",
    "- Display ground truth (most probable option)\n",
    "- Display probabilites for all options\n",
    "- Display raw workers labeling"
   ]
  },
  {
   "cell_type": "code",
   "execution_count": 43,
   "id": "b70ff8c6",
   "metadata": {},
   "outputs": [
    {
     "data": {
      "text/html": [
       "<div>\n",
       "<style scoped>\n",
       "    .dataframe tbody tr th:only-of-type {\n",
       "        vertical-align: middle;\n",
       "    }\n",
       "\n",
       "    .dataframe tbody tr th {\n",
       "        vertical-align: top;\n",
       "    }\n",
       "\n",
       "    .dataframe thead th {\n",
       "        text-align: right;\n",
       "    }\n",
       "</style>\n",
       "<table border=\"1\" class=\"dataframe\">\n",
       "  <thead>\n",
       "    <tr style=\"text-align: right;\">\n",
       "      <th></th>\n",
       "      <th>image</th>\n",
       "      <th>result</th>\n",
       "      <th>confidence</th>\n",
       "      <th>overlap</th>\n",
       "    </tr>\n",
       "  </thead>\n",
       "  <tbody>\n",
       "    <tr>\n",
       "      <th>0</th>\n",
       "      <td>https://tlk.s3.yandex.net/dataset/cats_vs_dogs/dogs/c24f504ea1d941808d7cd0ef46b926fc.jpg</td>\n",
       "      <td>dog</td>\n",
       "      <td>0.958904</td>\n",
       "      <td>2</td>\n",
       "    </tr>\n",
       "    <tr>\n",
       "      <th>2</th>\n",
       "      <td>https://tlk.s3.yandex.net/dataset/cats_vs_dogs/cats/e86f6ba4fa32482f8f449c06453a5734.jpg</td>\n",
       "      <td>cat</td>\n",
       "      <td>0.979079</td>\n",
       "      <td>2</td>\n",
       "    </tr>\n",
       "    <tr>\n",
       "      <th>4</th>\n",
       "      <td>https://tlk.s3.yandex.net/dataset/cats_vs_dogs/cats/895a9c685100433f8b4ac4c93c0a52e4.jpg</td>\n",
       "      <td>cat</td>\n",
       "      <td>0.994152</td>\n",
       "      <td>2</td>\n",
       "    </tr>\n",
       "    <tr>\n",
       "      <th>6</th>\n",
       "      <td>https://tlk.s3.yandex.net/dataset/cats_vs_dogs/dogs/294e01038a3d4231b22d0feefe7a659e.jpg</td>\n",
       "      <td>dog</td>\n",
       "      <td>0.989011</td>\n",
       "      <td>2</td>\n",
       "    </tr>\n",
       "    <tr>\n",
       "      <th>8</th>\n",
       "      <td>https://tlk.s3.yandex.net/dataset/cats_vs_dogs/cats/98474dd23b3c40e39edbcd296378f84f.jpg</td>\n",
       "      <td>cat</td>\n",
       "      <td>0.990574</td>\n",
       "      <td>3</td>\n",
       "    </tr>\n",
       "    <tr>\n",
       "      <th>...</th>\n",
       "      <td>...</td>\n",
       "      <td>...</td>\n",
       "      <td>...</td>\n",
       "      <td>...</td>\n",
       "    </tr>\n",
       "    <tr>\n",
       "      <th>356</th>\n",
       "      <td>https://tlk.s3.yandex.net/dataset/cats_vs_dogs/dogs/21ae66a1902a4e1fb509f680d0836fc0.jpg</td>\n",
       "      <td>dog</td>\n",
       "      <td>0.982343</td>\n",
       "      <td>3</td>\n",
       "    </tr>\n",
       "    <tr>\n",
       "      <th>359</th>\n",
       "      <td>https://tlk.s3.yandex.net/dataset/cats_vs_dogs/cats/be027667a0f34c07b75c7ad28a16d379.jpeg</td>\n",
       "      <td>cat</td>\n",
       "      <td>0.989011</td>\n",
       "      <td>2</td>\n",
       "    </tr>\n",
       "    <tr>\n",
       "      <th>361</th>\n",
       "      <td>https://tlk.s3.yandex.net/dataset/cats_vs_dogs/cats/46e3619018c74c4f95d81d719b53dc89.jpg</td>\n",
       "      <td>cat</td>\n",
       "      <td>0.988814</td>\n",
       "      <td>2</td>\n",
       "    </tr>\n",
       "    <tr>\n",
       "      <th>363</th>\n",
       "      <td>https://tlk.s3.yandex.net/dataset/cats_vs_dogs/dogs/fb9fc4a4788442eb891c86cc7a609750.jpg</td>\n",
       "      <td>dog</td>\n",
       "      <td>0.989011</td>\n",
       "      <td>2</td>\n",
       "    </tr>\n",
       "    <tr>\n",
       "      <th>365</th>\n",
       "      <td>https://tlk.s3.yandex.net/dataset/cats_vs_dogs/cats/19bd0f91ded64cd88869b77b08391426.jpg</td>\n",
       "      <td>dog</td>\n",
       "      <td>0.809249</td>\n",
       "      <td>3</td>\n",
       "    </tr>\n",
       "  </tbody>\n",
       "</table>\n",
       "<p>160 rows × 4 columns</p>\n",
       "</div>"
      ],
      "text/plain": [
       "                                                                                         image  \\\n",
       "0     https://tlk.s3.yandex.net/dataset/cats_vs_dogs/dogs/c24f504ea1d941808d7cd0ef46b926fc.jpg   \n",
       "2     https://tlk.s3.yandex.net/dataset/cats_vs_dogs/cats/e86f6ba4fa32482f8f449c06453a5734.jpg   \n",
       "4     https://tlk.s3.yandex.net/dataset/cats_vs_dogs/cats/895a9c685100433f8b4ac4c93c0a52e4.jpg   \n",
       "6     https://tlk.s3.yandex.net/dataset/cats_vs_dogs/dogs/294e01038a3d4231b22d0feefe7a659e.jpg   \n",
       "8     https://tlk.s3.yandex.net/dataset/cats_vs_dogs/cats/98474dd23b3c40e39edbcd296378f84f.jpg   \n",
       "..                                                                                         ...   \n",
       "356   https://tlk.s3.yandex.net/dataset/cats_vs_dogs/dogs/21ae66a1902a4e1fb509f680d0836fc0.jpg   \n",
       "359  https://tlk.s3.yandex.net/dataset/cats_vs_dogs/cats/be027667a0f34c07b75c7ad28a16d379.jpeg   \n",
       "361   https://tlk.s3.yandex.net/dataset/cats_vs_dogs/cats/46e3619018c74c4f95d81d719b53dc89.jpg   \n",
       "363   https://tlk.s3.yandex.net/dataset/cats_vs_dogs/dogs/fb9fc4a4788442eb891c86cc7a609750.jpg   \n",
       "365   https://tlk.s3.yandex.net/dataset/cats_vs_dogs/cats/19bd0f91ded64cd88869b77b08391426.jpg   \n",
       "\n",
       "    result  confidence  overlap  \n",
       "0      dog    0.958904        2  \n",
       "2      cat    0.979079        2  \n",
       "4      cat    0.994152        2  \n",
       "6      dog    0.989011        2  \n",
       "8      cat    0.990574        3  \n",
       "..     ...         ...      ...  \n",
       "356    dog    0.982343        3  \n",
       "359    cat    0.989011        2  \n",
       "361    cat    0.988814        2  \n",
       "363    dog    0.989011        2  \n",
       "365    dog    0.809249        3  \n",
       "\n",
       "[160 rows x 4 columns]"
      ]
     },
     "execution_count": 43,
     "metadata": {},
     "output_type": "execute_result"
    }
   ],
   "source": [
    "with pd.option_context('max_colwidth', 100):\n",
    "    display(results.predict())"
   ]
  },
  {
   "cell_type": "code",
   "execution_count": 29,
   "id": "1766fe7c",
   "metadata": {},
   "outputs": [
    {
     "data": {
      "text/html": [
       "<div>\n",
       "<style scoped>\n",
       "    .dataframe tbody tr th:only-of-type {\n",
       "        vertical-align: middle;\n",
       "    }\n",
       "\n",
       "    .dataframe tbody tr th {\n",
       "        vertical-align: top;\n",
       "    }\n",
       "\n",
       "    .dataframe thead th {\n",
       "        text-align: right;\n",
       "    }\n",
       "</style>\n",
       "<table border=\"1\" class=\"dataframe\">\n",
       "  <thead>\n",
       "    <tr style=\"text-align: right;\">\n",
       "      <th></th>\n",
       "      <th>image</th>\n",
       "      <th>proba_dog</th>\n",
       "      <th>proba_cat</th>\n",
       "      <th>proba_other</th>\n",
       "      <th>overlap</th>\n",
       "    </tr>\n",
       "  </thead>\n",
       "  <tbody>\n",
       "    <tr>\n",
       "      <th>0</th>\n",
       "      <td>https://tlk.s3.yandex.net/dataset/cats_vs_dogs/dogs/c24f504ea1d941808d7cd0ef46b926fc.jpg</td>\n",
       "      <td>0.958904</td>\n",
       "      <td>0.020548</td>\n",
       "      <td>0.020548</td>\n",
       "      <td>2</td>\n",
       "    </tr>\n",
       "    <tr>\n",
       "      <th>2</th>\n",
       "      <td>https://tlk.s3.yandex.net/dataset/cats_vs_dogs/cats/e86f6ba4fa32482f8f449c06453a5734.jpg</td>\n",
       "      <td>0.010460</td>\n",
       "      <td>0.979079</td>\n",
       "      <td>0.010460</td>\n",
       "      <td>2</td>\n",
       "    </tr>\n",
       "    <tr>\n",
       "      <th>4</th>\n",
       "      <td>https://tlk.s3.yandex.net/dataset/cats_vs_dogs/cats/895a9c685100433f8b4ac4c93c0a52e4.jpg</td>\n",
       "      <td>0.002924</td>\n",
       "      <td>0.994152</td>\n",
       "      <td>0.002924</td>\n",
       "      <td>2</td>\n",
       "    </tr>\n",
       "    <tr>\n",
       "      <th>6</th>\n",
       "      <td>https://tlk.s3.yandex.net/dataset/cats_vs_dogs/dogs/294e01038a3d4231b22d0feefe7a659e.jpg</td>\n",
       "      <td>0.989011</td>\n",
       "      <td>0.005495</td>\n",
       "      <td>0.005495</td>\n",
       "      <td>2</td>\n",
       "    </tr>\n",
       "    <tr>\n",
       "      <th>8</th>\n",
       "      <td>https://tlk.s3.yandex.net/dataset/cats_vs_dogs/cats/98474dd23b3c40e39edbcd296378f84f.jpg</td>\n",
       "      <td>0.000857</td>\n",
       "      <td>0.990574</td>\n",
       "      <td>0.008569</td>\n",
       "      <td>3</td>\n",
       "    </tr>\n",
       "    <tr>\n",
       "      <th>...</th>\n",
       "      <td>...</td>\n",
       "      <td>...</td>\n",
       "      <td>...</td>\n",
       "      <td>...</td>\n",
       "      <td>...</td>\n",
       "    </tr>\n",
       "    <tr>\n",
       "      <th>356</th>\n",
       "      <td>https://tlk.s3.yandex.net/dataset/cats_vs_dogs/dogs/21ae66a1902a4e1fb509f680d0836fc0.jpg</td>\n",
       "      <td>0.982343</td>\n",
       "      <td>0.001605</td>\n",
       "      <td>0.016051</td>\n",
       "      <td>3</td>\n",
       "    </tr>\n",
       "    <tr>\n",
       "      <th>359</th>\n",
       "      <td>https://tlk.s3.yandex.net/dataset/cats_vs_dogs/cats/be027667a0f34c07b75c7ad28a16d379.jpeg</td>\n",
       "      <td>0.005495</td>\n",
       "      <td>0.989011</td>\n",
       "      <td>0.005495</td>\n",
       "      <td>2</td>\n",
       "    </tr>\n",
       "    <tr>\n",
       "      <th>361</th>\n",
       "      <td>https://tlk.s3.yandex.net/dataset/cats_vs_dogs/cats/46e3619018c74c4f95d81d719b53dc89.jpg</td>\n",
       "      <td>0.005593</td>\n",
       "      <td>0.988814</td>\n",
       "      <td>0.005593</td>\n",
       "      <td>2</td>\n",
       "    </tr>\n",
       "    <tr>\n",
       "      <th>363</th>\n",
       "      <td>https://tlk.s3.yandex.net/dataset/cats_vs_dogs/dogs/fb9fc4a4788442eb891c86cc7a609750.jpg</td>\n",
       "      <td>0.989011</td>\n",
       "      <td>0.005495</td>\n",
       "      <td>0.005495</td>\n",
       "      <td>2</td>\n",
       "    </tr>\n",
       "    <tr>\n",
       "      <th>365</th>\n",
       "      <td>https://tlk.s3.yandex.net/dataset/cats_vs_dogs/cats/19bd0f91ded64cd88869b77b08391426.jpg</td>\n",
       "      <td>0.809249</td>\n",
       "      <td>0.173410</td>\n",
       "      <td>0.017341</td>\n",
       "      <td>3</td>\n",
       "    </tr>\n",
       "  </tbody>\n",
       "</table>\n",
       "<p>160 rows × 5 columns</p>\n",
       "</div>"
      ],
      "text/plain": [
       "                                                                                         image  \\\n",
       "0     https://tlk.s3.yandex.net/dataset/cats_vs_dogs/dogs/c24f504ea1d941808d7cd0ef46b926fc.jpg   \n",
       "2     https://tlk.s3.yandex.net/dataset/cats_vs_dogs/cats/e86f6ba4fa32482f8f449c06453a5734.jpg   \n",
       "4     https://tlk.s3.yandex.net/dataset/cats_vs_dogs/cats/895a9c685100433f8b4ac4c93c0a52e4.jpg   \n",
       "6     https://tlk.s3.yandex.net/dataset/cats_vs_dogs/dogs/294e01038a3d4231b22d0feefe7a659e.jpg   \n",
       "8     https://tlk.s3.yandex.net/dataset/cats_vs_dogs/cats/98474dd23b3c40e39edbcd296378f84f.jpg   \n",
       "..                                                                                         ...   \n",
       "356   https://tlk.s3.yandex.net/dataset/cats_vs_dogs/dogs/21ae66a1902a4e1fb509f680d0836fc0.jpg   \n",
       "359  https://tlk.s3.yandex.net/dataset/cats_vs_dogs/cats/be027667a0f34c07b75c7ad28a16d379.jpeg   \n",
       "361   https://tlk.s3.yandex.net/dataset/cats_vs_dogs/cats/46e3619018c74c4f95d81d719b53dc89.jpg   \n",
       "363   https://tlk.s3.yandex.net/dataset/cats_vs_dogs/dogs/fb9fc4a4788442eb891c86cc7a609750.jpg   \n",
       "365   https://tlk.s3.yandex.net/dataset/cats_vs_dogs/cats/19bd0f91ded64cd88869b77b08391426.jpg   \n",
       "\n",
       "     proba_dog  proba_cat  proba_other  overlap  \n",
       "0     0.958904   0.020548     0.020548        2  \n",
       "2     0.010460   0.979079     0.010460        2  \n",
       "4     0.002924   0.994152     0.002924        2  \n",
       "6     0.989011   0.005495     0.005495        2  \n",
       "8     0.000857   0.990574     0.008569        3  \n",
       "..         ...        ...          ...      ...  \n",
       "356   0.982343   0.001605     0.016051        3  \n",
       "359   0.005495   0.989011     0.005495        2  \n",
       "361   0.005593   0.988814     0.005593        2  \n",
       "363   0.989011   0.005495     0.005495        2  \n",
       "365   0.809249   0.173410     0.017341        3  \n",
       "\n",
       "[160 rows x 5 columns]"
      ]
     },
     "execution_count": 44,
     "metadata": {},
     "output_type": "execute_result"
    }
   ],
   "source": [
    "with pd.option_context('max_colwidth', 100):\n",
    "    display(results.predict_proba())"
   ]
  },
  {
   "cell_type": "code",
   "execution_count": 45,
   "id": "e41eb8b3",
   "metadata": {},
   "outputs": [
    {
     "data": {
      "text/html": [
       "<div>\n",
       "<style scoped>\n",
       "    .dataframe tbody tr th:only-of-type {\n",
       "        vertical-align: middle;\n",
       "    }\n",
       "\n",
       "    .dataframe tbody tr th {\n",
       "        vertical-align: top;\n",
       "    }\n",
       "\n",
       "    .dataframe thead th {\n",
       "        text-align: right;\n",
       "    }\n",
       "</style>\n",
       "<table border=\"1\" class=\"dataframe\">\n",
       "  <thead>\n",
       "    <tr style=\"text-align: right;\">\n",
       "      <th></th>\n",
       "      <th>image</th>\n",
       "      <th>label</th>\n",
       "      <th>worker</th>\n",
       "      <th>worker_weight</th>\n",
       "    </tr>\n",
       "  </thead>\n",
       "  <tbody>\n",
       "    <tr>\n",
       "      <th>0</th>\n",
       "      <td>https://tlk.s3.yandex.net/dataset/cats_vs_dogs/dogs/c24f504ea1d941808d7cd0ef46b926fc.jpg</td>\n",
       "      <td>dog</td>\n",
       "      <td>3f9eb5e274ef61ecdea93b0296fb0aac</td>\n",
       "      <td>0.700000</td>\n",
       "    </tr>\n",
       "    <tr>\n",
       "      <th>1</th>\n",
       "      <td>https://tlk.s3.yandex.net/dataset/cats_vs_dogs/dogs/c24f504ea1d941808d7cd0ef46b926fc.jpg</td>\n",
       "      <td>dog</td>\n",
       "      <td>cac45756f2cf798c6f8116c719f771b5</td>\n",
       "      <td>0.833333</td>\n",
       "    </tr>\n",
       "    <tr>\n",
       "      <th>2</th>\n",
       "      <td>https://tlk.s3.yandex.net/dataset/cats_vs_dogs/cats/e86f6ba4fa32482f8f449c06453a5734.jpg</td>\n",
       "      <td>cat</td>\n",
       "      <td>68549afaa94b808076f918cb0aa830bb</td>\n",
       "      <td>0.722222</td>\n",
       "    </tr>\n",
       "    <tr>\n",
       "      <th>3</th>\n",
       "      <td>https://tlk.s3.yandex.net/dataset/cats_vs_dogs/cats/e86f6ba4fa32482f8f449c06453a5734.jpg</td>\n",
       "      <td>cat</td>\n",
       "      <td>415e09126f9e5de410e20d309f61f421</td>\n",
       "      <td>0.900000</td>\n",
       "    </tr>\n",
       "    <tr>\n",
       "      <th>4</th>\n",
       "      <td>https://tlk.s3.yandex.net/dataset/cats_vs_dogs/cats/895a9c685100433f8b4ac4c93c0a52e4.jpg</td>\n",
       "      <td>cat</td>\n",
       "      <td>00eef91b0daa4ef651326eb8e38f17ec</td>\n",
       "      <td>0.944444</td>\n",
       "    </tr>\n",
       "    <tr>\n",
       "      <th>...</th>\n",
       "      <td>...</td>\n",
       "      <td>...</td>\n",
       "      <td>...</td>\n",
       "      <td>...</td>\n",
       "    </tr>\n",
       "    <tr>\n",
       "      <th>363</th>\n",
       "      <td>https://tlk.s3.yandex.net/dataset/cats_vs_dogs/dogs/fb9fc4a4788442eb891c86cc7a609750.jpg</td>\n",
       "      <td>dog</td>\n",
       "      <td>6e1b118832f99b8fcfad017c4e173064</td>\n",
       "      <td>0.900000</td>\n",
       "    </tr>\n",
       "    <tr>\n",
       "      <th>364</th>\n",
       "      <td>https://tlk.s3.yandex.net/dataset/cats_vs_dogs/dogs/fb9fc4a4788442eb891c86cc7a609750.jpg</td>\n",
       "      <td>dog</td>\n",
       "      <td>05205fca4239443cec7d1da9af1deb3b</td>\n",
       "      <td>0.833333</td>\n",
       "    </tr>\n",
       "    <tr>\n",
       "      <th>365</th>\n",
       "      <td>https://tlk.s3.yandex.net/dataset/cats_vs_dogs/cats/19bd0f91ded64cd88869b77b08391426.jpg</td>\n",
       "      <td>dog</td>\n",
       "      <td>3f9eb5e274ef61ecdea93b0296fb0aac</td>\n",
       "      <td>0.700000</td>\n",
       "    </tr>\n",
       "    <tr>\n",
       "      <th>366</th>\n",
       "      <td>https://tlk.s3.yandex.net/dataset/cats_vs_dogs/cats/19bd0f91ded64cd88869b77b08391426.jpg</td>\n",
       "      <td>cat</td>\n",
       "      <td>cac45756f2cf798c6f8116c719f771b5</td>\n",
       "      <td>0.833333</td>\n",
       "    </tr>\n",
       "    <tr>\n",
       "      <th>367</th>\n",
       "      <td>https://tlk.s3.yandex.net/dataset/cats_vs_dogs/cats/19bd0f91ded64cd88869b77b08391426.jpg</td>\n",
       "      <td>dog</td>\n",
       "      <td>05205fca4239443cec7d1da9af1deb3b</td>\n",
       "      <td>0.833333</td>\n",
       "    </tr>\n",
       "  </tbody>\n",
       "</table>\n",
       "<p>368 rows × 4 columns</p>\n",
       "</div>"
      ],
      "text/plain": [
       "                                                                                        image  \\\n",
       "0    https://tlk.s3.yandex.net/dataset/cats_vs_dogs/dogs/c24f504ea1d941808d7cd0ef46b926fc.jpg   \n",
       "1    https://tlk.s3.yandex.net/dataset/cats_vs_dogs/dogs/c24f504ea1d941808d7cd0ef46b926fc.jpg   \n",
       "2    https://tlk.s3.yandex.net/dataset/cats_vs_dogs/cats/e86f6ba4fa32482f8f449c06453a5734.jpg   \n",
       "3    https://tlk.s3.yandex.net/dataset/cats_vs_dogs/cats/e86f6ba4fa32482f8f449c06453a5734.jpg   \n",
       "4    https://tlk.s3.yandex.net/dataset/cats_vs_dogs/cats/895a9c685100433f8b4ac4c93c0a52e4.jpg   \n",
       "..                                                                                        ...   \n",
       "363  https://tlk.s3.yandex.net/dataset/cats_vs_dogs/dogs/fb9fc4a4788442eb891c86cc7a609750.jpg   \n",
       "364  https://tlk.s3.yandex.net/dataset/cats_vs_dogs/dogs/fb9fc4a4788442eb891c86cc7a609750.jpg   \n",
       "365  https://tlk.s3.yandex.net/dataset/cats_vs_dogs/cats/19bd0f91ded64cd88869b77b08391426.jpg   \n",
       "366  https://tlk.s3.yandex.net/dataset/cats_vs_dogs/cats/19bd0f91ded64cd88869b77b08391426.jpg   \n",
       "367  https://tlk.s3.yandex.net/dataset/cats_vs_dogs/cats/19bd0f91ded64cd88869b77b08391426.jpg   \n",
       "\n",
       "    label                            worker  worker_weight  \n",
       "0     dog  3f9eb5e274ef61ecdea93b0296fb0aac       0.700000  \n",
       "1     dog  cac45756f2cf798c6f8116c719f771b5       0.833333  \n",
       "2     cat  68549afaa94b808076f918cb0aa830bb       0.722222  \n",
       "3     cat  415e09126f9e5de410e20d309f61f421       0.900000  \n",
       "4     cat  00eef91b0daa4ef651326eb8e38f17ec       0.944444  \n",
       "..    ...                               ...            ...  \n",
       "363   dog  6e1b118832f99b8fcfad017c4e173064       0.900000  \n",
       "364   dog  05205fca4239443cec7d1da9af1deb3b       0.833333  \n",
       "365   dog  3f9eb5e274ef61ecdea93b0296fb0aac       0.700000  \n",
       "366   cat  cac45756f2cf798c6f8116c719f771b5       0.833333  \n",
       "367   dog  05205fca4239443cec7d1da9af1deb3b       0.833333  \n",
       "\n",
       "[368 rows x 4 columns]"
      ]
     },
     "execution_count": 45,
     "metadata": {},
     "output_type": "execute_result"
    }
   ],
   "source": [
    "with pd.option_context('max_colwidth', 100):\n",
    "    display(results.worker_labels())"
   ]
  },
  {
   "cell_type": "markdown",
   "id": "135ef1f1",
   "metadata": {},
   "source": [
    "You can manage these results like a regular Pandas dataframe.\n",
    "\n",
    "I.e., get a subset of images classified as `CAT`, that required 3 answers to converge and still have low confidence. You can also preview links to see workers task UI."
   ]
  },
  {
   "cell_type": "code",
   "execution_count": 46,
   "id": "6232c0b7",
   "metadata": {},
   "outputs": [
    {
     "data": {
      "text/html": [
       "<table border=\"1\" class=\"dataframe\">\n",
       "  <thead>\n",
       "    <tr style=\"text-align: right;\">\n",
       "      <th></th>\n",
       "      <th>image</th>\n",
       "      <th>result</th>\n",
       "      <th>confidence</th>\n",
       "      <th>overlap</th>\n",
       "      <th>preview</th>\n",
       "    </tr>\n",
       "  </thead>\n",
       "  <tbody>\n",
       "    <tr>\n",
       "      <th>35</th>\n",
       "      <td>https://tlk.s3.yandex.net/dataset/cats_vs_dogs/cats/6829c8f56f0d487bbe2f5e895daabe1e.jpg</td>\n",
       "      <td>cat</td>\n",
       "      <td>0.548387</td>\n",
       "      <td>3</td>\n",
       "      <td><a href=\"https://tb.yandex.net/editor?config=N4Igxg9gdgZglgcxALgAQmAHRANzgUwHds0sQ4AXfAWwGcTUBtMgVwCcAbBsgBwEMKACwbY41PgnzYANKmwUAnjyko5IACYC+AOjhQeLCtgC+s+UpVpseIrvGSTsspop9u2fkJHhBEOGBUzDXwYPhYOI1VeAWFVbDBff0C1RWVvFx09A0jTFIt0rV0oKjYoPi4QXOwIHgo4aHpVZmtylks1dQgEGTUOPgAjfAqrDS7HVDIcVvb4gR7sPsHhtTA5yqcWjjbvCCF8NnmQRaGdvYPKgF0g9ThaAY58dQYKNjag1JmQeCH1bTY+G4QAC0CDYEBYPBMVzyaTiuAIhG0HFuOSCPC2CD0jTQzSOfAU4MipGwAGs9E84bQwGCOBV3nxaCSAOpwdReVQAdgADFztFyqiAoLs4PBVnUGgxcZBivhit4AEIhCBsfCoZRsGDK6h6BCoPioVyM2TiEmq2jsVVCAR62moaiPOD6oY0WUUWioQR8HCqjgQAGPbSHD7eGyIqgAD1RE3i0CocrhAEkYHqKKgHgzU9BVfabk6HvbiqhbnbbrQdbIVb6AQbBKr+JJAyB3vk4aHtBGctDzLCRuiWJioO2IL6SW5LsYm+gsoZVBhRPZPoIKBQeLRkAB6dcUDgk7S0ADM2gUfCg6nw4e0UHwFHXGVo1-XYtoAH0cC-OghaI+BF+AGwADgAJgATjAf8YAAVl-GAuXUAAWf8OX6QZAMg-B-2AiDNAGfAAEZ8G0AArHhukneJEgCbwxUOVlvATBcAAp2A4ABeAByJcVzXTdt13A8jxPM8LyvG87wfJ9X3fLovyfdcAJAsDIOg2CEKQlC0IwrC+Bw-CiJItiAEpUAAHgAQSgMRym0ABhUyABU0DYsU2IAPhMSogA\" target=\"_blank\" rel=\"noopener noreferrer\">task preview</a></td>\n",
       "    </tr>\n",
       "    <tr>\n",
       "      <th>80</th>\n",
       "      <td>https://tlk.s3.yandex.net/dataset/cats_vs_dogs/cats/8165ee24dad34a699a4ee1316ba0279c.jpeg</td>\n",
       "      <td>cat</td>\n",
       "      <td>0.415385</td>\n",
       "      <td>3</td>\n",
       "      <td><a href=\"https://tb.yandex.net/editor?config=N4Igxg9gdgZglgcxALgAQmAHRANzgUwHds0sQ4AXfAWwGcTUBtMgVwCcAbBsgBwEMKACwbY41PgnzYANKmwUAnjyko5IACYC+AOjhQeLCtgC+s+UpVpseIrvGSTsspop9u2fkJHhBEOGBUzDXwYPhYOI1VeAWFVbDBff0C1RWVvFx09A0jTFIt0rV0oKjYoPi4QXOwIHgo4aHpVZmtylks1dQgEGTUOPgAjfAqrDS7HVDIcVvb4gR7sPsHhtTA5yqcWjjbvCCF8NnmQRaGdvYPKgF0g9ThaAY58dQYKNjag1JmQeCH1bTY+G4QAC0CDYEBYPBMVzyaTiuAIhG0HFuOSCPC2CD0jTQzSOfAU4MipGwAGs9E84bQwGCOBV3nxaCSAOpwdReVQAdgADFztFyqiAoLs4PBVnUGgxcZBivhit4AEIhCBsfCoZRsGDK6h6BCoPioVyM2TiEmq2jsVVCAR62moaiPOD6oY0WUUWioQR8HCqjgQAGPbSHD7eGyIqgAD1RE3i0CocrhAEkYHqKKgHgzU9BVfabk6HvbiqhbnbbrQdbIVb6AQbBKr+JJAyB3vk4aHtBGctDzLCRuiWJioO2IL6SW5LsYm+gsoZVBhRPZPoIKBQeLRkAB6dcUDgk7S0ADM2gUfCg6nw4e0UHwFHXGVo1-XYtoAH0cC-OghaI+BF+ABwARgANgAVnwfAACYABZNHUfdIL4QCAE5EL4SCwP-fcgP6PguXAjlELAbQACtlG6Sd4kSAJvDFQ5WW8BMFwACnYDgAF4AHIlxXNdN23XcDyPE8zwvK8bzvB8n1fd8ui-J91wAkCwKgmC4IQ5DUPQzDAOw3D8MIkj8AQdiAEpUAAHgAQSgMRym0ABhCyABU0HYsV2IAPhMSogA\" target=\"_blank\" rel=\"noopener noreferrer\">task preview</a></td>\n",
       "    </tr>\n",
       "    <tr>\n",
       "      <th>225</th>\n",
       "      <td>https://tlk.s3.yandex.net/dataset/cats_vs_dogs/cats/9d7ad42796624381964fed3a0a4605fd.jpg</td>\n",
       "      <td>cat</td>\n",
       "      <td>0.694945</td>\n",
       "      <td>3</td>\n",
       "      <td><a href=\"https://tb.yandex.net/editor?config=N4Igxg9gdgZglgcxALgAQmAHRANzgUwHds0sQ4AXfAWwGcTUBtMgVwCcAbBsgBwEMKACwbY41PgnzYANKmwUAnjyko5IACYC+AOjhQeLCtgC+s+UpVpseIrvGSTsspop9u2fkJHhBEOGBUzDXwYPhYOI1VeAWFVbDBff0C1RWVvFx09A0jTFIt0rV0oKjYoPi4QXOwIHgo4aHpVZmtylks1dQgEGTUOPgAjfAqrDS7HVDIcVvb4gR7sPsHhtTA5yqcWjjbvCCF8NnmQRaGdvYPKgF0g9ThaAY58dQYKNjag1JmQeCH1bTY+G4QAC0CDYEBYPBMVzyaTiuAIhG0HFuOSCPC2CD0jTQzSOfAU4MipGwAGs9E84bQwGCOBV3nxaCSAOpwdReVQAdgADFztFyqiAoLs4PBVnUGgxcZBivhit4AEIhCBsfCoZRsGDK6h6BCoPioVyM2TiEmq2jsVVCAR62moaiPOD6oY0WUUWioQR8HCqjgQAGPbSHD7eGyIqgAD1RE3i0CocrhAEkYHqKKgHgzU9BVfabk6HvbiqhbnbbrQdbIVb6AQbBKr+JJAyB3vk4aHtBGctDzLCRuiWJioO2IL6SW5LsYm+gsoZVBhRPZPoIKBQeLRkAB6dcUDgk7S0ADM2gUfCg6nw4e0UHwFHXGVo1-XYtoAH0cC-OghaI+BF+AJzqDkAQAFgAJg5X8ADYIJAoD9wADgARkgoCYEefc+C5PggIgrkAFYYF+AArHhukneJEgCbwxUOVlvATBcAAp2A4ABeAByJcVzXTdt13A8jxPM8LyvG87wfJ9X3fLovyfdd-0A9RQPAqCYPgpCIJQtCMKwnD8KIki2IASlQAAeABBKAxHKbQAGEzIAFTQNixTYgA+ExKiAA\" target=\"_blank\" rel=\"noopener noreferrer\">task preview</a></td>\n",
       "    </tr>\n",
       "    <tr>\n",
       "      <th>319</th>\n",
       "      <td>https://tlk.s3.yandex.net/dataset/cats_vs_dogs/cats/2b14433003da4e76bb769f1cbcbc0769.jpg</td>\n",
       "      <td>cat</td>\n",
       "      <td>0.694945</td>\n",
       "      <td>3</td>\n",
       "      <td><a href=\"https://tb.yandex.net/editor?config=N4Igxg9gdgZglgcxALgAQmAHRANzgUwHds0sQ4AXfAWwGcTUBtMgVwCcAbBsgBwEMKACwbY41PgnzYANKmwUAnjyko5IACYC+AOjhQeLCtgC+s+UpVpseIrvGSTsspop9u2fkJHhBEOGBUzDXwYPhYOI1VeAWFVbDBff0C1RWVvFx09A0jTFIt0rV0oKjYoPi4QXOwIHgo4aHpVZmtylks1dQgEGTUOPgAjfAqrDS7HVDIcVvb4gR7sPsHhtTA5yqcWjjbvCCF8NnmQRaGdvYPKgF0g9ThaAY58dQYKNjag1JmQeCH1bTY+G4QAC0CDYEBYPBMVzyaTiuAIhG0HFuOSCPC2CD0jTQzSOfAU4MipGwAGs9E84bQwGCOBV3nxaCSAOpwdReVQAdgADFztFyqiAoLs4PBVnUGgxcZBivhit4AEIhCBsfCoZRsGDK6h6BCoPioVyM2TiEmq2jsVVCAR62moaiPOD6oY0WUUWioQR8HCqjgQAGPbSHD7eGyIqgAD1RE3i0CocrhAEkYHqKKgHgzU9BVfabk6HvbiqhbnbbrQdbIVb6AQbBKr+JJAyB3vk4aHtBGctDzLCRuiWJioO2IL6SW5LsYm+gsoZVBhRPZPoIKBQeLRkAB6dcUDgk7S0ADM2gUfCg6nw4e0UHwFHXGVo1-XYtoAH0cC-OghaI+BF+AEz9ABGAAWID933Hl900ID8A5AA2fp+jggBOGAALAfp0LALlkO0AArHhukneJEgCbwxUOVlvATBcAAp2A4ABeAByJcVzXTdt13A8jxPM8LyvG87wfJ9X3fLovyfdd-2A0DwK5SC+GguCEOQ1DMIw7DYKQvCCKYgBKVAAB4AEEoDEcptAAYWMgAVNAmLFJiAD4TEqIA\" target=\"_blank\" rel=\"noopener noreferrer\">task preview</a></td>\n",
       "    </tr>\n",
       "  </tbody>\n",
       "</table>"
      ],
      "text/plain": [
       "<IPython.core.display.HTML object>"
      ]
     },
     "execution_count": 46,
     "metadata": {},
     "output_type": "execute_result"
    }
   ],
   "source": [
    "df = results.predict()\n",
    "\n",
    "condition = (df[results.RESULT_FIELD] == 'cat') & (df[results.OVERLAP_FIELD] == 3) & (df[results.CONFIDENCE_FIELD] < 0.7)\n",
    "\n",
    "with pd.option_context('max_colwidth', 100):\n",
    "    display(results.html_with_task_previews(df[condition]))"
   ]
  },
  {
   "cell_type": "markdown",
   "id": "4a4e5ccf-6183-4bac-ab9c-d245d6c13794",
   "metadata": {},
   "source": [
    "\n",
    "If you want to evaluate the final quality of the data labeling that Crowdom provides you with, run [quality verification](#Labeling-quality-verification) with help of your _domain_ experts."
   ]
  },
  {
   "cell_type": "markdown",
   "id": "7d72950f",
   "metadata": {
    "tags": []
   },
   "source": [
    "# Labeling quality verification"
   ]
  },
  {
   "cell_type": "markdown",
   "id": "f5d53f11",
   "metadata": {},
   "source": [
    "[Go to workflow](#Workflow)"
   ]
  },
  {
   "cell_type": "markdown",
   "id": "c811f4b4",
   "metadata": {
    "pycharm": {
     "name": "#%% md\n"
    }
   },
   "source": [
    "You can run verification on random sample of labeled objects:"
   ]
  },
  {
   "cell_type": "code",
   "execution_count": null,
   "id": "0cc7e1a7",
   "metadata": {},
   "outputs": [],
   "source": [
    "import random"
   ]
  },
  {
   "cell_type": "code",
   "execution_count": 115,
   "id": "530d5a27",
   "metadata": {},
   "outputs": [],
   "source": [
    "sample_size = min(20, int(0.1 * len(input_objects)))\n",
    "\n",
    "control_objects = random.sample(client.select_control_tasks(input_objects, raw_results, min_confidence=.0), sample_size)"
   ]
  },
  {
   "cell_type": "markdown",
   "id": "52e9c03c",
   "metadata": {},
   "source": [
    "Quality verification closely resembles [task verification](#Task-verification-and-feedback) with reference labeling. Revisit this section, substituting `experts.ExpertCase.TASK_VERIFICATION` by `experts.ExpertCase.LABELING_QUALITY_VERIFICATION`, and collect the results and evaluate accuracy of them:"
   ]
  },
  {
   "cell_type": "code",
   "execution_count": 45,
   "id": "fe1f62c3",
   "metadata": {},
   "outputs": [
    {
     "data": {
      "text/plain": [
       "1.0"
      ]
     },
     "execution_count": 45,
     "metadata": {},
     "output_type": "execute_result"
    }
   ],
   "source": [
    "test_results.get_accuracy()"
   ]
  },
  {
   "cell_type": "markdown",
   "id": "0946a88a",
   "metadata": {},
   "source": [
    "# What's next?"
   ]
  },
  {
   "cell_type": "markdown",
   "id": "b7bffc23",
   "metadata": {},
   "source": [
    "[Go to workflow](#Workflow)"
   ]
  },
  {
   "cell_type": "markdown",
   "id": "ac4f9be9",
   "metadata": {},
   "source": [
    "You can perform further data labeling launches.\n",
    "\n",
    "Unless you want to update your [_Task definition_](#Labeling-task-definition) or [_Efficiency parameters_](#Labeling-efficiency-optimization), you don't need to re-run corresponding cells.\n",
    "\n",
    "Just prepare new file in [_Importing source data_](#Importing-source-data) section and run [_Labeling_](#Labeling-of-your-data)."
   ]
  },
  {
   "cell_type": "markdown",
   "id": "f73168bb",
   "metadata": {},
   "source": [
    "## Updating control tasks\n",
    "\n",
    "In regular labeling processes control tasks should in turn be regularly updated.\n",
    "\n",
    "_А convenient way to select control tasks from workers' data labeling, as well as support for generating control tasks through data augmentation, will appear in future versions of Crowdom_.\n",
    "\n",
    "For now, you can select new control tasks from data labeling with highest confidence and target overlap:"
   ]
  },
  {
   "cell_type": "code",
   "execution_count": 69,
   "id": "65209f93",
   "metadata": {
    "pycharm": {
     "name": "#%%\n"
    }
   },
   "outputs": [],
   "source": [
    "control_tasks = client.select_control_tasks(input_objects, raw_results, min_confidence=.95)"
   ]
  },
  {
   "cell_type": "markdown",
   "id": "c16f6d17-adc9-4290-846d-0a366e9ec463",
   "metadata": {},
   "source": [
    "These selected tasks reflect the opinion of the crowd, it is advisable to verify these tasks with help of experts. Control tasks verification closely resembles [quality verification](#Labeling-quality-verification) – run verification and select tasks marked as OK from feedback dataframe.\n"
   ]
  }
 ],
 "metadata": {
  "kernelspec": {
   "display_name": "Python 3 (ipykernel)",
   "language": "python",
   "name": "python3"
  },
  "language_info": {
   "codemirror_mode": {
    "name": "ipython",
    "version": 3
   },
   "file_extension": ".py",
   "mimetype": "text/x-python",
   "name": "python",
   "nbconvert_exporter": "python",
   "pygments_lexer": "ipython3",
   "version": "3.9.6"
  },
  "widgets": {
   "application/vnd.jupyter.widget-state+json": {
    "state": {},
    "version_major": 2,
    "version_minor": 0
   }
  }
 },
 "nbformat": 4,
 "nbformat_minor": 5
}
