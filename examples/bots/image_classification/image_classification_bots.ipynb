{
 "cells": [
  {
   "cell_type": "code",
   "execution_count": 1,
   "id": "9fa570a6",
   "metadata": {},
   "outputs": [
    {
     "name": "stdout",
     "output_type": "stream",
     "text": [
      "Note: you may need to restart the kernel to use updated packages.\n"
     ]
    }
   ],
   "source": [
    "%pip install -q ./arc/arcadia/dataforge/"
   ]
  },
  {
   "cell_type": "code",
   "execution_count": 3,
   "id": "aa759dcc",
   "metadata": {},
   "outputs": [],
   "source": [
    "from crowdom import bots\n",
    "\n",
    "import yaml\n",
    "import logging.config\n",
    "from typing import Dict"
   ]
  },
  {
   "cell_type": "code",
   "execution_count": null,
   "outputs": [],
   "source": [
    "with open('logging.yaml') as f:\n",
    "    logging.config.dictConfig(yaml.full_load(f.read()))"
   ],
   "metadata": {
    "collapsed": false,
    "pycharm": {
     "name": "#%%\n"
    }
   }
  },
  {
   "cell_type": "code",
   "execution_count": null,
   "outputs": [],
   "source": [
    "register = bots.NDARegisterClient()"
   ],
   "metadata": {
    "collapsed": false,
    "pycharm": {
     "name": "#%%\n"
    }
   }
  },
  {
   "cell_type": "code",
   "execution_count": 4,
   "id": "c33622c2",
   "metadata": {},
   "outputs": [],
   "source": [
    "admin = register.create_admin()\n",
    "admin_client = bots.NDATolokaClient(admin['oauth'])"
   ]
  },
  {
   "cell_type": "code",
   "execution_count": 5,
   "id": "2a350a64",
   "metadata": {},
   "outputs": [],
   "source": [
    "requester = register.create_user(user_type='requester')\n",
    "requester_client = bots.NDATolokaClient(requester['oauth'])"
   ]
  },
  {
   "cell_type": "code",
   "execution_count": 6,
   "id": "d002c6e1",
   "metadata": {},
   "outputs": [
    {
     "data": {
      "text/plain": [
       "{'success': True}"
      ]
     },
     "execution_count": 6,
     "metadata": {},
     "output_type": "execute_result"
    }
   ],
   "source": [
    "admin_client.change_credit(requester['id'], 100)"
   ]
  },
  {
   "cell_type": "code",
   "execution_count": 7,
   "id": "69ebbc90",
   "metadata": {},
   "outputs": [
    {
     "name": "stderr",
     "output_type": "stream",
     "text": [
      "None of PyTorch, TensorFlow >= 2.0, or Flax have been found. Models won't be available and only tokenizers, configuration and file/data utilities can be used.\n"
     ]
    }
   ],
   "source": [
    "from datetime import timedelta\n",
    "\n",
    "from crowdom import base, client, datasource, objects"
   ]
  },
  {
   "cell_type": "code",
   "execution_count": 9,
   "id": "1f31bb8f",
   "metadata": {},
   "outputs": [],
   "source": [
    "class Animal(base.Class):\n",
    "    DOG = 'dog'\n",
    "    CAT = 'cat'\n",
    "    OTHER = 'other'\n",
    "\n",
    "    @classmethod\n",
    "    def labels(cls) -> Dict['Animal', Dict[str, str]]:\n",
    "        return {\n",
    "            cls.DOG: {'EN': 'dog', 'RU': 'собака'},\n",
    "            cls.CAT: {'EN': 'cat', 'RU': 'кошка'},\n",
    "            cls.OTHER: {'EN': 'other', 'RU': 'другое'}}"
   ]
  },
  {
   "cell_type": "code",
   "execution_count": 10,
   "id": "8ae21d1a",
   "metadata": {},
   "outputs": [],
   "source": [
    "function = base.ClassificationFunction(inputs=(objects.Image,), cls=Animal)"
   ]
  },
  {
   "cell_type": "code",
   "execution_count": 11,
   "id": "9e51b80c",
   "metadata": {},
   "outputs": [],
   "source": [
    "task_duration_hint = timedelta(seconds=10)"
   ]
  },
  {
   "cell_type": "code",
   "execution_count": 12,
   "id": "0c554ee2",
   "metadata": {},
   "outputs": [],
   "source": [
    "task_spec_p = client.PreparedTaskSpec(\n",
    "    task_spec=base.TaskSpec(\n",
    "        id='id',\n",
    "        function=function,\n",
    "        name=base.EMPTY_STRING,\n",
    "        description=None,\n",
    "        instruction=None),\n",
    "    lang=None)"
   ]
  },
  {
   "cell_type": "code",
   "execution_count": 15,
   "id": "3658fd86",
   "metadata": {},
   "outputs": [],
   "source": [
    "solved_tasks = datasource.read_tasks('bots_tasks.json', task_spec_p.task_mapping, has_solutions=True)"
   ]
  },
  {
   "cell_type": "code",
   "execution_count": 16,
   "id": "39ed8c9e",
   "metadata": {},
   "outputs": [],
   "source": [
    "worker_types = [\n",
    "    (bots.WorkerConfig(bots.WorkerSpeed.SLOW, 0.9, Animal), 4),\n",
    "    (bots.WorkerConfig(bots.WorkerSpeed.SLOW, 0.75, Animal), 2),\n",
    "    (bots.WorkerConfig(bots.WorkerSpeed.MEDIUM, 0.85, Animal), 6),\n",
    "    (bots.WorkerConfig(bots.WorkerSpeed.MEDIUM, 0.7, Animal), 8),\n",
    "    (bots.WorkerConfig(bots.WorkerSpeed.FAST, 0.85, Animal), 4),\n",
    "    (bots.WorkerConfig(bots.WorkerSpeed.FAST, 0.6, Animal), 6),\n",
    "    (bots.WorkerConfig(bots.WorkerSpeed.POOR, 0.4, Animal), 10),\n",
    "    (bots.WorkerConfig(bots.WorkerSpeed.RAND, 0.2, Animal), 5)]"
   ]
  },
  {
   "cell_type": "code",
   "execution_count": 18,
   "id": "7bf32e56",
   "metadata": {},
   "outputs": [],
   "source": [
    "solutions = bots.create_tasks_info_dict(task_spec_p.task_mapping, solved_tasks)"
   ]
  },
  {
   "cell_type": "code",
   "execution_count": 19,
   "id": "91cdca2b",
   "metadata": {},
   "outputs": [],
   "source": [
    "pool_id = ..."
   ]
  },
  {
   "cell_type": "code",
   "execution_count": 21,
   "id": "c587d158",
   "metadata": {
    "scrolled": true
   },
   "outputs": [],
   "source": [
    "wg = bots.WorkerGroup(\n",
    "    pool_id,\n",
    "    task_spec_p.task_mapping,\n",
    "    task_duration_hint,\n",
    "    worker_types,\n",
    "    solutions)"
   ]
  },
  {
   "cell_type": "code",
   "execution_count": 22,
   "id": "b4e49f81",
   "metadata": {},
   "outputs": [],
   "source": [
    "wg.start()"
   ]
  },
  {
   "cell_type": "code",
   "execution_count": 23,
   "id": "812d8107",
   "metadata": {
    "scrolled": true
   },
   "outputs": [],
   "source": [
    "# after loop finishes:"
   ]
  },
  {
   "cell_type": "code",
   "execution_count": 24,
   "id": "6393a692",
   "metadata": {
    "scrolled": true
   },
   "outputs": [],
   "source": [
    "wg.stop()\n"
   ]
  }
 ],
 "metadata": {
  "kernelspec": {
   "display_name": "Python 3 (ipykernel)",
   "language": "python",
   "name": "python3"
  },
  "language_info": {
   "codemirror_mode": {
    "name": "ipython",
    "version": 3
   },
   "file_extension": ".py",
   "mimetype": "text/x-python",
   "name": "python",
   "nbconvert_exporter": "python",
   "pygments_lexer": "ipython3",
   "version": "3.9.5"
  }
 },
 "nbformat": 4,
 "nbformat_minor": 5
}
