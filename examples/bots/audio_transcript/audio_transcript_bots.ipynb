{
 "cells": [
  {
   "cell_type": "code",
   "execution_count": 1,
   "id": "80bcdd62",
   "metadata": {},
   "outputs": [
    {
     "name": "stdout",
     "output_type": "stream",
     "text": [
      "Note: you may need to restart the kernel to use updated packages.\n"
     ]
    }
   ],
   "source": [
    "%pip install -q ./arc/arcadia/dataforge/"
   ]
  },
  {
   "cell_type": "code",
   "execution_count": null,
   "id": "86f58a3f",
   "metadata": {},
   "outputs": [],
   "source": [
    "from crowdom import bots\n",
    "\n",
    "import yaml\n",
    "import logging.config"
   ]
  },
  {
   "cell_type": "code",
   "execution_count": 3,
   "id": "c8c91d0d",
   "metadata": {},
   "outputs": [],
   "source": [
    "with open('logging.yaml') as f:\n",
    "    logging.config.dictConfig(yaml.full_load(f.read()))"
   ]
  },
  {
   "cell_type": "code",
   "execution_count": 4,
   "id": "1fee87a7",
   "metadata": {},
   "outputs": [],
   "source": [
    "register = bots.NDARegisterClient()"
   ]
  },
  {
   "cell_type": "code",
   "execution_count": 8,
   "id": "25fa597a",
   "metadata": {},
   "outputs": [],
   "source": [
    "from datetime import timedelta\n",
    "\n",
    "from crowdom import base, client, datasource, objects"
   ]
  },
  {
   "cell_type": "code",
   "execution_count": 10,
   "id": "2b16f9a7",
   "metadata": {},
   "outputs": [],
   "source": [
    "annotation_function = base.AnnotationFunction(\n",
    "    inputs=(objects.Audio,),\n",
    "    outputs=(objects.Text,)\n",
    ")"
   ]
  },
  {
   "cell_type": "code",
   "execution_count": 11,
   "id": "cdf19d9e",
   "metadata": {},
   "outputs": [],
   "source": [
    "instruction = {\n",
    "    'RU': 'Запишите звучащие на аудио слова, без знаков препинания и заглавных букв.',\n",
    "    'EN': 'Transcribe the audio, without any punctuation or capitalization.'}"
   ]
  },
  {
   "cell_type": "code",
   "execution_count": 12,
   "id": "4ffcbbde",
   "metadata": {},
   "outputs": [],
   "source": [
    "task_spec = base.TaskSpec(\n",
    "    id='audio-transcription',\n",
    "    function=annotation_function,\n",
    "    name={'EN': 'Audio transcription', 'RU': 'Расшифровка аудио'},\n",
    "    description={'EN': 'Transcribe short audios', 'RU': 'Расшифровка коротких аудио'},\n",
    "    instruction=instruction)"
   ]
  },
  {
   "cell_type": "code",
   "execution_count": 13,
   "id": "d5c024e2",
   "metadata": {},
   "outputs": [],
   "source": [
    "lang = 'EN'"
   ]
  },
  {
   "cell_type": "code",
   "execution_count": 14,
   "id": "a68af84e",
   "metadata": {},
   "outputs": [],
   "source": [
    "task_spec_en = client.AnnotationTaskSpec(task_spec, lang)"
   ]
  },
  {
   "cell_type": "code",
   "execution_count": 17,
   "id": "0633a5f9",
   "metadata": {},
   "outputs": [],
   "source": [
    "solved_tasks = datasource.read_tasks(\n",
    "    'bots_tasks.json',\n",
    "    task_spec_en.task_mapping,\n",
    "    has_solutions=True,\n",
    ")"
   ]
  },
  {
   "cell_type": "code",
   "execution_count": 18,
   "id": "6a8ecfc8",
   "metadata": {},
   "outputs": [],
   "source": [
    "# audios are 3-10 seconds each, and workers need time to transcribe them\n",
    "task_duration_hint = timedelta(seconds=10)"
   ]
  },
  {
   "cell_type": "markdown",
   "id": "23a677e7",
   "metadata": {},
   "source": [
    "# Annotation"
   ]
  },
  {
   "cell_type": "code",
   "execution_count": 19,
   "id": "061ddba3",
   "metadata": {},
   "outputs": [],
   "source": [
    "# todo - пока контрольные задания только из ответа OK для ботов могут быть логичные"
   ]
  },
  {
   "cell_type": "code",
   "execution_count": 21,
   "id": "af068706",
   "metadata": {},
   "outputs": [],
   "source": [
    "from random import shuffle"
   ]
  },
  {
   "cell_type": "code",
   "execution_count": 22,
   "id": "bd323b65",
   "metadata": {},
   "outputs": [],
   "source": [
    "shuffle(solved_tasks)"
   ]
  },
  {
   "cell_type": "code",
   "execution_count": 23,
   "id": "9fa75f68",
   "metadata": {},
   "outputs": [],
   "source": [
    "solutions = bots.create_tasks_info_dict(\n",
    "    task_spec_en,\n",
    "    solved_tasks,\n",
    "    {\n",
    "        bots.TaskComplexity.EASY: 624,\n",
    "        bots.TaskComplexity.OK: 120,\n",
    "        bots.TaskComplexity.HARD: 80,\n",
    "    }\n",
    ")"
   ]
  },
  {
   "cell_type": "code",
   "execution_count": 26,
   "id": "a527993b",
   "metadata": {},
   "outputs": [],
   "source": [
    "markup_pool_id = ...\n",
    "check_pool_id = ..."
   ]
  },
  {
   "cell_type": "code",
   "execution_count": 27,
   "id": "6ad735e0",
   "metadata": {},
   "outputs": [],
   "source": [
    "worker_types = [\n",
    "    (bots.AnnotationWorkerConfig(bots.WorkerSpeed.MEDIUM, 0.85), 2),\n",
    "    (bots.AnnotationWorkerConfig(bots.WorkerSpeed.SLOW, 0.9), 2),\n",
    "    (bots.AnnotationWorkerConfig(bots.WorkerSpeed.FAST, 0.7), 4),\n",
    "    (bots.AnnotationWorkerConfig(bots.WorkerSpeed.FAST, 0.5), 4),\n",
    "]"
   ]
  },
  {
   "cell_type": "code",
   "execution_count": 28,
   "id": "e3a6392f",
   "metadata": {},
   "outputs": [],
   "source": [
    "check_worker_types = [\n",
    "    (bots.AnnotationCheckWorkerConfig(bots.WorkerSpeed.SLOW, 0.85), 2),\n",
    "    (bots.AnnotationCheckWorkerConfig(bots.WorkerSpeed.MEDIUM, 0.9), 2),\n",
    "    (bots.AnnotationCheckWorkerConfig(bots.WorkerSpeed.FAST, 0.7), 4),\n",
    "    (bots.AnnotationCheckWorkerConfig(bots.WorkerSpeed.FAST, 0.5), 4),\n",
    "]"
   ]
  },
  {
   "cell_type": "code",
   "execution_count": null,
   "id": "2385f32f",
   "metadata": {},
   "outputs": [],
   "source": [
    "wg_markup = bots.WorkerGroup(\n",
    "    markup_pool_id,\n",
    "    task_spec_en,\n",
    "    task_duration_hint,\n",
    "    worker_types,\n",
    "    solutions)"
   ]
  },
  {
   "cell_type": "code",
   "execution_count": null,
   "id": "1a248778",
   "metadata": {},
   "outputs": [],
   "source": [
    "wg_check = bots.WorkerGroup(\n",
    "    check_pool_id,\n",
    "    task_spec_en.check,\n",
    "    task_duration_hint,\n",
    "    check_worker_types,\n",
    "    solutions)"
   ]
  },
  {
   "cell_type": "code",
   "execution_count": null,
   "id": "950330f3",
   "metadata": {},
   "outputs": [],
   "source": [
    "for wg in [wg_markup, wg_check]:\n",
    "    wg.start()"
   ]
  },
  {
   "cell_type": "code",
   "execution_count": null,
   "id": "a1183a1d",
   "metadata": {},
   "outputs": [],
   "source": [
    "# after launch_annotation finishes:"
   ]
  },
  {
   "cell_type": "code",
   "execution_count": 35,
   "id": "133942ac",
   "metadata": {
    "pycharm": {
     "name": "#%%\n"
    }
   },
   "outputs": [],
   "source": [
    "for wg in [wg_markup, wg_check]:\n",
    "    wg.stop()\n"
   ]
  }
 ],
 "metadata": {
  "kernelspec": {
   "display_name": "Python 3 (ipykernel)",
   "language": "python",
   "name": "python3"
  },
  "language_info": {
   "codemirror_mode": {
    "name": "ipython",
    "version": 3
   },
   "file_extension": ".py",
   "mimetype": "text/x-python",
   "name": "python",
   "nbconvert_exporter": "python",
   "pygments_lexer": "ipython3",
   "version": "3.9.5"
  }
 },
 "nbformat": 4,
 "nbformat_minor": 5
}
