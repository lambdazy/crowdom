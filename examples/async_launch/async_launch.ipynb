{
 "cells": [
  {
   "cell_type": "markdown",
   "id": "96b8bd07-58d0-4453-8148-89eb69e251cc",
   "metadata": {},
   "source": [
    "# Asynchronous launches\n",
    "\n",
    "Sometimes you may want to launch data labeling without blocking your interpreter – i.e. to continue doing some calculations and periodically checking labeling progress.\n",
    "\n",
    "In this notebook, we consider asynchronous launch to implement multiple simultaneous data labeling processes. In general, it is sufficient to launch single data labeling process, but you may have some split of your data such that workers should see only objects from one split in their assignments. In code, we call such splits as _baskets_.\n",
    "\n",
    "Parallel launches are implemented with Python's `multiprocessing` and `threading` modules. Interpreter spends most time on waiting for workers labeling by calling Toloka API methods, so it is mostly I/O bound task.\n",
    "\n",
    "The code in this notebook overrides how the labeling is run, making separate `launch()` calls in individual threads. Also, since labeling process is not interactive (no prompts, metrics plotting and etc.), we just save labeling to files with basket names as a labeling results handling. You can handle results in your own way.\n",
    "\n",
    "You can stop labeling process by interrupting the kernel as in usual synchronous launch, but please note that in asynchronous case it will take more time (up to several minutes) to handle interrupt since threads are needed to properly handle interrupt event to make graceful shutdown. Please do not repeat kernel interrupt while interpreter already handles previous one.\n",
    "\n",
    "It is expected that you have already specified source data, labeling params and other variables necessary for labeling launch."
   ]
  },
  {
   "cell_type": "code",
   "execution_count": null,
   "id": "ae7f999b-5e69-42c6-a1e9-4d37b790caee",
   "metadata": {},
   "outputs": [],
   "source": [
    "from multiprocessing.pool import ThreadPool\n",
    "from threading import Event"
   ]
  },
  {
   "cell_type": "code",
   "execution_count": null,
   "id": "aca101b7-b71e-4cdb-aaf1-fa665a606666",
   "metadata": {},
   "outputs": [],
   "source": [
    "def label_basket(basket_and_interrupted):\n",
    "    basket_name, basket_input_objects, interrupted = basket_and_interrupted\n",
    "    raw_results, worker_weights = client.launch(\n",
    "        task_spec_en,\n",
    "        params,\n",
    "        basket_input_objects,\n",
    "        control_objects,\n",
    "        toloka_client,\n",
    "        interactive=False,\n",
    "        interrupted=interrupted,\n",
    "    )\n",
    "    results = client.ClassificationResults(basket_input_objects, raw_results, task_spec_en, worker_weights)\n",
    "    results.predict().to_json(f'{basket_name}_results.json', orient='records')"
   ]
  },
  {
   "cell_type": "code",
   "execution_count": null,
   "id": "9919ae9d-fcef-4cf6-8ecb-f3baf997e699",
   "metadata": {},
   "outputs": [],
   "source": [
    "def launch_in_parallel(baskets):\n",
    "    interrupted = Event()\n",
    "    baskets_and_interrupted = [(name, objects, interrupted) for name, objects in baskets]\n",
    "    tpool = ThreadPool(processes=len(baskets))\n",
    "    try:\n",
    "        tpool.map(label_basket, baskets_and_interrupted)\n",
    "    except KeyboardInterrupt:\n",
    "        interrupted.set()\n",
    "        tpool.close()\n",
    "        tpool.join()"
   ]
  },
  {
   "cell_type": "code",
   "execution_count": null,
   "id": "e690138b-ee14-4fc0-9a56-cddc6c0e24ce",
   "metadata": {},
   "outputs": [],
   "source": [
    "# your data split by baskets\n",
    "baskets = [('red', input_objects[:100]), ('green', input_objects[100:200]), ('blue', input_objects[200:300])]"
   ]
  },
  {
   "cell_type": "code",
   "execution_count": null,
   "id": "eb5c7c8a-7455-4a0c-b03e-8a7291c34f5c",
   "metadata": {},
   "outputs": [],
   "source": [
    "launch_in_parallel(baskets)"
   ]
  }
 ],
 "metadata": {
  "kernelspec": {
   "display_name": "Python 3 (ipykernel)",
   "language": "python",
   "name": "python3"
  },
  "language_info": {
   "codemirror_mode": {
    "name": "ipython",
    "version": 3
   },
   "file_extension": ".py",
   "mimetype": "text/x-python",
   "name": "python",
   "nbconvert_exporter": "python",
   "pygments_lexer": "ipython3",
   "version": "3.9.6"
  }
 },
 "nbformat": 4,
 "nbformat_minor": 5
}
