{
 "cells": [
  {
   "cell_type": "markdown",
   "id": "798d7d8a",
   "metadata": {},
   "source": [
    "This example is a demonstration of Crowdom's data labeling workflow for annotation tasks.\n",
    "\n",
    "In annotation tasks, unlike classification tasks, there are an \"unlimited\" (comparing to fixed classification label set) number of possible solutions.\n",
    "\n",
    "Data labeling quality control measures differ in this case – unlike _control tasks_ in classification, we ask other workers to check received solutions (annotations).\n",
    "\n",
    "For annotation task workflow example, we chose an audio transcription task - we ask workers to write down the words they hear in the audios.\n",
    "\n",
    "If this is your first time with Crowdom workflow structure – visit [image classification workflow example](../image_classification/image_classification.ipynb)."
   ]
  },
  {
   "cell_type": "markdown",
   "id": "c71007ac",
   "metadata": {},
   "source": [
    "# Setup environment"
   ]
  },
  {
   "cell_type": "code",
   "execution_count": null,
   "id": "3bd3e3b5",
   "metadata": {},
   "outputs": [],
   "source": [
    "%pip install crowdom"
   ]
  },
  {
   "cell_type": "code",
   "execution_count": null,
   "id": "de9b4187",
   "metadata": {},
   "outputs": [],
   "source": [
    "from datetime import timedelta\n",
    "import os\n",
    "import pandas as pd\n",
    "\n",
    "import toloka.client as toloka\n",
    "\n",
    "from crowdom import base, datasource, client, objects, pricing, params as labeling_params"
   ]
  },
  {
   "cell_type": "markdown",
   "id": "af9b5007",
   "metadata": {},
   "source": [
    "## Logging customization"
   ]
  },
  {
   "cell_type": "code",
   "execution_count": 2,
   "id": "86a8dd1d",
   "metadata": {},
   "outputs": [],
   "source": [
    "import yaml\n",
    "import logging.config"
   ]
  },
  {
   "cell_type": "code",
   "execution_count": 3,
   "id": "16dd19eb",
   "metadata": {},
   "outputs": [],
   "source": [
    "with open('logging.yaml') as f:\n",
    "    logging.config.dictConfig(yaml.full_load(f.read()))"
   ]
  },
  {
   "cell_type": "markdown",
   "id": "22fe9dcc",
   "metadata": {},
   "source": [
    "## Crowdsourcing platfrom authorization"
   ]
  },
  {
   "cell_type": "code",
   "execution_count": 4,
   "id": "01cd4527",
   "metadata": {},
   "outputs": [],
   "source": [
    "from IPython.display import clear_output, display"
   ]
  },
  {
   "cell_type": "code",
   "execution_count": 5,
   "id": "eef5aa08",
   "metadata": {},
   "outputs": [],
   "source": [
    "token = os.getenv('TOLOKA_TOKEN') or input('Enter your token: ')\n",
    "clear_output()"
   ]
  },
  {
   "cell_type": "markdown",
   "id": "d96c8e64",
   "metadata": {},
   "source": [
    "### Authorization"
   ]
  },
  {
   "cell_type": "code",
   "execution_count": 6,
   "id": "c04702f7",
   "metadata": {},
   "outputs": [],
   "source": [
    "toloka_client = client.create_toloka_client(token=token)"
   ]
  },
  {
   "cell_type": "markdown",
   "id": "d026a7fa",
   "metadata": {},
   "source": [
    "### Test environment"
   ]
  },
  {
   "cell_type": "code",
   "execution_count": null,
   "id": "0f567807",
   "metadata": {},
   "outputs": [],
   "source": [
    "toloka_client = client.create_toloka_client(token=token, environment=toloka.TolokaClient.Environment.SANDBOX)"
   ]
  },
  {
   "cell_type": "markdown",
   "id": "ab25819a",
   "metadata": {},
   "source": [
    "# Labeling task definition"
   ]
  },
  {
   "cell_type": "markdown",
   "id": "54a7a246",
   "metadata": {},
   "source": [
    "We are dealing with annotation task, and we transcribe `Audio` into `Text`:"
   ]
  },
  {
   "cell_type": "code",
   "execution_count": 8,
   "id": "51a85633",
   "metadata": {},
   "outputs": [],
   "source": [
    "annotation_function = base.AnnotationFunction(\n",
    "    inputs=(objects.Audio,),\n",
    "    outputs=(objects.Text,)\n",
    ")"
   ]
  },
  {
   "cell_type": "markdown",
   "id": "214913fa",
   "metadata": {},
   "source": [
    "## Worker interface preview"
   ]
  },
  {
   "cell_type": "code",
   "execution_count": 9,
   "id": "923bfebb",
   "metadata": {},
   "outputs": [
    {
     "data": {
      "text/html": [
       "<a href=\"https://tb.yandex.net/editor?config=N4Igxg9gdgZglgcxALgAQmAHRANzgUwHds0sQ4AXfAWwGcTUBtMgVwCcAbBsgBwEMKACwbY+LACZwI2ADSpsFAJ498IkOIF8AdHCg8WFbAF852HHw5wNFKVG4LlqlPPDRJN6Fp4c+i-OIBaGBYODkVjUxAlFTU8Ii0xSWkQE1Qyaz57EH4hNSoAD0MQSOinNGwMrQgDfSLUhxjnbHh8DnEtAoo+NnxMlIBdEsdYgkItS1o6yO8WBF16Z2ZsH0VqotJsAGtdcTVaMDYIUNkXLtpNgHUrXOcAdgAGe617+pAoCBt4MAFbBbQl1xQKhAtQAIXwMAgPVQKjYkLY1F0CFQfFQZ02cmofE2+FQtHYuKEAhRoVQ1H8cFRrRo+CBtFQgj4OFxHAgfHE-i0JwaZRccTGnQiaWwkCBtPWLgAkjAURRUBxepNUNBceTJFSFeSgag4PTEbRaEi5D1Wey0YJcfwEPgucVTsMmrhRh18IVjIN7Y1ytkOLNdB0jhBNn0jP0jHbyHoDM4MKIJFI1IIKBQeLRkAB6dMUDibLS0ADMWkUfCgHPyWig+Ao6ddFAA+hlaFX0+9dYo67QVPgwIIWxA23WqJN-HXCEz0zwAEz5yd1ycATnnWjHOG55F2joAgvGIAAKdgcAC8AHIkym05ns7mC0WS2WK83aw3NE3q63aO3O-hu733+2h1Q4ijuOU4znOi7Lkyx4AJTGCkQA\" target=\"_blank\" rel=\"noopener noreferrer\">task preview</a>"
      ],
      "text/plain": [
       "<IPython.core.display.HTML object>"
      ]
     },
     "execution_count": 9,
     "metadata": {},
     "output_type": "execute_result"
    }
   ],
   "source": [
    "example_url = 'https://tlk.s3.yandex.net/ext_dataset/noisy_speech/noisy_tested_wav/p232_299.wav'\n",
    "example_audio = (objects.Audio(url=example_url),)\n",
    "\n",
    "client.TaskPreview(example_audio, task_function=annotation_function, lang='EN').display_link()"
   ]
  },
  {
   "cell_type": "markdown",
   "id": "fae87a3a",
   "metadata": {},
   "source": [
    "## Workers instruction"
   ]
  },
  {
   "cell_type": "code",
   "execution_count": 10,
   "id": "b1ff8981",
   "metadata": {},
   "outputs": [],
   "source": [
    "instruction = {\n",
    "    'RU': 'Запишите звучащие на аудио слова, без знаков препинания и заглавных букв.',\n",
    "    'EN': 'Transcribe the audio, without any punctuation or capitalization.'}"
   ]
  },
  {
   "cell_type": "markdown",
   "id": "d9729ae4",
   "metadata": {},
   "source": [
    "## Labeling task specification"
   ]
  },
  {
   "cell_type": "code",
   "execution_count": 11,
   "id": "10cac41b",
   "metadata": {},
   "outputs": [],
   "source": [
    "task_spec = base.TaskSpec(\n",
    "    id='audio-transcription',\n",
    "    function=annotation_function,\n",
    "    name={'EN': 'Audio transcription', 'RU': 'Расшифровка аудио'},\n",
    "    description={'EN': 'Transcribe short audios', 'RU': 'Расшифровка коротких аудио'},\n",
    "    instruction=instruction)"
   ]
  },
  {
   "cell_type": "markdown",
   "id": "73c7baa5",
   "metadata": {},
   "source": [
    "Workers in their task feed will see your task for `EN` language like this, depending on where they are doing the tasks:"
   ]
  },
  {
   "cell_type": "markdown",
   "id": "865e204b",
   "metadata": {},
   "source": [
    "<table>\n",
    "    <tr>\n",
    "        <td style=\"text-align: center\"><h2>Browser</h2></td>\n",
    "        <td style=\"text-align: center\"><h2>Mobile app</h2></td>\n",
    "    </tr>\n",
    "    <tr>\n",
    "        <td>\n",
    "            <img src=\"task-card_browser.png\"\n",
    "                 alt=\"task-card-browser\" style=\"width:100%; max-width:400px;\"/>\n",
    "        </td>\n",
    "        <td>\n",
    "            <img src=\"task-card_app.png\"\n",
    "                 alt=\"task-card-app\" style=\"width:100%; max-width:400px;\"/>\n",
    "        </td>\n",
    "    </tr>\n",
    "</table>"
   ]
  },
  {
   "cell_type": "markdown",
   "id": "d9d6ea92",
   "metadata": {},
   "source": [
    "Language of your data:"
   ]
  },
  {
   "cell_type": "code",
   "execution_count": 12,
   "id": "782986c1",
   "metadata": {},
   "outputs": [],
   "source": [
    "lang = 'EN'"
   ]
  },
  {
   "cell_type": "markdown",
   "id": "f27d60d8",
   "metadata": {},
   "source": [
    "Localized version of `annotation_task_spec`:"
   ]
  },
  {
   "cell_type": "code",
   "execution_count": 13,
   "id": "a9f0b6e6",
   "metadata": {},
   "outputs": [],
   "source": [
    "task_spec_en = client.AnnotationTaskSpec(task_spec, lang)"
   ]
  },
  {
   "cell_type": "markdown",
   "id": "12ec34ce",
   "metadata": {},
   "source": [
    "# Importing source data"
   ]
  },
  {
   "cell_type": "markdown",
   "id": "4087b295",
   "metadata": {},
   "source": [
    "Expected file format – JSON list, each object having keys from `name` typed like `type`. As is [image classification](../image_classification/image_classification.ipynb) example, for media types, such as `Audio`, we expect URLs."
   ]
  },
  {
   "cell_type": "code",
   "execution_count": 14,
   "id": "de027854",
   "metadata": {},
   "outputs": [
    {
     "data": {
      "text/html": [
       "<div>\n",
       "<style scoped>\n",
       "    .dataframe tbody tr th:only-of-type {\n",
       "        vertical-align: middle;\n",
       "    }\n",
       "\n",
       "    .dataframe tbody tr th {\n",
       "        vertical-align: top;\n",
       "    }\n",
       "\n",
       "    .dataframe thead th {\n",
       "        text-align: right;\n",
       "    }\n",
       "</style>\n",
       "<table border=\"1\" class=\"dataframe\">\n",
       "  <thead>\n",
       "    <tr style=\"text-align: right;\">\n",
       "      <th></th>\n",
       "      <th>name</th>\n",
       "      <th>type</th>\n",
       "    </tr>\n",
       "  </thead>\n",
       "  <tbody>\n",
       "    <tr>\n",
       "      <th>0</th>\n",
       "      <td>audio</td>\n",
       "      <td>str</td>\n",
       "    </tr>\n",
       "  </tbody>\n",
       "</table>\n",
       "</div>"
      ],
      "text/plain": [
       "    name type\n",
       "0  audio  str"
      ]
     },
     "execution_count": 14,
     "metadata": {},
     "output_type": "execute_result"
    }
   ],
   "source": [
    "datasource.file_format(task_spec_en.task_mapping)"
   ]
  },
  {
   "cell_type": "code",
   "execution_count": 15,
   "id": "7d52683f",
   "metadata": {},
   "outputs": [],
   "source": [
    "input_objects = datasource.read_tasks('tasks.json', task_spec_en.task_mapping)\n",
    "control_objects = None"
   ]
  },
  {
   "cell_type": "markdown",
   "id": "f8c7b353",
   "metadata": {},
   "source": [
    "## Reference labeling"
   ]
  },
  {
   "cell_type": "markdown",
   "id": "88b43aff",
   "metadata": {},
   "source": [
    "In addition to the source data, a reference labeling is expected in the file. For our task, reference labeling is correct transcription, located in `text` field."
   ]
  },
  {
   "cell_type": "code",
   "execution_count": 16,
   "id": "115d8c30",
   "metadata": {},
   "outputs": [
    {
     "data": {
      "text/html": [
       "<div>\n",
       "<style scoped>\n",
       "    .dataframe tbody tr th:only-of-type {\n",
       "        vertical-align: middle;\n",
       "    }\n",
       "\n",
       "    .dataframe tbody tr th {\n",
       "        vertical-align: top;\n",
       "    }\n",
       "\n",
       "    .dataframe thead th {\n",
       "        text-align: right;\n",
       "    }\n",
       "</style>\n",
       "<table border=\"1\" class=\"dataframe\">\n",
       "  <thead>\n",
       "    <tr style=\"text-align: right;\">\n",
       "      <th></th>\n",
       "      <th>name</th>\n",
       "      <th>type</th>\n",
       "    </tr>\n",
       "  </thead>\n",
       "  <tbody>\n",
       "    <tr>\n",
       "      <th>0</th>\n",
       "      <td>audio</td>\n",
       "      <td>str</td>\n",
       "    </tr>\n",
       "    <tr>\n",
       "      <th>1</th>\n",
       "      <td>text</td>\n",
       "      <td>str</td>\n",
       "    </tr>\n",
       "  </tbody>\n",
       "</table>\n",
       "</div>"
      ],
      "text/plain": [
       "    name type\n",
       "0  audio  str\n",
       "1   text  str"
      ]
     },
     "execution_count": 16,
     "metadata": {},
     "output_type": "execute_result"
    }
   ],
   "source": [
    "datasource.file_format(task_spec_en.task_mapping, has_solutions=True)"
   ]
  },
  {
   "cell_type": "code",
   "execution_count": 17,
   "id": "9f4787e1",
   "metadata": {},
   "outputs": [],
   "source": [
    "control_objects = datasource.read_tasks(\n",
    "    'control_tasks.json',\n",
    "    task_spec_en.task_mapping,\n",
    "    has_solutions=True,\n",
    ")"
   ]
  },
  {
   "cell_type": "markdown",
   "id": "51455605",
   "metadata": {},
   "source": [
    "Define __task duration hint__."
   ]
  },
  {
   "cell_type": "code",
   "execution_count": 18,
   "id": "788e9540",
   "metadata": {},
   "outputs": [],
   "source": [
    "# audios are 3-10 seconds each, and workers need time to transcribe them\n",
    "task_duration_hint = timedelta(seconds=20)"
   ]
  },
  {
   "cell_type": "markdown",
   "id": "5396f5b7",
   "metadata": {},
   "source": [
    "# Task verification and feedback"
   ]
  },
  {
   "cell_type": "markdown",
   "id": "b31ebc2d",
   "metadata": {},
   "source": [
    "## Experts reward definition"
   ]
  },
  {
   "cell_type": "markdown",
   "id": "6d354637",
   "metadata": {},
   "source": [
    "Define estimated __task duration hint__ for experts:"
   ]
  },
  {
   "cell_type": "code",
   "execution_count": 34,
   "id": "1e0b42b9",
   "metadata": {},
   "outputs": [],
   "source": [
    "task_duration_hint = timedelta(seconds=30)"
   ]
  },
  {
   "cell_type": "code",
   "execution_count": 35,
   "id": "8fa0caba",
   "metadata": {},
   "outputs": [],
   "source": [
    "from crowdom import experts, project"
   ]
  },
  {
   "cell_type": "code",
   "execution_count": 37,
   "id": "3926f1c9",
   "metadata": {},
   "outputs": [],
   "source": [
    "scenario = project.Scenario.EXPERT_LABELING_OF_TASKS\n",
    "experts_task_spec = client.AnnotationTaskSpec(task_spec, lang, scenario)\n",
    "\n",
    "\n",
    "if control_objects:\n",
    "    objects = control_objects\n",
    "    experts_task_spec = experts_task_spec.check\n",
    "else:\n",
    "    objects = input_objects"
   ]
  },
  {
   "cell_type": "markdown",
   "id": "75a6f2e3",
   "metadata": {},
   "source": [
    "#### Inhouse experts"
   ]
  },
  {
   "cell_type": "code",
   "execution_count": 39,
   "id": "c965c093",
   "metadata": {},
   "outputs": [],
   "source": [
    "avg_price_per_hour = None"
   ]
  },
  {
   "cell_type": "markdown",
   "id": "59c0ad5c",
   "metadata": {},
   "source": [
    "#### External Toloka experts"
   ]
  },
  {
   "cell_type": "code",
   "execution_count": 38,
   "id": "26e9d374",
   "metadata": {},
   "outputs": [],
   "source": [
    "avg_price_per_hour = 3.5  # USD"
   ]
  },
  {
   "cell_type": "markdown",
   "id": "26a3c164",
   "metadata": {},
   "source": [
    "#### Pricing config"
   ]
  },
  {
   "cell_type": "code",
   "execution_count": 40,
   "id": "095f8ba3",
   "metadata": {},
   "outputs": [],
   "source": [
    "pricing_options = pricing.get_expert_pricing_options(\n",
    "    task_duration_hint, experts_task_spec.task_mapping, avg_price_per_hour)\n",
    "pricing_config = pricing.choose_default_expert_option(pricing_options, avg_price_per_hour)"
   ]
  },
  {
   "cell_type": "markdown",
   "id": "e4437c20",
   "metadata": {},
   "source": [
    "## Getting feedback"
   ]
  },
  {
   "cell_type": "code",
   "execution_count": null,
   "id": "26610d91",
   "metadata": {},
   "outputs": [],
   "source": [
    "client.define_task(experts_task_spec, toloka_client)"
   ]
  },
  {
   "cell_type": "code",
   "execution_count": 50,
   "id": "4d179232",
   "metadata": {},
   "outputs": [
    {
     "name": "stdout",
     "output_type": "stream",
     "text": [
      "clear formula, which does not account edge cases like min commission and incomplete assignments\n"
     ]
    },
    {
     "data": {
      "text/latex": [
       "$\\displaystyle TotalPrice_{clear} = TaskCount * PricePerTask_\\$ * Overlap * (1 + TolokaCommission) = 10 * 0.0003\\$ * 1 * 1.3 = 0.00\\$.$"
      ],
      "text/plain": [
       "<IPython.core.display.Math object>"
      ]
     },
     "metadata": {},
     "output_type": "display_data"
    },
    {
     "name": "stdout",
     "output_type": "stream",
     "text": [
      "\n",
      "precise formula, which accounts all edge cases\n"
     ]
    },
    {
     "data": {
      "text/latex": [
       "$\\displaystyle TotalPrice_{precise} = AssignmentCount * PricePerAssignment_\\$ * Overlap = \\lceil TaskCount / TasksOnAssignment \\rceil * (PricePerAssignment_\\$ + max(PricePerAssignment_\\$ * TolokaCommission, MinTolokaCommission_\\$) * Overlap = \\lceil 10 / 29 \\rceil * (0.01\\$ + max(0.01\\$ * 0.3, 0.005\\$) * 1 = 1 * 0.015 * 1 = 0.01\\$.$"
      ],
      "text/plain": [
       "<IPython.core.display.Math object>"
      ]
     },
     "metadata": {},
     "output_type": "display_data"
    },
    {
     "name": "stdout",
     "output_type": "stream",
     "text": [
      "run expert labeling of 10 objects for 0.01$? [Y/n] Y\n",
      "2022-05-11 11:42:27,838 - crowdom.client.launch:launch_experts:207 - INFO: - expert labeling has started\n"
     ]
    }
   ],
   "source": [
    "raw_feedback = client.launch_experts(\n",
    "    experts_task_spec,\n",
    "    client.ExpertParams(\n",
    "        task_duration_hint=task_duration_hint,\n",
    "        pricing_config=pricing_config,\n",
    "    ),\n",
    "    objects[:10],\n",
    "    experts.ExpertCase.TASK_VERIFICATION,\n",
    "    toloka_client,\n",
    "    interactive=True)"
   ]
  },
  {
   "cell_type": "code",
   "execution_count": 51,
   "id": "3afbc2e1",
   "metadata": {},
   "outputs": [],
   "source": [
    "worker_id_to_name = {'fd060a4d57b00f9bba4421fe4c7c22f3': 'bob'}  # {'< hex 32-digit id >': '< username >'}"
   ]
  },
  {
   "cell_type": "code",
   "execution_count": 100,
   "id": "9edc4bb0",
   "metadata": {},
   "outputs": [],
   "source": [
    "feedback = client.ExpertLabelingResults(raw_feedback, experts_task_spec, worker_id_to_name)"
   ]
  },
  {
   "cell_type": "code",
   "execution_count": 101,
   "id": "72c58068",
   "metadata": {},
   "outputs": [
    {
     "data": {
      "text/html": [
       "<div>\n",
       "<style scoped>\n",
       "    .dataframe tbody tr th:only-of-type {\n",
       "        vertical-align: middle;\n",
       "    }\n",
       "\n",
       "    .dataframe tbody tr th {\n",
       "        vertical-align: top;\n",
       "    }\n",
       "\n",
       "    .dataframe thead th {\n",
       "        text-align: right;\n",
       "    }\n",
       "</style>\n",
       "<table border=\"1\" class=\"dataframe\">\n",
       "  <thead>\n",
       "    <tr style=\"text-align: right;\">\n",
       "      <th></th>\n",
       "      <th>audio</th>\n",
       "      <th>text</th>\n",
       "      <th>eval</th>\n",
       "      <th>_ok</th>\n",
       "      <th>_comment</th>\n",
       "      <th>worker</th>\n",
       "      <th>duration</th>\n",
       "    </tr>\n",
       "  </thead>\n",
       "  <tbody>\n",
       "    <tr>\n",
       "      <th>0</th>\n",
       "      <td>https://tlk.s3.yandex.net/ext_dataset/noisy_speech/noisy_tested_wav/p257_216.wav</td>\n",
       "      <td>he said that healthy eating was high on the council agenda</td>\n",
       "      <td>True</td>\n",
       "      <td>True</td>\n",
       "      <td>correct transcription: \"he said that healthy eating was high on the council agenda\"</td>\n",
       "      <td>bob</td>\n",
       "      <td>0 days 00:01:29.653100</td>\n",
       "    </tr>\n",
       "    <tr>\n",
       "      <th>1</th>\n",
       "      <td>https://tlk.s3.yandex.net/ext_dataset/noisy_speech/noisy_tested_wav/p232_146.wav</td>\n",
       "      <td>it was deployed in the gold war</td>\n",
       "      <td>False</td>\n",
       "      <td>True</td>\n",
       "      <td>correct transcription: \"it was deployed in the gulf war\" - \"gulf war\", not \"gold war\"</td>\n",
       "      <td>bob</td>\n",
       "      <td>0 days 00:01:29.653100</td>\n",
       "    </tr>\n",
       "    <tr>\n",
       "      <th>2</th>\n",
       "      <td>https://tlk.s3.yandex.net/ext_dataset/noisy_speech/noisy_tested_wav/p257_099.wav</td>\n",
       "      <td>they were under a lot of pressure from the other clubs</td>\n",
       "      <td>True</td>\n",
       "      <td>True</td>\n",
       "      <td>correct transcription: \"they were under a lot of pressure from the other clubs\"</td>\n",
       "      <td>bob</td>\n",
       "      <td>0 days 00:01:29.653100</td>\n",
       "    </tr>\n",
       "    <tr>\n",
       "      <th>3</th>\n",
       "      <td>https://tlk.s3.yandex.net/ext_dataset/noisy_speech/noisy_tested_wav/p232_178.wav</td>\n",
       "      <td>its the real thing for sure</td>\n",
       "      <td>True</td>\n",
       "      <td>False</td>\n",
       "      <td>not clear what to do with contractions - \"it is\", \"its\" or \"it's\"</td>\n",
       "      <td>bob</td>\n",
       "      <td>0 days 00:01:29.653100</td>\n",
       "    </tr>\n",
       "    <tr>\n",
       "      <th>4</th>\n",
       "      <td>https://tlk.s3.yandex.net/ext_dataset/noisy_speech/noisy_tested_wav/p257_166.wav</td>\n",
       "      <td>you are not going in blind</td>\n",
       "      <td>True</td>\n",
       "      <td>True</td>\n",
       "      <td></td>\n",
       "      <td>bob</td>\n",
       "      <td>0 days 00:01:29.653100</td>\n",
       "    </tr>\n",
       "    <tr>\n",
       "      <th>5</th>\n",
       "      <td>https://tlk.s3.yandex.net/ext_dataset/noisy_speech/noisy_tested_wav/p232_347.wav</td>\n",
       "      <td>sex offender programmes to be retained by public sector</td>\n",
       "      <td>True</td>\n",
       "      <td>True</td>\n",
       "      <td></td>\n",
       "      <td>bob</td>\n",
       "      <td>0 days 00:01:29.653100</td>\n",
       "    </tr>\n",
       "    <tr>\n",
       "      <th>6</th>\n",
       "      <td>https://tlk.s3.yandex.net/ext_dataset/noisy_speech/noisy_tested_wav/p232_164.wav</td>\n",
       "      <td>that must be left to the parole board</td>\n",
       "      <td>True</td>\n",
       "      <td>True</td>\n",
       "      <td></td>\n",
       "      <td>bob</td>\n",
       "      <td>0 days 00:01:29.653100</td>\n",
       "    </tr>\n",
       "    <tr>\n",
       "      <th>7</th>\n",
       "      <td>https://tlk.s3.yandex.net/ext_dataset/noisy_speech/noisy_tested_wav/p257_261.wav</td>\n",
       "      <td>similar measures are expected in England and Wales</td>\n",
       "      <td>False</td>\n",
       "      <td>True</td>\n",
       "      <td>correct transcription: \"similar measures are expected in england and wales\", no punctiuation is ...</td>\n",
       "      <td>bob</td>\n",
       "      <td>0 days 00:01:29.653100</td>\n",
       "    </tr>\n",
       "    <tr>\n",
       "      <th>8</th>\n",
       "      <td>https://tlk.s3.yandex.net/ext_dataset/noisy_speech/noisy_tested_wav/p232_105.wav</td>\n",
       "      <td>that is no use</td>\n",
       "      <td>True</td>\n",
       "      <td>False</td>\n",
       "      <td>not clear what to do with contractions - \"that is\", \"thats\" or \"that's\"</td>\n",
       "      <td>bob</td>\n",
       "      <td>0 days 00:01:29.653100</td>\n",
       "    </tr>\n",
       "    <tr>\n",
       "      <th>9</th>\n",
       "      <td>https://tlk.s3.yandex.net/ext_dataset/noisy_speech/noisy_tested_wav/p232_029.wav</td>\n",
       "      <td>their courage and their honesty should be respected</td>\n",
       "      <td>True</td>\n",
       "      <td>True</td>\n",
       "      <td>correct transcription: \"their courage and their honesty should be respected\"</td>\n",
       "      <td>bob</td>\n",
       "      <td>0 days 00:01:29.653100</td>\n",
       "    </tr>\n",
       "  </tbody>\n",
       "</table>\n",
       "</div>"
      ],
      "text/plain": [
       "                                                                              audio  \\\n",
       "0  https://tlk.s3.yandex.net/ext_dataset/noisy_speech/noisy_tested_wav/p257_216.wav   \n",
       "1  https://tlk.s3.yandex.net/ext_dataset/noisy_speech/noisy_tested_wav/p232_146.wav   \n",
       "2  https://tlk.s3.yandex.net/ext_dataset/noisy_speech/noisy_tested_wav/p257_099.wav   \n",
       "3  https://tlk.s3.yandex.net/ext_dataset/noisy_speech/noisy_tested_wav/p232_178.wav   \n",
       "4  https://tlk.s3.yandex.net/ext_dataset/noisy_speech/noisy_tested_wav/p257_166.wav   \n",
       "5  https://tlk.s3.yandex.net/ext_dataset/noisy_speech/noisy_tested_wav/p232_347.wav   \n",
       "6  https://tlk.s3.yandex.net/ext_dataset/noisy_speech/noisy_tested_wav/p232_164.wav   \n",
       "7  https://tlk.s3.yandex.net/ext_dataset/noisy_speech/noisy_tested_wav/p257_261.wav   \n",
       "8  https://tlk.s3.yandex.net/ext_dataset/noisy_speech/noisy_tested_wav/p232_105.wav   \n",
       "9  https://tlk.s3.yandex.net/ext_dataset/noisy_speech/noisy_tested_wav/p232_029.wav   \n",
       "\n",
       "                                                         text   eval    _ok  \\\n",
       "0  he said that healthy eating was high on the council agenda   True   True   \n",
       "1                             it was deployed in the gold war  False   True   \n",
       "2      they were under a lot of pressure from the other clubs   True   True   \n",
       "3                                 its the real thing for sure   True  False   \n",
       "4                                  you are not going in blind   True   True   \n",
       "5     sex offender programmes to be retained by public sector   True   True   \n",
       "6                       that must be left to the parole board   True   True   \n",
       "7          similar measures are expected in England and Wales  False   True   \n",
       "8                                              that is no use   True  False   \n",
       "9         their courage and their honesty should be respected   True   True   \n",
       "\n",
       "                                                                                              _comment  \\\n",
       "0                  correct transcription: \"he said that healthy eating was high on the council agenda\"   \n",
       "1                correct transcription: \"it was deployed in the gulf war\" - \"gulf war\", not \"gold war\"   \n",
       "2                      correct transcription: \"they were under a lot of pressure from the other clubs\"   \n",
       "3                                    not clear what to do with contractions - \"it is\", \"its\" or \"it's\"   \n",
       "4                                                                                                        \n",
       "5                                                                                                        \n",
       "6                                                                                                        \n",
       "7  correct transcription: \"similar measures are expected in england and wales\", no punctiuation is ...   \n",
       "8                              not clear what to do with contractions - \"that is\", \"thats\" or \"that's\"   \n",
       "9                         correct transcription: \"their courage and their honesty should be respected\"   \n",
       "\n",
       "  worker               duration  \n",
       "0    bob 0 days 00:01:29.653100  \n",
       "1    bob 0 days 00:01:29.653100  \n",
       "2    bob 0 days 00:01:29.653100  \n",
       "3    bob 0 days 00:01:29.653100  \n",
       "4    bob 0 days 00:01:29.653100  \n",
       "5    bob 0 days 00:01:29.653100  \n",
       "6    bob 0 days 00:01:29.653100  \n",
       "7    bob 0 days 00:01:29.653100  \n",
       "8    bob 0 days 00:01:29.653100  \n",
       "9    bob 0 days 00:01:29.653100  "
      ]
     },
     "metadata": {},
     "output_type": "display_data"
    }
   ],
   "source": [
    "feedback_df = feedback.get_results()\n",
    "\n",
    "with pd.option_context(\"max_colwidth\", 100):\n",
    "    display(feedback_df)"
   ]
  },
  {
   "cell_type": "code",
   "execution_count": 62,
   "id": "07e2443a",
   "metadata": {},
   "outputs": [
    {
     "data": {
      "text/plain": [
       "datetime.timedelta(seconds=29, microseconds=908080)"
      ]
     },
     "execution_count": 62,
     "metadata": {},
     "output_type": "execute_result"
    }
   ],
   "source": [
    "task_duration_hint = feedback_df['duration'].mean().to_pytimedelta()  # with reference labeling\n",
    "# task_duration_hint = timedelta(seconds=experts_proposed_value)  # without reference labeling\n",
    "task_duration_hint"
   ]
  },
  {
   "cell_type": "markdown",
   "id": "fdb7b772",
   "metadata": {},
   "source": [
    "During the `annotation` process, as a measure of quality control, we show gathered annotations to other workers and ask them to evaluate them – we refer to this process as `annotation check`. This process, however, needs its own quality control measures – so, we can create `control objects` and `training` for `annotation check` as well as `training` for main `annotation` process."
   ]
  },
  {
   "cell_type": "code",
   "execution_count": 86,
   "id": "d93ab2c5",
   "metadata": {},
   "outputs": [],
   "source": [
    "control_objects, _ = feedback.get_correct_objects(client.ExpertLabelingApplication.CONTROL_TASKS)"
   ]
  },
  {
   "cell_type": "markdown",
   "id": "b06339f4",
   "metadata": {},
   "source": [
    "### Creating workers training"
   ]
  },
  {
   "cell_type": "markdown",
   "id": "dba16106",
   "metadata": {},
   "source": [
    "#### Annotation training"
   ]
  },
  {
   "cell_type": "code",
   "execution_count": 103,
   "id": "a29fc916",
   "metadata": {},
   "outputs": [],
   "source": [
    "training_objects, comments = feedback.get_correct_objects(application=client.ExpertLabelingApplication.TRAINING)"
   ]
  },
  {
   "cell_type": "code",
   "execution_count": 106,
   "id": "b02c173a",
   "metadata": {},
   "outputs": [],
   "source": [
    "training_config = pricing.choose_default_training_option(\n",
    "    pricing.get_training_options(task_duration_hint, len(training_objects), training_time=timedelta(minutes=2)))"
   ]
  },
  {
   "cell_type": "code",
   "execution_count": null,
   "id": "2313fe39",
   "metadata": {},
   "outputs": [],
   "source": [
    "client.define_task(task_spec_en, toloka_client)"
   ]
  },
  {
   "cell_type": "code",
   "execution_count": 111,
   "id": "da5396b1",
   "metadata": {},
   "outputs": [
    {
     "name": "stdout",
     "output_type": "stream",
     "text": [
      "2022-05-11 12:06:27,566 - toloka.client:create_training:1736 - INFO: - A new training with ID \"1173848\" has been created.\n"
     ]
    }
   ],
   "source": [
    "client.create_training(\n",
    "    task_spec_en,\n",
    "    training_objects,\n",
    "    comments,\n",
    "    toloka_client,\n",
    "    training_config)"
   ]
  },
  {
   "cell_type": "markdown",
   "id": "d2ea2d26",
   "metadata": {},
   "source": [
    "#### Annotation check training"
   ]
  },
  {
   "cell_type": "code",
   "execution_count": 216,
   "id": "b3887156",
   "metadata": {},
   "outputs": [],
   "source": [
    "check_training_objects, check_comments = feedback.get_correct_objects(application=client.ExpertLabelingApplication.ANNOTATION_CHECK_TRAINING)"
   ]
  },
  {
   "cell_type": "code",
   "execution_count": 115,
   "id": "0537be80",
   "metadata": {},
   "outputs": [],
   "source": [
    "training_config = pricing.choose_default_training_option(\n",
    "    pricing.get_training_options(task_duration_hint, len(training_objects), training_time=timedelta(minutes=2)))"
   ]
  },
  {
   "cell_type": "code",
   "execution_count": null,
   "id": "06dc7dff",
   "metadata": {},
   "outputs": [],
   "source": [
    "client.define_task(task_spec_en, toloka_client)"
   ]
  },
  {
   "cell_type": "code",
   "execution_count": 218,
   "id": "38689c90",
   "metadata": {},
   "outputs": [
    {
     "name": "stdout",
     "output_type": "stream",
     "text": [
      "2022-05-11 18:15:37,631 - toloka.client:create_training:1736 - INFO: - A new training with ID \"1174158\" has been created.\n"
     ]
    }
   ],
   "source": [
    "client.create_training(\n",
    "    task_spec_en.check,\n",
    "    check_training_objects,\n",
    "    check_comments,\n",
    "    toloka_client,\n",
    "    training_config)"
   ]
  },
  {
   "cell_type": "markdown",
   "id": "52af8ef6",
   "metadata": {},
   "source": [
    "# Labeling efficiency optimization"
   ]
  },
  {
   "cell_type": "markdown",
   "id": "8268bcd3",
   "metadata": {},
   "source": [
    "__You can skip any customization in this section and use default options, which we consider suitable for a wide range of typical tasks, or tune parameters to you liking.__"
   ]
  },
  {
   "cell_type": "markdown",
   "id": "15b8ffbe",
   "metadata": {
    "pycharm": {
     "name": "#%% md\n"
    }
   },
   "source": [
    "For general information about labeling efficiency optimization and for information about customization for classification task – view [image classification](../image_classification/image_classification.ipynb) example.\n",
    "\n",
    "Annotation labeling process consists of two distinct subprocesses – `annotation` and `check` steps. You can interactively customize parameters for each of these steps independently.\n",
    "\n",
    "\n",
    "Most of parameters for `annotation` step are the same as for `classification`. There's a new addition – `Assignment check sample`.\n",
    "\n",
    "With this option enabled, only a portion of tasks would be checked from each assignment - you can change this number with `Max tasks to check` option. After that if enough of these tasks were done correctly, this whole assignment would be `finalized` - all tasks from it would be considered checked, and no more checks would be created for them. You can change this threshold number of correctly done tasks with `Accuracy threshold` option.\n",
    "\n",
    "`Assignment check sample` can reduce cost and time of labeling process, but low check coverage can't guarantee high quality for unchecked solutions."
   ]
  },
  {
   "cell_type": "markdown",
   "id": "cfb90d9d",
   "metadata": {},
   "source": [
    "You can specify different `task_duration_hint`s for main process and `check`, if they require significantly different time to complete."
   ]
  },
  {
   "cell_type": "code",
   "execution_count": 19,
   "id": "d06a2049",
   "metadata": {
    "pycharm": {
     "is_executing": true
    },
    "tags": []
   },
   "outputs": [
    {
     "data": {
      "application/vnd.jupyter.widget-view+json": {
       "model_id": "78881c186a084590bb1ecc0d81360b88",
       "version_major": 2,
       "version_minor": 0
      },
      "text/plain": [
       "VBox(children=(Accordion(children=(VBox(children=(HTML(value='<b>Help for interface elements will be here</b>'…"
      ]
     },
     "metadata": {},
     "output_type": "display_data"
    }
   ],
   "source": [
    "params_form = labeling_params.get_annotation_interface(\n",
    "    task_spec=task_spec_en,\n",
    "    check_task_duration_hint=task_duration_hint,\n",
    "    annotation_task_duration_hint=task_duration_hint,\n",
    "    toloka_client=toloka_client)"
   ]
  },
  {
   "cell_type": "code",
   "execution_count": 20,
   "id": "10d9ce0b",
   "metadata": {},
   "outputs": [],
   "source": [
    "check_params, annotation_params = params_form.get_params()"
   ]
  },
  {
   "cell_type": "markdown",
   "id": "1d55253f",
   "metadata": {},
   "source": [
    "## Efficiency customization"
   ]
  },
  {
   "cell_type": "markdown",
   "id": "c789539e",
   "metadata": {},
   "source": [
    "You can define your own pricing config for labeling.\n",
    "\n",
    "However, you can only specify `real_task_count` and `assignment_price` for it, we cannot use control tasks directly for labeling quality control."
   ]
  },
  {
   "cell_type": "code",
   "execution_count": 25,
   "id": "f4e825ac",
   "metadata": {},
   "outputs": [],
   "source": [
    "from crowdom import classification, classification_loop, control, evaluation, worker"
   ]
  },
  {
   "cell_type": "code",
   "execution_count": 26,
   "id": "fb9f82ae",
   "metadata": {},
   "outputs": [],
   "source": [
    "pricing_config = pricing.PoolPricingConfig(assignment_price=0.05, real_tasks_count=20, control_tasks_count=0)\n",
    "\n",
    "assert pricing_config.control_tasks_count == 0"
   ]
  },
  {
   "cell_type": "markdown",
   "id": "c84238f3",
   "metadata": {
    "pycharm": {
     "name": "#%% md\n"
    }
   },
   "source": [
    "Define quality and control params:"
   ]
  },
  {
   "cell_type": "code",
   "execution_count": 27,
   "id": "44169011",
   "metadata": {},
   "outputs": [],
   "source": [
    "assignment_check_sample = evaluation.AssignmentCheckSample(\n",
    "    max_tasks_to_check=15,\n",
    "    assignment_accuracy_finalization_threshold=0.85,\n",
    ")"
   ]
  },
  {
   "cell_type": "markdown",
   "id": "fb0ec61f",
   "metadata": {
    "pycharm": {
     "name": "#%% md\n"
    }
   },
   "source": [
    "You can specify a custom overlap, minimum number attempts for annotation should always be 1:"
   ]
  },
  {
   "cell_type": "code",
   "execution_count": 28,
   "id": "3d0e16fa",
   "metadata": {},
   "outputs": [],
   "source": [
    "correct_done_task_ratio_for_acceptance = 0.5\n",
    "\n",
    "control_params = control.Control(\n",
    "    rules=control.RuleBuilder().add_static_reward(\n",
    "        threshold=correct_done_task_ratio_for_acceptance).add_speed_control(\n",
    "            # if worker complete tasks in 10% of expected time, we will reject assignment assuming fraud/scripts/random clicking\n",
    "            # specify 0 to disable this control option\n",
    "            ratio_rand=.1,\n",
    "            # if worker complete tasks in 30% of expected time, we will block him for a while, suspecting poor performance\n",
    "            # specify 0 to disable this control option\n",
    "            ratio_poor=.3,\n",
    "        ).build())\n",
    "\n",
    "\n",
    "annotation_params = client.AnnotationParams(\n",
    "    task_duration_hint=task_duration_hint,\n",
    "    pricing_config=pricing_config,\n",
    "    overlap=classification_loop.DynamicOverlap(min_overlap=1, max_overlap=3, confidence=0.85),\n",
    "    control=control_params,\n",
    "    assignment_check_sample=assignment_check_sample,\n",
    "    worker_filter=worker.WorkerFilter(\n",
    "        filters=[\n",
    "             worker.WorkerFilter.Params(\n",
    "                 langs={worker.LanguageRequirement(lang=lang)},\n",
    "                 regions=worker.lang_to_default_regions.get(lang, {}),\n",
    "                 age_range=(18, None),\n",
    "             ),\n",
    "        ],\n",
    "        training_score=None,\n",
    "    ),\n",
    ")\n",
    "\n",
    "assert isinstance(annotation_params.overlap, classification_loop.DynamicOverlap)"
   ]
  },
  {
   "cell_type": "markdown",
   "id": "8d36f319",
   "metadata": {},
   "source": [
    "# Labeling of your data"
   ]
  },
  {
   "cell_type": "code",
   "execution_count": null,
   "id": "4ec31a12",
   "metadata": {},
   "outputs": [],
   "source": [
    "client.define_task(task_spec_en, toloka_client)"
   ]
  },
  {
   "cell_type": "code",
   "execution_count": 188,
   "id": "ffd5c69f",
   "metadata": {},
   "outputs": [],
   "source": [
    "assert control_objects, 'No control objects supplied'\n",
    "assert isinstance(control_objects[0], tuple)\n",
    "\n",
    "try:\n",
    "    task_spec_en.check.task_mapping.validate_objects(control_objects[0][0])\n",
    "except:\n",
    "    control_objects = [(task + solution, (base.BinaryEvaluation(ok=True),)) for (task, solution) in control_objects]"
   ]
  },
  {
   "cell_type": "code",
   "execution_count": 192,
   "id": "da7e253a",
   "metadata": {},
   "outputs": [
    {
     "name": "stdout",
     "output_type": "stream",
     "text": [
      "2022-05-11 13:55:59,666 - crowdom.client.launch:launch_annotation:266 - INFO: - annotation has started\n"
     ]
    }
   ],
   "source": [
    "artifacts = client.launch_annotation(\n",
    "    task_spec_en,\n",
    "    annotation_params,\n",
    "    check_params,\n",
    "    input_objects,\n",
    "    control_objects,\n",
    "    toloka_client)"
   ]
  },
  {
   "cell_type": "markdown",
   "id": "7d416e30",
   "metadata": {
    "pycharm": {
     "name": "#%% md\n"
    }
   },
   "source": [
    "<img src=\"metrics.png\">"
   ]
  },
  {
   "cell_type": "code",
   "execution_count": 195,
   "id": "007bea38",
   "metadata": {},
   "outputs": [],
   "source": [
    "results = artifacts.results"
   ]
  },
  {
   "cell_type": "markdown",
   "id": "9259156d",
   "metadata": {},
   "source": [
    "## Results study"
   ]
  },
  {
   "cell_type": "markdown",
   "id": "b36162ce",
   "metadata": {},
   "source": [
    "Ground truth (most probable option):"
   ]
  },
  {
   "cell_type": "code",
   "execution_count": 197,
   "id": "e759fd86",
   "metadata": {},
   "outputs": [
    {
     "data": {
      "text/html": [
       "<div>\n",
       "<style scoped>\n",
       "    .dataframe tbody tr th:only-of-type {\n",
       "        vertical-align: middle;\n",
       "    }\n",
       "\n",
       "    .dataframe tbody tr th {\n",
       "        vertical-align: top;\n",
       "    }\n",
       "\n",
       "    .dataframe thead th {\n",
       "        text-align: right;\n",
       "    }\n",
       "</style>\n",
       "<table border=\"1\" class=\"dataframe\">\n",
       "  <thead>\n",
       "    <tr style=\"text-align: right;\">\n",
       "      <th></th>\n",
       "      <th>audio</th>\n",
       "      <th>text</th>\n",
       "    </tr>\n",
       "  </thead>\n",
       "  <tbody>\n",
       "    <tr>\n",
       "      <th>0</th>\n",
       "      <td>https://tlk.s3.yandex.net/ext_dataset/noisy_speech/noisy_tested_wav/p232_398.wav</td>\n",
       "      <td>but they are still unlikely to be involved in combat</td>\n",
       "    </tr>\n",
       "    <tr>\n",
       "      <th>2</th>\n",
       "      <td>https://tlk.s3.yandex.net/ext_dataset/noisy_speech/noisy_tested_wav/p232_213.wav</td>\n",
       "      <td>he is slightly confused</td>\n",
       "    </tr>\n",
       "    <tr>\n",
       "      <th>6</th>\n",
       "      <td>https://tlk.s3.yandex.net/ext_dataset/noisy_speech/noisy_tested_wav/p257_398.wav</td>\n",
       "      <td>i was very young</td>\n",
       "    </tr>\n",
       "    <tr>\n",
       "      <th>10</th>\n",
       "      <td>https://tlk.s3.yandex.net/ext_dataset/noisy_speech/noisy_tested_wav/p232_017.wav</td>\n",
       "      <td>others have tried to explain phenomenon physically</td>\n",
       "    </tr>\n",
       "    <tr>\n",
       "      <th>14</th>\n",
       "      <td>https://tlk.s3.yandex.net/ext_dataset/noisy_speech/noisy_tested_wav/p257_013.wav</td>\n",
       "      <td>some have excepted it as a miracle without any physical explanation</td>\n",
       "    </tr>\n",
       "    <tr>\n",
       "      <th>19</th>\n",
       "      <td>https://tlk.s3.yandex.net/ext_dataset/noisy_speech/noisy_tested_wav/p257_259.wav</td>\n",
       "      <td>it is very nice</td>\n",
       "    </tr>\n",
       "    <tr>\n",
       "      <th>23</th>\n",
       "      <td>https://tlk.s3.yandex.net/ext_dataset/noisy_speech/noisy_tested_wav/p257_296.wav</td>\n",
       "      <td>it was not just the character and the energy of the playing</td>\n",
       "    </tr>\n",
       "    <tr>\n",
       "      <th>26</th>\n",
       "      <td>https://tlk.s3.yandex.net/ext_dataset/noisy_speech/noisy_tested_wav/p232_264.wav</td>\n",
       "      <td>the work between musicians and the fire is very important</td>\n",
       "    </tr>\n",
       "    <tr>\n",
       "      <th>28</th>\n",
       "      <td>https://tlk.s3.yandex.net/ext_dataset/noisy_speech/noisy_tested_wav/p257_345.wav</td>\n",
       "      <td>instead he was informed to join the line of creditors</td>\n",
       "    </tr>\n",
       "    <tr>\n",
       "      <th>30</th>\n",
       "      <td>https://tlk.s3.yandex.net/ext_dataset/noisy_speech/noisy_tested_wav/p232_001.wav</td>\n",
       "      <td>please call stella</td>\n",
       "    </tr>\n",
       "    <tr>\n",
       "      <th>34</th>\n",
       "      <td>https://tlk.s3.yandex.net/ext_dataset/noisy_speech/noisy_tested_wav/p232_042.wav</td>\n",
       "      <td>you must always attempt to raise the bar</td>\n",
       "    </tr>\n",
       "    <tr>\n",
       "      <th>36</th>\n",
       "      <td>https://tlk.s3.yandex.net/ext_dataset/noisy_speech/noisy_tested_wav/p257_101.wav</td>\n",
       "      <td>however the intensive care unit at the southern general hospital is full</td>\n",
       "    </tr>\n",
       "    <tr>\n",
       "      <th>38</th>\n",
       "      <td>https://tlk.s3.yandex.net/ext_dataset/noisy_speech/noisy_tested_wav/p257_434.wav</td>\n",
       "      <td>the bill would be massive</td>\n",
       "    </tr>\n",
       "    <tr>\n",
       "      <th>43</th>\n",
       "      <td>https://tlk.s3.yandex.net/ext_dataset/noisy_speech/noisy_tested_wav/p232_411.wav</td>\n",
       "      <td>you wanted the evidence</td>\n",
       "    </tr>\n",
       "    <tr>\n",
       "      <th>45</th>\n",
       "      <td>https://tlk.s3.yandex.net/ext_dataset/noisy_speech/noisy_tested_wav/p257_306.wav</td>\n",
       "      <td>it should be equal</td>\n",
       "    </tr>\n",
       "    <tr>\n",
       "      <th>47</th>\n",
       "      <td>https://tlk.s3.yandex.net/ext_dataset/noisy_speech/noisy_tested_wav/p257_093.wav</td>\n",
       "      <td>he was possessed</td>\n",
       "    </tr>\n",
       "    <tr>\n",
       "      <th>51</th>\n",
       "      <td>https://tlk.s3.yandex.net/ext_dataset/noisy_speech/noisy_tested_wav/p257_023.wav</td>\n",
       "      <td>if the red of the second bow falls upon the green of the first the result is to give a bow with ...</td>\n",
       "    </tr>\n",
       "    <tr>\n",
       "      <th>55</th>\n",
       "      <td>https://tlk.s3.yandex.net/ext_dataset/noisy_speech/noisy_tested_wav/p257_333.wav</td>\n",
       "      <td>like his acting it was an accident</td>\n",
       "    </tr>\n",
       "    <tr>\n",
       "      <th>57</th>\n",
       "      <td>https://tlk.s3.yandex.net/ext_dataset/noisy_speech/noisy_tested_wav/p232_309.wav</td>\n",
       "      <td>we are now looking at the degrees of injury</td>\n",
       "    </tr>\n",
       "    <tr>\n",
       "      <th>61</th>\n",
       "      <td>https://tlk.s3.yandex.net/ext_dataset/noisy_speech/noisy_tested_wav/p232_362.wav</td>\n",
       "      <td>you must have a government and a good civil service</td>\n",
       "    </tr>\n",
       "  </tbody>\n",
       "</table>\n",
       "</div>"
      ],
      "text/plain": [
       "                                                                               audio  \\\n",
       "0   https://tlk.s3.yandex.net/ext_dataset/noisy_speech/noisy_tested_wav/p232_398.wav   \n",
       "2   https://tlk.s3.yandex.net/ext_dataset/noisy_speech/noisy_tested_wav/p232_213.wav   \n",
       "6   https://tlk.s3.yandex.net/ext_dataset/noisy_speech/noisy_tested_wav/p257_398.wav   \n",
       "10  https://tlk.s3.yandex.net/ext_dataset/noisy_speech/noisy_tested_wav/p232_017.wav   \n",
       "14  https://tlk.s3.yandex.net/ext_dataset/noisy_speech/noisy_tested_wav/p257_013.wav   \n",
       "19  https://tlk.s3.yandex.net/ext_dataset/noisy_speech/noisy_tested_wav/p257_259.wav   \n",
       "23  https://tlk.s3.yandex.net/ext_dataset/noisy_speech/noisy_tested_wav/p257_296.wav   \n",
       "26  https://tlk.s3.yandex.net/ext_dataset/noisy_speech/noisy_tested_wav/p232_264.wav   \n",
       "28  https://tlk.s3.yandex.net/ext_dataset/noisy_speech/noisy_tested_wav/p257_345.wav   \n",
       "30  https://tlk.s3.yandex.net/ext_dataset/noisy_speech/noisy_tested_wav/p232_001.wav   \n",
       "34  https://tlk.s3.yandex.net/ext_dataset/noisy_speech/noisy_tested_wav/p232_042.wav   \n",
       "36  https://tlk.s3.yandex.net/ext_dataset/noisy_speech/noisy_tested_wav/p257_101.wav   \n",
       "38  https://tlk.s3.yandex.net/ext_dataset/noisy_speech/noisy_tested_wav/p257_434.wav   \n",
       "43  https://tlk.s3.yandex.net/ext_dataset/noisy_speech/noisy_tested_wav/p232_411.wav   \n",
       "45  https://tlk.s3.yandex.net/ext_dataset/noisy_speech/noisy_tested_wav/p257_306.wav   \n",
       "47  https://tlk.s3.yandex.net/ext_dataset/noisy_speech/noisy_tested_wav/p257_093.wav   \n",
       "51  https://tlk.s3.yandex.net/ext_dataset/noisy_speech/noisy_tested_wav/p257_023.wav   \n",
       "55  https://tlk.s3.yandex.net/ext_dataset/noisy_speech/noisy_tested_wav/p257_333.wav   \n",
       "57  https://tlk.s3.yandex.net/ext_dataset/noisy_speech/noisy_tested_wav/p232_309.wav   \n",
       "61  https://tlk.s3.yandex.net/ext_dataset/noisy_speech/noisy_tested_wav/p232_362.wav   \n",
       "\n",
       "                                                                                                   text  \n",
       "0                                                  but they are still unlikely to be involved in combat  \n",
       "2                                                                               he is slightly confused  \n",
       "6                                                                                      i was very young  \n",
       "10                                                   others have tried to explain phenomenon physically  \n",
       "14                                  some have excepted it as a miracle without any physical explanation  \n",
       "19                                                                                      it is very nice  \n",
       "23                                          it was not just the character and the energy of the playing  \n",
       "26                                            the work between musicians and the fire is very important  \n",
       "28                                                instead he was informed to join the line of creditors  \n",
       "30                                                                                   please call stella  \n",
       "34                                                             you must always attempt to raise the bar  \n",
       "36                             however the intensive care unit at the southern general hospital is full  \n",
       "38                                                                            the bill would be massive  \n",
       "43                                                                              you wanted the evidence  \n",
       "45                                                                                   it should be equal  \n",
       "47                                                                                     he was possessed  \n",
       "51  if the red of the second bow falls upon the green of the first the result is to give a bow with ...  \n",
       "55                                                                   like his acting it was an accident  \n",
       "57                                                          we are now looking at the degrees of injury  \n",
       "61                                                  you must have a government and a good civil service  "
      ]
     },
     "metadata": {},
     "output_type": "display_data"
    }
   ],
   "source": [
    "with pd.option_context(\"max_colwidth\", 100):\n",
    "    display(results.predict())"
   ]
  },
  {
   "cell_type": "markdown",
   "id": "704102e9",
   "metadata": {},
   "source": [
    "All gathered annotations with respective confidence values:"
   ]
  },
  {
   "cell_type": "code",
   "execution_count": 198,
   "id": "089d75e2",
   "metadata": {},
   "outputs": [
    {
     "data": {
      "text/html": [
       "<div>\n",
       "<style scoped>\n",
       "    .dataframe tbody tr th:only-of-type {\n",
       "        vertical-align: middle;\n",
       "    }\n",
       "\n",
       "    .dataframe tbody tr th {\n",
       "        vertical-align: top;\n",
       "    }\n",
       "\n",
       "    .dataframe thead th {\n",
       "        text-align: right;\n",
       "    }\n",
       "</style>\n",
       "<table border=\"1\" class=\"dataframe\">\n",
       "  <thead>\n",
       "    <tr style=\"text-align: right;\">\n",
       "      <th></th>\n",
       "      <th>audio</th>\n",
       "      <th>text</th>\n",
       "      <th>confidence</th>\n",
       "    </tr>\n",
       "  </thead>\n",
       "  <tbody>\n",
       "    <tr>\n",
       "      <th>0</th>\n",
       "      <td>https://tlk.s3.yandex.net/ext_dataset/noisy_speech/noisy_tested_wav/p232_398.wav</td>\n",
       "      <td>but they are still unlikely to be involved in combat</td>\n",
       "      <td>0.991803</td>\n",
       "    </tr>\n",
       "    <tr>\n",
       "      <th>2</th>\n",
       "      <td>https://tlk.s3.yandex.net/ext_dataset/noisy_speech/noisy_tested_wav/p232_213.wav</td>\n",
       "      <td>he is slightly confused</td>\n",
       "      <td>0.995690</td>\n",
       "    </tr>\n",
       "    <tr>\n",
       "      <th>4</th>\n",
       "      <td>https://tlk.s3.yandex.net/ext_dataset/noisy_speech/noisy_tested_wav/p232_213.wav</td>\n",
       "      <td>he was slightly confused</td>\n",
       "      <td>0.008197</td>\n",
       "    </tr>\n",
       "    <tr>\n",
       "      <th>6</th>\n",
       "      <td>https://tlk.s3.yandex.net/ext_dataset/noisy_speech/noisy_tested_wav/p257_398.wav</td>\n",
       "      <td>i was very young</td>\n",
       "      <td>0.995690</td>\n",
       "    </tr>\n",
       "    <tr>\n",
       "      <th>10</th>\n",
       "      <td>https://tlk.s3.yandex.net/ext_dataset/noisy_speech/noisy_tested_wav/p232_017.wav</td>\n",
       "      <td>others have tried to explain phenomenon physically</td>\n",
       "      <td>0.995690</td>\n",
       "    </tr>\n",
       "    <tr>\n",
       "      <th>12</th>\n",
       "      <td>https://tlk.s3.yandex.net/ext_dataset/noisy_speech/noisy_tested_wav/p232_017.wav</td>\n",
       "      <td>others have tried to explain phenomena physically</td>\n",
       "      <td>0.008197</td>\n",
       "    </tr>\n",
       "    <tr>\n",
       "      <th>14</th>\n",
       "      <td>https://tlk.s3.yandex.net/ext_dataset/noisy_speech/noisy_tested_wav/p257_013.wav</td>\n",
       "      <td>some have excepted it as a miracle without any physical explanation</td>\n",
       "      <td>0.995690</td>\n",
       "    </tr>\n",
       "    <tr>\n",
       "      <th>16</th>\n",
       "      <td>https://tlk.s3.yandex.net/ext_dataset/noisy_speech/noisy_tested_wav/p257_013.wav</td>\n",
       "      <td>some have accepted it as a miracle without physical explanation</td>\n",
       "      <td>0.045455</td>\n",
       "    </tr>\n",
       "    <tr>\n",
       "      <th>19</th>\n",
       "      <td>https://tlk.s3.yandex.net/ext_dataset/noisy_speech/noisy_tested_wav/p257_259.wav</td>\n",
       "      <td>it is very nice</td>\n",
       "      <td>0.995690</td>\n",
       "    </tr>\n",
       "    <tr>\n",
       "      <th>21</th>\n",
       "      <td>https://tlk.s3.yandex.net/ext_dataset/noisy_speech/noisy_tested_wav/p257_259.wav</td>\n",
       "      <td>its very nice</td>\n",
       "      <td>0.008197</td>\n",
       "    </tr>\n",
       "    <tr>\n",
       "      <th>23</th>\n",
       "      <td>https://tlk.s3.yandex.net/ext_dataset/noisy_speech/noisy_tested_wav/p257_296.wav</td>\n",
       "      <td>it was not just the character and the energy of the playing</td>\n",
       "      <td>0.995690</td>\n",
       "    </tr>\n",
       "    <tr>\n",
       "      <th>25</th>\n",
       "      <td>https://tlk.s3.yandex.net/ext_dataset/noisy_speech/noisy_tested_wav/p257_296.wav</td>\n",
       "      <td>it wasnt just the character and the energy of the play</td>\n",
       "      <td>NaN</td>\n",
       "    </tr>\n",
       "    <tr>\n",
       "      <th>26</th>\n",
       "      <td>https://tlk.s3.yandex.net/ext_dataset/noisy_speech/noisy_tested_wav/p232_264.wav</td>\n",
       "      <td>the work between musicians and the fire is very important</td>\n",
       "      <td>0.991803</td>\n",
       "    </tr>\n",
       "    <tr>\n",
       "      <th>28</th>\n",
       "      <td>https://tlk.s3.yandex.net/ext_dataset/noisy_speech/noisy_tested_wav/p257_345.wav</td>\n",
       "      <td>instead he was informed to join the line of creditors</td>\n",
       "      <td>0.991803</td>\n",
       "    </tr>\n",
       "    <tr>\n",
       "      <th>30</th>\n",
       "      <td>https://tlk.s3.yandex.net/ext_dataset/noisy_speech/noisy_tested_wav/p232_001.wav</td>\n",
       "      <td>please call stella</td>\n",
       "      <td>0.995690</td>\n",
       "    </tr>\n",
       "    <tr>\n",
       "      <th>32</th>\n",
       "      <td>https://tlk.s3.yandex.net/ext_dataset/noisy_speech/noisy_tested_wav/p232_001.wav</td>\n",
       "      <td>please call Stella</td>\n",
       "      <td>0.008197</td>\n",
       "    </tr>\n",
       "    <tr>\n",
       "      <th>34</th>\n",
       "      <td>https://tlk.s3.yandex.net/ext_dataset/noisy_speech/noisy_tested_wav/p232_042.wav</td>\n",
       "      <td>you must always attempt to raise the bar</td>\n",
       "      <td>0.991803</td>\n",
       "    </tr>\n",
       "    <tr>\n",
       "      <th>36</th>\n",
       "      <td>https://tlk.s3.yandex.net/ext_dataset/noisy_speech/noisy_tested_wav/p257_101.wav</td>\n",
       "      <td>however the intensive care unit at the southern general hospital is full</td>\n",
       "      <td>0.991803</td>\n",
       "    </tr>\n",
       "    <tr>\n",
       "      <th>38</th>\n",
       "      <td>https://tlk.s3.yandex.net/ext_dataset/noisy_speech/noisy_tested_wav/p257_434.wav</td>\n",
       "      <td>the bill would be massive</td>\n",
       "      <td>0.995690</td>\n",
       "    </tr>\n",
       "    <tr>\n",
       "      <th>40</th>\n",
       "      <td>https://tlk.s3.yandex.net/ext_dataset/noisy_speech/noisy_tested_wav/p257_434.wav</td>\n",
       "      <td>the bill will be massive</td>\n",
       "      <td>0.045455</td>\n",
       "    </tr>\n",
       "    <tr>\n",
       "      <th>43</th>\n",
       "      <td>https://tlk.s3.yandex.net/ext_dataset/noisy_speech/noisy_tested_wav/p232_411.wav</td>\n",
       "      <td>you wanted the evidence</td>\n",
       "      <td>0.991803</td>\n",
       "    </tr>\n",
       "    <tr>\n",
       "      <th>45</th>\n",
       "      <td>https://tlk.s3.yandex.net/ext_dataset/noisy_speech/noisy_tested_wav/p257_306.wav</td>\n",
       "      <td>it should be equal</td>\n",
       "      <td>0.991803</td>\n",
       "    </tr>\n",
       "    <tr>\n",
       "      <th>47</th>\n",
       "      <td>https://tlk.s3.yandex.net/ext_dataset/noisy_speech/noisy_tested_wav/p257_093.wav</td>\n",
       "      <td>he was possessed</td>\n",
       "      <td>0.995690</td>\n",
       "    </tr>\n",
       "    <tr>\n",
       "      <th>51</th>\n",
       "      <td>https://tlk.s3.yandex.net/ext_dataset/noisy_speech/noisy_tested_wav/p257_023.wav</td>\n",
       "      <td>if the red of the second bow falls upon the green of the first the result is to give a bow with ...</td>\n",
       "      <td>0.995690</td>\n",
       "    </tr>\n",
       "    <tr>\n",
       "      <th>55</th>\n",
       "      <td>https://tlk.s3.yandex.net/ext_dataset/noisy_speech/noisy_tested_wav/p257_333.wav</td>\n",
       "      <td>like his acting it was an accident</td>\n",
       "      <td>0.991803</td>\n",
       "    </tr>\n",
       "    <tr>\n",
       "      <th>57</th>\n",
       "      <td>https://tlk.s3.yandex.net/ext_dataset/noisy_speech/noisy_tested_wav/p232_309.wav</td>\n",
       "      <td>we are now looking at the degrees of injury</td>\n",
       "      <td>0.995690</td>\n",
       "    </tr>\n",
       "    <tr>\n",
       "      <th>61</th>\n",
       "      <td>https://tlk.s3.yandex.net/ext_dataset/noisy_speech/noisy_tested_wav/p232_362.wav</td>\n",
       "      <td>you must have a government and a good civil service</td>\n",
       "      <td>0.991803</td>\n",
       "    </tr>\n",
       "  </tbody>\n",
       "</table>\n",
       "</div>"
      ],
      "text/plain": [
       "                                                                               audio  \\\n",
       "0   https://tlk.s3.yandex.net/ext_dataset/noisy_speech/noisy_tested_wav/p232_398.wav   \n",
       "2   https://tlk.s3.yandex.net/ext_dataset/noisy_speech/noisy_tested_wav/p232_213.wav   \n",
       "4   https://tlk.s3.yandex.net/ext_dataset/noisy_speech/noisy_tested_wav/p232_213.wav   \n",
       "6   https://tlk.s3.yandex.net/ext_dataset/noisy_speech/noisy_tested_wav/p257_398.wav   \n",
       "10  https://tlk.s3.yandex.net/ext_dataset/noisy_speech/noisy_tested_wav/p232_017.wav   \n",
       "12  https://tlk.s3.yandex.net/ext_dataset/noisy_speech/noisy_tested_wav/p232_017.wav   \n",
       "14  https://tlk.s3.yandex.net/ext_dataset/noisy_speech/noisy_tested_wav/p257_013.wav   \n",
       "16  https://tlk.s3.yandex.net/ext_dataset/noisy_speech/noisy_tested_wav/p257_013.wav   \n",
       "19  https://tlk.s3.yandex.net/ext_dataset/noisy_speech/noisy_tested_wav/p257_259.wav   \n",
       "21  https://tlk.s3.yandex.net/ext_dataset/noisy_speech/noisy_tested_wav/p257_259.wav   \n",
       "23  https://tlk.s3.yandex.net/ext_dataset/noisy_speech/noisy_tested_wav/p257_296.wav   \n",
       "25  https://tlk.s3.yandex.net/ext_dataset/noisy_speech/noisy_tested_wav/p257_296.wav   \n",
       "26  https://tlk.s3.yandex.net/ext_dataset/noisy_speech/noisy_tested_wav/p232_264.wav   \n",
       "28  https://tlk.s3.yandex.net/ext_dataset/noisy_speech/noisy_tested_wav/p257_345.wav   \n",
       "30  https://tlk.s3.yandex.net/ext_dataset/noisy_speech/noisy_tested_wav/p232_001.wav   \n",
       "32  https://tlk.s3.yandex.net/ext_dataset/noisy_speech/noisy_tested_wav/p232_001.wav   \n",
       "34  https://tlk.s3.yandex.net/ext_dataset/noisy_speech/noisy_tested_wav/p232_042.wav   \n",
       "36  https://tlk.s3.yandex.net/ext_dataset/noisy_speech/noisy_tested_wav/p257_101.wav   \n",
       "38  https://tlk.s3.yandex.net/ext_dataset/noisy_speech/noisy_tested_wav/p257_434.wav   \n",
       "40  https://tlk.s3.yandex.net/ext_dataset/noisy_speech/noisy_tested_wav/p257_434.wav   \n",
       "43  https://tlk.s3.yandex.net/ext_dataset/noisy_speech/noisy_tested_wav/p232_411.wav   \n",
       "45  https://tlk.s3.yandex.net/ext_dataset/noisy_speech/noisy_tested_wav/p257_306.wav   \n",
       "47  https://tlk.s3.yandex.net/ext_dataset/noisy_speech/noisy_tested_wav/p257_093.wav   \n",
       "51  https://tlk.s3.yandex.net/ext_dataset/noisy_speech/noisy_tested_wav/p257_023.wav   \n",
       "55  https://tlk.s3.yandex.net/ext_dataset/noisy_speech/noisy_tested_wav/p257_333.wav   \n",
       "57  https://tlk.s3.yandex.net/ext_dataset/noisy_speech/noisy_tested_wav/p232_309.wav   \n",
       "61  https://tlk.s3.yandex.net/ext_dataset/noisy_speech/noisy_tested_wav/p232_362.wav   \n",
       "\n",
       "                                                                                                   text  \\\n",
       "0                                                  but they are still unlikely to be involved in combat   \n",
       "2                                                                               he is slightly confused   \n",
       "4                                                                              he was slightly confused   \n",
       "6                                                                                      i was very young   \n",
       "10                                                   others have tried to explain phenomenon physically   \n",
       "12                                                    others have tried to explain phenomena physically   \n",
       "14                                  some have excepted it as a miracle without any physical explanation   \n",
       "16                                      some have accepted it as a miracle without physical explanation   \n",
       "19                                                                                      it is very nice   \n",
       "21                                                                                        its very nice   \n",
       "23                                          it was not just the character and the energy of the playing   \n",
       "25                                               it wasnt just the character and the energy of the play   \n",
       "26                                            the work between musicians and the fire is very important   \n",
       "28                                                instead he was informed to join the line of creditors   \n",
       "30                                                                                   please call stella   \n",
       "32                                                                                   please call Stella   \n",
       "34                                                             you must always attempt to raise the bar   \n",
       "36                             however the intensive care unit at the southern general hospital is full   \n",
       "38                                                                            the bill would be massive   \n",
       "40                                                                             the bill will be massive   \n",
       "43                                                                              you wanted the evidence   \n",
       "45                                                                                   it should be equal   \n",
       "47                                                                                     he was possessed   \n",
       "51  if the red of the second bow falls upon the green of the first the result is to give a bow with ...   \n",
       "55                                                                   like his acting it was an accident   \n",
       "57                                                          we are now looking at the degrees of injury   \n",
       "61                                                  you must have a government and a good civil service   \n",
       "\n",
       "    confidence  \n",
       "0     0.991803  \n",
       "2     0.995690  \n",
       "4     0.008197  \n",
       "6     0.995690  \n",
       "10    0.995690  \n",
       "12    0.008197  \n",
       "14    0.995690  \n",
       "16    0.045455  \n",
       "19    0.995690  \n",
       "21    0.008197  \n",
       "23    0.995690  \n",
       "25         NaN  \n",
       "26    0.991803  \n",
       "28    0.991803  \n",
       "30    0.995690  \n",
       "32    0.008197  \n",
       "34    0.991803  \n",
       "36    0.991803  \n",
       "38    0.995690  \n",
       "40    0.045455  \n",
       "43    0.991803  \n",
       "45    0.991803  \n",
       "47    0.995690  \n",
       "51    0.995690  \n",
       "55    0.991803  \n",
       "57    0.995690  \n",
       "61    0.991803  "
      ]
     },
     "metadata": {},
     "output_type": "display_data"
    }
   ],
   "source": [
    "with pd.option_context(\"max_colwidth\", 100):\n",
    "    display(results.predict_proba())"
   ]
  },
  {
   "cell_type": "markdown",
   "id": "9a7833f7",
   "metadata": {},
   "source": [
    "Detailed information about each annotation and each check for it:"
   ]
  },
  {
   "cell_type": "code",
   "execution_count": 210,
   "id": "e8b0c75c",
   "metadata": {},
   "outputs": [
    {
     "data": {
      "text/html": [
       "<div>\n",
       "<style scoped>\n",
       "    .dataframe tbody tr th:only-of-type {\n",
       "        vertical-align: middle;\n",
       "    }\n",
       "\n",
       "    .dataframe tbody tr th {\n",
       "        vertical-align: top;\n",
       "    }\n",
       "\n",
       "    .dataframe thead th {\n",
       "        text-align: right;\n",
       "    }\n",
       "</style>\n",
       "<table border=\"1\" class=\"dataframe\">\n",
       "  <thead>\n",
       "    <tr style=\"text-align: right;\">\n",
       "      <th></th>\n",
       "      <th>audio</th>\n",
       "      <th>text</th>\n",
       "      <th>annotator</th>\n",
       "      <th>annotation_overlap</th>\n",
       "      <th>confidence</th>\n",
       "      <th>evaluation_overlap</th>\n",
       "      <th>eval</th>\n",
       "      <th>evaluator</th>\n",
       "      <th>evaluator_weight</th>\n",
       "    </tr>\n",
       "  </thead>\n",
       "  <tbody>\n",
       "    <tr>\n",
       "      <th>0</th>\n",
       "      <td>https://tlk.s3.yandex.net/ext_dataset/noisy_speech/noisy_tested_wav/p232_398.wav</td>\n",
       "      <td>but they are still unlikely to be involved in combat</td>\n",
       "      <td>fd060a4d57b00f9bba4421fe4c7c22f3</td>\n",
       "      <td>1</td>\n",
       "      <td>0.991803</td>\n",
       "      <td>2</td>\n",
       "      <td>True</td>\n",
       "      <td>fd060a4d57b00f9bba4421fe4c7c22f3</td>\n",
       "      <td>0.916667</td>\n",
       "    </tr>\n",
       "    <tr>\n",
       "      <th>1</th>\n",
       "      <td>https://tlk.s3.yandex.net/ext_dataset/noisy_speech/noisy_tested_wav/p232_398.wav</td>\n",
       "      <td>but they are still unlikely to be involved in combat</td>\n",
       "      <td>fd060a4d57b00f9bba4421fe4c7c22f3</td>\n",
       "      <td>1</td>\n",
       "      <td>0.991803</td>\n",
       "      <td>2</td>\n",
       "      <td>True</td>\n",
       "      <td>6d85abd870df2592ef79175f99b5b93c</td>\n",
       "      <td>0.916667</td>\n",
       "    </tr>\n",
       "    <tr>\n",
       "      <th>2</th>\n",
       "      <td>https://tlk.s3.yandex.net/ext_dataset/noisy_speech/noisy_tested_wav/p232_213.wav</td>\n",
       "      <td>he is slightly confused</td>\n",
       "      <td>6d85abd870df2592ef79175f99b5b93c</td>\n",
       "      <td>2</td>\n",
       "      <td>0.995690</td>\n",
       "      <td>2</td>\n",
       "      <td>True</td>\n",
       "      <td>155593e4339bc240a2863da87fcdb856</td>\n",
       "      <td>0.916667</td>\n",
       "    </tr>\n",
       "    <tr>\n",
       "      <th>3</th>\n",
       "      <td>https://tlk.s3.yandex.net/ext_dataset/noisy_speech/noisy_tested_wav/p232_213.wav</td>\n",
       "      <td>he is slightly confused</td>\n",
       "      <td>6d85abd870df2592ef79175f99b5b93c</td>\n",
       "      <td>2</td>\n",
       "      <td>0.995690</td>\n",
       "      <td>2</td>\n",
       "      <td>True</td>\n",
       "      <td>f87548bd9c317ed987e22c8ebe3dea3c</td>\n",
       "      <td>0.954545</td>\n",
       "    </tr>\n",
       "    <tr>\n",
       "      <th>4</th>\n",
       "      <td>https://tlk.s3.yandex.net/ext_dataset/noisy_speech/noisy_tested_wav/p232_213.wav</td>\n",
       "      <td>he was slightly confused</td>\n",
       "      <td>fd060a4d57b00f9bba4421fe4c7c22f3</td>\n",
       "      <td>2</td>\n",
       "      <td>0.008197</td>\n",
       "      <td>2</td>\n",
       "      <td>False</td>\n",
       "      <td>fd060a4d57b00f9bba4421fe4c7c22f3</td>\n",
       "      <td>0.916667</td>\n",
       "    </tr>\n",
       "    <tr>\n",
       "      <th>5</th>\n",
       "      <td>https://tlk.s3.yandex.net/ext_dataset/noisy_speech/noisy_tested_wav/p232_213.wav</td>\n",
       "      <td>he was slightly confused</td>\n",
       "      <td>fd060a4d57b00f9bba4421fe4c7c22f3</td>\n",
       "      <td>2</td>\n",
       "      <td>0.008197</td>\n",
       "      <td>2</td>\n",
       "      <td>False</td>\n",
       "      <td>6d85abd870df2592ef79175f99b5b93c</td>\n",
       "      <td>0.916667</td>\n",
       "    </tr>\n",
       "    <tr>\n",
       "      <th>6</th>\n",
       "      <td>https://tlk.s3.yandex.net/ext_dataset/noisy_speech/noisy_tested_wav/p257_398.wav</td>\n",
       "      <td>i was very young</td>\n",
       "      <td>6d85abd870df2592ef79175f99b5b93c</td>\n",
       "      <td>2</td>\n",
       "      <td>0.995690</td>\n",
       "      <td>2</td>\n",
       "      <td>True</td>\n",
       "      <td>155593e4339bc240a2863da87fcdb856</td>\n",
       "      <td>0.916667</td>\n",
       "    </tr>\n",
       "    <tr>\n",
       "      <th>7</th>\n",
       "      <td>https://tlk.s3.yandex.net/ext_dataset/noisy_speech/noisy_tested_wav/p257_398.wav</td>\n",
       "      <td>i was very young</td>\n",
       "      <td>6d85abd870df2592ef79175f99b5b93c</td>\n",
       "      <td>2</td>\n",
       "      <td>0.995690</td>\n",
       "      <td>2</td>\n",
       "      <td>True</td>\n",
       "      <td>f87548bd9c317ed987e22c8ebe3dea3c</td>\n",
       "      <td>0.954545</td>\n",
       "    </tr>\n",
       "    <tr>\n",
       "      <th>8</th>\n",
       "      <td>https://tlk.s3.yandex.net/ext_dataset/noisy_speech/noisy_tested_wav/p257_398.wav</td>\n",
       "      <td>i was very young</td>\n",
       "      <td>fd060a4d57b00f9bba4421fe4c7c22f3</td>\n",
       "      <td>2</td>\n",
       "      <td>0.995690</td>\n",
       "      <td>2</td>\n",
       "      <td>True</td>\n",
       "      <td>155593e4339bc240a2863da87fcdb856</td>\n",
       "      <td>0.916667</td>\n",
       "    </tr>\n",
       "    <tr>\n",
       "      <th>9</th>\n",
       "      <td>https://tlk.s3.yandex.net/ext_dataset/noisy_speech/noisy_tested_wav/p257_398.wav</td>\n",
       "      <td>i was very young</td>\n",
       "      <td>fd060a4d57b00f9bba4421fe4c7c22f3</td>\n",
       "      <td>2</td>\n",
       "      <td>0.995690</td>\n",
       "      <td>2</td>\n",
       "      <td>True</td>\n",
       "      <td>f87548bd9c317ed987e22c8ebe3dea3c</td>\n",
       "      <td>0.954545</td>\n",
       "    </tr>\n",
       "    <tr>\n",
       "      <th>10</th>\n",
       "      <td>https://tlk.s3.yandex.net/ext_dataset/noisy_speech/noisy_tested_wav/p232_017.wav</td>\n",
       "      <td>others have tried to explain phenomenon physically</td>\n",
       "      <td>6d85abd870df2592ef79175f99b5b93c</td>\n",
       "      <td>2</td>\n",
       "      <td>0.995690</td>\n",
       "      <td>2</td>\n",
       "      <td>True</td>\n",
       "      <td>155593e4339bc240a2863da87fcdb856</td>\n",
       "      <td>0.916667</td>\n",
       "    </tr>\n",
       "    <tr>\n",
       "      <th>11</th>\n",
       "      <td>https://tlk.s3.yandex.net/ext_dataset/noisy_speech/noisy_tested_wav/p232_017.wav</td>\n",
       "      <td>others have tried to explain phenomenon physically</td>\n",
       "      <td>6d85abd870df2592ef79175f99b5b93c</td>\n",
       "      <td>2</td>\n",
       "      <td>0.995690</td>\n",
       "      <td>2</td>\n",
       "      <td>True</td>\n",
       "      <td>f87548bd9c317ed987e22c8ebe3dea3c</td>\n",
       "      <td>0.954545</td>\n",
       "    </tr>\n",
       "    <tr>\n",
       "      <th>12</th>\n",
       "      <td>https://tlk.s3.yandex.net/ext_dataset/noisy_speech/noisy_tested_wav/p232_017.wav</td>\n",
       "      <td>others have tried to explain phenomena physically</td>\n",
       "      <td>fd060a4d57b00f9bba4421fe4c7c22f3</td>\n",
       "      <td>2</td>\n",
       "      <td>0.008197</td>\n",
       "      <td>2</td>\n",
       "      <td>False</td>\n",
       "      <td>fd060a4d57b00f9bba4421fe4c7c22f3</td>\n",
       "      <td>0.916667</td>\n",
       "    </tr>\n",
       "    <tr>\n",
       "      <th>13</th>\n",
       "      <td>https://tlk.s3.yandex.net/ext_dataset/noisy_speech/noisy_tested_wav/p232_017.wav</td>\n",
       "      <td>others have tried to explain phenomena physically</td>\n",
       "      <td>fd060a4d57b00f9bba4421fe4c7c22f3</td>\n",
       "      <td>2</td>\n",
       "      <td>0.008197</td>\n",
       "      <td>2</td>\n",
       "      <td>False</td>\n",
       "      <td>6d85abd870df2592ef79175f99b5b93c</td>\n",
       "      <td>0.916667</td>\n",
       "    </tr>\n",
       "    <tr>\n",
       "      <th>14</th>\n",
       "      <td>https://tlk.s3.yandex.net/ext_dataset/noisy_speech/noisy_tested_wav/p257_013.wav</td>\n",
       "      <td>some have excepted it as a miracle without any physical explanation</td>\n",
       "      <td>6d85abd870df2592ef79175f99b5b93c</td>\n",
       "      <td>2</td>\n",
       "      <td>0.995690</td>\n",
       "      <td>2</td>\n",
       "      <td>True</td>\n",
       "      <td>155593e4339bc240a2863da87fcdb856</td>\n",
       "      <td>0.916667</td>\n",
       "    </tr>\n",
       "    <tr>\n",
       "      <th>15</th>\n",
       "      <td>https://tlk.s3.yandex.net/ext_dataset/noisy_speech/noisy_tested_wav/p257_013.wav</td>\n",
       "      <td>some have excepted it as a miracle without any physical explanation</td>\n",
       "      <td>6d85abd870df2592ef79175f99b5b93c</td>\n",
       "      <td>2</td>\n",
       "      <td>0.995690</td>\n",
       "      <td>2</td>\n",
       "      <td>True</td>\n",
       "      <td>f87548bd9c317ed987e22c8ebe3dea3c</td>\n",
       "      <td>0.954545</td>\n",
       "    </tr>\n",
       "    <tr>\n",
       "      <th>16</th>\n",
       "      <td>https://tlk.s3.yandex.net/ext_dataset/noisy_speech/noisy_tested_wav/p257_013.wav</td>\n",
       "      <td>some have accepted it as a miracle without physical explanation</td>\n",
       "      <td>fd060a4d57b00f9bba4421fe4c7c22f3</td>\n",
       "      <td>2</td>\n",
       "      <td>0.045455</td>\n",
       "      <td>3</td>\n",
       "      <td>True</td>\n",
       "      <td>fd060a4d57b00f9bba4421fe4c7c22f3</td>\n",
       "      <td>0.916667</td>\n",
       "    </tr>\n",
       "    <tr>\n",
       "      <th>17</th>\n",
       "      <td>https://tlk.s3.yandex.net/ext_dataset/noisy_speech/noisy_tested_wav/p257_013.wav</td>\n",
       "      <td>some have accepted it as a miracle without physical explanation</td>\n",
       "      <td>fd060a4d57b00f9bba4421fe4c7c22f3</td>\n",
       "      <td>2</td>\n",
       "      <td>0.045455</td>\n",
       "      <td>3</td>\n",
       "      <td>False</td>\n",
       "      <td>6d85abd870df2592ef79175f99b5b93c</td>\n",
       "      <td>0.916667</td>\n",
       "    </tr>\n",
       "    <tr>\n",
       "      <th>18</th>\n",
       "      <td>https://tlk.s3.yandex.net/ext_dataset/noisy_speech/noisy_tested_wav/p257_013.wav</td>\n",
       "      <td>some have accepted it as a miracle without physical explanation</td>\n",
       "      <td>fd060a4d57b00f9bba4421fe4c7c22f3</td>\n",
       "      <td>2</td>\n",
       "      <td>0.045455</td>\n",
       "      <td>3</td>\n",
       "      <td>False</td>\n",
       "      <td>f87548bd9c317ed987e22c8ebe3dea3c</td>\n",
       "      <td>0.954545</td>\n",
       "    </tr>\n",
       "    <tr>\n",
       "      <th>19</th>\n",
       "      <td>https://tlk.s3.yandex.net/ext_dataset/noisy_speech/noisy_tested_wav/p257_259.wav</td>\n",
       "      <td>it is very nice</td>\n",
       "      <td>6d85abd870df2592ef79175f99b5b93c</td>\n",
       "      <td>2</td>\n",
       "      <td>0.995690</td>\n",
       "      <td>2</td>\n",
       "      <td>True</td>\n",
       "      <td>155593e4339bc240a2863da87fcdb856</td>\n",
       "      <td>0.916667</td>\n",
       "    </tr>\n",
       "    <tr>\n",
       "      <th>20</th>\n",
       "      <td>https://tlk.s3.yandex.net/ext_dataset/noisy_speech/noisy_tested_wav/p257_259.wav</td>\n",
       "      <td>it is very nice</td>\n",
       "      <td>6d85abd870df2592ef79175f99b5b93c</td>\n",
       "      <td>2</td>\n",
       "      <td>0.995690</td>\n",
       "      <td>2</td>\n",
       "      <td>True</td>\n",
       "      <td>f87548bd9c317ed987e22c8ebe3dea3c</td>\n",
       "      <td>0.954545</td>\n",
       "    </tr>\n",
       "    <tr>\n",
       "      <th>21</th>\n",
       "      <td>https://tlk.s3.yandex.net/ext_dataset/noisy_speech/noisy_tested_wav/p257_259.wav</td>\n",
       "      <td>its very nice</td>\n",
       "      <td>fd060a4d57b00f9bba4421fe4c7c22f3</td>\n",
       "      <td>2</td>\n",
       "      <td>0.008197</td>\n",
       "      <td>2</td>\n",
       "      <td>False</td>\n",
       "      <td>fd060a4d57b00f9bba4421fe4c7c22f3</td>\n",
       "      <td>0.916667</td>\n",
       "    </tr>\n",
       "    <tr>\n",
       "      <th>22</th>\n",
       "      <td>https://tlk.s3.yandex.net/ext_dataset/noisy_speech/noisy_tested_wav/p257_259.wav</td>\n",
       "      <td>its very nice</td>\n",
       "      <td>fd060a4d57b00f9bba4421fe4c7c22f3</td>\n",
       "      <td>2</td>\n",
       "      <td>0.008197</td>\n",
       "      <td>2</td>\n",
       "      <td>False</td>\n",
       "      <td>6d85abd870df2592ef79175f99b5b93c</td>\n",
       "      <td>0.916667</td>\n",
       "    </tr>\n",
       "    <tr>\n",
       "      <th>23</th>\n",
       "      <td>https://tlk.s3.yandex.net/ext_dataset/noisy_speech/noisy_tested_wav/p257_296.wav</td>\n",
       "      <td>it was not just the character and the energy of the playing</td>\n",
       "      <td>6d85abd870df2592ef79175f99b5b93c</td>\n",
       "      <td>2</td>\n",
       "      <td>0.995690</td>\n",
       "      <td>2</td>\n",
       "      <td>True</td>\n",
       "      <td>155593e4339bc240a2863da87fcdb856</td>\n",
       "      <td>0.916667</td>\n",
       "    </tr>\n",
       "    <tr>\n",
       "      <th>24</th>\n",
       "      <td>https://tlk.s3.yandex.net/ext_dataset/noisy_speech/noisy_tested_wav/p257_296.wav</td>\n",
       "      <td>it was not just the character and the energy of the playing</td>\n",
       "      <td>6d85abd870df2592ef79175f99b5b93c</td>\n",
       "      <td>2</td>\n",
       "      <td>0.995690</td>\n",
       "      <td>2</td>\n",
       "      <td>True</td>\n",
       "      <td>f87548bd9c317ed987e22c8ebe3dea3c</td>\n",
       "      <td>0.954545</td>\n",
       "    </tr>\n",
       "    <tr>\n",
       "      <th>25</th>\n",
       "      <td>https://tlk.s3.yandex.net/ext_dataset/noisy_speech/noisy_tested_wav/p257_296.wav</td>\n",
       "      <td>it wasnt just the character and the energy of the play</td>\n",
       "      <td>fd060a4d57b00f9bba4421fe4c7c22f3</td>\n",
       "      <td>2</td>\n",
       "      <td>NaN</td>\n",
       "      <td>0</td>\n",
       "      <td>NaN</td>\n",
       "      <td>NaN</td>\n",
       "      <td>NaN</td>\n",
       "    </tr>\n",
       "    <tr>\n",
       "      <th>26</th>\n",
       "      <td>https://tlk.s3.yandex.net/ext_dataset/noisy_speech/noisy_tested_wav/p232_264.wav</td>\n",
       "      <td>the work between musicians and the fire is very important</td>\n",
       "      <td>fd060a4d57b00f9bba4421fe4c7c22f3</td>\n",
       "      <td>1</td>\n",
       "      <td>0.991803</td>\n",
       "      <td>2</td>\n",
       "      <td>True</td>\n",
       "      <td>fd060a4d57b00f9bba4421fe4c7c22f3</td>\n",
       "      <td>0.916667</td>\n",
       "    </tr>\n",
       "    <tr>\n",
       "      <th>27</th>\n",
       "      <td>https://tlk.s3.yandex.net/ext_dataset/noisy_speech/noisy_tested_wav/p232_264.wav</td>\n",
       "      <td>the work between musicians and the fire is very important</td>\n",
       "      <td>fd060a4d57b00f9bba4421fe4c7c22f3</td>\n",
       "      <td>1</td>\n",
       "      <td>0.991803</td>\n",
       "      <td>2</td>\n",
       "      <td>True</td>\n",
       "      <td>6d85abd870df2592ef79175f99b5b93c</td>\n",
       "      <td>0.916667</td>\n",
       "    </tr>\n",
       "    <tr>\n",
       "      <th>28</th>\n",
       "      <td>https://tlk.s3.yandex.net/ext_dataset/noisy_speech/noisy_tested_wav/p257_345.wav</td>\n",
       "      <td>instead he was informed to join the line of creditors</td>\n",
       "      <td>fd060a4d57b00f9bba4421fe4c7c22f3</td>\n",
       "      <td>1</td>\n",
       "      <td>0.991803</td>\n",
       "      <td>2</td>\n",
       "      <td>True</td>\n",
       "      <td>fd060a4d57b00f9bba4421fe4c7c22f3</td>\n",
       "      <td>0.916667</td>\n",
       "    </tr>\n",
       "    <tr>\n",
       "      <th>29</th>\n",
       "      <td>https://tlk.s3.yandex.net/ext_dataset/noisy_speech/noisy_tested_wav/p257_345.wav</td>\n",
       "      <td>instead he was informed to join the line of creditors</td>\n",
       "      <td>fd060a4d57b00f9bba4421fe4c7c22f3</td>\n",
       "      <td>1</td>\n",
       "      <td>0.991803</td>\n",
       "      <td>2</td>\n",
       "      <td>True</td>\n",
       "      <td>6d85abd870df2592ef79175f99b5b93c</td>\n",
       "      <td>0.916667</td>\n",
       "    </tr>\n",
       "    <tr>\n",
       "      <th>30</th>\n",
       "      <td>https://tlk.s3.yandex.net/ext_dataset/noisy_speech/noisy_tested_wav/p232_001.wav</td>\n",
       "      <td>please call stella</td>\n",
       "      <td>6d85abd870df2592ef79175f99b5b93c</td>\n",
       "      <td>2</td>\n",
       "      <td>0.995690</td>\n",
       "      <td>2</td>\n",
       "      <td>True</td>\n",
       "      <td>155593e4339bc240a2863da87fcdb856</td>\n",
       "      <td>0.916667</td>\n",
       "    </tr>\n",
       "    <tr>\n",
       "      <th>31</th>\n",
       "      <td>https://tlk.s3.yandex.net/ext_dataset/noisy_speech/noisy_tested_wav/p232_001.wav</td>\n",
       "      <td>please call stella</td>\n",
       "      <td>6d85abd870df2592ef79175f99b5b93c</td>\n",
       "      <td>2</td>\n",
       "      <td>0.995690</td>\n",
       "      <td>2</td>\n",
       "      <td>True</td>\n",
       "      <td>f87548bd9c317ed987e22c8ebe3dea3c</td>\n",
       "      <td>0.954545</td>\n",
       "    </tr>\n",
       "    <tr>\n",
       "      <th>32</th>\n",
       "      <td>https://tlk.s3.yandex.net/ext_dataset/noisy_speech/noisy_tested_wav/p232_001.wav</td>\n",
       "      <td>please call Stella</td>\n",
       "      <td>fd060a4d57b00f9bba4421fe4c7c22f3</td>\n",
       "      <td>2</td>\n",
       "      <td>0.008197</td>\n",
       "      <td>2</td>\n",
       "      <td>False</td>\n",
       "      <td>fd060a4d57b00f9bba4421fe4c7c22f3</td>\n",
       "      <td>0.916667</td>\n",
       "    </tr>\n",
       "    <tr>\n",
       "      <th>33</th>\n",
       "      <td>https://tlk.s3.yandex.net/ext_dataset/noisy_speech/noisy_tested_wav/p232_001.wav</td>\n",
       "      <td>please call Stella</td>\n",
       "      <td>fd060a4d57b00f9bba4421fe4c7c22f3</td>\n",
       "      <td>2</td>\n",
       "      <td>0.008197</td>\n",
       "      <td>2</td>\n",
       "      <td>False</td>\n",
       "      <td>6d85abd870df2592ef79175f99b5b93c</td>\n",
       "      <td>0.916667</td>\n",
       "    </tr>\n",
       "    <tr>\n",
       "      <th>34</th>\n",
       "      <td>https://tlk.s3.yandex.net/ext_dataset/noisy_speech/noisy_tested_wav/p232_042.wav</td>\n",
       "      <td>you must always attempt to raise the bar</td>\n",
       "      <td>fd060a4d57b00f9bba4421fe4c7c22f3</td>\n",
       "      <td>1</td>\n",
       "      <td>0.991803</td>\n",
       "      <td>2</td>\n",
       "      <td>True</td>\n",
       "      <td>fd060a4d57b00f9bba4421fe4c7c22f3</td>\n",
       "      <td>0.916667</td>\n",
       "    </tr>\n",
       "    <tr>\n",
       "      <th>35</th>\n",
       "      <td>https://tlk.s3.yandex.net/ext_dataset/noisy_speech/noisy_tested_wav/p232_042.wav</td>\n",
       "      <td>you must always attempt to raise the bar</td>\n",
       "      <td>fd060a4d57b00f9bba4421fe4c7c22f3</td>\n",
       "      <td>1</td>\n",
       "      <td>0.991803</td>\n",
       "      <td>2</td>\n",
       "      <td>True</td>\n",
       "      <td>6d85abd870df2592ef79175f99b5b93c</td>\n",
       "      <td>0.916667</td>\n",
       "    </tr>\n",
       "    <tr>\n",
       "      <th>36</th>\n",
       "      <td>https://tlk.s3.yandex.net/ext_dataset/noisy_speech/noisy_tested_wav/p257_101.wav</td>\n",
       "      <td>however the intensive care unit at the southern general hospital is full</td>\n",
       "      <td>fd060a4d57b00f9bba4421fe4c7c22f3</td>\n",
       "      <td>1</td>\n",
       "      <td>0.991803</td>\n",
       "      <td>2</td>\n",
       "      <td>True</td>\n",
       "      <td>fd060a4d57b00f9bba4421fe4c7c22f3</td>\n",
       "      <td>0.916667</td>\n",
       "    </tr>\n",
       "    <tr>\n",
       "      <th>37</th>\n",
       "      <td>https://tlk.s3.yandex.net/ext_dataset/noisy_speech/noisy_tested_wav/p257_101.wav</td>\n",
       "      <td>however the intensive care unit at the southern general hospital is full</td>\n",
       "      <td>fd060a4d57b00f9bba4421fe4c7c22f3</td>\n",
       "      <td>1</td>\n",
       "      <td>0.991803</td>\n",
       "      <td>2</td>\n",
       "      <td>True</td>\n",
       "      <td>6d85abd870df2592ef79175f99b5b93c</td>\n",
       "      <td>0.916667</td>\n",
       "    </tr>\n",
       "    <tr>\n",
       "      <th>38</th>\n",
       "      <td>https://tlk.s3.yandex.net/ext_dataset/noisy_speech/noisy_tested_wav/p257_434.wav</td>\n",
       "      <td>the bill would be massive</td>\n",
       "      <td>6d85abd870df2592ef79175f99b5b93c</td>\n",
       "      <td>2</td>\n",
       "      <td>0.995690</td>\n",
       "      <td>2</td>\n",
       "      <td>True</td>\n",
       "      <td>155593e4339bc240a2863da87fcdb856</td>\n",
       "      <td>0.916667</td>\n",
       "    </tr>\n",
       "    <tr>\n",
       "      <th>39</th>\n",
       "      <td>https://tlk.s3.yandex.net/ext_dataset/noisy_speech/noisy_tested_wav/p257_434.wav</td>\n",
       "      <td>the bill would be massive</td>\n",
       "      <td>6d85abd870df2592ef79175f99b5b93c</td>\n",
       "      <td>2</td>\n",
       "      <td>0.995690</td>\n",
       "      <td>2</td>\n",
       "      <td>True</td>\n",
       "      <td>f87548bd9c317ed987e22c8ebe3dea3c</td>\n",
       "      <td>0.954545</td>\n",
       "    </tr>\n",
       "    <tr>\n",
       "      <th>40</th>\n",
       "      <td>https://tlk.s3.yandex.net/ext_dataset/noisy_speech/noisy_tested_wav/p257_434.wav</td>\n",
       "      <td>the bill will be massive</td>\n",
       "      <td>fd060a4d57b00f9bba4421fe4c7c22f3</td>\n",
       "      <td>2</td>\n",
       "      <td>0.045455</td>\n",
       "      <td>3</td>\n",
       "      <td>False</td>\n",
       "      <td>fd060a4d57b00f9bba4421fe4c7c22f3</td>\n",
       "      <td>0.916667</td>\n",
       "    </tr>\n",
       "    <tr>\n",
       "      <th>41</th>\n",
       "      <td>https://tlk.s3.yandex.net/ext_dataset/noisy_speech/noisy_tested_wav/p257_434.wav</td>\n",
       "      <td>the bill will be massive</td>\n",
       "      <td>fd060a4d57b00f9bba4421fe4c7c22f3</td>\n",
       "      <td>2</td>\n",
       "      <td>0.045455</td>\n",
       "      <td>3</td>\n",
       "      <td>True</td>\n",
       "      <td>6d85abd870df2592ef79175f99b5b93c</td>\n",
       "      <td>0.916667</td>\n",
       "    </tr>\n",
       "    <tr>\n",
       "      <th>42</th>\n",
       "      <td>https://tlk.s3.yandex.net/ext_dataset/noisy_speech/noisy_tested_wav/p257_434.wav</td>\n",
       "      <td>the bill will be massive</td>\n",
       "      <td>fd060a4d57b00f9bba4421fe4c7c22f3</td>\n",
       "      <td>2</td>\n",
       "      <td>0.045455</td>\n",
       "      <td>3</td>\n",
       "      <td>False</td>\n",
       "      <td>f87548bd9c317ed987e22c8ebe3dea3c</td>\n",
       "      <td>0.954545</td>\n",
       "    </tr>\n",
       "    <tr>\n",
       "      <th>43</th>\n",
       "      <td>https://tlk.s3.yandex.net/ext_dataset/noisy_speech/noisy_tested_wav/p232_411.wav</td>\n",
       "      <td>you wanted the evidence</td>\n",
       "      <td>fd060a4d57b00f9bba4421fe4c7c22f3</td>\n",
       "      <td>1</td>\n",
       "      <td>0.991803</td>\n",
       "      <td>2</td>\n",
       "      <td>True</td>\n",
       "      <td>fd060a4d57b00f9bba4421fe4c7c22f3</td>\n",
       "      <td>0.916667</td>\n",
       "    </tr>\n",
       "    <tr>\n",
       "      <th>44</th>\n",
       "      <td>https://tlk.s3.yandex.net/ext_dataset/noisy_speech/noisy_tested_wav/p232_411.wav</td>\n",
       "      <td>you wanted the evidence</td>\n",
       "      <td>fd060a4d57b00f9bba4421fe4c7c22f3</td>\n",
       "      <td>1</td>\n",
       "      <td>0.991803</td>\n",
       "      <td>2</td>\n",
       "      <td>True</td>\n",
       "      <td>6d85abd870df2592ef79175f99b5b93c</td>\n",
       "      <td>0.916667</td>\n",
       "    </tr>\n",
       "    <tr>\n",
       "      <th>45</th>\n",
       "      <td>https://tlk.s3.yandex.net/ext_dataset/noisy_speech/noisy_tested_wav/p257_306.wav</td>\n",
       "      <td>it should be equal</td>\n",
       "      <td>fd060a4d57b00f9bba4421fe4c7c22f3</td>\n",
       "      <td>1</td>\n",
       "      <td>0.991803</td>\n",
       "      <td>2</td>\n",
       "      <td>True</td>\n",
       "      <td>fd060a4d57b00f9bba4421fe4c7c22f3</td>\n",
       "      <td>0.916667</td>\n",
       "    </tr>\n",
       "    <tr>\n",
       "      <th>46</th>\n",
       "      <td>https://tlk.s3.yandex.net/ext_dataset/noisy_speech/noisy_tested_wav/p257_306.wav</td>\n",
       "      <td>it should be equal</td>\n",
       "      <td>fd060a4d57b00f9bba4421fe4c7c22f3</td>\n",
       "      <td>1</td>\n",
       "      <td>0.991803</td>\n",
       "      <td>2</td>\n",
       "      <td>True</td>\n",
       "      <td>6d85abd870df2592ef79175f99b5b93c</td>\n",
       "      <td>0.916667</td>\n",
       "    </tr>\n",
       "    <tr>\n",
       "      <th>47</th>\n",
       "      <td>https://tlk.s3.yandex.net/ext_dataset/noisy_speech/noisy_tested_wav/p257_093.wav</td>\n",
       "      <td>he was possessed</td>\n",
       "      <td>6d85abd870df2592ef79175f99b5b93c</td>\n",
       "      <td>2</td>\n",
       "      <td>0.995690</td>\n",
       "      <td>2</td>\n",
       "      <td>True</td>\n",
       "      <td>155593e4339bc240a2863da87fcdb856</td>\n",
       "      <td>0.916667</td>\n",
       "    </tr>\n",
       "    <tr>\n",
       "      <th>48</th>\n",
       "      <td>https://tlk.s3.yandex.net/ext_dataset/noisy_speech/noisy_tested_wav/p257_093.wav</td>\n",
       "      <td>he was possessed</td>\n",
       "      <td>6d85abd870df2592ef79175f99b5b93c</td>\n",
       "      <td>2</td>\n",
       "      <td>0.995690</td>\n",
       "      <td>2</td>\n",
       "      <td>True</td>\n",
       "      <td>f87548bd9c317ed987e22c8ebe3dea3c</td>\n",
       "      <td>0.954545</td>\n",
       "    </tr>\n",
       "    <tr>\n",
       "      <th>49</th>\n",
       "      <td>https://tlk.s3.yandex.net/ext_dataset/noisy_speech/noisy_tested_wav/p257_093.wav</td>\n",
       "      <td>he was possessed</td>\n",
       "      <td>fd060a4d57b00f9bba4421fe4c7c22f3</td>\n",
       "      <td>2</td>\n",
       "      <td>0.995690</td>\n",
       "      <td>2</td>\n",
       "      <td>True</td>\n",
       "      <td>155593e4339bc240a2863da87fcdb856</td>\n",
       "      <td>0.916667</td>\n",
       "    </tr>\n",
       "    <tr>\n",
       "      <th>50</th>\n",
       "      <td>https://tlk.s3.yandex.net/ext_dataset/noisy_speech/noisy_tested_wav/p257_093.wav</td>\n",
       "      <td>he was possessed</td>\n",
       "      <td>fd060a4d57b00f9bba4421fe4c7c22f3</td>\n",
       "      <td>2</td>\n",
       "      <td>0.995690</td>\n",
       "      <td>2</td>\n",
       "      <td>True</td>\n",
       "      <td>f87548bd9c317ed987e22c8ebe3dea3c</td>\n",
       "      <td>0.954545</td>\n",
       "    </tr>\n",
       "    <tr>\n",
       "      <th>51</th>\n",
       "      <td>https://tlk.s3.yandex.net/ext_dataset/noisy_speech/noisy_tested_wav/p257_023.wav</td>\n",
       "      <td>if the red of the second bow falls upon the green of the first the result is to give a bow with an abnormally wide yellow band since red and green...</td>\n",
       "      <td>6d85abd870df2592ef79175f99b5b93c</td>\n",
       "      <td>2</td>\n",
       "      <td>0.995690</td>\n",
       "      <td>2</td>\n",
       "      <td>True</td>\n",
       "      <td>155593e4339bc240a2863da87fcdb856</td>\n",
       "      <td>0.916667</td>\n",
       "    </tr>\n",
       "    <tr>\n",
       "      <th>52</th>\n",
       "      <td>https://tlk.s3.yandex.net/ext_dataset/noisy_speech/noisy_tested_wav/p257_023.wav</td>\n",
       "      <td>if the red of the second bow falls upon the green of the first the result is to give a bow with an abnormally wide yellow band since red and green...</td>\n",
       "      <td>6d85abd870df2592ef79175f99b5b93c</td>\n",
       "      <td>2</td>\n",
       "      <td>0.995690</td>\n",
       "      <td>2</td>\n",
       "      <td>True</td>\n",
       "      <td>f87548bd9c317ed987e22c8ebe3dea3c</td>\n",
       "      <td>0.954545</td>\n",
       "    </tr>\n",
       "    <tr>\n",
       "      <th>53</th>\n",
       "      <td>https://tlk.s3.yandex.net/ext_dataset/noisy_speech/noisy_tested_wav/p257_023.wav</td>\n",
       "      <td>if the red of the second bow falls upon the green of the first the result is to give a bow with an abnormally wide yellow band since red and green...</td>\n",
       "      <td>fd060a4d57b00f9bba4421fe4c7c22f3</td>\n",
       "      <td>2</td>\n",
       "      <td>0.995690</td>\n",
       "      <td>2</td>\n",
       "      <td>True</td>\n",
       "      <td>155593e4339bc240a2863da87fcdb856</td>\n",
       "      <td>0.916667</td>\n",
       "    </tr>\n",
       "    <tr>\n",
       "      <th>54</th>\n",
       "      <td>https://tlk.s3.yandex.net/ext_dataset/noisy_speech/noisy_tested_wav/p257_023.wav</td>\n",
       "      <td>if the red of the second bow falls upon the green of the first the result is to give a bow with an abnormally wide yellow band since red and green...</td>\n",
       "      <td>fd060a4d57b00f9bba4421fe4c7c22f3</td>\n",
       "      <td>2</td>\n",
       "      <td>0.995690</td>\n",
       "      <td>2</td>\n",
       "      <td>True</td>\n",
       "      <td>f87548bd9c317ed987e22c8ebe3dea3c</td>\n",
       "      <td>0.954545</td>\n",
       "    </tr>\n",
       "    <tr>\n",
       "      <th>55</th>\n",
       "      <td>https://tlk.s3.yandex.net/ext_dataset/noisy_speech/noisy_tested_wav/p257_333.wav</td>\n",
       "      <td>like his acting it was an accident</td>\n",
       "      <td>fd060a4d57b00f9bba4421fe4c7c22f3</td>\n",
       "      <td>1</td>\n",
       "      <td>0.991803</td>\n",
       "      <td>2</td>\n",
       "      <td>True</td>\n",
       "      <td>fd060a4d57b00f9bba4421fe4c7c22f3</td>\n",
       "      <td>0.916667</td>\n",
       "    </tr>\n",
       "    <tr>\n",
       "      <th>56</th>\n",
       "      <td>https://tlk.s3.yandex.net/ext_dataset/noisy_speech/noisy_tested_wav/p257_333.wav</td>\n",
       "      <td>like his acting it was an accident</td>\n",
       "      <td>fd060a4d57b00f9bba4421fe4c7c22f3</td>\n",
       "      <td>1</td>\n",
       "      <td>0.991803</td>\n",
       "      <td>2</td>\n",
       "      <td>True</td>\n",
       "      <td>6d85abd870df2592ef79175f99b5b93c</td>\n",
       "      <td>0.916667</td>\n",
       "    </tr>\n",
       "    <tr>\n",
       "      <th>57</th>\n",
       "      <td>https://tlk.s3.yandex.net/ext_dataset/noisy_speech/noisy_tested_wav/p232_309.wav</td>\n",
       "      <td>we are now looking at the degrees of injury</td>\n",
       "      <td>6d85abd870df2592ef79175f99b5b93c</td>\n",
       "      <td>2</td>\n",
       "      <td>0.995690</td>\n",
       "      <td>2</td>\n",
       "      <td>True</td>\n",
       "      <td>155593e4339bc240a2863da87fcdb856</td>\n",
       "      <td>0.916667</td>\n",
       "    </tr>\n",
       "    <tr>\n",
       "      <th>58</th>\n",
       "      <td>https://tlk.s3.yandex.net/ext_dataset/noisy_speech/noisy_tested_wav/p232_309.wav</td>\n",
       "      <td>we are now looking at the degrees of injury</td>\n",
       "      <td>6d85abd870df2592ef79175f99b5b93c</td>\n",
       "      <td>2</td>\n",
       "      <td>0.995690</td>\n",
       "      <td>2</td>\n",
       "      <td>True</td>\n",
       "      <td>f87548bd9c317ed987e22c8ebe3dea3c</td>\n",
       "      <td>0.954545</td>\n",
       "    </tr>\n",
       "    <tr>\n",
       "      <th>59</th>\n",
       "      <td>https://tlk.s3.yandex.net/ext_dataset/noisy_speech/noisy_tested_wav/p232_309.wav</td>\n",
       "      <td>we are now looking at the degrees of injury</td>\n",
       "      <td>fd060a4d57b00f9bba4421fe4c7c22f3</td>\n",
       "      <td>2</td>\n",
       "      <td>0.995690</td>\n",
       "      <td>2</td>\n",
       "      <td>True</td>\n",
       "      <td>155593e4339bc240a2863da87fcdb856</td>\n",
       "      <td>0.916667</td>\n",
       "    </tr>\n",
       "    <tr>\n",
       "      <th>60</th>\n",
       "      <td>https://tlk.s3.yandex.net/ext_dataset/noisy_speech/noisy_tested_wav/p232_309.wav</td>\n",
       "      <td>we are now looking at the degrees of injury</td>\n",
       "      <td>fd060a4d57b00f9bba4421fe4c7c22f3</td>\n",
       "      <td>2</td>\n",
       "      <td>0.995690</td>\n",
       "      <td>2</td>\n",
       "      <td>True</td>\n",
       "      <td>f87548bd9c317ed987e22c8ebe3dea3c</td>\n",
       "      <td>0.954545</td>\n",
       "    </tr>\n",
       "    <tr>\n",
       "      <th>61</th>\n",
       "      <td>https://tlk.s3.yandex.net/ext_dataset/noisy_speech/noisy_tested_wav/p232_362.wav</td>\n",
       "      <td>you must have a government and a good civil service</td>\n",
       "      <td>fd060a4d57b00f9bba4421fe4c7c22f3</td>\n",
       "      <td>1</td>\n",
       "      <td>0.991803</td>\n",
       "      <td>2</td>\n",
       "      <td>True</td>\n",
       "      <td>fd060a4d57b00f9bba4421fe4c7c22f3</td>\n",
       "      <td>0.916667</td>\n",
       "    </tr>\n",
       "    <tr>\n",
       "      <th>62</th>\n",
       "      <td>https://tlk.s3.yandex.net/ext_dataset/noisy_speech/noisy_tested_wav/p232_362.wav</td>\n",
       "      <td>you must have a government and a good civil service</td>\n",
       "      <td>fd060a4d57b00f9bba4421fe4c7c22f3</td>\n",
       "      <td>1</td>\n",
       "      <td>0.991803</td>\n",
       "      <td>2</td>\n",
       "      <td>True</td>\n",
       "      <td>6d85abd870df2592ef79175f99b5b93c</td>\n",
       "      <td>0.916667</td>\n",
       "    </tr>\n",
       "  </tbody>\n",
       "</table>\n",
       "</div>"
      ],
      "text/plain": [
       "                                                                               audio                                                                                                                                                   text                         annotator  annotation_overlap  confidence  evaluation_overlap   eval                         evaluator  evaluator_weight\n",
       "0   https://tlk.s3.yandex.net/ext_dataset/noisy_speech/noisy_tested_wav/p232_398.wav                                                                                                   but they are still unlikely to be involved in combat  fd060a4d57b00f9bba4421fe4c7c22f3                   1    0.991803                   2   True  fd060a4d57b00f9bba4421fe4c7c22f3          0.916667\n",
       "1   https://tlk.s3.yandex.net/ext_dataset/noisy_speech/noisy_tested_wav/p232_398.wav                                                                                                   but they are still unlikely to be involved in combat  fd060a4d57b00f9bba4421fe4c7c22f3                   1    0.991803                   2   True  6d85abd870df2592ef79175f99b5b93c          0.916667\n",
       "2   https://tlk.s3.yandex.net/ext_dataset/noisy_speech/noisy_tested_wav/p232_213.wav                                                                                                                                he is slightly confused  6d85abd870df2592ef79175f99b5b93c                   2    0.995690                   2   True  155593e4339bc240a2863da87fcdb856          0.916667\n",
       "3   https://tlk.s3.yandex.net/ext_dataset/noisy_speech/noisy_tested_wav/p232_213.wav                                                                                                                                he is slightly confused  6d85abd870df2592ef79175f99b5b93c                   2    0.995690                   2   True  f87548bd9c317ed987e22c8ebe3dea3c          0.954545\n",
       "4   https://tlk.s3.yandex.net/ext_dataset/noisy_speech/noisy_tested_wav/p232_213.wav                                                                                                                               he was slightly confused  fd060a4d57b00f9bba4421fe4c7c22f3                   2    0.008197                   2  False  fd060a4d57b00f9bba4421fe4c7c22f3          0.916667\n",
       "5   https://tlk.s3.yandex.net/ext_dataset/noisy_speech/noisy_tested_wav/p232_213.wav                                                                                                                               he was slightly confused  fd060a4d57b00f9bba4421fe4c7c22f3                   2    0.008197                   2  False  6d85abd870df2592ef79175f99b5b93c          0.916667\n",
       "6   https://tlk.s3.yandex.net/ext_dataset/noisy_speech/noisy_tested_wav/p257_398.wav                                                                                                                                       i was very young  6d85abd870df2592ef79175f99b5b93c                   2    0.995690                   2   True  155593e4339bc240a2863da87fcdb856          0.916667\n",
       "7   https://tlk.s3.yandex.net/ext_dataset/noisy_speech/noisy_tested_wav/p257_398.wav                                                                                                                                       i was very young  6d85abd870df2592ef79175f99b5b93c                   2    0.995690                   2   True  f87548bd9c317ed987e22c8ebe3dea3c          0.954545\n",
       "8   https://tlk.s3.yandex.net/ext_dataset/noisy_speech/noisy_tested_wav/p257_398.wav                                                                                                                                       i was very young  fd060a4d57b00f9bba4421fe4c7c22f3                   2    0.995690                   2   True  155593e4339bc240a2863da87fcdb856          0.916667\n",
       "9   https://tlk.s3.yandex.net/ext_dataset/noisy_speech/noisy_tested_wav/p257_398.wav                                                                                                                                       i was very young  fd060a4d57b00f9bba4421fe4c7c22f3                   2    0.995690                   2   True  f87548bd9c317ed987e22c8ebe3dea3c          0.954545\n",
       "10  https://tlk.s3.yandex.net/ext_dataset/noisy_speech/noisy_tested_wav/p232_017.wav                                                                                                     others have tried to explain phenomenon physically  6d85abd870df2592ef79175f99b5b93c                   2    0.995690                   2   True  155593e4339bc240a2863da87fcdb856          0.916667\n",
       "11  https://tlk.s3.yandex.net/ext_dataset/noisy_speech/noisy_tested_wav/p232_017.wav                                                                                                     others have tried to explain phenomenon physically  6d85abd870df2592ef79175f99b5b93c                   2    0.995690                   2   True  f87548bd9c317ed987e22c8ebe3dea3c          0.954545\n",
       "12  https://tlk.s3.yandex.net/ext_dataset/noisy_speech/noisy_tested_wav/p232_017.wav                                                                                                      others have tried to explain phenomena physically  fd060a4d57b00f9bba4421fe4c7c22f3                   2    0.008197                   2  False  fd060a4d57b00f9bba4421fe4c7c22f3          0.916667\n",
       "13  https://tlk.s3.yandex.net/ext_dataset/noisy_speech/noisy_tested_wav/p232_017.wav                                                                                                      others have tried to explain phenomena physically  fd060a4d57b00f9bba4421fe4c7c22f3                   2    0.008197                   2  False  6d85abd870df2592ef79175f99b5b93c          0.916667\n",
       "14  https://tlk.s3.yandex.net/ext_dataset/noisy_speech/noisy_tested_wav/p257_013.wav                                                                                    some have excepted it as a miracle without any physical explanation  6d85abd870df2592ef79175f99b5b93c                   2    0.995690                   2   True  155593e4339bc240a2863da87fcdb856          0.916667\n",
       "15  https://tlk.s3.yandex.net/ext_dataset/noisy_speech/noisy_tested_wav/p257_013.wav                                                                                    some have excepted it as a miracle without any physical explanation  6d85abd870df2592ef79175f99b5b93c                   2    0.995690                   2   True  f87548bd9c317ed987e22c8ebe3dea3c          0.954545\n",
       "16  https://tlk.s3.yandex.net/ext_dataset/noisy_speech/noisy_tested_wav/p257_013.wav                                                                                        some have accepted it as a miracle without physical explanation  fd060a4d57b00f9bba4421fe4c7c22f3                   2    0.045455                   3   True  fd060a4d57b00f9bba4421fe4c7c22f3          0.916667\n",
       "17  https://tlk.s3.yandex.net/ext_dataset/noisy_speech/noisy_tested_wav/p257_013.wav                                                                                        some have accepted it as a miracle without physical explanation  fd060a4d57b00f9bba4421fe4c7c22f3                   2    0.045455                   3  False  6d85abd870df2592ef79175f99b5b93c          0.916667\n",
       "18  https://tlk.s3.yandex.net/ext_dataset/noisy_speech/noisy_tested_wav/p257_013.wav                                                                                        some have accepted it as a miracle without physical explanation  fd060a4d57b00f9bba4421fe4c7c22f3                   2    0.045455                   3  False  f87548bd9c317ed987e22c8ebe3dea3c          0.954545\n",
       "19  https://tlk.s3.yandex.net/ext_dataset/noisy_speech/noisy_tested_wav/p257_259.wav                                                                                                                                        it is very nice  6d85abd870df2592ef79175f99b5b93c                   2    0.995690                   2   True  155593e4339bc240a2863da87fcdb856          0.916667\n",
       "20  https://tlk.s3.yandex.net/ext_dataset/noisy_speech/noisy_tested_wav/p257_259.wav                                                                                                                                        it is very nice  6d85abd870df2592ef79175f99b5b93c                   2    0.995690                   2   True  f87548bd9c317ed987e22c8ebe3dea3c          0.954545\n",
       "21  https://tlk.s3.yandex.net/ext_dataset/noisy_speech/noisy_tested_wav/p257_259.wav                                                                                                                                          its very nice  fd060a4d57b00f9bba4421fe4c7c22f3                   2    0.008197                   2  False  fd060a4d57b00f9bba4421fe4c7c22f3          0.916667\n",
       "22  https://tlk.s3.yandex.net/ext_dataset/noisy_speech/noisy_tested_wav/p257_259.wav                                                                                                                                          its very nice  fd060a4d57b00f9bba4421fe4c7c22f3                   2    0.008197                   2  False  6d85abd870df2592ef79175f99b5b93c          0.916667\n",
       "23  https://tlk.s3.yandex.net/ext_dataset/noisy_speech/noisy_tested_wav/p257_296.wav                                                                                            it was not just the character and the energy of the playing  6d85abd870df2592ef79175f99b5b93c                   2    0.995690                   2   True  155593e4339bc240a2863da87fcdb856          0.916667\n",
       "24  https://tlk.s3.yandex.net/ext_dataset/noisy_speech/noisy_tested_wav/p257_296.wav                                                                                            it was not just the character and the energy of the playing  6d85abd870df2592ef79175f99b5b93c                   2    0.995690                   2   True  f87548bd9c317ed987e22c8ebe3dea3c          0.954545\n",
       "25  https://tlk.s3.yandex.net/ext_dataset/noisy_speech/noisy_tested_wav/p257_296.wav                                                                                                 it wasnt just the character and the energy of the play  fd060a4d57b00f9bba4421fe4c7c22f3                   2         NaN                   0    NaN                               NaN               NaN\n",
       "26  https://tlk.s3.yandex.net/ext_dataset/noisy_speech/noisy_tested_wav/p232_264.wav                                                                                              the work between musicians and the fire is very important  fd060a4d57b00f9bba4421fe4c7c22f3                   1    0.991803                   2   True  fd060a4d57b00f9bba4421fe4c7c22f3          0.916667\n",
       "27  https://tlk.s3.yandex.net/ext_dataset/noisy_speech/noisy_tested_wav/p232_264.wav                                                                                              the work between musicians and the fire is very important  fd060a4d57b00f9bba4421fe4c7c22f3                   1    0.991803                   2   True  6d85abd870df2592ef79175f99b5b93c          0.916667\n",
       "28  https://tlk.s3.yandex.net/ext_dataset/noisy_speech/noisy_tested_wav/p257_345.wav                                                                                                  instead he was informed to join the line of creditors  fd060a4d57b00f9bba4421fe4c7c22f3                   1    0.991803                   2   True  fd060a4d57b00f9bba4421fe4c7c22f3          0.916667\n",
       "29  https://tlk.s3.yandex.net/ext_dataset/noisy_speech/noisy_tested_wav/p257_345.wav                                                                                                  instead he was informed to join the line of creditors  fd060a4d57b00f9bba4421fe4c7c22f3                   1    0.991803                   2   True  6d85abd870df2592ef79175f99b5b93c          0.916667\n",
       "30  https://tlk.s3.yandex.net/ext_dataset/noisy_speech/noisy_tested_wav/p232_001.wav                                                                                                                                     please call stella  6d85abd870df2592ef79175f99b5b93c                   2    0.995690                   2   True  155593e4339bc240a2863da87fcdb856          0.916667\n",
       "31  https://tlk.s3.yandex.net/ext_dataset/noisy_speech/noisy_tested_wav/p232_001.wav                                                                                                                                     please call stella  6d85abd870df2592ef79175f99b5b93c                   2    0.995690                   2   True  f87548bd9c317ed987e22c8ebe3dea3c          0.954545\n",
       "32  https://tlk.s3.yandex.net/ext_dataset/noisy_speech/noisy_tested_wav/p232_001.wav                                                                                                                                     please call Stella  fd060a4d57b00f9bba4421fe4c7c22f3                   2    0.008197                   2  False  fd060a4d57b00f9bba4421fe4c7c22f3          0.916667\n",
       "33  https://tlk.s3.yandex.net/ext_dataset/noisy_speech/noisy_tested_wav/p232_001.wav                                                                                                                                     please call Stella  fd060a4d57b00f9bba4421fe4c7c22f3                   2    0.008197                   2  False  6d85abd870df2592ef79175f99b5b93c          0.916667\n",
       "34  https://tlk.s3.yandex.net/ext_dataset/noisy_speech/noisy_tested_wav/p232_042.wav                                                                                                               you must always attempt to raise the bar  fd060a4d57b00f9bba4421fe4c7c22f3                   1    0.991803                   2   True  fd060a4d57b00f9bba4421fe4c7c22f3          0.916667\n",
       "35  https://tlk.s3.yandex.net/ext_dataset/noisy_speech/noisy_tested_wav/p232_042.wav                                                                                                               you must always attempt to raise the bar  fd060a4d57b00f9bba4421fe4c7c22f3                   1    0.991803                   2   True  6d85abd870df2592ef79175f99b5b93c          0.916667\n",
       "36  https://tlk.s3.yandex.net/ext_dataset/noisy_speech/noisy_tested_wav/p257_101.wav                                                                               however the intensive care unit at the southern general hospital is full  fd060a4d57b00f9bba4421fe4c7c22f3                   1    0.991803                   2   True  fd060a4d57b00f9bba4421fe4c7c22f3          0.916667\n",
       "37  https://tlk.s3.yandex.net/ext_dataset/noisy_speech/noisy_tested_wav/p257_101.wav                                                                               however the intensive care unit at the southern general hospital is full  fd060a4d57b00f9bba4421fe4c7c22f3                   1    0.991803                   2   True  6d85abd870df2592ef79175f99b5b93c          0.916667\n",
       "38  https://tlk.s3.yandex.net/ext_dataset/noisy_speech/noisy_tested_wav/p257_434.wav                                                                                                                              the bill would be massive  6d85abd870df2592ef79175f99b5b93c                   2    0.995690                   2   True  155593e4339bc240a2863da87fcdb856          0.916667\n",
       "39  https://tlk.s3.yandex.net/ext_dataset/noisy_speech/noisy_tested_wav/p257_434.wav                                                                                                                              the bill would be massive  6d85abd870df2592ef79175f99b5b93c                   2    0.995690                   2   True  f87548bd9c317ed987e22c8ebe3dea3c          0.954545\n",
       "40  https://tlk.s3.yandex.net/ext_dataset/noisy_speech/noisy_tested_wav/p257_434.wav                                                                                                                               the bill will be massive  fd060a4d57b00f9bba4421fe4c7c22f3                   2    0.045455                   3  False  fd060a4d57b00f9bba4421fe4c7c22f3          0.916667\n",
       "41  https://tlk.s3.yandex.net/ext_dataset/noisy_speech/noisy_tested_wav/p257_434.wav                                                                                                                               the bill will be massive  fd060a4d57b00f9bba4421fe4c7c22f3                   2    0.045455                   3   True  6d85abd870df2592ef79175f99b5b93c          0.916667\n",
       "42  https://tlk.s3.yandex.net/ext_dataset/noisy_speech/noisy_tested_wav/p257_434.wav                                                                                                                               the bill will be massive  fd060a4d57b00f9bba4421fe4c7c22f3                   2    0.045455                   3  False  f87548bd9c317ed987e22c8ebe3dea3c          0.954545\n",
       "43  https://tlk.s3.yandex.net/ext_dataset/noisy_speech/noisy_tested_wav/p232_411.wav                                                                                                                                you wanted the evidence  fd060a4d57b00f9bba4421fe4c7c22f3                   1    0.991803                   2   True  fd060a4d57b00f9bba4421fe4c7c22f3          0.916667\n",
       "44  https://tlk.s3.yandex.net/ext_dataset/noisy_speech/noisy_tested_wav/p232_411.wav                                                                                                                                you wanted the evidence  fd060a4d57b00f9bba4421fe4c7c22f3                   1    0.991803                   2   True  6d85abd870df2592ef79175f99b5b93c          0.916667\n",
       "45  https://tlk.s3.yandex.net/ext_dataset/noisy_speech/noisy_tested_wav/p257_306.wav                                                                                                                                     it should be equal  fd060a4d57b00f9bba4421fe4c7c22f3                   1    0.991803                   2   True  fd060a4d57b00f9bba4421fe4c7c22f3          0.916667\n",
       "46  https://tlk.s3.yandex.net/ext_dataset/noisy_speech/noisy_tested_wav/p257_306.wav                                                                                                                                     it should be equal  fd060a4d57b00f9bba4421fe4c7c22f3                   1    0.991803                   2   True  6d85abd870df2592ef79175f99b5b93c          0.916667\n",
       "47  https://tlk.s3.yandex.net/ext_dataset/noisy_speech/noisy_tested_wav/p257_093.wav                                                                                                                                       he was possessed  6d85abd870df2592ef79175f99b5b93c                   2    0.995690                   2   True  155593e4339bc240a2863da87fcdb856          0.916667\n",
       "48  https://tlk.s3.yandex.net/ext_dataset/noisy_speech/noisy_tested_wav/p257_093.wav                                                                                                                                       he was possessed  6d85abd870df2592ef79175f99b5b93c                   2    0.995690                   2   True  f87548bd9c317ed987e22c8ebe3dea3c          0.954545\n",
       "49  https://tlk.s3.yandex.net/ext_dataset/noisy_speech/noisy_tested_wav/p257_093.wav                                                                                                                                       he was possessed  fd060a4d57b00f9bba4421fe4c7c22f3                   2    0.995690                   2   True  155593e4339bc240a2863da87fcdb856          0.916667\n",
       "50  https://tlk.s3.yandex.net/ext_dataset/noisy_speech/noisy_tested_wav/p257_093.wav                                                                                                                                       he was possessed  fd060a4d57b00f9bba4421fe4c7c22f3                   2    0.995690                   2   True  f87548bd9c317ed987e22c8ebe3dea3c          0.954545\n",
       "51  https://tlk.s3.yandex.net/ext_dataset/noisy_speech/noisy_tested_wav/p257_023.wav  if the red of the second bow falls upon the green of the first the result is to give a bow with an abnormally wide yellow band since red and green...  6d85abd870df2592ef79175f99b5b93c                   2    0.995690                   2   True  155593e4339bc240a2863da87fcdb856          0.916667\n",
       "52  https://tlk.s3.yandex.net/ext_dataset/noisy_speech/noisy_tested_wav/p257_023.wav  if the red of the second bow falls upon the green of the first the result is to give a bow with an abnormally wide yellow band since red and green...  6d85abd870df2592ef79175f99b5b93c                   2    0.995690                   2   True  f87548bd9c317ed987e22c8ebe3dea3c          0.954545\n",
       "53  https://tlk.s3.yandex.net/ext_dataset/noisy_speech/noisy_tested_wav/p257_023.wav  if the red of the second bow falls upon the green of the first the result is to give a bow with an abnormally wide yellow band since red and green...  fd060a4d57b00f9bba4421fe4c7c22f3                   2    0.995690                   2   True  155593e4339bc240a2863da87fcdb856          0.916667\n",
       "54  https://tlk.s3.yandex.net/ext_dataset/noisy_speech/noisy_tested_wav/p257_023.wav  if the red of the second bow falls upon the green of the first the result is to give a bow with an abnormally wide yellow band since red and green...  fd060a4d57b00f9bba4421fe4c7c22f3                   2    0.995690                   2   True  f87548bd9c317ed987e22c8ebe3dea3c          0.954545\n",
       "55  https://tlk.s3.yandex.net/ext_dataset/noisy_speech/noisy_tested_wav/p257_333.wav                                                                                                                     like his acting it was an accident  fd060a4d57b00f9bba4421fe4c7c22f3                   1    0.991803                   2   True  fd060a4d57b00f9bba4421fe4c7c22f3          0.916667\n",
       "56  https://tlk.s3.yandex.net/ext_dataset/noisy_speech/noisy_tested_wav/p257_333.wav                                                                                                                     like his acting it was an accident  fd060a4d57b00f9bba4421fe4c7c22f3                   1    0.991803                   2   True  6d85abd870df2592ef79175f99b5b93c          0.916667\n",
       "57  https://tlk.s3.yandex.net/ext_dataset/noisy_speech/noisy_tested_wav/p232_309.wav                                                                                                            we are now looking at the degrees of injury  6d85abd870df2592ef79175f99b5b93c                   2    0.995690                   2   True  155593e4339bc240a2863da87fcdb856          0.916667\n",
       "58  https://tlk.s3.yandex.net/ext_dataset/noisy_speech/noisy_tested_wav/p232_309.wav                                                                                                            we are now looking at the degrees of injury  6d85abd870df2592ef79175f99b5b93c                   2    0.995690                   2   True  f87548bd9c317ed987e22c8ebe3dea3c          0.954545\n",
       "59  https://tlk.s3.yandex.net/ext_dataset/noisy_speech/noisy_tested_wav/p232_309.wav                                                                                                            we are now looking at the degrees of injury  fd060a4d57b00f9bba4421fe4c7c22f3                   2    0.995690                   2   True  155593e4339bc240a2863da87fcdb856          0.916667\n",
       "60  https://tlk.s3.yandex.net/ext_dataset/noisy_speech/noisy_tested_wav/p232_309.wav                                                                                                            we are now looking at the degrees of injury  fd060a4d57b00f9bba4421fe4c7c22f3                   2    0.995690                   2   True  f87548bd9c317ed987e22c8ebe3dea3c          0.954545\n",
       "61  https://tlk.s3.yandex.net/ext_dataset/noisy_speech/noisy_tested_wav/p232_362.wav                                                                                                    you must have a government and a good civil service  fd060a4d57b00f9bba4421fe4c7c22f3                   1    0.991803                   2   True  fd060a4d57b00f9bba4421fe4c7c22f3          0.916667\n",
       "62  https://tlk.s3.yandex.net/ext_dataset/noisy_speech/noisy_tested_wav/p232_362.wav                                                                                                    you must have a government and a good civil service  fd060a4d57b00f9bba4421fe4c7c22f3                   1    0.991803                   2   True  6d85abd870df2592ef79175f99b5b93c          0.916667"
      ]
     },
     "metadata": {},
     "output_type": "display_data"
    }
   ],
   "source": [
    "with pd.option_context('max_colwidth', 150), pd.option_context('display.max_rows', 100):\n",
    "    display(results.worker_labels())"
   ]
  },
  {
   "cell_type": "markdown",
   "id": "28918e02",
   "metadata": {},
   "source": [
    "# Labeling quality verification"
   ]
  },
  {
   "cell_type": "markdown",
   "id": "06a6eefd",
   "metadata": {},
   "source": [
    "Quality verification closely resembles task verification with reference labeling. However, it slightly differs in options. You can run verification on random sample of labeled objects:"
   ]
  },
  {
   "cell_type": "code",
   "execution_count": 211,
   "id": "45a8d01c",
   "metadata": {},
   "outputs": [],
   "source": [
    "import random\n",
    "from crowdom import project"
   ]
  },
  {
   "cell_type": "code",
   "execution_count": 212,
   "id": "64aad96c",
   "metadata": {},
   "outputs": [],
   "source": [
    "scenario = project.Scenario.EXPERT_LABELING_OF_SOLVED_TASKS\n",
    "experts_task_spec = client.AnnotationTaskSpec(task_spec, lang, scenario)\n",
    "\n",
    "sample_size = min(20, int(0.1 * len(input_objects)))\n",
    "objects = random.sample(client.select_control_tasks(input_objects, results.raw, min_confidence=.0), sample_size)"
   ]
  },
  {
   "cell_type": "code",
   "execution_count": 213,
   "id": "bf99ad4b",
   "metadata": {},
   "outputs": [
    {
     "name": "stdout",
     "output_type": "stream",
     "text": [
      "2022-05-16 15:45:21,607 - crowdom.client.task:define_task:125 - INFO: - no changes in task\n"
     ]
    }
   ],
   "source": [
    "client.define_task(experts_task_spec, toloka_client)"
   ]
  },
  {
   "cell_type": "code",
   "execution_count": 214,
   "id": "aa5cff9d",
   "metadata": {},
   "outputs": [
    {
     "name": "stdout",
     "output_type": "stream",
     "text": [
      "clear formula, which does not account edge cases like min commission and incomplete assignments\n"
     ]
    },
    {
     "data": {
      "text/latex": [
       "$\\displaystyle TotalPrice_{clear} = TaskCount * PricePerTask_\\$ * Overlap * (1 + TolokaCommission) = 10 * 0.0003\\$ * 1 * 1.3 = 0.00\\$.$"
      ],
      "text/plain": [
       "<IPython.core.display.Math object>"
      ]
     },
     "metadata": {},
     "output_type": "display_data"
    },
    {
     "name": "stdout",
     "output_type": "stream",
     "text": [
      "\n",
      "precise formula, which accounts all edge cases\n"
     ]
    },
    {
     "data": {
      "text/latex": [
       "$\\displaystyle TotalPrice_{precise} = AssignmentCount * PricePerAssignment_\\$ * Overlap = \\lceil TaskCount / TasksOnAssignment \\rceil * (PricePerAssignment_\\$ + max(PricePerAssignment_\\$ * TolokaCommission, MinTolokaCommission_\\$) * Overlap = \\lceil 10 / 29 \\rceil * (0.01\\$ + max(0.01\\$ * 0.3, 0.005\\$) * 1 = 1 * 0.015 * 1 = 0.01\\$.$"
      ],
      "text/plain": [
       "<IPython.core.display.Math object>"
      ]
     },
     "metadata": {},
     "output_type": "display_data"
    },
    {
     "name": "stdout",
     "output_type": "stream",
     "text": [
      "run expert labeling of 10 objects for 0.01$? [Y/n] Y\n",
      "2022-05-16 15:40:26,018 - crowdom.client.launch:launch_experts:209 - INFO: - expert labeling has started\n"
     ]
    }
   ],
   "source": [
    "raw_feedback = client.launch_experts(\n",
    "    experts_task_spec,\n",
    "    client.ExpertParams(\n",
    "        task_duration_hint=task_duration_hint,\n",
    "        pricing_config=pricing_config,\n",
    "    ),\n",
    "    objects,\n",
    "    experts.ExpertCase.LABELING_QUALITY_VERIFICATION,\n",
    "    toloka_client,\n",
    "    interactive=True)"
   ]
  },
  {
   "cell_type": "code",
   "execution_count": 215,
   "id": "dda3a0b9",
   "metadata": {},
   "outputs": [],
   "source": [
    "test_results = client.ExpertLabelingResults(raw_feedback, experts_task_spec)"
   ]
  },
  {
   "cell_type": "code",
   "execution_count": 216,
   "id": "1ecdb3d2",
   "metadata": {},
   "outputs": [
    {
     "data": {
      "text/plain": [
       "1.0"
      ]
     },
     "execution_count": 217,
     "metadata": {},
     "output_type": "execute_result"
    }
   ],
   "source": [
    "test_results.get_accuracy()\n"
   ]
  }
 ],
 "metadata": {
  "kernelspec": {
   "display_name": "Python 3 (ipykernel)",
   "language": "python",
   "name": "python3"
  },
  "language_info": {
   "codemirror_mode": {
    "name": "ipython",
    "version": 3
   },
   "file_extension": ".py",
   "mimetype": "text/x-python",
   "name": "python",
   "nbconvert_exporter": "python",
   "pygments_lexer": "ipython3",
   "version": "3.9.6"
  }
 },
 "nbformat": 4,
 "nbformat_minor": 5
}
