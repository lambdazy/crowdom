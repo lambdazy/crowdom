{
 "cells": [
  {
   "cell_type": "markdown",
   "id": "07848c7e",
   "metadata": {},
   "source": [
    "## Adding your experts\n",
    "\n",
    "To run a task verification, as well as for other actions that require [expert labeling](../image_classification/image_classification.ipynb#Task-verification-and-feedback), your need to register experts.\n",
    "\n",
    "The process of registering experts in Toloka is not that straightforward, because workers' identities are anonymized, Crowdom simplifies this for you."
   ]
  },
  {
   "cell_type": "code",
   "execution_count": 2,
   "id": "afc66e84",
   "metadata": {},
   "outputs": [],
   "source": [
    "import os\n",
    "\n",
    "from crowdom import client, experts"
   ]
  },
  {
   "cell_type": "markdown",
   "id": "ee154230",
   "metadata": {},
   "source": [
    "Collect telegram logins or any other suitable identifiers of your experts:"
   ]
  },
  {
   "cell_type": "code",
   "execution_count": 4,
   "id": "0b2f71f0",
   "metadata": {},
   "outputs": [],
   "source": [
    "names = ['alice', 'bob']"
   ]
  },
  {
   "cell_type": "markdown",
   "id": "b2a45595",
   "metadata": {},
   "source": [
    "Generate secret codes for them:"
   ]
  },
  {
   "cell_type": "code",
   "execution_count": 5,
   "id": "1ad07172",
   "metadata": {},
   "outputs": [
    {
     "data": {
      "text/plain": [
       "{'alice': 'dbfe7c2ab5', 'bob': '83df8c9d8c'}"
      ]
     },
     "execution_count": 5,
     "metadata": {},
     "output_type": "execute_result"
    }
   ],
   "source": [
    "codes = experts.generate_codes(names)\n",
    "codes"
   ]
  },
  {
   "cell_type": "markdown",
   "id": "5b9ccd17",
   "metadata": {},
   "source": [
    "Distribute these codes to your experts."
   ]
  },
  {
   "cell_type": "code",
   "execution_count": null,
   "outputs": [],
   "source": [
    "from IPython.display import clear_output"
   ],
   "metadata": {
    "collapsed": false,
    "pycharm": {
     "name": "#%%\n"
    }
   }
  },
  {
   "cell_type": "code",
   "execution_count": null,
   "outputs": [],
   "source": [
    "token = os.getenv('TOLOKA_TOKEN') or input('Enter your token: ')\n",
    "clear_output()"
   ],
   "metadata": {
    "collapsed": false,
    "pycharm": {
     "name": "#%%\n"
    }
   }
  },
  {
   "cell_type": "code",
   "execution_count": null,
   "id": "3801ff42",
   "metadata": {},
   "outputs": [],
   "source": [
    "toloka_client = client.create_toloka_client(token=token)"
   ]
  },
  {
   "cell_type": "markdown",
   "source": [
    "Start the registration process.\n",
    "\n",
    "If you want to register experts for a specific task, or for tasks in particular languages, or both (for specific task and specific language of source data), you can pass either `task_id` or `lang` parameter to the function (run `help()` for function to see all arguments)."
   ],
   "metadata": {
    "collapsed": false,
    "pycharm": {
     "name": "#%% md\n"
    }
   }
  },
  {
   "cell_type": "code",
   "execution_count": null,
   "id": "c624f220",
   "metadata": {},
   "outputs": [],
   "source": [
    "pool = experts.create_registration_pool(toloka_client)"
   ]
  },
  {
   "cell_type": "markdown",
   "id": "b114c264",
   "metadata": {},
   "source": [
    "Instruct your experts to:\n",
    "1. [Register](https://toloka.ai/tolokers/docs/web/register.html) in Toloka\n",
    "2. Set their birthday at 14.05.1405 (you can choose any \"unreal\" date you like, and pass it to the `create_registration_pool` function in `expected_date` argument)\n",
    "3. Search for the `'Welcome to {your requester name}!'` task\n",
    "4. Enter supplied code\n",
    "5. Change birthday to their real one"
   ]
  },
  {
   "cell_type": "markdown",
   "id": "a22c85b6",
   "metadata": {},
   "source": [
    "After all your experts have entered their codes, you can find out their Toloka `worker_id`'s and approve their registrations:"
   ]
  },
  {
   "cell_type": "code",
   "execution_count": 33,
   "id": "be648d92",
   "metadata": {},
   "outputs": [
    {
     "data": {
      "text/plain": [
       "{'alice': 'fd060a4d57b00f9bba4421fe4c7c22f3',\n",
       " 'bob': '6d85abd870df2592ef79175f99b5b93c'}"
      ]
     },
     "execution_count": 33,
     "metadata": {},
     "output_type": "execute_result"
    }
   ],
   "source": [
    "results = experts.approve_expected_codes(toloka_client, pool.id, codes)\n",
    "results"
   ]
  },
  {
   "cell_type": "markdown",
   "id": "63550ce7",
   "metadata": {},
   "source": [
    "If there're either no answers or multiple answers for some code, no `worker_id` will be returned, as it could be fraud or not identifiable.\n",
    "\n",
    "----\n",
    "\n",
    "Each time you'd like to add new experts, you need to generate new codes, and use them later for approval.\n",
    "\n",
    "----\n",
    "\n",
    "If in the future you'd like to revoke some registrations from the experts, you can use `revoke_expert_access` function. Remember to pass the same `task_id` and/or `lang` parameters, if you used custom ones in `create_registration_pool()`:"
   ]
  },
  {
   "cell_type": "code",
   "execution_count": 34,
   "id": "513d5660",
   "metadata": {},
   "outputs": [],
   "source": [
    "experts.revoke_expert_access(toloka_client, worker_id=results['bob'])\n"
   ]
  }
 ],
 "metadata": {
  "kernelspec": {
   "display_name": "Python 3 (ipykernel)",
   "language": "python",
   "name": "python3"
  },
  "language_info": {
   "codemirror_mode": {
    "name": "ipython",
    "version": 3
   },
   "file_extension": ".py",
   "mimetype": "text/x-python",
   "name": "python",
   "nbconvert_exporter": "python",
   "pygments_lexer": "ipython3",
   "version": "3.9.9"
  }
 },
 "nbformat": 4,
 "nbformat_minor": 5
}