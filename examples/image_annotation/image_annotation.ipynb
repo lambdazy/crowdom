{
 "cells": [
  {
   "cell_type": "markdown",
   "id": "2a2307a9",
   "metadata": {},
   "source": [
    "This example illustrates how to collect image area annotations with Crowdom.\n",
    "\n",
    "In our example, we ask workers to select areas containing cats, dogs or other animals."
   ]
  },
  {
   "cell_type": "markdown",
   "id": "945cee98-5469-4404-b860-afde0a5db3de",
   "metadata": {},
   "source": [
    "# Setup environment"
   ]
  },
  {
   "cell_type": "code",
   "execution_count": 1,
   "id": "0031dc0e",
   "metadata": {
    "pycharm": {
     "is_executing": true
    },
    "tags": []
   },
   "outputs": [],
   "source": [
    "%pip install crowdom"
   ]
  },
  {
   "cell_type": "code",
   "execution_count": 35,
   "id": "4bc69217",
   "metadata": {
    "pycharm": {
     "is_executing": true
    }
   },
   "outputs": [],
   "source": [
    "from datetime import timedelta\n",
    "import os\n",
    "from typing import Dict\n",
    "import pandas as pd\n",
    "\n",
    "import toloka.client as toloka\n",
    "import toloka.client.project.template_builder as tb\n",
    "\n",
    "from crowdom import base, datasource, client, objects, pricing, params as labeling_params"
   ]
  },
  {
   "cell_type": "code",
   "execution_count": 4,
   "id": "448bcc06",
   "metadata": {},
   "outputs": [],
   "source": [
    "import yaml\n",
    "import logging.config"
   ]
  },
  {
   "cell_type": "code",
   "execution_count": 5,
   "id": "a04d573c",
   "metadata": {},
   "outputs": [],
   "source": [
    "with open('logging.yaml') as f:\n",
    "    logging.config.dictConfig(yaml.full_load(f.read()))"
   ]
  },
  {
   "cell_type": "code",
   "execution_count": 7,
   "id": "0d9a64a7",
   "metadata": {},
   "outputs": [],
   "source": [
    "toloka_client = client.create_toloka_client(os.getenv('TOLOKA_TOKEN') or input('Enter your token: '))"
   ]
  },
  {
   "cell_type": "markdown",
   "id": "336c0d13",
   "metadata": {
    "tags": []
   },
   "source": [
    "# Labeling task definition"
   ]
  },
  {
   "cell_type": "code",
   "execution_count": 8,
   "id": "1e8f34b0",
   "metadata": {},
   "outputs": [],
   "source": [
    "class Animal(base.Class):\n",
    "    DOG = 'dog'\n",
    "    CAT = 'cat'\n",
    "    OTHER = 'other'\n",
    "\n",
    "    @classmethod\n",
    "    def labels(cls) -> Dict['Animal', Dict[str, str]]:\n",
    "        return {\n",
    "            cls.DOG: {'EN': 'dog', 'RU': 'собака'},\n",
    "            cls.CAT: {'EN': 'cat', 'RU': 'кошка'},\n",
    "            cls.OTHER: {'EN': 'other', 'RU': 'другое'},\n",
    "        }"
   ]
  },
  {
   "cell_type": "code",
   "execution_count": 9,
   "id": "8dc74e5f",
   "metadata": {},
   "outputs": [],
   "source": [
    "function = base.AnnotationFunction(\n",
    "    inputs=(base.ObjectMeta(type=objects.Image),), \n",
    "    outputs=(base.ImageAnnotationMeta(\n",
    "        type=base.ImageAnnotation, \n",
    "        available_shapes={tb.fields.ImageAnnotationFieldV1.Shape.POLYGON},\n",
    "        labels=Animal,\n",
    "    ),))"
   ]
  },
  {
   "cell_type": "code",
   "execution_count": 10,
   "id": "fa6182b9",
   "metadata": {},
   "outputs": [],
   "source": [
    "instruction = {\n",
    "    'EN': 'Select the animals in the picture with polygons. Choose the appropriate category for each area.',\n",
    "    'RU': 'Выделите многоугольниками животных на картинке. Выберите соответствующую категорию для каждой выделенной области.',\n",
    "}"
   ]
  },
  {
   "cell_type": "code",
   "execution_count": 11,
   "id": "77ae8985",
   "metadata": {},
   "outputs": [],
   "source": [
    "task_spec = client.TaskSpec(\n",
    "    id='image_annotation',\n",
    "    function=function,\n",
    "    name=base.LocalizedString({\n",
    "        'EN': 'Polygon image segmentation: Animals',\n",
    "        'RU': 'Выделение областей на картинке: животные',\n",
    "    }),\n",
    "    description=instruction,\n",
    "    instruction=instruction)"
   ]
  },
  {
   "cell_type": "code",
   "execution_count": 12,
   "id": "2725fcca",
   "metadata": {},
   "outputs": [],
   "source": [
    "lang = 'EN'"
   ]
  },
  {
   "cell_type": "code",
   "execution_count": 13,
   "id": "082944d4",
   "metadata": {},
   "outputs": [],
   "source": [
    "task_spec_en = client.AnnotationTaskSpec(task_spec, lang)"
   ]
  },
  {
   "cell_type": "code",
   "execution_count": 14,
   "id": "922261c7",
   "metadata": {},
   "outputs": [
    {
     "data": {
      "text/html": [
       "<a href=\"https://tb.yandex.net/editor?config=N4Igxg9gdgZglgcxALgAQmAHRANzgUwHds0sQ4AXfAWwGcTUBtMgEwEMK2GyAHDgCwbY41NgnwB9NlCgROFONGwAaVNgoBPHviEh2nAHQQArhR6nsAX1XDR47tj4VBKNeTs6QNkJu279bAZwUOYUVt4ANmwARvgR9K7M2FGxEbqAgiCAfCCAjCCADCCAXCC5Km44bBHGnmjYLBAI4ahkKXG6+ZmAEiCFxdil5ZVuYBz1jTHNrtiALCCAAiCAwiCAzCCZgKwgXbhlFbpy-PgATlYAut60-GzaCaSOEBEaCEquFFsV1iVlcPqKUA56HFyuvAK6ImJJNJZPI3stfH1ql8jKZQvVsPxgmExiBAEgggGkQcYLQDcIIAOEEAQiALVCAURBMvjAPIgqGy6NQmXGgF4Qaa07LY3LpfGAGRBwVpIeBoCxKG8DFt8ABHYxwEUseE+Hm6eBxFhBDwAWmBcg4YJAln2bghujwRAMETgtGRj0c5QQwVOTDI+pRPCtwQMCoiSoB4jVMg1CmgBn4cgA1vgNAlHsMNCZkWcQEHgtLHYCdtrvCC4PABn6oLaknyoFQC7pAPggC0mC3GqEATCDowD8IJlsfSFvTcQtADwgqFrk0yVbLHMJqkA4iD4zLV9JEtsV3G5FWAWRBse3m-iaYB2EFysxmK9xePSHIM3L8KMNhAMVAAHubVGRIAX8EWUYBUEHSeNQTfxJLJlOptIZmXmqEncZpznBdJ3pfFclUWsywWNcN2mLdCVQdlJlyFtADEQaZ9y8PU5SPAgT3Pc1dXUPCqhAJ1jGtKBTwuCAg2+HVLBw8gQlMVwMFsQFdH4CgzFoZAAHpBIoCIgwMWgAGYDA0aQWHwM8DCgfAKEEgJaBUwSs1oCQcB0moEFoLSOCMmAAAYzLYSSYDYABWAAmMAADYAE4ABZ8DMmzbIARjYHynNs-B7McmA3Kc+yAA4DAAKx4OocOERNyIASQ8AAKYwtgiABeAByXj+KEkSxIk6TZKgeTFOU1T1M07TdP02ojO0wTzMs6y7Mc1yPK8uy-ICoKQrAMKIuiuKEDygBKKxtSAA\" target=\"_blank\" rel=\"noopener noreferrer\">task preview</a>"
      ],
      "text/plain": [
       "<IPython.core.display.HTML object>"
      ]
     },
     "execution_count": 14,
     "metadata": {},
     "output_type": "execute_result"
    }
   ],
   "source": [
    "example_image_url = 'https://tlk.s3.yandex.net/dataset/cats_vs_dogs/cats/f00a3fa52c694e0fa51a165e22cf4628.jpg'\n",
    "example_image = (objects.Image(url=example_image_url),)\n",
    "\n",
    "client.TaskPreview(example_image, task_spec=task_spec_en).display_link()"
   ]
  },
  {
   "cell_type": "code",
   "execution_count": 15,
   "id": "f2917578",
   "metadata": {},
   "outputs": [
    {
     "data": {
      "text/html": [
       "<a href=\"https://tb.yandex.net/editor?config=N4Igxg9gdgZglgcxALgAQmAHRANzgUwHds0sQ4AXfAWwGcTUBtMgEwEMK2GyAHDgCwbY41NgnwB9NlCgROFONGwAaVNhb4YbAK4AbCt2x8KglGvKjxUmXI6KoK8xQCePfEJDtOAOjhQe2gYgAL6q2C5uHl5svlBUAE5QbLrYoeYiYu5mvAIeGeKO4a5ZaOocMX4BQWnqcLRsAEa6+CwMFPHa+GEguo34uvRmzNi9Df0egIIggHwggIwggAwggFwgc4W4yZ1REAipqmSj42bYC1OAEiBLKzhrJeZgHNuou30pByCALCCAAiCAwiCAzCBTgKwg55cPHJ+Ph4qkALrdWj8NhuQakIwQXTOBBKMztTo1EARK7YeD9Fi+Sz4AC00lk8nsdzIkDi+DihnIVDoDGG4GgVAZz0ABCC-Y6-QC8IIAOEF+qEATCC-N4Cv4AfhWOI8eCI3ioAA9qjsypxGcZTKUQPgLk9ugrntFvBBAlU7tgIDwFNB4UwyEb1uiOl1zHsnvrACggyxCmtWujdaC0A09I0eHkAuCC-QBCIBDuiw6o1mq0zOHaJHg3AvFTslquIWQLqPIbkvLilFyharYEbSB+H4gvrAEgggGkQGaSoXx0VTF5CgWoIWAdhBxXM3kK5gL41MxVXIs9aSmHVBvPF8ABHbRwTcZrGm-X43SE+JsFMQEkIeKWnhJpzV55KwjeXR1DWPpf6l-eG93h8im-cxf3fWhPyMEMED8J02SPcweCgvxvBPQl8lJclbDXbx+DkABrfBnEGNIHmcS1W3ubA8L8DN9T4cQwUDcwKTgeAbjXWCaQ5ekKOwQB8EElX4XnFDtAH4QKZAG4QAVBRFQAeEFQUS3nnSVABkQPtVEAcRA53FCZRVkoTpxJQBZEAk359NnDtUFHOYvk+UchQkoUJhU7xF1xXACFfNVPy4ukuX1QBUEAmRzUGk+NUEAURApnjQB5EFQGZLIHaUflQfTBzmYzTPM+M5lUUTBOs2yPnsvtUAmeM3hnIVADEQD5XJAE0nx-TyVXwdVAOxJqEKQ9cKCRCA8OLYJwWCBr0EqQIzAwYRiQ8fgKAoHhaGQAB6FaKF0PDvFoABmbxnGkDRVW8KB8AoFbomzc72NoCQcFulhNloFabpWmAAAZ3rYHatAAVgAJjAAA2ABOAAWfB3r+gBGNhoaB378H+wGYDBoH-oADm8AArHgtjGmbMmsCk7DRNA2WhWF3J4JEUTRboaZbTiRk0Cj3u8Hbft+jGQf+gB2aGQd+6H3uhjGMd+k07QYdn-veoX3s5uWdsVsGwb536+ZIlmYDZ7wweRsHRb5vnOb59WNehqX7zMWWeZ26GwZ2iWxfl4Wwe1npWZljn0d+p30bBkH4aB9X4etn2Vd+8H4bBjHQb5+WMc95pdZ9x2QYFtHhZB+XM8ViPbY597-qB+HBejkHnaBjGtaDVO9c+nadvB03-pBoG+drkGq-Nwu0HZ5vg476GNb59uW+hnaU+9oum5b9Wdvbzvu97sH+9Qdm+Z7k2p8t0uEen+vZ4H7xofbvmy6r37Qfe6OnclpxpaLk2Hc7jXOc+jGxd+me06Lqe8d24YzdgjWu-1-Yby3sLLm-0Hby2AfzZOx9-6nwNrnAGK8QbfzgTtTuUDvA1wxng2uoCMbqzvn-PWYdR6-XetvcW4s76OwIaHHa6s6HYPoXHc2QMqE+y5kne+6sgZAxViDVhDtiFA1Fngqemt-r8KLv7J2n8W6c2wXQ9eT8banxkZzUGoib5yORsgyiXtUGb0IUrFWvDuaOwBgQ+xQsDZwPegjKe-1oZKL0T3AGmMl6j3HmLCROiBFwI1kw+h3My48x8VY4JoMIHw3jv7BxBCH5iKdu9MG58Va5JNvEreids4YzgaPcGasgYEJ2ibJ2jCxbwwBhLIp3gQG1OVnQrxo9akYxqZ9IW7DDGuP9u41pJsq7NwTnfdWpiCGlyrmXURPMy6a39kfcxDcfbf15pPduQd2Hmz6WEgB6tsGlzBgDXud9FatPfpzB26s465zgdo8Iz9T5iy7kwk2bdLmgw9igvWMD3Zq15h4ju-15nQxhaI-6aMEZ0PRnA4a3RvQeHYh1PMHgACSxIAAU2h4i6AALwAHJ5qLWWmtDaW1dr7UOm1E6Z0LrlCui9Dgt17oSEeggZ6r0PpfR+mwAGwNwaQxhnDBGSMUZo0xjjPGZKACUqA8WZAAII2EpNAfF0QSXMDJZTNwZK0BkppsiVEUAyWqDNRAJmJrnRkobg6gAIvgMAGRdD4rJYPLmPN+YV2VTavqPBXXus9d62WbtFYA0VsqkiTrWZho9aIL1Pr9aG2NqbIGQbUBkpDcmiN6bMZV0ds7AG8adiJt1oW1NkbfYQIDvCkGub812lrcketUcY6h1rpW+41aKAdrTezDOWcIWtoLWgN1KbO3ppVqXcuHd3r9uAIO4d9b56t2biupVwb23TvDXW+dk8R5j1Xeuw9s6R3eC3YvFWk6D2oBnUWreO8Ba1OFhe51V7X1nwvlfM2j7Q2-uPcUt+Jtfqc2-Um0Dc7R3V2AfLHNe681TufUe+D3hLawPgS2pVCaf0YevfW9Bd9S7b13fukDxG-1EJIYnDuMGa1wZvTQjW9Ce7AY3emthHCk7Q2Y0O1j9bBGaMqRjbjIneNSLwbIlDhHYO0bA94FRzc6ELyk8prD+ib4dwRgpqtRGX0qbEQDWxCKtMmaw84-2yMHZCZ4+zUGQtTFL3+lZzDN7zORJAe9STBGjNKeszexJvNhag08yR9NmT2H5ME4FgdxmvP1pNjksBcCPOobbTRkLXa6nO3FmLRz0n2btPHjGkuUW-0qzdkMpjiW13Jei8UyZeDM4Jeo057wCy5GiNziV7TN6dlwODu3X61WVOOwYRcqDg28u8dflB6bE3svoYW6O2ujD6Em3myl9NILHZgp2pNrD3SQ7ws7vGyEebvQOrJexMlw0lWpBCEAA\" target=\"_blank\" rel=\"noopener noreferrer\">task preview</a>"
      ],
      "text/plain": [
       "<IPython.core.display.HTML object>"
      ]
     },
     "execution_count": 15,
     "metadata": {},
     "output_type": "execute_result"
    }
   ],
   "source": [
    "example_check = (objects.Image(url=example_image_url), base.ImageAnnotation([{\"shape\":\"polygon\",\"points\":[{\"left\":0.3558927195101885,\"top\":0.20950352030344757},{\"left\":0.4224017735747751,\"top\":0.2893143851809514},{\"left\":0.36254362491664716,\"top\":0.305941648697098},{\"left\":0.1497146519099703,\"top\":0.3026161959938687},{\"left\":0.0033947329678799374,\"top\":0.3391961757293913},{\"left\":0.0033947329678799374,\"top\":0.799771375126653},{\"left\":0.12976193569059435,\"top\":0.7731677535008185},{\"left\":0.13862980956587254,\"top\":0.7515523109298278},{\"left\":0.42905267898123367,\"top\":0.6883687095684705},{\"left\":0.47117507988880514,\"top\":0.6434750980748746},{\"left\":0.550985944766309,\"top\":0.631836013613572},{\"left\":0.5443350393598504,\"top\":0.6035696656361228},{\"left\":0.635230746581452,\"top\":0.5819542230651321},{\"left\":0.6995228321772189,\"top\":0.5237588007586189},{\"left\":0.7216925168654145,\"top\":0.43563430412304177},{\"left\":0.7704658231794446,\"top\":0.3774388818165285},{\"left\":0.8037203502117378,\"top\":0.30095346964225406},{\"left\":0.7793336970547228,\"top\":0.26936166896157543},{\"left\":0.8192391294934748,\"top\":0.14798264529370503},{\"left\":0.6773531474890234,\"top\":0.18788807773245694},{\"left\":0.5155144492651962,\"top\":0.21116624665506223}],\"label\":\"cat\"}]))\n",
    "\n",
    "client.TaskPreview(example_check, task_spec=task_spec_en).display_link()"
   ]
  },
  {
   "cell_type": "markdown",
   "id": "6c2ebcd8-28b4-4179-ab4d-e46224d635f7",
   "metadata": {},
   "source": [
    "# Importing source data"
   ]
  },
  {
   "cell_type": "code",
   "execution_count": 16,
   "id": "e8990e58",
   "metadata": {
    "scrolled": true
   },
   "outputs": [],
   "source": [
    "input_objects = datasource.read_tasks('tasks.json', task_spec_en.task_mapping)"
   ]
  },
  {
   "cell_type": "code",
   "execution_count": 17,
   "id": "abb23213",
   "metadata": {},
   "outputs": [],
   "source": [
    "control_objects = datasource.read_tasks(\n",
    "    'control_tasks.json',\n",
    "    task_spec_en.task_mapping,\n",
    "    has_solutions=True,\n",
    ")"
   ]
  },
  {
   "cell_type": "markdown",
   "id": "f8ae857a-6e82-4ed8-8ebf-12fa74bdccd4",
   "metadata": {
    "tags": []
   },
   "source": [
    "# Labeling efficiency optimization"
   ]
  },
  {
   "cell_type": "code",
   "execution_count": 18,
   "id": "7f0d7d82-61e0-4cf7-961b-fd42e132f1b5",
   "metadata": {},
   "outputs": [],
   "source": [
    "task_duration_hint = timedelta(minutes=1)\n",
    "check_task_duration_hint = timedelta(seconds=10)"
   ]
  },
  {
   "cell_type": "code",
   "execution_count": 19,
   "id": "ace38371",
   "metadata": {},
   "outputs": [],
   "source": [
    "params_form = labeling_params.get_annotation_interface(\n",
    "    task_spec=task_spec_en,\n",
    "    check_task_duration_hint=check_task_duration_hint,\n",
    "    annotation_task_duration_hint=task_duration_hint,\n",
    "    toloka_client=toloka_client)"
   ]
  },
  {
   "cell_type": "code",
   "execution_count": 20,
   "id": "f7ed9261",
   "metadata": {},
   "outputs": [],
   "source": [
    "check_params, annotation_params = params_form.get_params()"
   ]
  },
  {
   "cell_type": "markdown",
   "id": "af894eee-9e03-46f0-9f78-0486e66d9284",
   "metadata": {},
   "source": [
    "# Labeling of your data"
   ]
  },
  {
   "cell_type": "code",
   "execution_count": 27,
   "id": "d71fdd27",
   "metadata": {},
   "outputs": [
    {
     "name": "stdout",
     "output_type": "stream",
     "text": [
      "2022-10-05 14:07:06,183 - crowdom.client.task:define_task:140 - INFO: - no changes in task\n",
      "2022-10-05 14:07:07,081 - crowdom.client.task:define_task:140 - INFO: - no changes in task\n"
     ]
    }
   ],
   "source": [
    "client.define_task(task_spec_en, toloka_client)"
   ]
  },
  {
   "cell_type": "code",
   "execution_count": 28,
   "id": "a820317e",
   "metadata": {},
   "outputs": [],
   "source": [
    "assert control_objects, 'No control objects supplied'\n",
    "assert isinstance(control_objects[0], tuple)\n",
    "\n",
    "try:\n",
    "    task_spec_en.check.task_mapping.validate_objects(control_objects[0][0])\n",
    "except:\n",
    "    control_objects = [(task + solution, (base.BinaryEvaluation(ok=True),)) for (task, solution) in control_objects]"
   ]
  },
  {
   "cell_type": "code",
   "execution_count": null,
   "id": "07ccbae4",
   "metadata": {},
   "outputs": [],
   "source": [
    "raw_results, worker_weights = client.launch_annotation(\n",
    "    task_spec_en,\n",
    "    annotation_params,\n",
    "    check_params,\n",
    "    input_objects,\n",
    "    control_objects,\n",
    "    toloka_client,\n",
    ")"
   ]
  },
  {
   "cell_type": "markdown",
   "id": "38f2b6be-b7e1-46b1-8dfb-5066d75eeef5",
   "metadata": {},
   "source": [
    "# Results study"
   ]
  },
  {
   "cell_type": "code",
   "execution_count": 31,
   "id": "95db5d6d",
   "metadata": {},
   "outputs": [],
   "source": [
    "results = client.AnnotationResults(input_objects, raw_results, task_spec_en, worker_weights)"
   ]
  },
  {
   "cell_type": "code",
   "execution_count": 32,
   "id": "8f6a4f2d",
   "metadata": {
    "scrolled": true
   },
   "outputs": [
    {
     "data": {
      "text/html": [
       "<div>\n",
       "<style scoped>\n",
       "    .dataframe tbody tr th:only-of-type {\n",
       "        vertical-align: middle;\n",
       "    }\n",
       "\n",
       "    .dataframe tbody tr th {\n",
       "        vertical-align: top;\n",
       "    }\n",
       "\n",
       "    .dataframe thead th {\n",
       "        text-align: right;\n",
       "    }\n",
       "</style>\n",
       "<table border=\"1\" class=\"dataframe\">\n",
       "  <thead>\n",
       "    <tr style=\"text-align: right;\">\n",
       "      <th></th>\n",
       "      <th>image</th>\n",
       "      <th>image_annotation</th>\n",
       "    </tr>\n",
       "  </thead>\n",
       "  <tbody>\n",
       "    <tr>\n",
       "      <th>0</th>\n",
       "      <td>https://tlk.s3.yandex.net/dataset/cats_vs_dogs/dogs/c24f504ea1d941808d7cd0ef46b926fc.jpg</td>\n",
       "      <td>[{'shape': 'polygon', 'points': [{'left': Decimal('0.20986503745124435'), 'top': Decimal('0.6958...</td>\n",
       "    </tr>\n",
       "    <tr>\n",
       "      <th>1</th>\n",
       "      <td>https://tlk.s3.yandex.net/dataset/cats_vs_dogs/cats/e86f6ba4fa32482f8f449c06453a5734.jpg</td>\n",
       "      <td>[{'shape': 'polygon', 'points': [{'left': Decimal('0.284974629802216'), 'top': Decimal('0.001656...</td>\n",
       "    </tr>\n",
       "    <tr>\n",
       "      <th>2</th>\n",
       "      <td>https://tlk.s3.yandex.net/dataset/cats_vs_dogs/cats/895a9c685100433f8b4ac4c93c0a52e4.jpg</td>\n",
       "      <td>[{'shape': 'polygon', 'points': [{'left': Decimal('0.9609609609609611'), 'top': Decimal('0.31479...</td>\n",
       "    </tr>\n",
       "  </tbody>\n",
       "</table>\n",
       "</div>"
      ],
      "text/plain": [
       "                                                                                      image  \\\n",
       "0  https://tlk.s3.yandex.net/dataset/cats_vs_dogs/dogs/c24f504ea1d941808d7cd0ef46b926fc.jpg   \n",
       "1  https://tlk.s3.yandex.net/dataset/cats_vs_dogs/cats/e86f6ba4fa32482f8f449c06453a5734.jpg   \n",
       "2  https://tlk.s3.yandex.net/dataset/cats_vs_dogs/cats/895a9c685100433f8b4ac4c93c0a52e4.jpg   \n",
       "\n",
       "                                                                                      image_annotation  \n",
       "0  [{'shape': 'polygon', 'points': [{'left': Decimal('0.20986503745124435'), 'top': Decimal('0.6958...  \n",
       "1  [{'shape': 'polygon', 'points': [{'left': Decimal('0.284974629802216'), 'top': Decimal('0.001656...  \n",
       "2  [{'shape': 'polygon', 'points': [{'left': Decimal('0.9609609609609611'), 'top': Decimal('0.31479...  "
      ]
     },
     "metadata": {},
     "output_type": "display_data"
    }
   ],
   "source": [
    "with pd.option_context(\"max_colwidth\", 100):\n",
    "    display(results.predict())"
   ]
  },
  {
   "cell_type": "code",
   "execution_count": 33,
   "id": "99519517",
   "metadata": {},
   "outputs": [
    {
     "data": {
      "text/html": [
       "<div>\n",
       "<style scoped>\n",
       "    .dataframe tbody tr th:only-of-type {\n",
       "        vertical-align: middle;\n",
       "    }\n",
       "\n",
       "    .dataframe tbody tr th {\n",
       "        vertical-align: top;\n",
       "    }\n",
       "\n",
       "    .dataframe thead th {\n",
       "        text-align: right;\n",
       "    }\n",
       "</style>\n",
       "<table border=\"1\" class=\"dataframe\">\n",
       "  <thead>\n",
       "    <tr style=\"text-align: right;\">\n",
       "      <th></th>\n",
       "      <th>image</th>\n",
       "      <th>image_annotation</th>\n",
       "      <th>confidence</th>\n",
       "    </tr>\n",
       "  </thead>\n",
       "  <tbody>\n",
       "    <tr>\n",
       "      <th>0</th>\n",
       "      <td>https://tlk.s3.yandex.net/dataset/cats_vs_dogs/dogs/c24f504ea1d941808d7cd0ef46b926fc.jpg</td>\n",
       "      <td>[{'shape': 'polygon', 'points': [{'left': Decimal('0.20986503745124435'), 'top': Decimal('0.6958...</td>\n",
       "      <td>1.0</td>\n",
       "    </tr>\n",
       "    <tr>\n",
       "      <th>1</th>\n",
       "      <td>https://tlk.s3.yandex.net/dataset/cats_vs_dogs/cats/e86f6ba4fa32482f8f449c06453a5734.jpg</td>\n",
       "      <td>[{'shape': 'polygon', 'points': [{'left': Decimal('0.284974629802216'), 'top': Decimal('0.001656...</td>\n",
       "      <td>1.0</td>\n",
       "    </tr>\n",
       "    <tr>\n",
       "      <th>2</th>\n",
       "      <td>https://tlk.s3.yandex.net/dataset/cats_vs_dogs/cats/895a9c685100433f8b4ac4c93c0a52e4.jpg</td>\n",
       "      <td>[{'shape': 'polygon', 'points': [{'left': Decimal('0.9609609609609611'), 'top': Decimal('0.31479...</td>\n",
       "      <td>1.0</td>\n",
       "    </tr>\n",
       "    <tr>\n",
       "      <th>3</th>\n",
       "      <td>https://tlk.s3.yandex.net/dataset/cats_vs_dogs/cats/895a9c685100433f8b4ac4c93c0a52e4.jpg</td>\n",
       "      <td>[{'shape': 'polygon', 'points': [{'left': Decimal('0.004418211314763039'), 'top': Decimal('0.053...</td>\n",
       "      <td>0.0</td>\n",
       "    </tr>\n",
       "  </tbody>\n",
       "</table>\n",
       "</div>"
      ],
      "text/plain": [
       "                                                                                      image  \\\n",
       "0  https://tlk.s3.yandex.net/dataset/cats_vs_dogs/dogs/c24f504ea1d941808d7cd0ef46b926fc.jpg   \n",
       "1  https://tlk.s3.yandex.net/dataset/cats_vs_dogs/cats/e86f6ba4fa32482f8f449c06453a5734.jpg   \n",
       "2  https://tlk.s3.yandex.net/dataset/cats_vs_dogs/cats/895a9c685100433f8b4ac4c93c0a52e4.jpg   \n",
       "3  https://tlk.s3.yandex.net/dataset/cats_vs_dogs/cats/895a9c685100433f8b4ac4c93c0a52e4.jpg   \n",
       "\n",
       "                                                                                      image_annotation  \\\n",
       "0  [{'shape': 'polygon', 'points': [{'left': Decimal('0.20986503745124435'), 'top': Decimal('0.6958...   \n",
       "1  [{'shape': 'polygon', 'points': [{'left': Decimal('0.284974629802216'), 'top': Decimal('0.001656...   \n",
       "2  [{'shape': 'polygon', 'points': [{'left': Decimal('0.9609609609609611'), 'top': Decimal('0.31479...   \n",
       "3  [{'shape': 'polygon', 'points': [{'left': Decimal('0.004418211314763039'), 'top': Decimal('0.053...   \n",
       "\n",
       "   confidence  \n",
       "0         1.0  \n",
       "1         1.0  \n",
       "2         1.0  \n",
       "3         0.0  "
      ]
     },
     "metadata": {},
     "output_type": "display_data"
    }
   ],
   "source": [
    "with pd.option_context(\"max_colwidth\", 100):\n",
    "    display(results.predict_proba())"
   ]
  },
  {
   "cell_type": "code",
   "execution_count": 34,
   "id": "2c281983",
   "metadata": {},
   "outputs": [
    {
     "data": {
      "text/html": [
       "<div>\n",
       "<style scoped>\n",
       "    .dataframe tbody tr th:only-of-type {\n",
       "        vertical-align: middle;\n",
       "    }\n",
       "\n",
       "    .dataframe tbody tr th {\n",
       "        vertical-align: top;\n",
       "    }\n",
       "\n",
       "    .dataframe thead th {\n",
       "        text-align: right;\n",
       "    }\n",
       "</style>\n",
       "<table border=\"1\" class=\"dataframe\">\n",
       "  <thead>\n",
       "    <tr style=\"text-align: right;\">\n",
       "      <th></th>\n",
       "      <th>image</th>\n",
       "      <th>image_annotation</th>\n",
       "      <th>annotator</th>\n",
       "      <th>annotation_overlap</th>\n",
       "      <th>confidence</th>\n",
       "      <th>evaluation_overlap</th>\n",
       "      <th>eval</th>\n",
       "      <th>evaluator</th>\n",
       "    </tr>\n",
       "  </thead>\n",
       "  <tbody>\n",
       "    <tr>\n",
       "      <th>0</th>\n",
       "      <td>https://tlk.s3.yandex.net/dataset/cats_vs_dogs/dogs/c24f504ea1d941808d7cd0ef46b926fc.jpg</td>\n",
       "      <td>[{'shape': 'polygon', 'points': [{'left': Decimal('0.20986503745124435'), 'top': Decimal('0.6958682820751786')}, {'left': Decimal('0.2849746298022...</td>\n",
       "      <td>fd060a4d57b00f9bba4421fe4c7c22f3</td>\n",
       "      <td>1</td>\n",
       "      <td>1.0</td>\n",
       "      <td>1</td>\n",
       "      <td>True</td>\n",
       "      <td>6d85abd870df2592ef79175f99b5b93c</td>\n",
       "    </tr>\n",
       "    <tr>\n",
       "      <th>1</th>\n",
       "      <td>https://tlk.s3.yandex.net/dataset/cats_vs_dogs/cats/e86f6ba4fa32482f8f449c06453a5734.jpg</td>\n",
       "      <td>[{'shape': 'polygon', 'points': [{'left': Decimal('0.284974629802216'), 'top': Decimal('0.0016568292430361395')}, {'left': Decimal('0.271719995857...</td>\n",
       "      <td>fd060a4d57b00f9bba4421fe4c7c22f3</td>\n",
       "      <td>1</td>\n",
       "      <td>1.0</td>\n",
       "      <td>1</td>\n",
       "      <td>True</td>\n",
       "      <td>6d85abd870df2592ef79175f99b5b93c</td>\n",
       "    </tr>\n",
       "    <tr>\n",
       "      <th>2</th>\n",
       "      <td>https://tlk.s3.yandex.net/dataset/cats_vs_dogs/cats/895a9c685100433f8b4ac4c93c0a52e4.jpg</td>\n",
       "      <td>[{'shape': 'polygon', 'points': [{'left': Decimal('0.9609609609609611'), 'top': Decimal('0.31479755617686656')}, {'left': Decimal('0.7621414517966...</td>\n",
       "      <td>6d85abd870df2592ef79175f99b5b93c</td>\n",
       "      <td>2</td>\n",
       "      <td>1.0</td>\n",
       "      <td>1</td>\n",
       "      <td>True</td>\n",
       "      <td>fd060a4d57b00f9bba4421fe4c7c22f3</td>\n",
       "    </tr>\n",
       "    <tr>\n",
       "      <th>3</th>\n",
       "      <td>https://tlk.s3.yandex.net/dataset/cats_vs_dogs/cats/895a9c685100433f8b4ac4c93c0a52e4.jpg</td>\n",
       "      <td>[{'shape': 'polygon', 'points': [{'left': Decimal('0.004418211314763039'), 'top': Decimal('0.05301853577715647')}, {'left': Decimal('0.10382796589...</td>\n",
       "      <td>fd060a4d57b00f9bba4421fe4c7c22f3</td>\n",
       "      <td>2</td>\n",
       "      <td>0.0</td>\n",
       "      <td>1</td>\n",
       "      <td>False</td>\n",
       "      <td>6d85abd870df2592ef79175f99b5b93c</td>\n",
       "    </tr>\n",
       "  </tbody>\n",
       "</table>\n",
       "</div>"
      ],
      "text/plain": [
       "                                                                                      image  \\\n",
       "0  https://tlk.s3.yandex.net/dataset/cats_vs_dogs/dogs/c24f504ea1d941808d7cd0ef46b926fc.jpg   \n",
       "1  https://tlk.s3.yandex.net/dataset/cats_vs_dogs/cats/e86f6ba4fa32482f8f449c06453a5734.jpg   \n",
       "2  https://tlk.s3.yandex.net/dataset/cats_vs_dogs/cats/895a9c685100433f8b4ac4c93c0a52e4.jpg   \n",
       "3  https://tlk.s3.yandex.net/dataset/cats_vs_dogs/cats/895a9c685100433f8b4ac4c93c0a52e4.jpg   \n",
       "\n",
       "                                                                                                                                        image_annotation  \\\n",
       "0  [{'shape': 'polygon', 'points': [{'left': Decimal('0.20986503745124435'), 'top': Decimal('0.6958682820751786')}, {'left': Decimal('0.2849746298022...   \n",
       "1  [{'shape': 'polygon', 'points': [{'left': Decimal('0.284974629802216'), 'top': Decimal('0.0016568292430361395')}, {'left': Decimal('0.271719995857...   \n",
       "2  [{'shape': 'polygon', 'points': [{'left': Decimal('0.9609609609609611'), 'top': Decimal('0.31479755617686656')}, {'left': Decimal('0.7621414517966...   \n",
       "3  [{'shape': 'polygon', 'points': [{'left': Decimal('0.004418211314763039'), 'top': Decimal('0.05301853577715647')}, {'left': Decimal('0.10382796589...   \n",
       "\n",
       "                          annotator  annotation_overlap  confidence  \\\n",
       "0  fd060a4d57b00f9bba4421fe4c7c22f3                   1         1.0   \n",
       "1  fd060a4d57b00f9bba4421fe4c7c22f3                   1         1.0   \n",
       "2  6d85abd870df2592ef79175f99b5b93c                   2         1.0   \n",
       "3  fd060a4d57b00f9bba4421fe4c7c22f3                   2         0.0   \n",
       "\n",
       "   evaluation_overlap   eval                         evaluator  \n",
       "0                   1   True  6d85abd870df2592ef79175f99b5b93c  \n",
       "1                   1   True  6d85abd870df2592ef79175f99b5b93c  \n",
       "2                   1   True  fd060a4d57b00f9bba4421fe4c7c22f3  \n",
       "3                   1  False  6d85abd870df2592ef79175f99b5b93c  "
      ]
     },
     "metadata": {},
     "output_type": "display_data"
    }
   ],
   "source": [
    "with pd.option_context('max_colwidth', 150), pd.option_context('display.max_rows', 100):\n",
    "    display(results.worker_labels())"
   ]
  },
  {
   "cell_type": "code",
   "execution_count": 30,
   "id": "520a7b7a",
   "metadata": {},
   "outputs": [
    {
     "data": {
      "text/html": [
       "<table border=\"1\" class=\"dataframe\">\n",
       "  <thead>\n",
       "    <tr style=\"text-align: right;\">\n",
       "      <th></th>\n",
       "      <th>image</th>\n",
       "      <th>image_annotation</th>\n",
       "      <th>preview</th>\n",
       "    </tr>\n",
       "  </thead>\n",
       "  <tbody>\n",
       "    <tr>\n",
       "      <th>0</th>\n",
       "      <td>https://tlk.s3.yandex.net/dataset/cats_vs_dogs/dogs/c24f504ea1d941808d7cd0ef46b926fc.jpg</td>\n",
       "      <td>[{'shape': 'polygon', 'points': [{'left': Decimal('0.20986503745124435'), 'top': Decimal('0.6958682820751786')}, {'left': Decimal('0.284974629802216'), 'top': Decimal('0.6295951123537331')}, {'left': Decimal('0.2982292637465051'), 'top': Decimal('0.5533809671740707')}, {'left': Decimal('0.3910117013565289'), 'top': Decimal('0.47882365123744436')}, {'left': Decimal('0.44182113147630386'), 'top': Decimal('0.4605985295640468')}, {'left': Decimal('0.5832038935487212'), 'top': Decimal('0.4953919436678057')}, {'left': Decimal('0.6693590141866004'), 'top': Decimal('0.5169307238272756')}, {'left': Decimal('0.7908598253425839'), 'top': Decimal('0.5384695039867453')}, {'left': Decimal('0.9211970591280935'), 'top': Decimal('0.5185875530703116')}, {'left': Decimal('0.9985157571364467'), 'top': Decimal('0.5036760898829864')}, {'left': Decimal('0.9963066514790653'), 'top': Decimal('0.9278243761002382')}, {'left': Decimal('0.854923889406648'), 'top': Decimal('0.8615512063787926')}, {'left': Decimal('0.7378412895654275'), 'top': Decimal('0.8632080356218287')}, {'left': Decimal('0.7798142970556764'), 'top': Decimal('0.8963446204825515')}, {'left': Decimal('0.7776051913982948'), 'top': Decimal('0.9427358392875633')}, {'left': Decimal('0.7113320216768493'), 'top': Decimal('0.9559904732318525')}, {'left': Decimal('0.6163404784094438'), 'top': Decimal('0.9228538883711297')}, {'left': Decimal('0.5566946256601428'), 'top': Decimal('0.8482965724345034')}, {'left': Decimal('0.5854129992061027'), 'top': Decimal('0.8168168168168168')}, {'left': Decimal('0.4926305615960788'), 'top': Decimal('0.7240343792067929')}, {'left': Decimal('0.41531186358772565'), 'top': Decimal('0.7240343792067929')}, {'left': Decimal('0.30043836940388663'), 'top': Decimal('0.7505436470953712')}, {'left': Decimal('0.2385834109972041'), 'top': Decimal('0.7372890131510821')}], 'label': 'dog'}]</td>\n",
       "      <td><a href=\"https://tb.yandex.net/editor?config=N4Igxg9gdgZglgcxALgAQmAHRANzgUwHds0sQ4AXfAWwGcTUBtMgEwEMK2GyAHDgCwbY41NgnwB9NlCgROFONGwAaVNhb4YbAK4AbCt2x8KglGvKjxUmXI6KoK8xQCePfEJDtOAOjhQe2gYgAL6q2C5uHl5svlBUAE5QbLrYoeYiYu5mvAIeGeKO4a5ZaOocMX4BQWnqcLRsAEa6+CwMFPHa+GEguo34uvRmzNi9Df0egIIggHwggIwggAwggFwgc4W4yZ1REAipqmSj42bYC1OAEiBLKzhrJeZgHNuou30pByCALCCAAiCAwiCAzCBTgKwg55cPHJ+Ph4qkALrdWj8NhuQakIwQXTOBBKMztTo1EARK7YeD9Fi+Sz4AC00lk8nsEO6OI8eCI3l0dWq3R4um0CD88KYZFpzzZHL83nxukJ+VJ5NsCmg3n4cgA1vhnIM0g9nBBAoYQPK-K1+ZkwSFuhS4PAbtKoNzhuBoFQ4h5APggvzevxeqEATCCAaRBAPwgU0A3CCAXhBfgHABwgv0APCCob1vKbu52AGRBAEIgv1UgHEQRNTD0TX6ocOukNzEmAWRA-RHg4nPahAOwgcy+nyrIb9IYm8e8Kz5pVwBEI3ioAA8WfdsJA4vh7c9AKggEybqCDidQgFEQKaJwDyIKgZpWpi8A1Mfrn84WS2WA4m5qpvc7fjW6x8G8nUBNE285qHAGIgHzbIBpxTp3d7+AHaknB-fl2U5KBeyRCB5S4EJwWCL90EqQIzAwYRiQ8fgKAoHhaGQAB6fCKF0eVvFoABmbxnGkDQ+28KB8AofDoloRj8PNWgJBwTiWE2WhmL49iACYABYYAAVgABhE-A2AARhYABOES5IADkk1SWAAdjAFhJM0ESADYGkUoTDJgMBvAAKx4LZEPQzJrApOw0TQa1oVhXEQB4JEUTRVkID8CgrV2TQgjQSTvCEyTFNUwypPIrSRPEuTRJE8jxJpCAeAYSLDMU8S4tUoTiskrSUq0uLVRGMLcqi1SRMUpLDKE2LJKEoS5MMrKcrMPLWvEgq5NSjLEvI8i5Oqnpar6qLYo60zDMSoypJSnq6vE8TxvUxTDK0uSkrKsqpuaGBwtQSLyMUuTJOGrTboy+KSsU9bZpEyrivI+KRqSkT0sMk6Zoi7w-rUzq5Im96lsk8i4te4GjMkwbVPEgbDJE6TDNUwGzo21TyOi2HFIykTVK0zqhPhi6QYKq65OUr69vU8StJx868vyjLFNulS4sMyTpKpyKUs5sqhNhoTyfKgGdhq3HZq07mUfmraRKEwqrqF7wtoa-KEtivbkvItm6tM4amqR66SpijKtZSlGyc28ijomrqTdmxTYpSlmWYh9GjK0u2Yb2-nVNi4qDZE93gc96HDO+97ufi8itdMyrRMSwybvaiXo+plHGvF1Sw4x+PSa1uK5M21LJKWyrFbMvPIq0xKGtSsPxPitXyorpbovUx7OuKsmm+8LTFdUuS1YtzaQ5EivdvIv6Wuk4rq-E0fx60-mUuuq6I-LpxstN7uMvx0zHaW43Zem+Xgf2iGCfarrt4a4nU82z3pJb8W1NRjeb6nXZt4LOS0MbvQajFP6sNU4dRRrDYuiVhqtVZoAoG1NZ75SMureOPMSoV1Jq1eK5N0rJRhlHNBd8MEF1Sp7UytcbqSwrl1SeWMWHsKxqPQu0NO5V12mVYuWsSHkMSvQvaplFJcKrq7OKZ9x44MykfXq99RIiIbrXBukjKHAOdtJWGX1lIw2LvHFOSi6rlSRv9d6MUtr7SEqPIuGsVIxSatFFSQjErPQelXG6xVJqQnMHsJ4nZeJ2WCAE4QepOwAEliQAAptDxF0AAXgAORYRwnhQixFSIUSojRAC9E2IsTYhxLiPFBKhP4mAUSElpKyQUspNSGltK6X0jAIyJkzIWWsrZVJABKVAsTMgAEEbCUmgHE6IyTmCpI8m4VJaBUk+WRKiKAqTVDLMCnEWgiyeSpKAXsgAIvgMAGRdBxNSZFaKBsErlQGZsig2VjmnPOZcvKBUiolU6gM1UBywovLOaIC5Vz6qNWaq1VSDzUCpKeTwQFbzQUtQKkNVKIlfk7H+WdBFwL3lzWKq1MyiVoWwueWgE5QLkh4qdrDGKe0hIYvuFiigOKqWgrprdA6PMSVwtZSCyKEDPrfQZf0v5hzyWvNxaC0GfiIZVx5WS1AFLEUCp3l7IhjLgDMr5dS-GhMw4ZQVfCiVlL+U0y2tdBmWlNXapNSqkBnNBp4KNTq0FItiZi1hja8VSrJVsubkrZG6tyIurtVK4WsMjIFWkpJb1AKw3+u8Gbem91BpyVDb6011K-6Oy2um0VmKfXKvDUmr2Vdyr7QzcWxNCUQ4aU9nG7FCazWx2dvHb2Va-UtslsVdK2981ivjZm+1BdTIIOUp2rNoLK7V2iujRtLLm14pbpVFSz1DKTpHX3DSMNO4Ltdc3CeU8UH5seYq6tZqw5gOwUjfdS7QVbx3vTKem6S3KUlmfK6IaC1MqLV25dw1xrRU6ta-pZ7jXDrfZ-bm70CZ3sg4m0BS9v4NVfYm0yJUdbF3RT+rVf6p3C07lglqLM0OXsIbtFmol4MXt1eJNddCRXgYPd4VhbGWE0f-dKxazteEbrAzC3l97m6qKXqIkVg6m0IbNSpPNaklr8eY8Jseom+2mU4wR7wuj0r4ywWR5dq0rGVtw7a6TeLHH4xUjdfTD7PFhwehJgJBzHh7NSaE1J4T+mpBCEAA\" target=\"_blank\" rel=\"noopener noreferrer\">task preview</a></td>\n",
       "    </tr>\n",
       "    <tr>\n",
       "      <th>1</th>\n",
       "      <td>https://tlk.s3.yandex.net/dataset/cats_vs_dogs/cats/e86f6ba4fa32482f8f449c06453a5734.jpg</td>\n",
       "      <td>[{'shape': 'polygon', 'points': [{'left': Decimal('0.284974629802216'), 'top': Decimal('0.0016568292430361395')}, {'left': Decimal('0.2717199958579269'), 'top': Decimal('0.10603707155431293')}, {'left': Decimal('0.19440129784957372'), 'top': Decimal('0.2104173138655897')}, {'left': Decimal('0.1016188602395499'), 'top': Decimal('0.24355389872631253')}, {'left': Decimal('0.2032377204790998'), 'top': Decimal('0.2750336543439992')}, {'left': Decimal('0.2540471505988747'), 'top': Decimal('0.4258051154602879')}, {'left': Decimal('0.31148389769079426'), 'top': Decimal('0.49207828518173347')}, {'left': Decimal('0.31148389769079426'), 'top': Decimal('0.5682924303613959')}, {'left': Decimal('0.3512477995236616'), 'top': Decimal('0.6047426737081909')}, {'left': Decimal('0.36229332781056917'), 'top': Decimal('0.6743295019157087')}, {'left': Decimal('0.33578405992199095'), 'top': Decimal('0.7406026716371543')}, {'left': Decimal('0.35566601083842464'), 'top': Decimal('0.7555141348244797')}, {'left': Decimal('0.1590556073314694'), 'top': Decimal('0.8648648648648649')}, {'left': Decimal('0.12370991681336509'), 'top': Decimal('0.9195402298850576')}, {'left': Decimal('0.15242829035932484'), 'top': Decimal('0.9311380345863104')}, {'left': Decimal('0.29602015808912363'), 'top': Decimal('0.8748058403230817')}, {'left': Decimal('0.44182113147630386'), 'top': Decimal('0.7985916951434193')}, {'left': Decimal('0.5721583652618135'), 'top': Decimal('0.8217873045459253')}, {'left': Decimal('0.6273860066963515'), 'top': Decimal('0.8085326706016361')}, {'left': Decimal('0.6936591764177971'), 'top': Decimal('0.8317282800041421')}, {'left': Decimal('0.8681785233509371'), 'top': Decimal('0.7389458423941183')}, {'left': Decimal('0.9322425874150012'), 'top': Decimal('0.5633219426322875')}, {'left': Decimal('0.846087466777122'), 'top': Decimal('0.48048048048048053')}, {'left': Decimal('0.8063235649442546'), 'top': Decimal('0.463912188050119')}, {'left': Decimal('0.7798142970556763'), 'top': Decimal('0.44071657864761316')}, {'left': Decimal('0.7091229160194678'), 'top': Decimal('0.4340892616754686')}, {'left': Decimal('0.6384315349832591'), 'top': Decimal('0.39598218908563737')}, {'left': Decimal('0.5898312105208657'), 'top': Decimal('0.3164543854199027')}, {'left': Decimal('0.5235580407994201'), 'top': Decimal('0.2534948741845293')}, {'left': Decimal('0.5456490973732353'), 'top': Decimal('0.20710365537951747')}, {'left': Decimal('0.5080943011977495'), 'top': Decimal('0.16236926581754166')}, {'left': Decimal('0.4661212937075006'), 'top': Decimal('0.10106658382520452')}, {'left': Decimal('0.3865934900417659'), 'top': Decimal('0.09112560836698767')}, {'left': Decimal('0.32252942597770184'), 'top': Decimal('0.0016568292430361395')}], 'label': 'cat'}]</td>\n",
       "      <td><a href=\"https://tb.yandex.net/editor?config=N4Igxg9gdgZglgcxALgAQmAHRANzgUwHds0sQ4AXfAWwGcTUBtMgEwEMK2GyAHDgCwbY41NgnwB9NlCgROFONGwAaVNhb4YbAK4AbCt2x8KglGvKjxUmXI6KoK8xQCePfEJDtOAOjhQe2gYgAL6q2C5uHl5svlBUAE5QbLrYoeYiYu5mvAIeGeKO4a5ZaOocMX4BQWnqcLRsAEa6+CwMFPHa+GEguo34uvRmzNi9Df0egIIggHwggIwggAwggFwgc4W4yZ1REAipqmSj42bYC1OAEiBLKzhrJeZgHNuou30pByCALCCAAiCAwiCAzCBTgKwg55cPHJ+Ph4qkALrdWj8NhuQakIwQXTOBBKMztTo1EARK7YeD9Fi+Sz4AC00lk8nsEO6OI8eCI3l0dWq3R4um0CD88KYZFpzzZHL83nxukJ+VJ5NsCmg3n4cgA1vhnIM0g9nBBAoYQPK-K1+ZkwSFuhS4PAbtKoNzhuBoFQ4h5APggvzevxeqEATCCAaRBAPwgU0A3CCAXhBfgHABwgv0APCCob1vKbu52AGRBAEIgv1UgHEQRNTD0TX6ocOukNzEmAWRA-RHg4nPahAOwgcy+nyrIb9IYm8e8Kz5pVwBEI3ioAA8WfdsJA4vh7c9AKggEybqCDidQgFEQKaJwDyIKgZpWpi8A1Mfrn84WS2WA4m5qpvc7fjW6x8G8nUBNE285qHAGIgHzbIBpxTp3d7+AHaknB-fl2U5KBeyRCB5S4EJwWCL90EqQIzAwYRiQ8fgKAoHhaGQAB6fCKF0eVvFoABmbxnGkDQ+28KB8AofDoloRj8PNWgJBwTiWE2Wh2I4fj8AADgANhgUSGjYAAWLRyIAJmk4T5JgYSYGk6SAE4wAABlE6SAFZyLYAyAHZyOk7wACseC2RD0MyawKTsNE0GtaFYVxEAeCRFE0VZCA-AoK1dk0II0B07x5OErTTOk0T5M04SdPk+SAEZRJpCAeAYSKdJ0jKDNE5TNMU8idPI0S0vIzSDNVEYwtyqLTLSlrNPagzhLM0rRM0rKcrMSK0r0irTJ0lqDIM6TyLSxLyPqnpGsG7w0s0jSCsS0yYtq8zTPk-qmvSnTpNambyLEybhM00yFuaGBwtQIaCqq4SxJSmqpvag7lrKybzqSvbRJm+SjNupaIqiir5PI0y9uO0zNJ09rhO+iH5NMgyKsqqaLJq9r5LB+7Dqm+G0sxgykuEuLTNRx7vGkkHkoMtKyfilKqc0wmHsima0qU-7TN68a1vkzKnGypqtPk8blK6tLhNOiybp2BqieW3n+auwXEYRhmxfCCXlqKkqyoqqqPs5lXFrViHyOZxTYY66HRKq-XsUNiHRPhvXdp0hXEctodre57xKtSzTyIUrbhqKzTWtpyLRLihTaoKuOzL95Wg7ukPI7MmKdIp0rVoDgyE+8OKRtFlqgYm6auaau2ipdgq-fOhn4uk8uMcmvnqqUxTpIRrPQptumycRyavfMmb4rW8uxKU-TF5X-TA9HkPZphpG4+K6rsaR8u49q6SUsS17ycFhvlrJxTosSiqKYUpSu-FgaIYjlnzoqwyxJm47r5o00l7aWZNkpXS3kDBecUmYFwUuVBWI9VYhw0vLdK1U+aC3KudN2FAPZ0wRl1XetU+YWVWvNK2OcmpmXSp1bGot5bVTLm-JqylWpU3KoZQypVQaUPBnTBK5k3p6V6kDZmzCDbvzpuAoy1cRoZUqmlQBAiI6iQpq1fSrVh5pQXjNPast8rHT5ulZRkUxKIK6tDO2SMYY6JYctIRa1OoMxqideWFDs78MihHVKDNOpxTJvlWa5ciqR3SiLIGqUqZ1T4WPMxbMqbxSTrDWa+17EQyUsdZKmSclMw8RvVhel4FFS0hpEG8Vy7xRqrNeWTMCqrVMRXQhxjrqFyKlgypp8a7530oLDBolGljTjuHDKad4pbUqRZP2PUMoY3imJRpQMYozSMlpYSCl1Hlwtmwq6ftQm7UaZ1JKwMY7SwujTdJdMZr6Rxl1E67UUpIODtQ6Gl1jrCxFgVcuIMLJrUSfLQyc1DmGTXkjXaxTyLfPGsNbGRkEbM2pocv2SNpr1OunFWq5cMrOx6p1VqU0MoDNiSgl2NS5pjQxvlXB+CnrDRdnQ5SBlpaAsaTgp+Wl8onUFhTcuSMWYgy9usl2AMk6stSkykWFNYZjQBby56xtEqm0UR9YIkJzB7CeJ2c0QFhB6k7AASWJAACm0PEXQABeAA5FhHCeFCLEVIhRKiNEAL0TYixNiHEuI8T4gJYK+ERLiUkjJOSillKqXUlpXSNzjJmQstZWylqACUqBDWZAAII2EpNAI10RzXMEtR5Nwlq0CWp8siVEUBLWqDLYFOItAS08ktTnRtAARfAYAMi6CNZayK0VYrxXPsmmteCeBto7V2nteV5XFUVcm1Uzawrjs7aIbtvbmqtRLrVTSw7UCWtHcuyd666WjWhaJedOxF33UPauqdK01qn1mtdYSu793ZRvckO9R0uVnR3UmhdLa0DtpXZ+49z1akgNfQeoDE7b3rt+kZK6VML33CvRQD9a6+1QxhnDAyUH30wZA5h5qmNI5qOmih4AaGMNfpJkPQJ56k0joI6gYDR7Ip+KZizSalHqOEfY6HFmmt0X4bHfxuDHHSoy2iky3jgHWOwdAzzIT6ytamVEzR9dCrSqouknJpd4mlOh3tkPBGtUNOGeI17IePsYb6evZZu9Yc5pRxfUxvd0GFNEbvUnaaiVMarXs+hxz6685bVPkXCzXmBOVxAUnDKQXNM8yni3YabnmNieixJiuk1mYnQsm5gDBmstGYnm06e5Eotsey6vJeWlEshaGtDIZu90seZY9Vozx8Sbhz-UVhzJXiO3wZiVY6VXFPEc-tVZKFlGP9eC4Nr9wCUoFTxeN7z67EmwNPpV-9l75OdeI6gthGC8PubfZlw7d7CHqN6szBri2tN7TAdjXbGWkveDYVtcyx0zvzY+4InBVL1Pnc81dzbeyFJJz0g98HidVHqMFnp0HHWJt3vWa1e+yUdKw7R5tveW0mUWXWzF-6v8O644294hSd9-HI-e417woSFKrT1pTgTMVBVxRdm1i7H3clZMLuzmrRTXlrxJ9lqpwzalpWF0Zx2CsGbXVlyjy7eOONdMKltOb+3itw4rnykZXsJdGemqfK6DCQf-cZ0s6aZNrEm+I9s9KEC5fEaORjo6Z2GePeUzc6ady3d3qJ2883jvaO-KUnFeSQetMgo5dden7W1dU8hi1M2k1kfW990z5Fa1yqzXD8ehKlVcWFd1wN-XSSyURxBz7-Xw06VqNU7HnmF0I4cpx6rj7fLZpFT9lnivC39c04lXrLv9f1feCCWo2dpV51qubY8RtlrzSWtVUm1IIQgA\" target=\"_blank\" rel=\"noopener noreferrer\">task preview</a></td>\n",
       "    </tr>\n",
       "    <tr>\n",
       "      <th>2</th>\n",
       "      <td>https://tlk.s3.yandex.net/dataset/cats_vs_dogs/cats/895a9c685100433f8b4ac4c93c0a52e4.jpg</td>\n",
       "      <td>[{'shape': 'polygon', 'points': [{'left': Decimal('0.9609609609609611'), 'top': Decimal('0.31479755617686656')}, {'left': Decimal('0.7621414517966243'), 'top': Decimal('0.3512477995236616')}, {'left': Decimal('0.5964585274930103'), 'top': Decimal('0.34627731179455323')}, {'left': Decimal('0.4086845466155811'), 'top': Decimal('0.3164543854199027')}, {'left': Decimal('0.43298470884677787'), 'top': Decimal('0.3761002381692037')}, {'left': Decimal('0.2871837354595976'), 'top': Decimal('0.36781609195402304')}, {'left': Decimal('0.15021918470194334'), 'top': Decimal('0.42911877394636017')}, {'left': Decimal('0.07731869800835318'), 'top': Decimal('0.5566946256601429')}, {'left': Decimal('0.022091056573815198'), 'top': Decimal('0.6345656000828415')}, {'left': Decimal('0.09278243761002382'), 'top': Decimal('0.7770529149839496')}, {'left': Decimal('0.13696455075765424'), 'top': Decimal('0.7985916951434193')}, {'left': Decimal('0.14801007904456182'), 'top': Decimal('0.7091229160194679')}, {'left': Decimal('0.22532877705291499'), 'top': Decimal('0.8068758413586001')}, {'left': Decimal('0.24962893928411173'), 'top': Decimal('0.8317282800041421')}, {'left': Decimal('0.29602015808912363'), 'top': Decimal('0.8101894998446723')}, {'left': Decimal('0.34462048255151706'), 'top': Decimal('0.8565807186496843')}, {'left': Decimal('0.3932208070139105'), 'top': Decimal('0.8615512063787927')}, {'left': Decimal('0.44403023713368545'), 'top': Decimal('0.8284146215180699')}, {'left': Decimal('0.41089365227296265'), 'top': Decimal('0.6577612094853474')}, {'left': Decimal('0.5832038935487212'), 'top': Decimal('0.6908977943460702')}, {'left': Decimal('0.616340478409444'), 'top': Decimal('0.8267577922750338')}, {'left': Decimal('0.6936591764177972'), 'top': Decimal('0.8565807186496843')}, {'left': Decimal('0.7444686065375722'), 'top': Decimal('0.793621207414311')}, {'left': Decimal('0.6804045424735081'), 'top': Decimal('0.6842704773739257')}, {'left': Decimal('0.7643505574540058'), 'top': Decimal('0.6063995029512271')}, {'left': Decimal('0.7378412895654276'), 'top': Decimal('0.5682924303613959')}, {'left': Decimal('0.8217873045459253'), 'top': Decimal('0.47219633426529983')}, {'left': Decimal('0.8571329950640296'), 'top': Decimal('0.41255048151599877')}, {'left': Decimal('0.965379172275724'), 'top': Decimal('0.3479341410375893')}], 'label': 'cat'}]</td>\n",
       "      <td><a href=\"https://tb.yandex.net/editor?config=N4Igxg9gdgZglgcxALgAQmAHRANzgUwHds0sQ4AXfAWwGcTUBtMgEwEMK2GyAHDgCwbY41NgnwB9NlCgROFONGwAaVNhb4YbAK4AbCt2x8KglGvKjxUmXI6KoK8xQCePfEJDtOAOjhQe2gYgAL6q2C5uHl5svlBUAE5QbLrYoeYiYu5mvAIeGeKO4a5ZaOocMX4BQWnqcLRsAEa6+CwMFPHa+GEguo34uvRmzNi9Df0egIIggHwggIwggAwggFwgc4W4yZ1REAipqmSj42bYC1OAEiBLKzhrJeZgHNuou30pByCALCCAAiCAwiCAzCBTgKwg55cPHJ+Ph4qkALrdWj8NhuQakIwQXTOBBKMztTo1EARK7YeD9Fi+Sz4AC00lk8nsEO6OI8eCI3l0dWq3R4um0CD88KYZFpzzZHL83nxukJ+VJ5NsCmg3n4cgA1vhnIM0g9nBBAoYQPK-K1+ZkwSFuhS4PAbtKoNzhuBoFQ4h5APggvzevxeqEATCCAaRBAPwgU0A3CCAXhBfgHABwgv0APCCob1vKbu52AGRBAEIgv1UgHEQRNTD0TX6ocOukNzEmAWRA-RHg4nPahAOwgcy+nyrIb9IYm8e8Kz5pVwBEI3ioAA8WfdsJA4vh7c9AKggEybqCDidQgFEQKaJwDyIKgZpWpi8A1Mfrn84WS2WA4m5qpvc7fjW6x8G8nUBNE285qHAGIgHzbIBpxTp3d7+AHaknB-fl2U5KBeyRCB5S4EJwWCL90EqQIzAwYRiQ8fgKAoHhaGQAB6fCKF0eVvFoABmbxnGkDQ+28KB8AofDoloRj8PNWgJBwTiWE2Wh2I4fiAA4AE4AFY2BEsAADYhLEgBGAAGRSABZyPImAhIaFS2DAFSwBE8iwEUtgxIAJnwFTvAAKx4LZEPQzJrApOw0TQa1oVhXEQB4JEUTRVkID8CgrV2TQgjQRTvBE6TFJiuLYvimL5PkmkIB4BgovI+SVIAdhE3KxLE6T5Ny2TpOk4rVRGcLMu8MqzJynKFPyiqzLUtKMrMLKFPa3L8vEszyIq+TpOqnpau67wxJilSxLkszcpUwzFKU8jOrq8iVOkxbcuy0qRLmsTyKG8bmhgCLUCilTFKE2S5u2kqiqElKNqm7LpIe8i5JU+SRJExTFrOybIu8NSzJEoS8tuqHpP63KhNyt7QfIsqlMB77RpEszFNR4GLrqszEfkoTUfIsS5vEgrpORq7vGGhHRriv6KYx1T8cuqL5LEwG-pJ6G-rUrbaeuiGUsRvbDuk4bVtyjm6sU-rsruyHlNJ46SZF6biukqWzJ11aVIh+WpsBnGRKU4qxL2l6FMhrXpbmyrYrVonfrEk3QbixahPa1GSuUobfa1+HFPMi3ltJw6Ys9un5OG2aisV63KqNlSQ8hmasYUtTfsM2OuZUoTVuU-LVKdkmzJD5mzLF2LBbhkSC+8WvjqJ0Pw5y-6teL2TCqh+P5pd+Tm-amKicM7GB5Svae+y3KiaJ5TVJyxrR-inHueL0T5KG6We6Ukno8hlTtoX8jm627acaL-WFJaxSaacdK6rkyri9yknPpiqGL52GqCbvUMrXW6itVrkQtmHHuT1eqP1RojbGct-4TUAaDU+N1yIY0-upWSFMxI9zdjlHa3MSaP3+s3X6t1DKVVrgvcelUHbWzRubIux08oqWbvNE6uNRLkyLgvXeDsAaiX6odLasVcqA2biVR2qkEY3UOqfAhcMmHY0WjzdSQlpHUKzmVX6oiF49yth-L+y17p-yHCgzm9V0HlUfsdQqC8q7Py6qDfKw1Go4yWjlfa0ji43Qen1cmt1UouLqvdRaci9qS31kgyx51rF6OCUVJarMw5CQdnA-6PMIa9UWiPZBCS6rRIHhPK2Rsypa2Kr7bGalcYlQgTNZuvtSqI0wQ9Ga+t1phKmnlRqMV1JGxof9UmzTrbxwhuJR+N0IZP3CC-Xpu8k5FxITNSG-Vm4xQcRbJxjj2pay2u436lDUbzXzpCcwewnidnNEBYQepOwAEliQAAptDxF0AAXgAORYRwnhQixFSIUSojRAC9E2IsTYhxLiPE+ICRCvhUSEkpK4PRkLTS2ldL6UMsZUyFkrK2QQN8gAlKgZ5mQACCNhKTQBedET5zBvmeTcN8tA3zfLIlRFAb5qgOVBTiLQNlPJvkJOFQAEXwGADIugXnfKiklRKAdSV8ooOlCVUqZVyqyjlfKhVipmVJaqUV4UNXStELK+V9ViHHIUkJFVqBvlqp4GarVVrya7zygNMSRqdgmouq6i12rpqJwWoVB1Tr1VoElea5IwbxG7X2vaklxqxXRs1UGq1N07pQwphVCNzrA1xvdaNL6P1fX3H9RQItlrronRPpIoSybVVRtQDGt1WU0aB2+oalNfq01tozcWqK7cSZkyKgW1t7bM1ZThi9RKOMK3ACrTW4N3NeYWyhrlSdLr02xtrWDMWJMlYiSXSuvdHbvCKz2l-VWO7V1WqKhVPW1sz0DuncOq9IDIE63vRemd3hHZW2Hm+01-7P3ewRn7Mqf7B37uDR3MWPNQMBvAwe+OutPpJ2bY6wtaGEOZwtrrBSKHq34atTlYu6My6wY-QeyRFta5EcUqRh9I6unt36vJWjQ6D290RvNY5rHyMjrMRPCB5EePwataTUqi9i4sb7ZW99vHg2zMBqtea3GSUtt3XBy9L1VqiWWpDYT+mANXx2qpX20kpMGeMYrL+Zm6PxuATjD+indNse8HdbmsDPrOdU1m0+uMsHaa8yJnzhDr7c0C9J66SleE0Mkzp3DU6gtRUqv1Eq5sfVKeXSp+L01SY42+oZPLEXzOft1lQ0Rak4uXpkVtORUM7MAZs44-KQ0GsAd1sNXRAXUuRr0y5mTDnP53R65+pap87GVTa9N6hnjFYqSmwe2SqlVIU31gt9bUNIletW-l89VX6OfWSdbCraWRsZcA1kqZmC1sIfgb9Cetmht4dO8G6pEM-aqSezJxqCM9pbd28Gvpf1pZbRS6msDX2xvYMmSRj76WiuveWbbAHCrKqox2d1lHN2iuHMMscpSRqLmiseMK755pvnBHBCS1IIQgA\" target=\"_blank\" rel=\"noopener noreferrer\">task preview</a></td>\n",
       "    </tr>\n",
       "  </tbody>\n",
       "</table>"
      ],
      "text/plain": [
       "<IPython.core.display.HTML object>"
      ]
     },
     "metadata": {},
     "output_type": "display_data"
    }
   ],
   "source": [
    "with pd.option_context('max_colwidth', 150), pd.option_context('display.max_rows', 100):\n",
    "    display(results.html_with_task_previews(results.predict()))"
   ]
  }
 ],
 "metadata": {
  "kernelspec": {
   "display_name": "Python 3 (ipykernel)",
   "language": "python",
   "name": "python3"
  },
  "language_info": {
   "codemirror_mode": {
    "name": "ipython",
    "version": 3
   },
   "file_extension": ".py",
   "mimetype": "text/x-python",
   "name": "python",
   "nbconvert_exporter": "python",
   "pygments_lexer": "ipython3",
   "version": "3.9.6"
  },
  "widgets": {
   "application/vnd.jupyter.widget-state+json": {
    "state": {},
    "version_major": 2,
    "version_minor": 0
   }
  }
 },
 "nbformat": 4,
 "nbformat_minor": 5
}
