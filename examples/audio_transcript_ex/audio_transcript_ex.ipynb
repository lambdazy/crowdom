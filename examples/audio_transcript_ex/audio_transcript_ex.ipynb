{
 "cells": [
  {
   "cell_type": "markdown",
   "id": "bd12fd6f",
   "metadata": {
    "pycharm": {
     "name": "#%% md\n"
    }
   },
   "source": [
    "This example is a demonstration of Crowdom's extended data labeling workflow for annotation tasks, using your pre-existing custom UI for projects. If you are not familiar with basic annotation task workflow – visit [basic audio transcript workflow example](../audio_transcript/audio_transcript.ipynb).\n",
    "\n",
    "We will use an ASR model to produce first versions of transcript. Then these transcripts would be checked by Toloka workers, and in case the model made some mistakes, tasks would be reworked by Toloka workers also. \n",
    "\n",
    "For this example, we chose a more complex audio transcription task - we ask workers to both choose whether there is speech on the audio and write down the words they hear if there are any.\n",
    "\n",
    "Additionally, this example illustrates how to use more precise calculation of task duration. "
   ]
  },
  {
   "cell_type": "markdown",
   "id": "b4f65848",
   "metadata": {
    "pycharm": {
     "name": "#%% md\n"
    }
   },
   "source": [
    "# Setup environment"
   ]
  },
  {
   "cell_type": "code",
   "execution_count": 1,
   "id": "73e765b3",
   "metadata": {
    "pycharm": {
     "name": "#%%\n"
    }
   },
   "outputs": [],
   "source": [
    "%pip install crowdom"
   ]
  },
  {
   "cell_type": "code",
   "execution_count": 2,
   "id": "d362e03f",
   "metadata": {
    "pycharm": {
     "name": "#%%\n"
    }
   },
   "outputs": [],
   "source": [
    "%pip install -i https://pypi.yandex-team.ru/simple/ yandex-speechkit"
   ]
  },
  {
   "cell_type": "code",
   "execution_count": null,
   "id": "f1719bc5",
   "metadata": {
    "pycharm": {
     "name": "#%%\n"
    }
   },
   "outputs": [],
   "source": [
    "from datetime import timedelta\n",
    "import os\n",
    "import json\n",
    "import pandas as pd\n",
    "\n",
    "from typing import Dict, Optional\n",
    "\n",
    "import toloka.client as toloka\n",
    "\n",
    "from crowdom import base, datasource, client, mapping, objects, pricing, params as labeling_params"
   ]
  },
  {
   "cell_type": "markdown",
   "id": "792d80dd",
   "metadata": {
    "pycharm": {
     "name": "#%% md\n"
    }
   },
   "source": [
    "## Logging customization"
   ]
  },
  {
   "cell_type": "code",
   "execution_count": 5,
   "id": "534e9fcf",
   "metadata": {
    "pycharm": {
     "name": "#%%\n"
    }
   },
   "outputs": [],
   "source": [
    "import yaml\n",
    "import logging.config"
   ]
  },
  {
   "cell_type": "code",
   "execution_count": 6,
   "id": "bf0d277a",
   "metadata": {
    "pycharm": {
     "name": "#%%\n"
    }
   },
   "outputs": [],
   "source": [
    "with open('logging.yaml') as f:\n",
    "    logging.config.dictConfig(yaml.full_load(f.read()))"
   ]
  },
  {
   "cell_type": "markdown",
   "id": "cd3f8657",
   "metadata": {
    "pycharm": {
     "name": "#%% md\n"
    }
   },
   "source": [
    "## Crowdsourcing platfrom authorization"
   ]
  },
  {
   "cell_type": "code",
   "execution_count": 7,
   "id": "c1d43c7e",
   "metadata": {
    "pycharm": {
     "name": "#%%\n"
    }
   },
   "outputs": [],
   "source": [
    "from IPython.display import clear_output, display"
   ]
  },
  {
   "cell_type": "code",
   "execution_count": 8,
   "id": "05d809e5",
   "metadata": {
    "pycharm": {
     "name": "#%%\n"
    }
   },
   "outputs": [],
   "source": [
    "token = os.getenv('TOLOKA_TOKEN') or input('Enter your token: ')\n",
    "toloka_client = client.create_toloka_client(token=token)\n",
    "clear_output()"
   ]
  },
  {
   "cell_type": "markdown",
   "id": "a818b7d5",
   "metadata": {
    "pycharm": {
     "name": "#%% md\n"
    }
   },
   "source": [
    "# Labeling task definition"
   ]
  },
  {
   "cell_type": "markdown",
   "id": "2e688f5a",
   "metadata": {
    "pycharm": {
     "name": "#%% md\n"
    }
   },
   "source": [
    "We transcribe `Audio` into `AudioClass` and `Text`. Moreover, `Text` is not always required – there will be no text for audios with silence only."
   ]
  },
  {
   "cell_type": "code",
   "execution_count": 10,
   "id": "ec2d1ad1",
   "metadata": {
    "pycharm": {
     "name": "#%%\n"
    }
   },
   "outputs": [],
   "source": [
    "class AudioClass(base.Class):\n",
    "    SPEECH = 'sp'\n",
    "    SILENCE = 'si'\n",
    "    UNCLEAR = 'mis'\n",
    "\n",
    "    @classmethod\n",
    "    def labels(cls) -> Dict['AudioClass', Dict[str, str]]:\n",
    "        return {\n",
    "            cls.SPEECH: {'EN': 'Speech', 'RU': 'Речь'},\n",
    "            cls.SILENCE: {'EN': 'Silence', 'RU': 'Я не слышу речи'},\n",
    "            cls.UNCLEAR: {'EN': 'Hard to tell', 'RU': 'Затрудняюсь ответить'}}"
   ]
  },
  {
   "cell_type": "code",
   "execution_count": 11,
   "id": "acd94cfc",
   "metadata": {
    "pycharm": {
     "name": "#%%\n"
    }
   },
   "outputs": [],
   "source": [
    "annotation_function = base.AnnotationFunction(\n",
    "    inputs=(base.ObjectMeta(type=objects.Audio, name='audio'),),\n",
    "    outputs=(\n",
    "        base.ObjectMeta(type=objects.Text, name='transcript', required=False),\n",
    "        base.ClassMeta(type=AudioClass, name='class'))\n",
    ")"
   ]
  },
  {
   "cell_type": "markdown",
   "id": "113e6849",
   "metadata": {
    "pycharm": {
     "name": "#%% md\n"
    }
   },
   "source": [
    "## Workers instruction"
   ]
  },
  {
   "cell_type": "code",
   "execution_count": 12,
   "id": "73e8c280",
   "metadata": {
    "pycharm": {
     "name": "#%%\n"
    }
   },
   "outputs": [],
   "source": [
    "lang = 'RU'"
   ]
  },
  {
   "cell_type": "code",
   "execution_count": 13,
   "id": "91c85523",
   "metadata": {
    "pycharm": {
     "name": "#%%\n"
    }
   },
   "outputs": [],
   "source": [
    "with open(f'instruction_{lang}.html') as f:\n",
    "    instruction = {lang: f.read()}"
   ]
  },
  {
   "cell_type": "markdown",
   "id": "61bcd60c",
   "metadata": {
    "pycharm": {
     "name": "#%% md\n"
    }
   },
   "source": [
    "## Labeling task specification"
   ]
  },
  {
   "cell_type": "code",
   "execution_count": 14,
   "id": "8d2b5157",
   "metadata": {
    "pycharm": {
     "name": "#%%\n"
    }
   },
   "outputs": [],
   "source": [
    "task_spec = client.TaskSpec(\n",
    "    id='audio-transcription-ex',\n",
    "    function=annotation_function,\n",
    "    name={'EN': 'Audio transcription', 'RU': 'Расшифровка аудио'},\n",
    "    description={'EN': 'Transcribe short audios', 'RU': 'Расшифровка коротких аудио'},\n",
    "    instruction=instruction)"
   ]
  },
  {
   "cell_type": "code",
   "execution_count": 15,
   "id": "c4b42787",
   "metadata": {
    "pycharm": {
     "name": "#%%\n"
    }
   },
   "outputs": [],
   "source": [
    "task_spec_ru = client.AnnotationTaskSpec(task_spec, lang)"
   ]
  },
  {
   "cell_type": "markdown",
   "id": "3b6f4847",
   "metadata": {
    "pycharm": {
     "name": "#%% md\n"
    }
   },
   "source": [
    "## Worker interface customization"
   ]
  },
  {
   "cell_type": "markdown",
   "id": "235178b3",
   "metadata": {
    "pycharm": {
     "name": "#%% md\n"
    }
   },
   "source": [
    "If you already have some custom UI developed for your tasks, you can use it with Crowdom processes. In this case, however, you __have to__ make sure that your UI is compatible with your task function and generated task mappings.\n",
    "\n",
    "Also, you will need to localize custom UI on your own. We recommend moving all localized strings from UI into `vars` portion of TemplateBuilder code. There's one exception - regex template validation patterns cannot be set via `vars`, so they have to be swapped by text replacement."
   ]
  },
  {
   "cell_type": "code",
   "execution_count": 16,
   "id": "305ad310",
   "metadata": {
    "pycharm": {
     "name": "#%%\n"
    }
   },
   "outputs": [],
   "source": [
    "def add_vars(config: dict, config_vars: dict):\n",
    "    if 'vars' not in config:\n",
    "        config['vars'] = {}\n",
    "\n",
    "    config['vars'].update(config_vars)"
   ]
  },
  {
   "cell_type": "code",
   "execution_count": 17,
   "id": "3c981308",
   "metadata": {
    "pycharm": {
     "name": "#%%\n"
    }
   },
   "outputs": [],
   "source": [
    "def get_tb_from_dict(view: dict) -> toloka.project.view_spec.TemplateBuilderViewSpec:\n",
    "    return toloka.project.view_spec.TemplateBuilderViewSpec(\n",
    "        config=toloka.structure(view, toloka.project.view_spec.TemplateBuilder))"
   ]
  },
  {
   "cell_type": "code",
   "execution_count": 18,
   "id": "e2e7b56a",
   "metadata": {},
   "outputs": [],
   "source": [
    "with open('transcript_view.json') as f, open(f'transcript_vars_{lang}.json') as var_f:\n",
    "    transcript_dict = json.loads(f.read().replace('{{text_re}}', {\n",
    "        'RU': '^[а-яё ?]*$',\n",
    "        'KK': '^[а-яёәғқңөұүһі ?]*$',\n",
    "    }[lang]))\n",
    "    transcript_vars = json.load(var_f)['vars']\n",
    "    add_vars(transcript_dict, transcript_vars)\n",
    "    transcript_view = get_tb_from_dict(transcript_dict)"
   ]
  },
  {
   "cell_type": "code",
   "execution_count": 19,
   "id": "046ba3ca",
   "metadata": {
    "pycharm": {
     "name": "#%%\n"
    }
   },
   "outputs": [],
   "source": [
    "task_spec_ru.overload_view(transcript_view)"
   ]
  },
  {
   "cell_type": "markdown",
   "id": "bda63fe9",
   "metadata": {
    "pycharm": {
     "name": "#%% md\n"
    }
   },
   "source": [
    "## Custom worker interface preview"
   ]
  },
  {
   "cell_type": "code",
   "execution_count": 20,
   "id": "5ef39b66",
   "metadata": {
    "pycharm": {
     "name": "#%%\n"
    }
   },
   "outputs": [
    {
     "data": {
      "text/html": [
       "<a href=\"https://tb.yandex.net/editor?config=N4Igxg9gdgZglgcxALgAQmAHRANzgUwHds0sQ4AXfAWwGcTUBtMyKKthsgVwCcAbTtgAOAQwoALBthFcAJnAjYANKmwUAnkPxSQssSIB0cKEK4VsAXxXYcIvnD0UFUQSHHHzKVGQAkPfDA6tjy0BkJ8Iur4sgC0MFx8fOqW1iAaWjqs8k7QYRFRsfGJySBWqmma2l42BIQGMvKKpanpVWg1RAYIPBBcQine2KzsnqTYjiKuohI6FDwiULRgPHBCnqmyATJ8o+XK5a06Ewa9FKaeZTZ2DmLOrlmUzvRezNhL4jSTXmSH1SC0c2MCH2wjEVB4Lj+AD1GIAGEBigHkQQCKIKgAPwAXQAVD4Bth3Bxvtg-AEgiIQmEwfgITF8RcWpVMtBss4DO9PgMWEzHtBXBMpmJJH85gslis1iCKhk-sdTudcf8wB9qF8xpK2uUASsoMCQKlpuDIe0QFDUABqAA+qDN8tprmJgT+wVC+AAHsKYrRRGAqpc1YyoMzcmzlfLfkaHjkoAYoBALuj6VLw1zI-VEqGGX94Pg+LIDFQ3WT8F9fREAEbZu3+B1Gp1510UGJlivNcq2eyOO6E8DJzuqiNPBivNJNI2oiV8rvTQVG4WLZardYHDNGmVmOUttTL8r93L4ACOXDszzKPxHGv6uvKE9VU8yEVozwT6vG+hOa7M6cT257u4PR8s8ZLl+Qw-lGdgCBubgeJWJKOmSoSKhAEC0PgMTUHAx5Pv6gZRjGdJAc+uC1F0PR9ByL4UCqgwgLefxgPej5XlsCS7G8F5YdKr6yh+kEQGsA4vGQbZcIRnoSk2EGqvapLkmJpQnlcfAiTotBwOJIjlpJ1HSXBslqfJKhCXYyl-OhjHYBJMHVq28EGGZlgWIBik3JG9ygc8aBDjuiyDmQ17UbRM7zHOYqLpuwG6Fx774eFhHeQYNBrCUCndgG3KGtRFBnmx476PyMx0QxEphleUVnDxvolSBaUpvuh58JhBHYel0axgBHFJjVLLgeRqU4R5TCnip7GlZR+XTtuRWXrFRxleulVbtVOEJX+DW9d5vJ5ZOAqzMFooLsVi2RZRb7lTFfp0aBCXUEln5xVdeHtU1l1dbkPWlE5UEElJVYyaExiQDw-hgA2rDwAgvC3DykFVX1LULMlHXlFmOYGPMjQxN0vQXo5qRti5vbURtXb+WQgUHHt87itNF0rnNFWpMGVE-EdmpAhK+pUhl2CoDiMNHfFTM2tBXY6TWtn3hQAD6noiN6d3NSmj38xFeCdPYALyuEXAIMYA1DnLrkk1tN47UKlOhYdEWrmdWuRHwEAiLIm1jdtBVBSKVNhbTo2GNx52zrQMAQDwypG0aDuEFSYAiChVuER8fBaDwdZujEgfB6HCt-IbLIoed0AAMLiAsCD4AA8tZZNmx7IUHTTsM2-NSPCEputRoCCBlzwvW59Dqqk6C7sU57lsN0dTcM+UojqA7Tsu8zQ8TWoFv1y3x1+9F8rwAGOgANcSv44Ry4RSLxzoifJ2j+DH-LKuEX3Ub5-KRcl9qFdV0vu2j2vz10yd-ts5Gm1u3PMKwu5Ul6gABlcGrYgotfqOmIpQGgoQoEGGGPgAkC0IqPzyJEGIoguBx0ggARgXuNO8sdzI+wopvW2kEZ5z2dn8OS688HP0ggAJgoW7Ze4Aprr0nudJhjsWFGlUufHOIM874HOgAZl4abYeQxBF-19qdZu097ZiJ0PZceuCZFBjkUA6ebdjAGHELGAA1vgdQjUyD5FOK4axxhxEamWBANMDdY7WIAOoOGHgAdigegqBvo8JwHgDHSM+tORsCwbsXwiDxbkgaAoWgjYxHRFMR0Oo+Z8LxJGFZP6dkMKqW1DEdJTQcGETganQp1VikINgqk0I-hmGEJEGXXJRFOgFKejNP4ICLFZQdtY4sn0nSuEljLL0hFADEIIAFhBYSAG4QQAHCCACEQQArCCoEAPwggABEEAHwggBGEG2as1AgBeEFhKgQAXCBHMuYAMRBtkSnrPMD08ydCAGwQdZgAJEEueswAnCD7OOWc1ZBgOb5GiHEBISQdCACQQQA0iBXN2Yco5gBBEFWYAYRBflrPWagQA7CCwj2es9FgAZEFQEso5dyHmPNhMVesjYNLNiNIAIhBtm3PRZs1AmyDmwkuei25Bz1l7Mees9ZyAOaUmpLaP4rKjmrLJfc1ABysXosFes3ZJysW3MAEwgyL8UEuubc1AuqjlovRbCCFNNELIVQvoo0gBUEExfigFqAjlLMuUcwAzCDUsxUc3VNzLnnLJQShEKrYQEtOXyzZFL9VnIOdsnZprYTCv5dyzAmaQCAHQQWEvKsWeoRIAORByXus2bqpNWyyWZv2Nsl1KrtmAHEQV1SbUDooDei7ZgAeEBUJs6l+qlnnK2airFlzbkZqzYAehAUVttWYi35WKG3NprSAAwqB4XupOUc9ZgBREFnVixtsIER7p2ZyvtZrUUKt2RizZsJdVkuTXstVmzEVdutYzC8RpAAEIE26tNNJF-GncG2d87F2JuXTTB15Rc35sLSWilRzy2VtjRKAGIdgag2gODSG4dyhIpOXyy5lzEXAsDWmy53LEMVtvTO9tVGk1ct1Vi1t9HNmLt1TyjlXKA1HK7fsq9EpqmZOYTkv4gB8EG2YmpZprEV7IVcGgF3aQUBskw+7ZKhG19tNZ21AsIC3rOpUS71qqCXrI2eS995QzIVIQFUuQCgdDOo2Si7lO7EPhpOcij1XrfW6f00clQezJPbKMyZ4dbbeX8vWY8rFlnsAdLEV0npfwnP4qC4m0LWKCW3KDZertPrVmwkC8cp9XLwuAFkQNjEXCPRdi5mqASLaP5cAGwgSbr2bMOXeqt1WosxcJbCFZALAUqDrc5tzmyPNec9dS9ZBK-NLIMzOzLpnVkYrJdaiwFhLzkBMGYLwGBpD2eym4CgZxaDIAAPQXYoHwaxrJ5EGHUAsTYLpoxyIu-WKWEx84XZjBhdQcz8D4EVL9iA-2pZUABNEKWhARA4Au0ILh8iuFSy4QATjRwYWHOBUPuOwAAQSOwACl4HwAAvAAcnEKdoQ52rs3bu7QB7T2AyujexQD7bovv6B+392gAPPRA5B3zgHkOqCyBh3DhHSOUfo8x9jinABKSwpQgA\" target=\"_blank\" rel=\"noopener noreferrer\">task preview</a>"
      ],
      "text/plain": [
       "<IPython.core.display.HTML object>"
      ]
     },
     "execution_count": 20,
     "metadata": {},
     "output_type": "execute_result"
    }
   ],
   "source": [
    "example_url = 'https://tlk.s3.yandex.net/ext_dataset/noisy_speech/noisy_tested_wav/p232_299.wav'\n",
    "example_audio = (objects.Audio(url=example_url),)\n",
    "\n",
    "example_check = (objects.Audio(url=example_url), objects.Text('текст для примера'), AudioClass.SPEECH)\n",
    "\n",
    "client.TaskPreview(example_audio, task_spec=task_spec_ru).display_link()"
   ]
  },
  {
   "cell_type": "code",
   "execution_count": 21,
   "id": "e6e6c170",
   "metadata": {
    "pycharm": {
     "name": "#%%\n"
    }
   },
   "outputs": [
    {
     "data": {
      "text/html": [
       "<a href=\"https://tb.yandex.net/editor?config=N4Igxg9gdgZglgcxALgAQmAHRANzgUwHds0sQ4AXfAWwGcTUBtMgVwCcAbBsgBwEMKACwbY+LACZwI2ADSpsFAJ498IkOIF8AdHCg8WFbAF852HHw5wNFKVG4LlqlPPDRJN6Fp4c+i-OIBaGBYODkVjUxAlFTU8Ii0xSWkQE1QySCgqTPsQfiE1CjY+KFowNjgeQxBI6Kc0bGttXX0q1IcY5zMCQi0qAA9WuTJGnLzhTvAfWnpql3F8GDEOKtJsMbUwKZmaxzVGnT0DCJdavc0DqjYoC2PsCErbGbRmMwsWOpdaHlkXHwAjfBcCaAAhBAKwggHEQQAyIMcyOYOO81LQ4D9sP9AWpAPQgqEAvCCg1CAQRBANwggGkQQASIIBhEFQgAEQCGADhAYa94R9sNQ4NtfnwAUD6iBAOgggAYQQBCIFTyYAWEGxgHkQQByIPjIahAHwggsATCCgwW0wXQlIAXUiklonI4-gYhXeOw6PPggPEWiKSQCCDYEBY3xSQ2wGSyKzS2EoNCeTHS0E9ajBpNB2NpeJVVOx8tBAH4UVFdhM4j1+oNvepNKMBOMefg4UnThN9k6KC1biB7h4SgwXrg3h8TfhImjuS5ACgg-IZjaZDEWHForY5XLUgFwQVXGHVzNkGo3OQfDyJwqwCWw5EbOXh5tSFm6zdrM7MUbTlyuulyCXRe7CAJBBiYBGEFBVPVePlotp2NQtMA7CCoJV+VfflsUFeUlWLFMeQydxbBtfAAEcWDgNgFzaZNzRcS0OGtW0pHtR1nWnM1jzTLRLFoTMj1ibotAdJ0XSMGdqNTWiKKo3J4QQXR-QbABGTcc23NZdwmfcgRIs5Ty0c8jkvETFA4CA+HEY02FNE4oJcPgwFrLRhw4kseW8FhuKgLRBAgCgAGt8EUGZUjIAAmQTT1zfIxKLQ8MOPMsDAvdD+EU5TVMXCxl00zDRF0uCDKrIyXBMsyLKs2z7N7HxFHLHJrN0UKeVKR1QmLPhaGsgB1KwPLQAB2AAGOqtDq9CoCsuB4DAddoF4wNMnwbIJkAfBAX1BUUAOJQB+EHlQlcQjUFAB4QVAJqpcCX0hQVQTkcEwIA-E8Xm0baX5AJAFkQQkFvDQViVQX9+UAZhARV-WlCVpWUtEgqLcFojNew9frbxAQBUECJWkcVVVBAFEQRUJVQR9ro-WM7vlVADs-Y6zou0D+TkCaRtuh7ySejaCWFEDaUAMRByXe7yEq6eIfu1SSJiS3ReggJTrL4acjFmchDgoZwMFECQpDUQQKArWhkAAemligOGs-SAGYtEUYp5j6LQoHwChpfwAYAH1GgM6XWrZRQDa+fB8DAQRTYgc2DaoSj-ANwg+BwaWeCcpWnINpyAE4A60d2cGLIoSjKCoAY2wAuEHxQVUFFQkYeW2kDqpHtvM2Ur-WwL4kysNQAEERYgAAKdgOAAXgAcnFyWZblhXldV9X9a1nW9cN42u7N2gLatm27f7i3naocQ3Y9r2fb9wPg9D2uAEpUAAFX1ihy4zOu44TpOU6W18M-5ZfUAAHlLpIAGEti0ABlAAFABRJ+r4ACTQWuvlrgA+YwUiAA\" target=\"_blank\" rel=\"noopener noreferrer\">task preview</a>"
      ],
      "text/plain": [
       "<IPython.core.display.HTML object>"
      ]
     },
     "execution_count": 21,
     "metadata": {},
     "output_type": "execute_result"
    }
   ],
   "source": [
    "client.TaskPreview(example_check, task_spec=task_spec_ru).display_link()"
   ]
  },
  {
   "cell_type": "markdown",
   "id": "77ee23ff",
   "metadata": {
    "pycharm": {
     "name": "#%% md\n"
    }
   },
   "source": [
    "# Importing source data"
   ]
  },
  {
   "cell_type": "code",
   "execution_count": 22,
   "id": "86c8e3db",
   "metadata": {
    "pycharm": {
     "name": "#%%\n"
    }
   },
   "outputs": [],
   "source": [
    "input_objects = datasource.read_tasks('tasks.json', task_spec_ru.task_mapping)"
   ]
  },
  {
   "cell_type": "code",
   "execution_count": 23,
   "id": "7e8bbc9b",
   "metadata": {
    "pycharm": {
     "name": "#%%\n"
    }
   },
   "outputs": [],
   "source": [
    "control_objects = datasource.read_tasks(\n",
    "    'control_tasks.json',\n",
    "    task_spec_ru.task_mapping,\n",
    "    has_solutions=True,\n",
    ")"
   ]
  },
  {
   "cell_type": "markdown",
   "id": "cbe51972",
   "metadata": {},
   "source": [
    "# Custom task duration calculation"
   ]
  },
  {
   "cell_type": "markdown",
   "id": "28bdc210",
   "metadata": {
    "pycharm": {
     "name": "#%% md\n"
    }
   },
   "source": [
    "In the simplest case, we use static `task_duration_hint` to estimate duration of each task. `task_duration_hint` influences both some time control measures and pricing of your task. \n",
    "\n",
    "However, your input objects may very in the amount of time they need to be processed by workers, - for example, you can have datasets with different average audio duration, and choosing a static `task_duration_hint` may be a problem. \n",
    "\n",
    "In this case, you can specify a custom task duration calculation function, that will be used for more accurate time control. This function should take a tuple of input objects and return `datetime.timedelta` duration estimation. We recommend fallback to some safe static task duration in case calculation fails. Also, it would be a great idea to cache your calculation function, if it is an IO-bound operation."
   ]
  },
  {
   "cell_type": "code",
   "execution_count": null,
   "id": "62a07a95",
   "metadata": {},
   "outputs": [],
   "source": [
    "%pip install wave"
   ]
  },
  {
   "cell_type": "code",
   "execution_count": 24,
   "id": "6be75bee",
   "metadata": {},
   "outputs": [],
   "source": [
    "import requests\n",
    "import io\n",
    "import wave\n",
    "from functools import lru_cache\n",
    "from multiprocessing.pool import ThreadPool"
   ]
  },
  {
   "cell_type": "code",
   "execution_count": 25,
   "id": "8bdd06bb",
   "metadata": {},
   "outputs": [],
   "source": [
    "@lru_cache(maxsize=None)\n",
    "def get_audio_duration(audio: objects.Audio) -> timedelta:\n",
    "    url = audio.url\n",
    "    response = requests.get(url)\n",
    "    with wave.open(io.BytesIO(response.content), 'r') as file:\n",
    "        frames = file.getnframes()\n",
    "        rate = file.getframerate()\n",
    "        duration = frames / float(rate)\n",
    "    return timedelta(seconds=duration)"
   ]
  },
  {
   "cell_type": "markdown",
   "id": "22399357",
   "metadata": {},
   "source": [
    "Input of this function would be a tuple of input objects, consistent with your task function. In this case, there would be a single `Audio` object in this tuple.\n",
    "\n",
    "Calculation for annotation step:"
   ]
  },
  {
   "cell_type": "code",
   "execution_count": 26,
   "id": "ec93e77b",
   "metadata": {},
   "outputs": [],
   "source": [
    "fallback_task_duration_hint = timedelta(seconds=20)  # a safe estimate in case your calculation fails \n",
    "\n",
    "def calculate_annotation_task_duration(input_objects: mapping.Objects) -> timedelta:\n",
    "    # here input objects are a length 1 tuple: (audio,)\n",
    "    try:\n",
    "        audio_duration = get_audio_duration(input_objects[0])\n",
    "        return audio_duration * 2  # workers need to listen to audio a couple times and write a transcript, \n",
    "                                   # which may take more time depending on the worker's device\n",
    "    except: \n",
    "        return fallback_task_duration_hint"
   ]
  },
  {
   "cell_type": "code",
   "execution_count": 27,
   "id": "5ffabe30",
   "metadata": {
    "scrolled": true
   },
   "outputs": [
    {
     "data": {
      "text/plain": [
       "datetime.timedelta(seconds=12, microseconds=816000)"
      ]
     },
     "execution_count": 27,
     "metadata": {},
     "output_type": "execute_result"
    }
   ],
   "source": [
    "calculate_annotation_task_duration(input_objects[0])"
   ]
  },
  {
   "cell_type": "markdown",
   "id": "81536fd8",
   "metadata": {},
   "source": [
    "If markup and check steps can take singnificantly different time to complete, you can provide a different task calculation function for check step. In this case, input of the function is a tuple with objects corresponding to both inputs and outputs of your function. In this case, there would be a tuple with `Audio`, `Text` and `AudioClass` objects.\n",
    "\n",
    "Calculation for check step:"
   ]
  },
  {
   "cell_type": "code",
   "execution_count": 28,
   "id": "63a3f5a0",
   "metadata": {},
   "outputs": [],
   "source": [
    "def calculate_check_task_duration(input_objects: mapping.Objects) -> timedelta:\n",
    "    # here input objects are a length 3 tuple: (audio, text, audio class)\n",
    "    try:\n",
    "        audio_duration = get_audio_duration(input_objects[0])\n",
    "        return audio_duration * 3  # workers need to listen to audio more carefully, checking the transcript\n",
    "    except: \n",
    "        return fallback_task_duration_hint"
   ]
  },
  {
   "cell_type": "markdown",
   "id": "a0593e11",
   "metadata": {},
   "source": [
    "We need a static average `task_duration_hint` to determine pricing. If there are many input objects and your function is IO-bound, it is better to calculate it in parallel, using threads."
   ]
  },
  {
   "cell_type": "code",
   "execution_count": 29,
   "id": "fc9cafeb",
   "metadata": {},
   "outputs": [
    {
     "data": {
      "text/plain": [
       "datetime.timedelta(seconds=12, microseconds=686080)"
      ]
     },
     "execution_count": 29,
     "metadata": {},
     "output_type": "execute_result"
    }
   ],
   "source": [
    "thread_pool = ThreadPool(min(40, len(input_objects)))\n",
    "durations = thread_pool.map(calculate_annotation_task_duration, input_objects)\n",
    "\n",
    "task_duration_hint = sum(durations, start=timedelta(seconds=0)) / len(durations)\n",
    "task_duration_hint"
   ]
  },
  {
   "cell_type": "code",
   "execution_count": 30,
   "id": "ae42bea3",
   "metadata": {},
   "outputs": [
    {
     "data": {
      "text/plain": [
       "datetime.timedelta(seconds=16, microseconds=532640)"
      ]
     },
     "execution_count": 30,
     "metadata": {},
     "output_type": "execute_result"
    }
   ],
   "source": [
    "check_durations = thread_pool.map(calculate_check_task_duration, [control_inputs for (control_inputs, _) in control_objects])\n",
    "check_task_duration_hint = sum(check_durations, start=timedelta(seconds=0)) / len(check_durations)\n",
    "check_task_duration_hint"
   ]
  },
  {
   "cell_type": "markdown",
   "id": "ac4fabfe",
   "metadata": {
    "pycharm": {
     "name": "#%% md\n"
    }
   },
   "source": [
    "# Model"
   ]
  },
  {
   "cell_type": "code",
   "execution_count": 31,
   "id": "1c4dfe45",
   "metadata": {
    "pycharm": {
     "name": "#%%\n"
    }
   },
   "outputs": [],
   "source": [
    "import boto3\n",
    "from botocore.config import Config"
   ]
  },
  {
   "cell_type": "code",
   "execution_count": 32,
   "id": "4af506f1",
   "metadata": {
    "pycharm": {
     "name": "#%%\n"
    }
   },
   "outputs": [],
   "source": [
    "s3_client = boto3.session.Session().client(\n",
    "    service_name='s3',\n",
    "    endpoint_url='https://storage.yandexcloud.net',\n",
    "    aws_access_key_id=os.getenv('AWS_ACCESS_KEY_ID') or input('Enter your AWS access key ID: '),\n",
    "    aws_secret_access_key=os.getenv('AWS_SECRET_ACCESS_KEY') or input('Enter your AWS secret access key: '),\n",
    "    config=Config(retries=dict(max_attempts=30)),\n",
    ")"
   ]
  },
  {
   "cell_type": "code",
   "execution_count": null,
   "id": "42cc03ee",
   "metadata": {
    "pycharm": {
     "name": "#%%\n"
    }
   },
   "outputs": [],
   "source": [
    "from speechkit.common.utils import configure_credentials\n",
    "from speechkit.common import Product\n",
    "from speechkit import model_repository\n",
    "from speechkit.stt import RecognitionConfig, AudioProcessingType"
   ]
  },
  {
   "cell_type": "code",
   "execution_count": 34,
   "id": "c17c8512",
   "metadata": {
    "pycharm": {
     "name": "#%%\n"
    }
   },
   "outputs": [],
   "source": [
    "configure_credentials(yc_ai_token=f'Api-Key {os.getenv(\"ASR_API_KEY\")}')"
   ]
  },
  {
   "cell_type": "code",
   "execution_count": 36,
   "id": "fe7eaf51",
   "metadata": {
    "pycharm": {
     "name": "#%%\n"
    }
   },
   "outputs": [],
   "source": [
    "model = model_repository.recognition_model(product=Product.Yandex)"
   ]
  },
  {
   "cell_type": "code",
   "execution_count": 37,
   "id": "1c03a7fd",
   "metadata": {
    "pycharm": {
     "name": "#%%\n"
    }
   },
   "outputs": [],
   "source": [
    "config = RecognitionConfig(mode=AudioProcessingType.Full, language='ru-RU')"
   ]
  },
  {
   "cell_type": "code",
   "execution_count": 38,
   "id": "ef8bb4d1",
   "metadata": {
    "pycharm": {
     "name": "#%%\n"
    }
   },
   "outputs": [],
   "source": [
    "from multiprocessing.pool import ThreadPool\n",
    "from pydub import AudioSegment\n",
    "import io"
   ]
  },
  {
   "cell_type": "code",
   "execution_count": 39,
   "id": "1874d446",
   "metadata": {
    "pycharm": {
     "name": "#%%\n"
    }
   },
   "outputs": [],
   "source": [
    "def recognize_record(s3_url) -> str:\n",
    "    bucket, key = s3_url[len('https://storage.yandexcloud.net/'):].split('/', 1)\n",
    "    audio_bytes = s3_client.get_object(Bucket=bucket, Key=key)['Body'].read()\n",
    "    audio = AudioSegment.from_wav(io.BytesIO(audio_bytes))\n",
    "    result = model.transcribe(audio, config)\n",
    "    return ' '.join(chunk.raw_text for chunk in result)"
   ]
  },
  {
   "cell_type": "code",
   "execution_count": 40,
   "id": "f2c383c8",
   "metadata": {},
   "outputs": [],
   "source": [
    "def recognize_voice_recordings(tasks: list[tuple[objects.Audio]]) -> list[tuple[objects.Text, AudioClass]]:\n",
    "    if not tasks:\n",
    "        return []\n",
    "    pool = ThreadPool(processes=min(len(tasks), 40))\n",
    "    recognized_texts = pool.map(recognize_record, [audio.url for (audio,) in tasks])\n",
    "    return [(objects.Text(text), AudioClass.SPEECH if text else AudioClass.SILENCE) for text in recognized_texts]"
   ]
  },
  {
   "cell_type": "code",
   "execution_count": 41,
   "id": "e20fbc19",
   "metadata": {
    "pycharm": {
     "name": "#%%\n"
    }
   },
   "outputs": [],
   "source": [
    "from crowdom import worker"
   ]
  },
  {
   "cell_type": "code",
   "execution_count": 42,
   "id": "4c490dde",
   "metadata": {
    "pycharm": {
     "name": "#%%\n"
    }
   },
   "outputs": [],
   "source": [
    "model_worker = worker.Model(name='asr:general', func=recognize_voice_recordings)"
   ]
  },
  {
   "cell_type": "code",
   "execution_count": 43,
   "id": "8af1fe55",
   "metadata": {
    "pycharm": {
     "name": "#%%\n"
    }
   },
   "outputs": [
    {
     "data": {
      "text/plain": [
       "[(Text(text='наша задача теперь добиться отношения к воде и биоразнообразию как к стратегическим ресурсам'), <AudioClass.SPEECH: 'sp'>)]"
      ]
     },
     "execution_count": 43,
     "metadata": {},
     "output_type": "execute_result"
    }
   ],
   "source": [
    "recognize_voice_recordings([\n",
    "    (\n",
    "        objects.Audio(url='https://storage.yandexcloud.net/crowdom-public/examples/audio_transcript_ex/data/9cb0c9bc-b3c5-4984-b799-724f100250d1.wav'),\n",
    "    )\n",
    "])"
   ]
  },
  {
   "cell_type": "markdown",
   "id": "a90cfe7f",
   "metadata": {
    "pycharm": {
     "name": "#%% md\n"
    }
   },
   "source": [
    "# Labeling efficiency optimization"
   ]
  },
  {
   "cell_type": "markdown",
   "id": "c32fc02c",
   "metadata": {},
   "source": [
    "Specify your custom task duration estimation functions:"
   ]
  },
  {
   "cell_type": "code",
   "execution_count": null,
   "id": "e5ea904c",
   "metadata": {
    "pycharm": {
     "name": "#%%\n"
    }
   },
   "outputs": [],
   "source": [
    "params_form = labeling_params.get_annotation_interface(\n",
    "    task_spec=task_spec_ru,\n",
    "    check_task_duration_hint=check_task_duration_hint ,\n",
    "    annotation_task_duration_hint=task_duration_hint,\n",
    "    toloka_client=toloka_client,\n",
    ")"
   ]
  },
  {
   "cell_type": "code",
   "execution_count": 68,
   "id": "6cbb6927",
   "metadata": {
    "pycharm": {
     "name": "#%%\n"
    }
   },
   "outputs": [],
   "source": [
    "check_params, annotation_params = params_form.get_params()"
   ]
  },
  {
   "cell_type": "markdown",
   "id": "e08f0a26",
   "metadata": {},
   "source": [
    "Specify your model:"
   ]
  },
  {
   "cell_type": "code",
   "execution_count": 69,
   "id": "4a20011c",
   "metadata": {
    "pycharm": {
     "name": "#%%\n"
    }
   },
   "outputs": [],
   "source": [
    "annotation_params.model = model_worker"
   ]
  },
  {
   "cell_type": "markdown",
   "id": "fdf87013",
   "metadata": {},
   "source": [
    "And your custom task duration functions:"
   ]
  },
  {
   "cell_type": "code",
   "execution_count": 70,
   "id": "818013f9",
   "metadata": {},
   "outputs": [],
   "source": [
    "check_params.task_duration_function = calculate_check_task_duration\n",
    "annotation_params.task_duration_function = calculate_annotation_task_duration"
   ]
  },
  {
   "cell_type": "markdown",
   "id": "9a20b90c",
   "metadata": {
    "pycharm": {
     "name": "#%% md\n"
    }
   },
   "source": [
    "# Labeling of your data"
   ]
  },
  {
   "cell_type": "code",
   "execution_count": null,
   "id": "c823f592",
   "metadata": {
    "pycharm": {
     "name": "#%%\n"
    },
    "scrolled": true
   },
   "outputs": [],
   "source": [
    "client.define_task(task_spec_ru, toloka_client)"
   ]
  },
  {
   "cell_type": "code",
   "execution_count": 76,
   "id": "e82af6b0",
   "metadata": {
    "pycharm": {
     "name": "#%%\n"
    }
   },
   "outputs": [],
   "source": [
    "assert control_objects, 'No control objects supplied'\n",
    "assert isinstance(control_objects[0], tuple)\n",
    "\n",
    "try:\n",
    "    task_spec_ru.check.task_mapping.validate_objects(control_objects[0][0])\n",
    "except:\n",
    "    control_objects = [(task + solution, (base.BinaryEvaluation(ok=True),)) for (task, solution) in control_objects]"
   ]
  },
  {
   "cell_type": "code",
   "execution_count": null,
   "id": "61ad39c7",
   "metadata": {
    "pycharm": {
     "name": "#%%\n"
    }
   },
   "outputs": [],
   "source": [
    "raw_results, worker_weights = client.launch_annotation(\n",
    "    task_spec_ru,\n",
    "    annotation_params,\n",
    "    check_params,\n",
    "    input_objects,\n",
    "    control_objects,\n",
    "    toloka_client,\n",
    ")"
   ]
  },
  {
   "cell_type": "code",
   "execution_count": 78,
   "id": "881ab162",
   "metadata": {
    "pycharm": {
     "name": "#%%\n"
    }
   },
   "outputs": [],
   "source": [
    "results = client.AnnotationResults(input_objects, raw_results, task_spec_ru, worker_weights)"
   ]
  },
  {
   "cell_type": "markdown",
   "id": "763da261",
   "metadata": {
    "pycharm": {
     "name": "#%% md\n"
    }
   },
   "source": [
    "## Results"
   ]
  },
  {
   "cell_type": "code",
   "execution_count": 79,
   "id": "8a32bce3",
   "metadata": {
    "pycharm": {
     "name": "#%%\n"
    }
   },
   "outputs": [
    {
     "data": {
      "text/html": [
       "<div>\n",
       "<style scoped>\n",
       "    .dataframe tbody tr th:only-of-type {\n",
       "        vertical-align: middle;\n",
       "    }\n",
       "\n",
       "    .dataframe tbody tr th {\n",
       "        vertical-align: top;\n",
       "    }\n",
       "\n",
       "    .dataframe thead th {\n",
       "        text-align: right;\n",
       "    }\n",
       "</style>\n",
       "<table border=\"1\" class=\"dataframe\">\n",
       "  <thead>\n",
       "    <tr style=\"text-align: right;\">\n",
       "      <th></th>\n",
       "      <th>audio</th>\n",
       "      <th>transcript</th>\n",
       "      <th>class</th>\n",
       "    </tr>\n",
       "  </thead>\n",
       "  <tbody>\n",
       "    <tr>\n",
       "      <th>0</th>\n",
       "      <td>https://storage.yandexcloud.net/crowdom-public/examples/audio_transcript_ex/9cb0c9bc-b3c...</td>\n",
       "      <td>наша задача теперь добиться отношения к воде и биоразнообразию как к стратегическим ресурсам</td>\n",
       "      <td>sp</td>\n",
       "    </tr>\n",
       "    <tr>\n",
       "      <th>1</th>\n",
       "      <td>https://storage.yandexcloud.net/crowdom-public/examples/audio_transcript_ex/d7f0b9dc-b4d...</td>\n",
       "      <td>вьетнам привержен широкому и эффективному международному сотрудничеству в целях решения проблемы...</td>\n",
       "      <td>sp</td>\n",
       "    </tr>\n",
       "    <tr>\n",
       "      <th>2</th>\n",
       "      <td>https://storage.yandexcloud.net/crowdom-public/examples/audio_transcript_ex/f361e245-cc6...</td>\n",
       "      <td>бразилия готова взять на себя обязанность постоянного члена совета</td>\n",
       "      <td>sp</td>\n",
       "    </tr>\n",
       "    <tr>\n",
       "      <th>4</th>\n",
       "      <td>https://storage.yandexcloud.net/crowdom-public/examples/audio_transcript_ex/03f38960-da2...</td>\n",
       "      <td>когда мы вернемся домой нам придется столкнуться с множеством конкурирующих интересов</td>\n",
       "      <td>sp</td>\n",
       "    </tr>\n",
       "    <tr>\n",
       "      <th>6</th>\n",
       "      <td>https://storage.yandexcloud.net/crowdom-public/examples/audio_transcript_ex/94c1e9c8-3ac...</td>\n",
       "      <td>я также призываю организацию объединенных наций полностью поддержать африку в этом отношении</td>\n",
       "      <td>sp</td>\n",
       "    </tr>\n",
       "    <tr>\n",
       "      <th>7</th>\n",
       "      <td>https://storage.yandexcloud.net/crowdom-public/examples/audio_transcript_ex/fc4f3e2c-053...</td>\n",
       "      <td>николай всеволодович вовсе впрочем не улыбался а напротив слушал нахмуренные несколько нетерпеливо</td>\n",
       "      <td>sp</td>\n",
       "    </tr>\n",
       "    <tr>\n",
       "      <th>8</th>\n",
       "      <td>https://storage.yandexcloud.net/crowdom-public/examples/audio_transcript_ex/4773f0ac-82c...</td>\n",
       "      <td>мы считаем что это глобальный вопрос который требует эффективного решения</td>\n",
       "      <td>sp</td>\n",
       "    </tr>\n",
       "    <tr>\n",
       "      <th>9</th>\n",
       "      <td>https://storage.yandexcloud.net/crowdom-public/examples/audio_transcript_ex/db49db03-7f5...</td>\n",
       "      <td>в этом ключе предпринимались многочисленные инициативы направленные на достижение прогресса в об...</td>\n",
       "      <td>sp</td>\n",
       "    </tr>\n",
       "    <tr>\n",
       "      <th>10</th>\n",
       "      <td>https://storage.yandexcloud.net/crowdom-public/examples/audio_transcript_ex/9bf4db95-ab8...</td>\n",
       "      <td>мы заслушали больше выступлений государственных членов чем в предыдущие сессии</td>\n",
       "      <td>sp</td>\n",
       "    </tr>\n",
       "    <tr>\n",
       "      <th>12</th>\n",
       "      <td>https://storage.yandexcloud.net/crowdom-public/examples/audio_transcript_ex/0f2bb114-2a9...</td>\n",
       "      <td>наша позиция остается неизменной</td>\n",
       "      <td>sp</td>\n",
       "    </tr>\n",
       "  </tbody>\n",
       "</table>\n",
       "</div>"
      ],
      "text/plain": [
       "                                                                                                  audio  \\\n",
       "0   https://storage.yandexcloud.net/crowdom-public/examples/audio_transcript_ex/9cb0c9bc-b3c...   \n",
       "1   https://storage.yandexcloud.net/crowdom-public/examples/audio_transcript_ex/d7f0b9dc-b4d...   \n",
       "2   https://storage.yandexcloud.net/crowdom-public/examples/audio_transcript_ex/f361e245-cc6...   \n",
       "4   https://storage.yandexcloud.net/crowdom-public/examples/audio_transcript_ex/03f38960-da2...   \n",
       "6   https://storage.yandexcloud.net/crowdom-public/examples/audio_transcript_ex/94c1e9c8-3ac...   \n",
       "7   https://storage.yandexcloud.net/crowdom-public/examples/audio_transcript_ex/fc4f3e2c-053...   \n",
       "8   https://storage.yandexcloud.net/crowdom-public/examples/audio_transcript_ex/4773f0ac-82c...   \n",
       "9   https://storage.yandexcloud.net/crowdom-public/examples/audio_transcript_ex/db49db03-7f5...   \n",
       "10  https://storage.yandexcloud.net/crowdom-public/examples/audio_transcript_ex/9bf4db95-ab8...   \n",
       "12  https://storage.yandexcloud.net/crowdom-public/examples/audio_transcript_ex/0f2bb114-2a9...   \n",
       "\n",
       "                                                                                             transcript  \\\n",
       "0          наша задача теперь добиться отношения к воде и биоразнообразию как к стратегическим ресурсам   \n",
       "1   вьетнам привержен широкому и эффективному международному сотрудничеству в целях решения проблемы...   \n",
       "2                                    бразилия готова взять на себя обязанность постоянного члена совета   \n",
       "4                 когда мы вернемся домой нам придется столкнуться с множеством конкурирующих интересов   \n",
       "6          я также призываю организацию объединенных наций полностью поддержать африку в этом отношении   \n",
       "7    николай всеволодович вовсе впрочем не улыбался а напротив слушал нахмуренные несколько нетерпеливо   \n",
       "8                             мы считаем что это глобальный вопрос который требует эффективного решения   \n",
       "9   в этом ключе предпринимались многочисленные инициативы направленные на достижение прогресса в об...   \n",
       "10                       мы заслушали больше выступлений государственных членов чем в предыдущие сессии   \n",
       "12                                                                     наша позиция остается неизменной   \n",
       "\n",
       "   class  \n",
       "0     sp  \n",
       "1     sp  \n",
       "2     sp  \n",
       "4     sp  \n",
       "6     sp  \n",
       "7     sp  \n",
       "8     sp  \n",
       "9     sp  \n",
       "10    sp  \n",
       "12    sp  "
      ]
     },
     "metadata": {},
     "output_type": "display_data"
    }
   ],
   "source": [
    "with pd.option_context(\"max_colwidth\", 100):\n",
    "    display(results.predict())"
   ]
  },
  {
   "cell_type": "code",
   "execution_count": 80,
   "id": "4d1d3a9f",
   "metadata": {
    "pycharm": {
     "name": "#%%\n"
    }
   },
   "outputs": [
    {
     "data": {
      "text/html": [
       "<div>\n",
       "<style scoped>\n",
       "    .dataframe tbody tr th:only-of-type {\n",
       "        vertical-align: middle;\n",
       "    }\n",
       "\n",
       "    .dataframe tbody tr th {\n",
       "        vertical-align: top;\n",
       "    }\n",
       "\n",
       "    .dataframe thead th {\n",
       "        text-align: right;\n",
       "    }\n",
       "</style>\n",
       "<table border=\"1\" class=\"dataframe\">\n",
       "  <thead>\n",
       "    <tr style=\"text-align: right;\">\n",
       "      <th></th>\n",
       "      <th>audio</th>\n",
       "      <th>transcript</th>\n",
       "      <th>class</th>\n",
       "      <th>confidence</th>\n",
       "    </tr>\n",
       "  </thead>\n",
       "  <tbody>\n",
       "    <tr>\n",
       "      <th>0</th>\n",
       "      <td>https://storage.yandexcloud.net/crowdom-public/examples/audio_transcript_ex/9cb0c9bc-b3c...</td>\n",
       "      <td>наша задача теперь добиться отношения к воде и биоразнообразию как к стратегическим ресурсам</td>\n",
       "      <td>sp</td>\n",
       "      <td>1.000000e+00</td>\n",
       "    </tr>\n",
       "    <tr>\n",
       "      <th>1</th>\n",
       "      <td>https://storage.yandexcloud.net/crowdom-public/examples/audio_transcript_ex/d7f0b9dc-b4d...</td>\n",
       "      <td>вьетнам привержен широкому и эффективному международному сотрудничеству в целях решения проблемы...</td>\n",
       "      <td>sp</td>\n",
       "      <td>1.000000e+00</td>\n",
       "    </tr>\n",
       "    <tr>\n",
       "      <th>2</th>\n",
       "      <td>https://storage.yandexcloud.net/crowdom-public/examples/audio_transcript_ex/f361e245-cc6...</td>\n",
       "      <td>бразилия готова взять на себя обязанность постоянного члена совета</td>\n",
       "      <td>sp</td>\n",
       "      <td>1.000000e+00</td>\n",
       "    </tr>\n",
       "    <tr>\n",
       "      <th>3</th>\n",
       "      <td>https://storage.yandexcloud.net/crowdom-public/examples/audio_transcript_ex/f361e245-cc6...</td>\n",
       "      <td>бразилия готова взять на себя обязанности постоянного члена совета</td>\n",
       "      <td>sp</td>\n",
       "      <td>3.333333e-11</td>\n",
       "    </tr>\n",
       "    <tr>\n",
       "      <th>4</th>\n",
       "      <td>https://storage.yandexcloud.net/crowdom-public/examples/audio_transcript_ex/03f38960-da2...</td>\n",
       "      <td>когда мы вернемся домой нам придется столкнуться с множеством конкурирующих интересов</td>\n",
       "      <td>sp</td>\n",
       "      <td>1.000000e+00</td>\n",
       "    </tr>\n",
       "    <tr>\n",
       "      <th>5</th>\n",
       "      <td>https://storage.yandexcloud.net/crowdom-public/examples/audio_transcript_ex/03f38960-da2...</td>\n",
       "      <td>когда мы вернемся домой нам придется столкнуться с множеством конкурирующих интересных</td>\n",
       "      <td>sp</td>\n",
       "      <td>3.333333e-11</td>\n",
       "    </tr>\n",
       "    <tr>\n",
       "      <th>6</th>\n",
       "      <td>https://storage.yandexcloud.net/crowdom-public/examples/audio_transcript_ex/94c1e9c8-3ac...</td>\n",
       "      <td>я также призываю организацию объединенных наций полностью поддержать африку в этом отношении</td>\n",
       "      <td>sp</td>\n",
       "      <td>1.000000e+00</td>\n",
       "    </tr>\n",
       "    <tr>\n",
       "      <th>7</th>\n",
       "      <td>https://storage.yandexcloud.net/crowdom-public/examples/audio_transcript_ex/fc4f3e2c-053...</td>\n",
       "      <td>николай всеволодович вовсе впрочем не улыбался а напротив слушал нахмуренные несколько нетерпеливо</td>\n",
       "      <td>sp</td>\n",
       "      <td>1.000000e+00</td>\n",
       "    </tr>\n",
       "    <tr>\n",
       "      <th>8</th>\n",
       "      <td>https://storage.yandexcloud.net/crowdom-public/examples/audio_transcript_ex/4773f0ac-82c...</td>\n",
       "      <td>мы считаем что это глобальный вопрос который требует эффективного решения</td>\n",
       "      <td>sp</td>\n",
       "      <td>1.000000e+00</td>\n",
       "    </tr>\n",
       "    <tr>\n",
       "      <th>9</th>\n",
       "      <td>https://storage.yandexcloud.net/crowdom-public/examples/audio_transcript_ex/db49db03-7f5...</td>\n",
       "      <td>в этом ключе предпринимались многочисленные инициативы направленные на достижение прогресса в об...</td>\n",
       "      <td>sp</td>\n",
       "      <td>1.000000e+00</td>\n",
       "    </tr>\n",
       "    <tr>\n",
       "      <th>10</th>\n",
       "      <td>https://storage.yandexcloud.net/crowdom-public/examples/audio_transcript_ex/9bf4db95-ab8...</td>\n",
       "      <td>мы заслушали больше выступлений государственных членов чем в предыдущие сессии</td>\n",
       "      <td>sp</td>\n",
       "      <td>1.000000e+00</td>\n",
       "    </tr>\n",
       "    <tr>\n",
       "      <th>11</th>\n",
       "      <td>https://storage.yandexcloud.net/crowdom-public/examples/audio_transcript_ex/9bf4db95-ab8...</td>\n",
       "      <td>мы заслушали больше выступлений государств членов чем предыдущие сессии</td>\n",
       "      <td>sp</td>\n",
       "      <td>3.333333e-11</td>\n",
       "    </tr>\n",
       "    <tr>\n",
       "      <th>12</th>\n",
       "      <td>https://storage.yandexcloud.net/crowdom-public/examples/audio_transcript_ex/0f2bb114-2a9...</td>\n",
       "      <td>наша позиция остается неизменной</td>\n",
       "      <td>sp</td>\n",
       "      <td>1.000000e+00</td>\n",
       "    </tr>\n",
       "  </tbody>\n",
       "</table>\n",
       "</div>"
      ],
      "text/plain": [
       "                                                                                                  audio  \\\n",
       "0   https://storage.yandexcloud.net/crowdom-public/examples/audio_transcript_ex/9cb0c9bc-b3c...   \n",
       "1   https://storage.yandexcloud.net/crowdom-public/examples/audio_transcript_ex/d7f0b9dc-b4d...   \n",
       "2   https://storage.yandexcloud.net/crowdom-public/examples/audio_transcript_ex/f361e245-cc6...   \n",
       "3   https://storage.yandexcloud.net/crowdom-public/examples/audio_transcript_ex/f361e245-cc6...   \n",
       "4   https://storage.yandexcloud.net/crowdom-public/examples/audio_transcript_ex/03f38960-da2...   \n",
       "5   https://storage.yandexcloud.net/crowdom-public/examples/audio_transcript_ex/03f38960-da2...   \n",
       "6   https://storage.yandexcloud.net/crowdom-public/examples/audio_transcript_ex/94c1e9c8-3ac...   \n",
       "7   https://storage.yandexcloud.net/crowdom-public/examples/audio_transcript_ex/fc4f3e2c-053...   \n",
       "8   https://storage.yandexcloud.net/crowdom-public/examples/audio_transcript_ex/4773f0ac-82c...   \n",
       "9   https://storage.yandexcloud.net/crowdom-public/examples/audio_transcript_ex/db49db03-7f5...   \n",
       "10  https://storage.yandexcloud.net/crowdom-public/examples/audio_transcript_ex/9bf4db95-ab8...   \n",
       "11  https://storage.yandexcloud.net/crowdom-public/examples/audio_transcript_ex/9bf4db95-ab8...   \n",
       "12  https://storage.yandexcloud.net/crowdom-public/examples/audio_transcript_ex/0f2bb114-2a9...   \n",
       "\n",
       "                                                                                             transcript  \\\n",
       "0          наша задача теперь добиться отношения к воде и биоразнообразию как к стратегическим ресурсам   \n",
       "1   вьетнам привержен широкому и эффективному международному сотрудничеству в целях решения проблемы...   \n",
       "2                                    бразилия готова взять на себя обязанность постоянного члена совета   \n",
       "3                                    бразилия готова взять на себя обязанности постоянного члена совета   \n",
       "4                 когда мы вернемся домой нам придется столкнуться с множеством конкурирующих интересов   \n",
       "5                когда мы вернемся домой нам придется столкнуться с множеством конкурирующих интересных   \n",
       "6          я также призываю организацию объединенных наций полностью поддержать африку в этом отношении   \n",
       "7    николай всеволодович вовсе впрочем не улыбался а напротив слушал нахмуренные несколько нетерпеливо   \n",
       "8                             мы считаем что это глобальный вопрос который требует эффективного решения   \n",
       "9   в этом ключе предпринимались многочисленные инициативы направленные на достижение прогресса в об...   \n",
       "10                       мы заслушали больше выступлений государственных членов чем в предыдущие сессии   \n",
       "11                              мы заслушали больше выступлений государств членов чем предыдущие сессии   \n",
       "12                                                                     наша позиция остается неизменной   \n",
       "\n",
       "   class    confidence  \n",
       "0     sp  1.000000e+00  \n",
       "1     sp  1.000000e+00  \n",
       "2     sp  1.000000e+00  \n",
       "3     sp  3.333333e-11  \n",
       "4     sp  1.000000e+00  \n",
       "5     sp  3.333333e-11  \n",
       "6     sp  1.000000e+00  \n",
       "7     sp  1.000000e+00  \n",
       "8     sp  1.000000e+00  \n",
       "9     sp  1.000000e+00  \n",
       "10    sp  1.000000e+00  \n",
       "11    sp  3.333333e-11  \n",
       "12    sp  1.000000e+00  "
      ]
     },
     "metadata": {},
     "output_type": "display_data"
    }
   ],
   "source": [
    "with pd.option_context(\"max_colwidth\", 100):\n",
    "    display(results.predict_proba())"
   ]
  },
  {
   "cell_type": "code",
   "execution_count": 81,
   "id": "65ed06bb",
   "metadata": {
    "pycharm": {
     "name": "#%%\n"
    }
   },
   "outputs": [
    {
     "data": {
      "text/html": [
       "<div>\n",
       "<style scoped>\n",
       "    .dataframe tbody tr th:only-of-type {\n",
       "        vertical-align: middle;\n",
       "    }\n",
       "\n",
       "    .dataframe tbody tr th {\n",
       "        vertical-align: top;\n",
       "    }\n",
       "\n",
       "    .dataframe thead th {\n",
       "        text-align: right;\n",
       "    }\n",
       "</style>\n",
       "<table border=\"1\" class=\"dataframe\">\n",
       "  <thead>\n",
       "    <tr style=\"text-align: right;\">\n",
       "      <th></th>\n",
       "      <th>audio</th>\n",
       "      <th>transcript</th>\n",
       "      <th>class</th>\n",
       "      <th>annotator</th>\n",
       "      <th>annotation_overlap</th>\n",
       "      <th>confidence</th>\n",
       "      <th>evaluation_overlap</th>\n",
       "      <th>eval</th>\n",
       "      <th>evaluator</th>\n",
       "    </tr>\n",
       "  </thead>\n",
       "  <tbody>\n",
       "    <tr>\n",
       "      <th>0</th>\n",
       "      <td>https://storage.yandexcloud.net/crowdom-public/examples/audio_transcript_ex/9cb0c9bc-b3c5-4984-b799-724f100250d1.wav</td>\n",
       "      <td>наша задача теперь добиться отношения к воде и биоразнообразию как к стратегическим ресурсам</td>\n",
       "      <td>sp</td>\n",
       "      <td>asr:general</td>\n",
       "      <td>1</td>\n",
       "      <td>1.000000e+00</td>\n",
       "      <td>1</td>\n",
       "      <td>True</td>\n",
       "      <td>6d85abd870df2592ef79175f99b5b93c</td>\n",
       "    </tr>\n",
       "    <tr>\n",
       "      <th>1</th>\n",
       "      <td>https://storage.yandexcloud.net/crowdom-public/examples/audio_transcript_ex/d7f0b9dc-b4d6-4412-b9c5-6e6cdcdaf947.wav</td>\n",
       "      <td>вьетнам привержен широкому и эффективному международному сотрудничеству в целях решения проблемы неинфекционных заболеваний</td>\n",
       "      <td>sp</td>\n",
       "      <td>asr:general</td>\n",
       "      <td>1</td>\n",
       "      <td>1.000000e+00</td>\n",
       "      <td>1</td>\n",
       "      <td>True</td>\n",
       "      <td>6d85abd870df2592ef79175f99b5b93c</td>\n",
       "    </tr>\n",
       "    <tr>\n",
       "      <th>2</th>\n",
       "      <td>https://storage.yandexcloud.net/crowdom-public/examples/audio_transcript_ex/f361e245-cc6e-42f2-9eba-153224a4d221.wav</td>\n",
       "      <td>бразилия готова взять на себя обязанность постоянного члена совета</td>\n",
       "      <td>sp</td>\n",
       "      <td>6d85abd870df2592ef79175f99b5b93c</td>\n",
       "      <td>2</td>\n",
       "      <td>1.000000e+00</td>\n",
       "      <td>1</td>\n",
       "      <td>True</td>\n",
       "      <td>6d85abd870df2592ef79175f99b5b93c</td>\n",
       "    </tr>\n",
       "    <tr>\n",
       "      <th>3</th>\n",
       "      <td>https://storage.yandexcloud.net/crowdom-public/examples/audio_transcript_ex/f361e245-cc6e-42f2-9eba-153224a4d221.wav</td>\n",
       "      <td>бразилия готова взять на себя обязанности постоянного члена совета</td>\n",
       "      <td>sp</td>\n",
       "      <td>asr:general</td>\n",
       "      <td>2</td>\n",
       "      <td>3.333333e-11</td>\n",
       "      <td>1</td>\n",
       "      <td>False</td>\n",
       "      <td>6d85abd870df2592ef79175f99b5b93c</td>\n",
       "    </tr>\n",
       "    <tr>\n",
       "      <th>4</th>\n",
       "      <td>https://storage.yandexcloud.net/crowdom-public/examples/audio_transcript_ex/03f38960-da28-4f06-96f7-aef7e29811a7.wav</td>\n",
       "      <td>когда мы вернемся домой нам придется столкнуться с множеством конкурирующих интересов</td>\n",
       "      <td>sp</td>\n",
       "      <td>6d85abd870df2592ef79175f99b5b93c</td>\n",
       "      <td>2</td>\n",
       "      <td>1.000000e+00</td>\n",
       "      <td>1</td>\n",
       "      <td>True</td>\n",
       "      <td>6d85abd870df2592ef79175f99b5b93c</td>\n",
       "    </tr>\n",
       "    <tr>\n",
       "      <th>5</th>\n",
       "      <td>https://storage.yandexcloud.net/crowdom-public/examples/audio_transcript_ex/03f38960-da28-4f06-96f7-aef7e29811a7.wav</td>\n",
       "      <td>когда мы вернемся домой нам придется столкнуться с множеством конкурирующих интересных</td>\n",
       "      <td>sp</td>\n",
       "      <td>asr:general</td>\n",
       "      <td>2</td>\n",
       "      <td>3.333333e-11</td>\n",
       "      <td>1</td>\n",
       "      <td>False</td>\n",
       "      <td>6d85abd870df2592ef79175f99b5b93c</td>\n",
       "    </tr>\n",
       "    <tr>\n",
       "      <th>6</th>\n",
       "      <td>https://storage.yandexcloud.net/crowdom-public/examples/audio_transcript_ex/94c1e9c8-3ac2-44d9-bb27-1a8f9cd5f5a3.wav</td>\n",
       "      <td>я также призываю организацию объединенных наций полностью поддержать африку в этом отношении</td>\n",
       "      <td>sp</td>\n",
       "      <td>asr:general</td>\n",
       "      <td>1</td>\n",
       "      <td>1.000000e+00</td>\n",
       "      <td>1</td>\n",
       "      <td>True</td>\n",
       "      <td>6d85abd870df2592ef79175f99b5b93c</td>\n",
       "    </tr>\n",
       "    <tr>\n",
       "      <th>7</th>\n",
       "      <td>https://storage.yandexcloud.net/crowdom-public/examples/audio_transcript_ex/fc4f3e2c-0534-4708-95a7-09ca5c43c8e6.wav</td>\n",
       "      <td>николай всеволодович вовсе впрочем не улыбался а напротив слушал нахмуренные несколько нетерпеливо</td>\n",
       "      <td>sp</td>\n",
       "      <td>asr:general</td>\n",
       "      <td>1</td>\n",
       "      <td>1.000000e+00</td>\n",
       "      <td>1</td>\n",
       "      <td>True</td>\n",
       "      <td>6d85abd870df2592ef79175f99b5b93c</td>\n",
       "    </tr>\n",
       "    <tr>\n",
       "      <th>8</th>\n",
       "      <td>https://storage.yandexcloud.net/crowdom-public/examples/audio_transcript_ex/4773f0ac-82c4-40c8-904a-1f0df81fa0e2.wav</td>\n",
       "      <td>мы считаем что это глобальный вопрос который требует эффективного решения</td>\n",
       "      <td>sp</td>\n",
       "      <td>asr:general</td>\n",
       "      <td>1</td>\n",
       "      <td>1.000000e+00</td>\n",
       "      <td>1</td>\n",
       "      <td>True</td>\n",
       "      <td>6d85abd870df2592ef79175f99b5b93c</td>\n",
       "    </tr>\n",
       "    <tr>\n",
       "      <th>9</th>\n",
       "      <td>https://storage.yandexcloud.net/crowdom-public/examples/audio_transcript_ex/db49db03-7f5e-48b6-bb15-b0d2f5a64a73.wav</td>\n",
       "      <td>в этом ключе предпринимались многочисленные инициативы направленные на достижение прогресса в области ядерного разоружения</td>\n",
       "      <td>sp</td>\n",
       "      <td>asr:general</td>\n",
       "      <td>1</td>\n",
       "      <td>1.000000e+00</td>\n",
       "      <td>1</td>\n",
       "      <td>True</td>\n",
       "      <td>6d85abd870df2592ef79175f99b5b93c</td>\n",
       "    </tr>\n",
       "    <tr>\n",
       "      <th>10</th>\n",
       "      <td>https://storage.yandexcloud.net/crowdom-public/examples/audio_transcript_ex/9bf4db95-ab8f-49c0-a41d-7dab3368e055.wav</td>\n",
       "      <td>мы заслушали больше выступлений государственных членов чем в предыдущие сессии</td>\n",
       "      <td>sp</td>\n",
       "      <td>6d85abd870df2592ef79175f99b5b93c</td>\n",
       "      <td>2</td>\n",
       "      <td>1.000000e+00</td>\n",
       "      <td>1</td>\n",
       "      <td>True</td>\n",
       "      <td>6d85abd870df2592ef79175f99b5b93c</td>\n",
       "    </tr>\n",
       "    <tr>\n",
       "      <th>11</th>\n",
       "      <td>https://storage.yandexcloud.net/crowdom-public/examples/audio_transcript_ex/9bf4db95-ab8f-49c0-a41d-7dab3368e055.wav</td>\n",
       "      <td>мы заслушали больше выступлений государств членов чем предыдущие сессии</td>\n",
       "      <td>sp</td>\n",
       "      <td>asr:general</td>\n",
       "      <td>2</td>\n",
       "      <td>3.333333e-11</td>\n",
       "      <td>1</td>\n",
       "      <td>False</td>\n",
       "      <td>6d85abd870df2592ef79175f99b5b93c</td>\n",
       "    </tr>\n",
       "    <tr>\n",
       "      <th>12</th>\n",
       "      <td>https://storage.yandexcloud.net/crowdom-public/examples/audio_transcript_ex/0f2bb114-2a9e-41a4-866b-5fca75716f99.wav</td>\n",
       "      <td>наша позиция остается неизменной</td>\n",
       "      <td>sp</td>\n",
       "      <td>asr:general</td>\n",
       "      <td>1</td>\n",
       "      <td>1.000000e+00</td>\n",
       "      <td>1</td>\n",
       "      <td>True</td>\n",
       "      <td>6d85abd870df2592ef79175f99b5b93c</td>\n",
       "    </tr>\n",
       "  </tbody>\n",
       "</table>\n",
       "</div>"
      ],
      "text/plain": [
       "                                                                                                                           audio  \\\n",
       "0   https://storage.yandexcloud.net/crowdom-public/examples/audio_transcript_ex/9cb0c9bc-b3c5-4984-b799-724f100250d1.wav   \n",
       "1   https://storage.yandexcloud.net/crowdom-public/examples/audio_transcript_ex/d7f0b9dc-b4d6-4412-b9c5-6e6cdcdaf947.wav   \n",
       "2   https://storage.yandexcloud.net/crowdom-public/examples/audio_transcript_ex/f361e245-cc6e-42f2-9eba-153224a4d221.wav   \n",
       "3   https://storage.yandexcloud.net/crowdom-public/examples/audio_transcript_ex/f361e245-cc6e-42f2-9eba-153224a4d221.wav   \n",
       "4   https://storage.yandexcloud.net/crowdom-public/examples/audio_transcript_ex/03f38960-da28-4f06-96f7-aef7e29811a7.wav   \n",
       "5   https://storage.yandexcloud.net/crowdom-public/examples/audio_transcript_ex/03f38960-da28-4f06-96f7-aef7e29811a7.wav   \n",
       "6   https://storage.yandexcloud.net/crowdom-public/examples/audio_transcript_ex/94c1e9c8-3ac2-44d9-bb27-1a8f9cd5f5a3.wav   \n",
       "7   https://storage.yandexcloud.net/crowdom-public/examples/audio_transcript_ex/fc4f3e2c-0534-4708-95a7-09ca5c43c8e6.wav   \n",
       "8   https://storage.yandexcloud.net/crowdom-public/examples/audio_transcript_ex/4773f0ac-82c4-40c8-904a-1f0df81fa0e2.wav   \n",
       "9   https://storage.yandexcloud.net/crowdom-public/examples/audio_transcript_ex/db49db03-7f5e-48b6-bb15-b0d2f5a64a73.wav   \n",
       "10  https://storage.yandexcloud.net/crowdom-public/examples/audio_transcript_ex/9bf4db95-ab8f-49c0-a41d-7dab3368e055.wav   \n",
       "11  https://storage.yandexcloud.net/crowdom-public/examples/audio_transcript_ex/9bf4db95-ab8f-49c0-a41d-7dab3368e055.wav   \n",
       "12  https://storage.yandexcloud.net/crowdom-public/examples/audio_transcript_ex/0f2bb114-2a9e-41a4-866b-5fca75716f99.wav   \n",
       "\n",
       "                                                                                                                     transcript  \\\n",
       "0                                  наша задача теперь добиться отношения к воде и биоразнообразию как к стратегическим ресурсам   \n",
       "1   вьетнам привержен широкому и эффективному международному сотрудничеству в целях решения проблемы неинфекционных заболеваний   \n",
       "2                                                            бразилия готова взять на себя обязанность постоянного члена совета   \n",
       "3                                                            бразилия готова взять на себя обязанности постоянного члена совета   \n",
       "4                                         когда мы вернемся домой нам придется столкнуться с множеством конкурирующих интересов   \n",
       "5                                        когда мы вернемся домой нам придется столкнуться с множеством конкурирующих интересных   \n",
       "6                                  я также призываю организацию объединенных наций полностью поддержать африку в этом отношении   \n",
       "7                            николай всеволодович вовсе впрочем не улыбался а напротив слушал нахмуренные несколько нетерпеливо   \n",
       "8                                                     мы считаем что это глобальный вопрос который требует эффективного решения   \n",
       "9    в этом ключе предпринимались многочисленные инициативы направленные на достижение прогресса в области ядерного разоружения   \n",
       "10                                               мы заслушали больше выступлений государственных членов чем в предыдущие сессии   \n",
       "11                                                      мы заслушали больше выступлений государств членов чем предыдущие сессии   \n",
       "12                                                                                             наша позиция остается неизменной   \n",
       "\n",
       "   class                         annotator  annotation_overlap    confidence  \\\n",
       "0     sp                       asr:general                   1  1.000000e+00   \n",
       "1     sp                       asr:general                   1  1.000000e+00   \n",
       "2     sp  6d85abd870df2592ef79175f99b5b93c                   2  1.000000e+00   \n",
       "3     sp                       asr:general                   2  3.333333e-11   \n",
       "4     sp  6d85abd870df2592ef79175f99b5b93c                   2  1.000000e+00   \n",
       "5     sp                       asr:general                   2  3.333333e-11   \n",
       "6     sp                       asr:general                   1  1.000000e+00   \n",
       "7     sp                       asr:general                   1  1.000000e+00   \n",
       "8     sp                       asr:general                   1  1.000000e+00   \n",
       "9     sp                       asr:general                   1  1.000000e+00   \n",
       "10    sp  6d85abd870df2592ef79175f99b5b93c                   2  1.000000e+00   \n",
       "11    sp                       asr:general                   2  3.333333e-11   \n",
       "12    sp                       asr:general                   1  1.000000e+00   \n",
       "\n",
       "    evaluation_overlap   eval                         evaluator  \n",
       "0                    1   True  6d85abd870df2592ef79175f99b5b93c  \n",
       "1                    1   True  6d85abd870df2592ef79175f99b5b93c  \n",
       "2                    1   True  6d85abd870df2592ef79175f99b5b93c  \n",
       "3                    1  False  6d85abd870df2592ef79175f99b5b93c  \n",
       "4                    1   True  6d85abd870df2592ef79175f99b5b93c  \n",
       "5                    1  False  6d85abd870df2592ef79175f99b5b93c  \n",
       "6                    1   True  6d85abd870df2592ef79175f99b5b93c  \n",
       "7                    1   True  6d85abd870df2592ef79175f99b5b93c  \n",
       "8                    1   True  6d85abd870df2592ef79175f99b5b93c  \n",
       "9                    1   True  6d85abd870df2592ef79175f99b5b93c  \n",
       "10                   1   True  6d85abd870df2592ef79175f99b5b93c  \n",
       "11                   1  False  6d85abd870df2592ef79175f99b5b93c  \n",
       "12                   1   True  6d85abd870df2592ef79175f99b5b93c  "
      ]
     },
     "metadata": {},
     "output_type": "display_data"
    }
   ],
   "source": [
    "with pd.option_context('max_colwidth', 150), pd.option_context('display.max_rows', 100):\n",
    "    display(results.worker_labels())"
   ]
  }
 ],
 "metadata": {
  "kernelspec": {
   "display_name": "Python 3 (ipykernel)",
   "language": "python",
   "name": "python3"
  },
  "language_info": {
   "codemirror_mode": {
    "name": "ipython",
    "version": 3
   },
   "file_extension": ".py",
   "mimetype": "text/x-python",
   "name": "python",
   "nbconvert_exporter": "python",
   "pygments_lexer": "ipython3",
   "version": "3.9.6"
  },
  "widgets": {
   "application/vnd.jupyter.widget-state+json": {
    "state": {},
    "version_major": 2,
    "version_minor": 0
   }
  }
 },
 "nbformat": 4,
 "nbformat_minor": 5
}
