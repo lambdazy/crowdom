{
 "cells": [
  {
   "cell_type": "markdown",
   "metadata": {
    "pycharm": {
     "name": "#%% md\n"
    }
   },
   "source": [
    "This example illustrates how to evaluate quality of audio synthesis by gathering answers to some quality questions about the audios with Crowdom.\n",
    "\n",
    "In our example, we ask workers to answer three quality questions about each given audio.\n",
    "\n",
    "In this example we will use conditional view for objects - so that for each question only corresponding answers will be displayed as an option. \n",
    "Moreover, this workflow shows how to use `Markdown` view for `Text` objects."
   ]
  },
  {
   "cell_type": "markdown",
   "metadata": {
    "pycharm": {
     "name": "#%% md\n"
    }
   },
   "source": [
    "## Setup\n"
   ]
  },
  {
   "cell_type": "code",
   "execution_count": 1,
   "metadata": {
    "pycharm": {
     "name": "#%%\n"
    }
   },
   "outputs": [],
   "source": [
    "%pip install crowdom"
   ]
  },
  {
   "cell_type": "code",
   "execution_count": 2,
   "metadata": {
    "pycharm": {
     "name": "#%%\n"
    }
   },
   "outputs": [],
   "source": [
    "from datetime import timedelta\n",
    "import logging.config\n",
    "\n",
    "import markdown2\n",
    "import yaml\n",
    "import os\n",
    "from typing import Dict\n",
    "\n",
    "from crowdom import base, datasource, client, objects, pricing, control, classification, classification_loop, worker"
   ]
  },
  {
   "cell_type": "code",
   "execution_count": 4,
   "metadata": {
    "pycharm": {
     "name": "#%%\n"
    }
   },
   "outputs": [],
   "source": [
    "with open('logging.yaml') as f:\n",
    "    logging.config.dictConfig(yaml.full_load(f.read()))"
   ]
  },
  {
   "cell_type": "code",
   "execution_count": 5,
   "metadata": {
    "pycharm": {
     "name": "#%%\n"
    }
   },
   "outputs": [],
   "source": [
    "toloka_client = client.create_toloka_client(token=os.getenv('TOLOKA_TOKEN') or input('Enter your token: '))"
   ]
  },
  {
   "cell_type": "markdown",
   "metadata": {},
   "source": [
    "## Questions"
   ]
  },
  {
   "cell_type": "markdown",
   "metadata": {},
   "source": [
    "Define your questions and corresponding answers:\n",
    "- `question_label` contains the question you want to ask\n",
    "- possible answers are listed as `Enum` members:"
   ]
  },
  {
   "cell_type": "code",
   "execution_count": 3,
   "metadata": {},
   "outputs": [],
   "source": [
    "class Noise(objects.Question):\n",
    "    NOISE = 'noise'\n",
    "    CORRUPTION = 'corruption'\n",
    "    BOTH = 'both'\n",
    "    NONE = 'none'\n",
    "    \n",
    "\n",
    "    @classmethod\n",
    "    def question_label(cls) -> Dict[str, str]:\n",
    "        return {\n",
    "            'EN': '**Are there any noises or singal corruption?**',\n",
    "            'RU': '**Встречаются ли лишние шумы или искажения сигнала?**',\n",
    "        }\n",
    "    \n",
    "    @classmethod\n",
    "    def labels(cls) -> Dict['Noise', Dict[str, str]]:\n",
    "        return {\n",
    "            cls.NOISE: {'EN': 'There is noise', 'RU': 'На аудио есть лишний шум'},\n",
    "            cls.CORRUPTION: {'EN': 'There is noise corruption', 'RU': 'Фрагменты сигнала искажены'},\n",
    "            cls.BOTH: {'EN': 'Both problems present', 'RU': 'Есть и 1, и 2 проблема'},\n",
    "            cls.NONE: {'EN': 'These problems are not present', 'RU': 'Подобных проблем нет'},\n",
    "        }    "
   ]
  },
  {
   "cell_type": "code",
   "execution_count": 4,
   "metadata": {},
   "outputs": [],
   "source": [
    "class Acoustics(objects.Question):\n",
    "    INSIDE = 'inside'\n",
    "    OUTDOORS = 'outdoors'\n",
    "    STUDIO = 'studio'\n",
    "    \n",
    "    @classmethod\n",
    "    def question_label(cls) -> Dict[str, str]:\n",
    "        return {'RU': '**Где записывалось аудио?**', 'EN': '**Where was this audio recorded?**'}\n",
    "    \n",
    "    @classmethod\n",
    "    def labels(cls) -> Dict['Acoustics', Dict[str, str]]:\n",
    "        return {\n",
    "            cls.INSIDE: {'EN': 'In living or industrial space', 'RU': 'В жилом / промышленном помещении'},\n",
    "            cls.OUTDOORS: {'EN': 'Outdoors', 'RU': 'На улице'},\n",
    "            cls.STUDIO: {'EN': 'In recording studio', 'RU': 'В профессиональной студии'},\n",
    "        }    "
   ]
  },
  {
   "cell_type": "code",
   "execution_count": 5,
   "metadata": {},
   "outputs": [],
   "source": [
    "class Intonation(objects.Question):\n",
    "    YES = 'yes'\n",
    "    NO = 'no'\n",
    "    \n",
    "    @classmethod\n",
    "    def question_label(cls) -> Dict[str, str]:\n",
    "        return {\n",
    "            'EN': '**Does intonation convey correct meaning of the text?**',\n",
    "            'RU': '**Верно ли интонация на аудио передаёт смысл написанного текста?**',\n",
    "        }\n",
    "    \n",
    "    @classmethod\n",
    "    def labels(cls) -> Dict['Intonation', Dict[str, str]]:\n",
    "        return {\n",
    "            cls.YES: {\n",
    "                'EN': 'Intonation conveys text meaning correctly', 'RU': 'Смысл текста передан интонацией верно',\n",
    "            },\n",
    "            cls.NO: {\n",
    "                'EN': 'Intonation does not convey text meaning', 'RU': 'Смысл текста передан интонацией неверно',\n",
    "            },\n",
    "        }    "
   ]
  },
  {
   "cell_type": "markdown",
   "metadata": {},
   "source": [
    "Create combined question and answer classes, which will contain all possible options for your task:"
   ]
  },
  {
   "cell_type": "code",
   "execution_count": 6,
   "metadata": {},
   "outputs": [],
   "source": [
    "Question, Answer, question_answers_list = objects.get_combined_classes([Noise, Acoustics, Intonation])\n",
    "question_answers = base.create_available_labels_if('question', question_answers_list)"
   ]
  },
  {
   "cell_type": "markdown",
   "metadata": {},
   "source": [
    "In this example, there are a couple of customization options specified:\n",
    "- `LabelsDisplayType.MONO` changes your question view from a radio-button list to text version\n",
    "- a title is specified for question to separate it visually from task's `Text`\n",
    "- `TextFormat.MARKDOWN` enables markdown rendering for question text and title\n",
    "- conditional view is enabled via `available_labels`"
   ]
  },
  {
   "cell_type": "markdown",
   "metadata": {},
   "source": [
    "For some questions (e.g. `Intonation`), the `Text`, that is being spoken on the audio, matters, so it is also included in the `inputs`:"
   ]
  },
  {
   "cell_type": "code",
   "execution_count": 7,
   "metadata": {},
   "outputs": [],
   "source": [
    "function = base.ClassificationFunction(\n",
    "    inputs=(\n",
    "        base.ClassMeta(\n",
    "            type=Question, \n",
    "            name='question', \n",
    "            input_display_type=base.LabelsDisplayType.MONO, \n",
    "            title=base.Title(text={'EN': 'Question', 'RU': 'Вопрос'}, format=base.TextFormat.MARKDOWN),\n",
    "            text_format=base.TextFormat.MARKDOWN),\n",
    "        base.ObjectMeta(\n",
    "            type=objects.Audio, \n",
    "            name='audio'),\n",
    "        objects.TextMeta(\n",
    "            type=objects.Text, \n",
    "            name='text',\n",
    "            format=base.TextFormat.MARKDOWN),\n",
    "    ),\n",
    "    cls=base.ClassMeta(\n",
    "        type=Answer, \n",
    "        name='answer', \n",
    "        available_labels=question_answers, \n",
    "        title=base.Title(text={'EN': 'Answer', 'RU': 'Ответ'}, format=base.TextFormat.MARKDOWN)),\n",
    ")"
   ]
  },
  {
   "cell_type": "code",
   "execution_count": 10,
   "metadata": {},
   "outputs": [
    {
     "data": {
      "text/html": [
       "<a href=\"https://tb.yandex.net/editor?config=N4Igxg9gdgZglgcxALgAQmAHRANzgUwHds0sQ4AXfAWwGcTUBtMyKKthsym+lJl6OwoNsgJBBAfCCB+EEACIOMCCINgA0qbBQCeAB3wjcBQgDpqAQwBOAawAmEQlGwBfZQKgXKcaJ1UQdUCHFraQZWwLIwojDxANUIALHQBHAFd8Wgo3W0CVEHUtHRCw-TgoDQThEAdM7IC0bFYXVOh9fESjABtectVo-HTSGsFu0uqQACph0TlAIRBpQFYQQHEQQAYQQDkQCblAeRBUQG4QQA4QTa3ACRBAXhAt6dQ9wGEQQB4QQGkQVC3t27lALhB5wDYQaaP1uS3AZhAD+Y35gB+UZKCqaKqZPBEQymSzWdIdED4NoQpx1NIRChePjYIyQBIpOBgXhBEB5cJ8MhRCixHEgRLJerpUmVXKhIwFIolews8E6WquBpNBKtdosro9VBOIQ6UaAZBBACwgJ0A7CDzSRbORXQBMIP95IAZEFQ8zOCq24mBw1Bqj5dKhBmM5isNh5mWR-giAqZmOxQ0KWKgoQxGWC7Ii1NpQwZhPcQay1qG5M5xVKiNZdI9aUazTazs63Xd-Q4dNGomm0gO4l2twOE3Ef0AYiBbdZ-Q3G02oSSl6YK+aARRAJqg5Nc5BtUH91XJ5gdy98KxNpo9JkCQTHU0NbTCHfCc7GcnSui0tCYCjBt6vMvvD8fT3Hz8jL3AT2UALq83drvT6Fp+ZOviHYdcICYEAJBozpkAkJgtKGMQ6EYCQuNiv5svkhRJtuOCtHAeSBr0O5-uA0Dog0GgtEYaj4BYAC0MAJC0LRqNeb6Qh+cEIWBfRsAM0E0joVAAB6lEhdIJqh3JlEJ77QvacJOuJUocURkpkFi3i+G6Mbktx4aZJGnorjewYoVyP5gkxCmClAmYitmcm5kpHEypS2DcHQDDMA5XF0oAeCATFq0wTJaeE6Ou0mOgijiGRSuFhrBUC0IQ+AmIFZ6RfowEUGhtkgBAGhMrwaDubgrRJKpfj4AA+uVPhlYFpEAEbIjogC4IPMLYmhW0yTAa2yHFsgCcIKclzsUVLQlXS1X+JVkAmCYIF6aS9WNXSgAkINI8zfBc7wTDcXy-P8rUas8bwHFcw0YaN+ETRV5V1RAPExotUF0oAqCBdbcqAAIzKDsABM7ayIAjCAbNMFzzGdxWXWp10+FAAQLUYDVPUMgD4IOICriADJ2AKIg-0Y8DFyjv59gvpkLi0AjLQUQwMCivgpLnVhAbRrhmlOZEMF0kYcUJUl+lmWS7JpSUmWItEvo6KIVwA6WWxzqgaNbActzKqgOrSFsk41lqyUGQRzgWfoJjCnARsWIx+HwMiFiG0YCGUYBwGgc+EnMdCX4pObwUfg7IHbq6qLmXpuEqZz+KEsSgWs9FHMRkkUbMqZ+EicZntpoRBvCqKp4SvmnGFrhLn5fwHn55kPl+QFfP4SFsJhcNUfyez91DFz8WJTr-MJulIukjleVuWQ51jS3YepMSlWFLQWFw5kj0S6gLx3OIBMAPS49cezA1Oy-tsv0yAJIg7xbFs4MXbBo9ErQlXpVYEAmCSs8I0tQwtagZzbHW0yn8PmR4sB4dX3KikeCbhapPyRpkUQuNAAiIJ1L4tZ-h6nLANSYrYT7O1Jn4CmVM+A0xRPTTC2FmaNwblSGOv9ubtyrshDk3cxKi3FnSSW0t1ZywVkrLYKs1Ya2rOIbW1C076yZIbY2ptU5DEti0a2JhbZuHtkBX2GCrT83XO7Eyyjq7ewUU7RE-tc6KS9DoX00AmYJ0ilpeIcd5qJxoYmehLtA4ZkzjZFMOc2asEcgXKgrk+CFQ8Z5IY5ciYCMknaWuW45JkFIdgGKnNKG8wcQLfIdD1HZVymkIuhUh74WMf6JklVyIP2wHPOkgBCECHCOOcC4JitQ7DMbsHDeH1mOANPyZZxDfxyWwEx+SqqIUfojHQ5SrjDlQFUxc7ZOwNKrDWZp0wBoHGmG08sxNSRk2wWbXBtMCFfiIfZJJUVG6xJbvEjuSdBYpO3GLUuYgpYyzYSaDhXD5jq01nws5-J07CKNokE2OCUy60kdI2REB5GO1WTYm0H41HiNdgYH2OjEkXkSleLKKUQDIqPA+WF2BMWorsCTDRXs3bfm3CRBICBJ4D2KWRdKEQzCFE2UMWgYAgJ0WSkYWgZgADqWFm6oAAOwAAYhX6CFYiHwqR4BgFMZk6UATMjIymarK4khxAbEWUcEGuM2l6jnMoWYNZVZyBOJtE08xKKAFkQfGW0biqm+NIM4yo7gaj1PoD5ULoT8RMvKm5IBXr3EWf2LG4gJjrABjcNG04Kxmo1lam11Z5jKDqdMe1jrnVy0mGtI4dYzjupCXC-Q3qIVErpOSyllksQtAgGYCkBK7AZHIMZPgGBsC6RwpkK6gVWKgL3BQDKtBkArxXikO+RgED4H0GoLmFh8B8TANW+C+hYYUBXqy6wVhqCUWKHVL8YAV5zqMNQEiyQV49ogOVdt0BaAr3JCvH6MAYAAA4ACsFgACc77qLvpppRAALD9d9ArKJPosC+p9lEhXvoAMxvvwK+l9H0336EIEYHAyU52DEyIFLCOgAA8ABhCA1A6qFAogARSsRmAAcgAeQAJIAGUACiaAADkV02MAD5UAAEEQEQAABQQRaAAXjY9EftGhB3DtHTIidU6Z1zoXcBa2K611AUIJu7dCRd1EgPXxI9J6b3nsvVR69t72T3sfa+j9X6YA-qMP+wDwHQPgcgzBuDCGkPW1QzgNjABKVAAAVTDgnvXicC-YMoQA\" target=\"_blank\" rel=\"noopener noreferrer\">task preview</a>"
      ],
      "text/plain": [
       "<IPython.core.display.HTML object>"
      ]
     },
     "execution_count": 10,
     "metadata": {},
     "output_type": "execute_result"
    }
   ],
   "source": [
    "audio_url = 'https://storage.yandexcloud.net/crowdom-public/examples/audio_questions/data/2ff85d99-f9fa-4297-8d58-0935de85515d.wav'\n",
    "sample_task = (Question.NOISE, objects.Audio(url=audio_url), objects.Text(text=''))\n",
    "\n",
    "client.TaskPreview(sample_task, task_function=function, lang='RU').display_link()"
   ]
  },
  {
   "cell_type": "markdown",
   "metadata": {},
   "source": [
    "We need meaningful `Text` for the `Intonation` question:"
   ]
  },
  {
   "cell_type": "code",
   "execution_count": 11,
   "metadata": {},
   "outputs": [
    {
     "data": {
      "text/html": [
       "<a href=\"https://tb.yandex.net/editor?config=N4Igxg9gdgZglgcxALgAQmAHRANzgUwHds0sQ4AXfAWwGcTUBtMyKKthsym+lJl6OwoNsgJBBAfCCB+EEACIOMCCINgA0qbBQCeAB3wjcBQgDpqAQwBOAawAmEQlGwBfZQKgXKcaJ1UQdUCHFraQZWwLIwojDxANUIALHQBHAFd8Wgo3W0CVEHUtHRCw-TgoDQThEAdM7IC0bFYXVOh9fESjABtectVo-HTSGsFu0uqQACph0TlAIRBpQFYQQHEQQAYQQDkQCblAeRBUQG4QQA4QTa3ACRBAXhAt6dQ9wGEQQB4QQGkQVC3t27lALhB5wDYQaaP1uS3AZhAD+Y35gB+UZKCqaKqZPBEQymSzWdIdED4NoQpx1NIRChePjYIyQBIpOBgXhBEB5cJ8MhRCixHEgRLJerpUmVXKhIwFIolews8E6WquBpNBKtdosro9VBOIQ6UaAZBBACwgJ0A7CDzSRbORXQBMIP95IAZEFQ8zOCq24mBw1Bqj5dKhBmM5isNh5mWR-giAqZmOxQ0KWKgoQxGWC7Ii1NpQwZhPcQay1qG5M5xVKiNZdI9aUazTazs63Xd-Q4dNGomm0gO4l2twOE3Ef0AYiBbdZ-Q3G02oSSl6YK+aARRAJqg5Nc5BtUH91XJ5gdy98KxNpo9JkCQTHU0NbTCHfCc7GcnSui0tCYCjBt6vMvvD8fT3Hz8jL3AT2UALq83drvT6Fp+ZOviHYdcICYEAJBozpkAkJgtKGMQ6EYCQuNiv5svkhRJtuOCtHAeSBr0O5-uA0Dog0GgtEYaj4BYAC0MAJC0LRqNeb6Qh+cEIWBfRsAM0E0joVAAB6lEhdIJqh3JlEJ77QvacJOuJUocURkpkFi3i+G6Mbktx4aZJGnorjewYoVyP5gkxCmClAmYitmcm5kpHEypS2DcHQDDMA5XF0oAeCATFq0wTJaeE6Ou0mOgijiGRSuFhrBUC0IQ+AmIFZ6RfowEUGhtkgBAGhMrwaDubgrRJKpfj4AA+uVPhlYFpEAEbIjogC4IPMLYmhW0yTAa2yHFsgCcIKclzsUVLQlXS1X+JVkAmCYIF6aS9WNXSgAkINI8zfBc7wTDcXy-P8rUas8bwHFcw0YaN+ETRV5V1RAPExotUF0oAqCBdbcqAAIzKDsABM7ayIAjCAbNMFzzGdxWXWp10+FAAQLUYDVPUMgD4IOICriADJ2AKIg-0Y8DFyjv59gvpkLi0AjLQUQwMCivgpLnVhAbRrhmlOZEMF0kYcUJUl+lmWS7JpSUmWItEvo6KIVwA6WWxzqgaNbActzKqgOrSFsk41lqyUGQRzgWfoJjCnARsWIx+HwMiFiG0YCGUYBwGgc+EnMdCX4pObwUfg7IHbq6qLmXpuEqZz+KEsSgWs9FHMRkkUbMqZ+EicZntpoRBvCqKp4SvmnGFrhLn5fwHn55kPl+QFfP4SFsJhcNUfyez91DFz8WJTr-MJulIukjleVuWQ51jS3YepMSlWFLQWFw5kj0S6gLx3OIBMAPS49cezA1Oy-tsv0yAJIg7xbFs4MXbBo9ErQlXpVYEAmCSs8I0tQwtagZzbHW0yn8PmR4sB4dX3KikeCbhapPyRpkUQuNAAiIJ1L4tZ-h6nLANSYrYT7O1Jn4CmVM+A0xRPTTC2FmaNwblSGOv9ubtyrshDk3cxKi3FnSSW0t1ZywVkrLYKs1Ya2rOIbW1C076yZIbY2ptU5DEti0a2JhbZuHtkBX2GCrT83XO7Eyyjq7ewUU7RE-tc6KS9DoX00AmYJ0ilpeIcd5qJxoYmehLtA4ZkzjZFMOc2asEcgXKgrk+CFQ8Z5IY5ciYCMknaWuW45JkFIdgGKnNKG8wcQLfIdD1HZVymkIuhUh74WMf6JklVyIP2wHPOkgBCECHCOOcC4JitQ7DMbsHDeH1mOANPyZZxDfxyWwEx+SqqIUfojHQ5SrjDlQFUxc7ZOwNKrDWZp0wBoHGmG08sxNSRk2wWbXBtMCFfiIfZJJUVG6xJbvEjuSdBYpO3GLUuYgpYyzYSaDhXD5jq01nws5-J07CKNokE2OCUy60kdI2REB5GO1WTYm0H41HiNdgYH2OjEkXkSleLKKUQDIqPA+WF2BMWorsCTDRXs3bfm3CRBICBJ4D2KWRdKEQzCFE2UMWgYAgJ0WSkYWgZgADqWFm6oAAOwAAYhX6CFYiHwqR4BgFMZk6UATMjIymarK4khxAbEWUcEGuM2l6jnMoWYNZVZyBOJtE08xKKAFkQfGW0biqm+NIM4yo7gaj1PoD5ULoT8RMvKm5IBXr3EWf2LG4gJjrABjcNG04Kxmo1lam11Z5jKDqdMe1jrnVy0mGtI4dYzjupCXC-Q3qIVErpOSyllksQtAgGYCkBK7AZHIMZPgGBsC6RwpkXJpjAqsVAXuCgGVaDIBXivFId8jAIHwPoNQXMLD4D4mAat8F9CwwoCvVl1grDUEosUOqX4wAr3nUYagJFkgr17RAcq7boC0BXuSFeP0YAwAABwAFYLAAE4P3UQ-TTSiAAWH6H6BWUWfRYV9z7KJCo-QAZnffgN9r6Prvv0IQIwOBkrzsGJkQAtCBGouGjUsBxASoEADgghGywAEJApYR0AAHgAMIQGoHVQoFEACKViMwAEkAByAAVAA8rxgAgvx7jwm0AAHIu1MikwAPlQCJkBEAAAUEEWgAF4pPRAHRoIdI6x0yMndO2d87F3AWtqu9dQFCBbp3QkPdRJD18WPae29F6r1cZvXe9kD6n1vs-d+mAv6jAAaAyBsDEGoOwfg4h5D1s0M4CkwASlQPxrDqnvXabwzGijxGyP5co6l+wZQgA\" target=\"_blank\" rel=\"noopener noreferrer\">task preview</a>"
      ],
      "text/plain": [
       "<IPython.core.display.HTML object>"
      ]
     },
     "execution_count": 11,
     "metadata": {},
     "output_type": "execute_result"
    }
   ],
   "source": [
    "sample_task = (Question.INTONATION, objects.Audio(url=audio_url), objects.Text(text='Это модерн? Модерн!'))\n",
    "\n",
    "client.TaskPreview(sample_task, task_function=function, lang='RU').display_link()"
   ]
  },
  {
   "cell_type": "markdown",
   "metadata": {
    "pycharm": {
     "name": "#%% md\n"
    }
   },
   "source": [
    "## Task definition\n"
   ]
  },
  {
   "cell_type": "code",
   "execution_count": 13,
   "metadata": {
    "pycharm": {
     "name": "#%%\n"
    }
   },
   "outputs": [],
   "source": [
    "lang = 'RU'"
   ]
  },
  {
   "cell_type": "code",
   "execution_count": 14,
   "metadata": {
    "pycharm": {
     "name": "#%%\n"
    }
   },
   "outputs": [],
   "source": [
    "instruction = {}\n",
    "for worker_lang in ['EN', 'RU']:\n",
    "    with open(f'instruction_{worker_lang}.md') as f:\n",
    "        instruction[worker_lang] = markdown2.markdown(f.read())"
   ]
  },
  {
   "cell_type": "code",
   "execution_count": 15,
   "metadata": {
    "pycharm": {
     "name": "#%%\n"
    }
   },
   "outputs": [],
   "source": [
    "task_spec = client.TaskSpec(\n",
    "    id='qq',\n",
    "    function=function,\n",
    "    name={\n",
    "        'EN': 'Audio Questions', 'RU': 'Вопросы про аудио',\n",
    "    },\n",
    "    description={\n",
    "        'EN': 'Listen to a speech on audio and answer the question asked', \n",
    "        'RU': 'Прослушайте речь на аудио и ответьте на заданный вопрос',\n",
    "    },\n",
    "    instruction=instruction)"
   ]
  },
  {
   "cell_type": "code",
   "execution_count": 16,
   "metadata": {
    "pycharm": {
     "name": "#%%\n"
    }
   },
   "outputs": [],
   "source": [
    "task_spec_ru = client.PreparedTaskSpec(task_spec, lang)"
   ]
  },
  {
   "cell_type": "code",
   "execution_count": null,
   "metadata": {
    "pycharm": {
     "name": "#%%\n"
    }
   },
   "outputs": [],
   "source": [
    "client.define_task(task_spec_ru, toloka_client)"
   ]
  },
  {
   "cell_type": "code",
   "execution_count": 18,
   "metadata": {
    "pycharm": {
     "name": "#%%\n"
    }
   },
   "outputs": [],
   "source": [
    "task_duration_hint = timedelta(seconds=10)  # audios are about 1-5 seconds each"
   ]
  },
  {
   "cell_type": "markdown",
   "metadata": {
    "pycharm": {
     "name": "#%% md\n"
    }
   },
   "source": [
    "## Data preparation\n"
   ]
  },
  {
   "cell_type": "code",
   "execution_count": 19,
   "metadata": {
    "pycharm": {
     "name": "#%%\n"
    }
   },
   "outputs": [],
   "source": [
    "input_objects = datasource.read_tasks('tasks.json', task_spec_ru.task_mapping)\n",
    "control_objects = datasource.read_tasks('control_tasks.json', task_spec_ru.task_mapping, has_solutions=True)"
   ]
  },
  {
   "cell_type": "markdown",
   "metadata": {
    "pycharm": {
     "name": "#%% md\n"
    }
   },
   "source": [
    "## Launch configuration\n"
   ]
  },
  {
   "cell_type": "markdown",
   "metadata": {},
   "source": [
    "As the task is non-standard, and total number of possible answers for all of the questions can be too high, it is better to specify parameters with code:"
   ]
  },
  {
   "cell_type": "code",
   "execution_count": 20,
   "metadata": {},
   "outputs": [],
   "source": [
    "pricing_config = pricing.PoolPricingConfig(assignment_price=.02, real_tasks_count=20, control_tasks_count=4)"
   ]
  },
  {
   "cell_type": "code",
   "execution_count": 21,
   "metadata": {},
   "outputs": [],
   "source": [
    "correct_control_task_ratio_for_acceptance = .7\n",
    "\n",
    "control_params = control.Control(\n",
    "    rules=control.RuleBuilder().add_static_reward(\n",
    "        threshold=correct_control_task_ratio_for_acceptance).add_speed_control(\n",
    "            ratio_rand=.1,\n",
    "            ratio_poor=.3,\n",
    "        ).build())"
   ]
  },
  {
   "cell_type": "code",
   "execution_count": 22,
   "metadata": {},
   "outputs": [],
   "source": [
    "params = client.Params(\n",
    "    pricing_config=pricing_config,\n",
    "    task_duration_hint=task_duration_hint,\n",
    "    aggregation_algorithm=classification.AggregationAlgorithm.MAJORITY_VOTE,\n",
    "    overlap=classification_loop.StaticOverlap(overlap=5),\n",
    "    control=control_params,\n",
    "    worker_filter=worker.WorkerFilter(\n",
    "        filters=[\n",
    "             worker.WorkerFilter.Params(\n",
    "                 langs={worker.LanguageRequirement(lang=lang)},\n",
    "                 regions=worker.lang_to_default_regions.get(lang, {}),\n",
    "                 age_range=(18, None),\n",
    "             ),\n",
    "        ],\n",
    "        training_score=80,\n",
    "    ),\n",
    ")"
   ]
  },
  {
   "cell_type": "markdown",
   "metadata": {
    "pycharm": {
     "name": "#%% md\n"
    }
   },
   "source": [
    "## Launch\n"
   ]
  },
  {
   "cell_type": "code",
   "execution_count": null,
   "metadata": {
    "pycharm": {
     "name": "#%%\n"
    }
   },
   "outputs": [],
   "source": [
    "raw_results, worker_weights = client.launch(\n",
    "    task_spec_ru,\n",
    "    params,\n",
    "    input_objects,\n",
    "    control_objects,\n",
    "    toloka_client,\n",
    ")"
   ]
  },
  {
   "cell_type": "code",
   "execution_count": 24,
   "metadata": {
    "pycharm": {
     "name": "#%%\n"
    }
   },
   "outputs": [],
   "source": [
    "results = client.ClassificationResults(input_objects, raw_results, task_spec_ru, worker_weights)"
   ]
  },
  {
   "cell_type": "markdown",
   "metadata": {
    "pycharm": {
     "name": "#%% md\n"
    }
   },
   "source": [
    "## Results study\n"
   ]
  },
  {
   "cell_type": "code",
   "execution_count": 26,
   "metadata": {
    "pycharm": {
     "name": "#%%\n"
    }
   },
   "outputs": [
    {
     "data": {
      "text/html": [
       "<div>\n",
       "<style scoped>\n",
       "    .dataframe tbody tr th:only-of-type {\n",
       "        vertical-align: middle;\n",
       "    }\n",
       "\n",
       "    .dataframe tbody tr th {\n",
       "        vertical-align: top;\n",
       "    }\n",
       "\n",
       "    .dataframe thead th {\n",
       "        text-align: right;\n",
       "    }\n",
       "</style>\n",
       "<table border=\"1\" class=\"dataframe\">\n",
       "  <thead>\n",
       "    <tr style=\"text-align: right;\">\n",
       "      <th></th>\n",
       "      <th>question</th>\n",
       "      <th>audio</th>\n",
       "      <th>text</th>\n",
       "      <th>result</th>\n",
       "      <th>confidence</th>\n",
       "      <th>overlap</th>\n",
       "    </tr>\n",
       "  </thead>\n",
       "  <tbody>\n",
       "    <tr>\n",
       "      <th>0</th>\n",
       "      <td>noise</td>\n",
       "      <td>https://storage.yandexcloud.net/crowdom-publ...</td>\n",
       "      <td>*Вам доступны и рассрочка, и кредит, и наличны...</td>\n",
       "      <td>noise__none</td>\n",
       "      <td>1.0</td>\n",
       "      <td>1</td>\n",
       "    </tr>\n",
       "    <tr>\n",
       "      <th>1</th>\n",
       "      <td>noise</td>\n",
       "      <td>https://storage.yandexcloud.net/crowdom-publ...</td>\n",
       "      <td>*И светло и зелено было вокруг.*</td>\n",
       "      <td>noise__none</td>\n",
       "      <td>1.0</td>\n",
       "      <td>1</td>\n",
       "    </tr>\n",
       "    <tr>\n",
       "      <th>2</th>\n",
       "      <td>noise</td>\n",
       "      <td>https://storage.yandexcloud.net/crowdom-publ...</td>\n",
       "      <td>*Накормленные досыта котики играли с трудом.*</td>\n",
       "      <td>noise__none</td>\n",
       "      <td>1.0</td>\n",
       "      <td>1</td>\n",
       "    </tr>\n",
       "    <tr>\n",
       "      <th>3</th>\n",
       "      <td>noise</td>\n",
       "      <td>https://storage.yandexcloud.net/crowdom-publ...</td>\n",
       "      <td>*Накормленные досыта, котики играли с трудом.*</td>\n",
       "      <td>noise__none</td>\n",
       "      <td>1.0</td>\n",
       "      <td>1</td>\n",
       "    </tr>\n",
       "    <tr>\n",
       "      <th>4</th>\n",
       "      <td>noise</td>\n",
       "      <td>https://storage.yandexcloud.net/crowdom-publ...</td>\n",
       "      <td>*В доме - мыши.*</td>\n",
       "      <td>noise__none</td>\n",
       "      <td>1.0</td>\n",
       "      <td>1</td>\n",
       "    </tr>\n",
       "  </tbody>\n",
       "</table>\n",
       "</div>"
      ],
      "text/plain": [
       "  question                                              audio  \\\n",
       "0    noise  https://storage.yandexcloud.net/crowdom-publ...   \n",
       "1    noise  https://storage.yandexcloud.net/crowdom-publ...   \n",
       "2    noise  https://storage.yandexcloud.net/crowdom-publ...   \n",
       "3    noise  https://storage.yandexcloud.net/crowdom-publ...   \n",
       "4    noise  https://storage.yandexcloud.net/crowdom-publ...   \n",
       "\n",
       "                                                text       result  confidence  \\\n",
       "0  *Вам доступны и рассрочка, и кредит, и наличны...  noise__none         1.0   \n",
       "1                   *И светло и зелено было вокруг.*  noise__none         1.0   \n",
       "2      *Накормленные досыта котики играли с трудом.*  noise__none         1.0   \n",
       "3     *Накормленные досыта, котики играли с трудом.*  noise__none         1.0   \n",
       "4                                   *В доме - мыши.*  noise__none         1.0   \n",
       "\n",
       "   overlap  \n",
       "0        1  \n",
       "1        1  \n",
       "2        1  \n",
       "3        1  \n",
       "4        1  "
      ]
     },
     "execution_count": 26,
     "metadata": {},
     "output_type": "execute_result"
    }
   ],
   "source": [
    "results.predict()"
   ]
  }
 ],
 "metadata": {
  "kernelspec": {
   "display_name": "Python 3 (ipykernel)",
   "language": "python",
   "name": "python3"
  },
  "language_info": {
   "codemirror_mode": {
    "name": "ipython",
    "version": 3
   },
   "file_extension": ".py",
   "mimetype": "text/x-python",
   "name": "python",
   "nbconvert_exporter": "python",
   "pygments_lexer": "ipython3",
   "version": "3.9.6"
  },
  "widgets": {
   "application/vnd.jupyter.widget-state+json": {
    "state": {},
    "version_major": 2,
    "version_minor": 0
   }
  }
 },
 "nbformat": 4,
 "nbformat_minor": 4
}
