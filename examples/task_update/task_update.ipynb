{
 "cells": [
  {
   "cell_type": "markdown",
   "metadata": {
    "pycharm": {
     "name": "#%% md\n"
    },
    "tags": []
   },
   "source": [
    "# Task update\n",
    "\n",
    "As you work with your data labeling task, the task specification may change. The most frequent changes are in the instructions or semantics of the task function (`ObjectMeta`'s).\n",
    "\n",
    "The specification is mostly changed by you, but sometimes it may indirectly change if you update the Crowdom version, in which, for example, the standard way of displaying the data type in the task interface has changed.\n",
    "\n",
    "Crowdom uses [Toloka projects](https://toloka.ai/docs/guide/concepts/project.html) as a container for your tasks, each data language corresponds to a separate project. Crowdom automatically configures project for your task.\n",
    "\n",
    "When the specification updates, Crowdom have to update the project so that subsequent data labeling reflect the changes in the specification.\n",
    "\n",
    "Before updating, you will be shown the changes that will occur in the project, as a set of text diffs, so that you are aware of the changes and can analyze their impact.\n",
    "\n",
    "If the task changes for the workers, for example, when the worker instructions or the worker interface of the tasks change essentially, it is better to notify the workers about it so that they continue to perform data labeling correctly. You can specify a message that will be sent to the workers automatically after the project is updated."
   ]
  },
  {
   "cell_type": "markdown",
   "metadata": {
    "pycharm": {
     "name": "#%% md\n"
    }
   },
   "source": [
    "Let's assume that you changed the specification of the [image classification](../image_classification/image_classification.ipynb) task by changing the instructions, option names and description for English, and also previously updated the version of Crowdom."
   ]
  },
  {
   "cell_type": "code",
   "execution_count": null,
   "metadata": {
    "collapsed": false,
    "jupyter": {
     "outputs_hidden": false
    },
    "pycharm": {
     "name": "#%%\n"
    }
   },
   "outputs": [],
   "source": [
    "import os\n",
    "from typing import Dict\n",
    "\n",
    "from crowdom import base, client, objects"
   ]
  },
  {
   "cell_type": "code",
   "execution_count": 2,
   "metadata": {
    "collapsed": false,
    "jupyter": {
     "outputs_hidden": false
    },
    "pycharm": {
     "name": "#%%\n"
    }
   },
   "outputs": [],
   "source": [
    "class Animal(base.Class):\n",
    "    DOG = 'dog'\n",
    "    CAT = 'cat'\n",
    "    OTHER = 'other'\n",
    "\n",
    "    @classmethod\n",
    "    def labels(cls) -> Dict['Animal', Dict[str, str]]:\n",
    "        return {\n",
    "            cls.DOG: {'EN': 'doggie', 'RU': 'собака'},  # dog -> doggie\n",
    "            cls.CAT: {'EN': 'kitty', 'RU': 'кошка'},  # cat -> kitty\n",
    "            cls.OTHER: {'EN': 'other', 'RU': 'другое'}}"
   ]
  },
  {
   "cell_type": "code",
   "execution_count": 3,
   "metadata": {
    "collapsed": false,
    "jupyter": {
     "outputs_hidden": false
    },
    "pycharm": {
     "name": "#%%\n"
    }
   },
   "outputs": [],
   "source": [
    "function = base.ClassificationFunction(inputs=(objects.Image,), cls=Animal)"
   ]
  },
  {
   "cell_type": "code",
   "execution_count": 4,
   "metadata": {
    "collapsed": false,
    "jupyter": {
     "outputs_hidden": false
    },
    "pycharm": {
     "name": "#%%\n"
    }
   },
   "outputs": [],
   "source": [
    "import markdown2\n",
    "instruction = {}\n",
    "for worker_lang in ['EN', 'RU']:  # changed for EN\n",
    "    with open(f'instruction_{worker_lang}.md') as f:\n",
    "        instruction[worker_lang] = markdown2.markdown(f.read())"
   ]
  },
  {
   "cell_type": "code",
   "execution_count": 5,
   "metadata": {
    "collapsed": false,
    "jupyter": {
     "outputs_hidden": false
    },
    "pycharm": {
     "name": "#%%\n"
    }
   },
   "outputs": [],
   "source": [
    "task_spec = base.TaskSpec(\n",
    "    id='dogs-and-cats',\n",
    "    function=function,\n",
    "    name={'EN': 'Cat or dog', 'RU': 'Кошка или собака'},\n",
    "    description={\n",
    "        'EN': 'Identification of animals (cat or dog) in photos',  # changed\n",
    "        'RU': 'Определение животных на изображениях'},\n",
    "    instruction=instruction)"
   ]
  },
  {
   "cell_type": "code",
   "execution_count": 6,
   "metadata": {
    "collapsed": false,
    "jupyter": {
     "outputs_hidden": false
    },
    "pycharm": {
     "name": "#%%\n"
    }
   },
   "outputs": [],
   "source": [
    "from IPython.display import clear_output"
   ]
  },
  {
   "cell_type": "code",
   "execution_count": 7,
   "metadata": {},
   "outputs": [],
   "source": [
    "token = os.getenv('TOLOKA_TOKEN') or input('Enter your token: ')\n",
    "clear_output()"
   ]
  },
  {
   "cell_type": "code",
   "execution_count": 8,
   "metadata": {},
   "outputs": [],
   "source": [
    "toloka_client = client.create_toloka_client(token=token)"
   ]
  },
  {
   "cell_type": "code",
   "execution_count": 10,
   "metadata": {
    "pycharm": {
     "name": "#%%\n"
    },
    "tags": []
   },
   "outputs": [],
   "source": [
    "lang = 'EN'"
   ]
  },
  {
   "cell_type": "code",
   "execution_count": 11,
   "metadata": {
    "collapsed": false,
    "jupyter": {
     "outputs_hidden": false
    },
    "pycharm": {
     "name": "#%%\n"
    }
   },
   "outputs": [],
   "source": [
    "task_spec_en = client.PreparedTaskSpec(task_spec, lang)"
   ]
  },
  {
   "cell_type": "markdown",
   "metadata": {
    "pycharm": {
     "name": "#%% md\n"
    }
   },
   "source": [
    "`define_task()` call is required to make and update. If you try to launch data labeling after updating `task_spec` variable without calling it, you will get an error."
   ]
  },
  {
   "cell_type": "code",
   "execution_count": 12,
   "metadata": {
    "collapsed": false,
    "jupyter": {
     "outputs_hidden": false
    },
    "pycharm": {
     "name": "#%%\n"
    }
   },
   "outputs": [
    {
     "name": "stdout",
     "output_type": "stream",
     "text": [
      "Toloka project for task \"dogs-and-cats\" and language EN exists and differs from current task spec:\n",
      "\n",
      "description changed:\n",
      "\n",
      "---\n",
      "+++\n",
      "@@ -1 +1 @@\n",
      "-Identification of animals in photos\n",
      "+Identification of animals (cat or dog) in photos\n",
      "\n",
      "\n",
      "instruction changed:\n",
      "\n",
      "---\n",
      "+++\n",
      "@@ -86,13 +86,13 @@\n",
      "  <ul>\n",
      "   <li>\n",
      "    <strong>\n",
      "-    dog\n",
      "+    doggie\n",
      "    </strong>\n",
      "    – if dog is on the photo\n",
      "   </li>\n",
      "   <li>\n",
      "    <strong>\n",
      "-    cat\n",
      "+    kitty\n",
      "    </strong>\n",
      "    – if cat is on the photo\n",
      "   </li>\n",
      "@@ -103,6 +103,13 @@\n",
      "    – if there is another animal in the photo, several animals, or no animals at all\n",
      "   </li>\n",
      "  </ul>\n",
      "+ <p>\n",
      "+  If the photo is of poor quality and you are not sure about the choice, specify the option\n",
      "+  <strong>\n",
      "+   other\n",
      "+  </strong>\n",
      "+  .\n",
      "+ </p>\n",
      " </div>\n",
      " <div>\n",
      "  <input class=\"hide\" id=\"hd-1\" type=\"checkbox\"/>\n",
      "\n",
      "\n",
      "view changed:\n",
      "\n",
      "---\n",
      "+++\n",
      "@@ -42,7 +42,7 @@\n",
      "         {\n",
      "             \"layout\": {\n",
      "                 \"kind\": \"scroll\",\n",
      "-                \"taskWidth\": 700.0\n",
      "+                \"taskWidth\": 600.0\n",
      "             },\n",
      "             \"notifications\": [\n",
      "                 {\n",
      "@@ -78,11 +78,11 @@\n",
      "                 \"disabled\": false,\n",
      "                 \"options\": [\n",
      "                     {\n",
      "-                        \"label\": \"dog\",\n",
      "+                        \"label\": \"doggie\",\n",
      "                         \"value\": \"dog\"\n",
      "                     },\n",
      "                     {\n",
      "-                        \"label\": \"cat\",\n",
      "+                        \"label\": \"kitty\",\n",
      "                         \"value\": \"cat\"\n",
      "                     },\n",
      "                     {\n",
      "\n",
      "update Toloka project 98756 according to the changes shown above? [Y/n]  Y\n",
      "notify workers of changes in the task? (all EN workers who have performed the task \"dogs-and-cats\" in EN language within the last 30 days will receive a notification) [Y/n]  Y\n",
      "specify message for workers (in EN):  instruction and option names are changed\n"
     ]
    }
   ],
   "source": [
    "client.define_task(task_spec_en, toloka_client)"
   ]
  },
  {
   "cell_type": "markdown",
   "metadata": {
    "jupyter": {
     "outputs_hidden": false
    },
    "pycharm": {
     "name": "#%% md\n"
    }
   },
   "source": [
    "First you will be asked to confirm the update.\n",
    "\n",
    "You can see separate diffs for each part of project – description, instruction and view (worker interface).\n",
    "\n",
    "All diffs were formed from your specification update, except `taskWidth` fragment of view diff – after Crowdom update, default task UI width was changed.\n",
    "\n",
    "Press `Y` if you want to confirm update.\n",
    "\n",
    "Then you will be asked to send notification to the workers and enter the text of the message.\n",
    "\n",
    "Press `Y` if you want to send notification. If you refuse to send out notifications, then changes in the task will still occur.\n"
   ]
  },
  {
   "cell_type": "markdown",
   "metadata": {},
   "source": [
    "Workers in their message feed will see your notification like this:"
   ]
  },
  {
   "cell_type": "markdown",
   "metadata": {},
   "source": [
    "<table>\n",
    "    <tr>\n",
    "        <td style=\"text-align: center\"><h2>Browser</h2></td>\n",
    "        <td style=\"text-align: center\"><h2>Mobile app</h2></td>\n",
    "    </tr>\n",
    "    <tr>\n",
    "        <td>\n",
    "            <img src=\"worker-message-feed_browser.png\"\n",
    "                 alt=\"worker-message-feed-browser\" style=\"width:100%; max-width:600px;\"/>\n",
    "            <img src=\"worker-message_browser.png\"\n",
    "                 alt=\"worker-message-browser\" style=\"width:100%; max-width:600px;\"/>\n",
    "        </td>\n",
    "        <td>\n",
    "            <table>\n",
    "                <tr>\n",
    "                    <td>\n",
    "                        <img src=\"worker-message-feed_app.png\"\n",
    "                             alt=\"worker-message-feed-app\" style=\"height:100%; max-height:600px;\"/>\n",
    "                    </td>\n",
    "                    <td>\n",
    "                        <img src=\"worker-message_app.png\"\n",
    "                             alt=\"worker-message-app\" style=\"height:100%; max-height:600px;\"/>\n",
    "                    </td>\n",
    "                </tr>\n",
    "            </table>\n",
    "        </td>\n",
    "    </tr>\n",
    "</table>"
   ]
  },
  {
   "cell_type": "code",
   "execution_count": null,
   "metadata": {},
   "outputs": [],
   "source": []
  }
 ],
 "metadata": {
  "kernelspec": {
   "display_name": "Python 3 (ipykernel)",
   "language": "python",
   "name": "python3"
  },
  "language_info": {
   "codemirror_mode": {
    "name": "ipython",
    "version": 3
   },
   "file_extension": ".py",
   "mimetype": "text/x-python",
   "name": "python",
   "nbconvert_exporter": "python",
   "pygments_lexer": "ipython3",
   "version": "3.9.6"
  }
 },
 "nbformat": 4,
 "nbformat_minor": 4
}
